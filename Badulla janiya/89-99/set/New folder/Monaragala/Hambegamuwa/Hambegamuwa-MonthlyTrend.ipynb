{
 "cells": [
  {
   "cell_type": "code",
   "execution_count": 1,
   "id": "d407c247",
   "metadata": {},
   "outputs": [],
   "source": [
    "import pandas as pd\n",
    "import matplotlib.pyplot as plt\n",
    "import numpy as np\n",
    "from statsmodels.tsa.seasonal import seasonal_decompose\n"
   ]
  },
  {
   "cell_type": "code",
   "execution_count": 28,
   "id": "bacebcc8",
   "metadata": {},
   "outputs": [
    {
     "data": {
      "text/html": [
       "<div>\n",
       "<style scoped>\n",
       "    .dataframe tbody tr th:only-of-type {\n",
       "        vertical-align: middle;\n",
       "    }\n",
       "\n",
       "    .dataframe tbody tr th {\n",
       "        vertical-align: top;\n",
       "    }\n",
       "\n",
       "    .dataframe thead th {\n",
       "        text-align: right;\n",
       "    }\n",
       "</style>\n",
       "<table border=\"1\" class=\"dataframe\">\n",
       "  <thead>\n",
       "    <tr style=\"text-align: right;\">\n",
       "      <th></th>\n",
       "      <th>year/month</th>\n",
       "      <th>1</th>\n",
       "      <th>2</th>\n",
       "      <th>3</th>\n",
       "      <th>4</th>\n",
       "      <th>5</th>\n",
       "      <th>6</th>\n",
       "      <th>7</th>\n",
       "      <th>8</th>\n",
       "      <th>9</th>\n",
       "      <th>...</th>\n",
       "      <th>26</th>\n",
       "      <th>27</th>\n",
       "      <th>28</th>\n",
       "      <th>29</th>\n",
       "      <th>30</th>\n",
       "      <th>31</th>\n",
       "      <th>Mean</th>\n",
       "      <th>Unnamed: 33</th>\n",
       "      <th>year</th>\n",
       "      <th>AnnualMean</th>\n",
       "    </tr>\n",
       "  </thead>\n",
       "  <tbody>\n",
       "    <tr>\n",
       "      <th>0</th>\n",
       "      <td>1989- 1</td>\n",
       "      <td>0.0</td>\n",
       "      <td>0.0</td>\n",
       "      <td>0.0</td>\n",
       "      <td>0.0</td>\n",
       "      <td>0.0</td>\n",
       "      <td>0.0</td>\n",
       "      <td>0.0</td>\n",
       "      <td>0.0</td>\n",
       "      <td>0.0</td>\n",
       "      <td>...</td>\n",
       "      <td>0.0</td>\n",
       "      <td>0.0</td>\n",
       "      <td>0.0</td>\n",
       "      <td>0.0</td>\n",
       "      <td>0.0</td>\n",
       "      <td>0.0</td>\n",
       "      <td>0.606452</td>\n",
       "      <td>NaN</td>\n",
       "      <td>1989.0</td>\n",
       "      <td>1.075538</td>\n",
       "    </tr>\n",
       "    <tr>\n",
       "      <th>1</th>\n",
       "      <td>1989- 2</td>\n",
       "      <td>0.0</td>\n",
       "      <td>0.0</td>\n",
       "      <td>0.0</td>\n",
       "      <td>0.0</td>\n",
       "      <td>0.0</td>\n",
       "      <td>0.0</td>\n",
       "      <td>0.0</td>\n",
       "      <td>0.0</td>\n",
       "      <td>0.0</td>\n",
       "      <td>...</td>\n",
       "      <td>0.0</td>\n",
       "      <td>0.0</td>\n",
       "      <td>0.0</td>\n",
       "      <td>0.0</td>\n",
       "      <td>0.0</td>\n",
       "      <td>0.0</td>\n",
       "      <td>0.000000</td>\n",
       "      <td>NaN</td>\n",
       "      <td>1990.0</td>\n",
       "      <td>2.551882</td>\n",
       "    </tr>\n",
       "    <tr>\n",
       "      <th>2</th>\n",
       "      <td>1989- 3</td>\n",
       "      <td>5.8</td>\n",
       "      <td>0.0</td>\n",
       "      <td>0.0</td>\n",
       "      <td>0.0</td>\n",
       "      <td>0.0</td>\n",
       "      <td>0.0</td>\n",
       "      <td>0.0</td>\n",
       "      <td>0.0</td>\n",
       "      <td>0.0</td>\n",
       "      <td>...</td>\n",
       "      <td>0.0</td>\n",
       "      <td>0.0</td>\n",
       "      <td>0.0</td>\n",
       "      <td>0.0</td>\n",
       "      <td>0.0</td>\n",
       "      <td>0.0</td>\n",
       "      <td>1.974194</td>\n",
       "      <td>NaN</td>\n",
       "      <td>1991.0</td>\n",
       "      <td>3.331720</td>\n",
       "    </tr>\n",
       "    <tr>\n",
       "      <th>3</th>\n",
       "      <td>1989- 4</td>\n",
       "      <td>27.2</td>\n",
       "      <td>0.0</td>\n",
       "      <td>0.0</td>\n",
       "      <td>0.0</td>\n",
       "      <td>0.0</td>\n",
       "      <td>0.0</td>\n",
       "      <td>0.0</td>\n",
       "      <td>0.0</td>\n",
       "      <td>0.0</td>\n",
       "      <td>...</td>\n",
       "      <td>0.0</td>\n",
       "      <td>0.0</td>\n",
       "      <td>0.0</td>\n",
       "      <td>0.0</td>\n",
       "      <td>0.0</td>\n",
       "      <td>0.0</td>\n",
       "      <td>2.083871</td>\n",
       "      <td>NaN</td>\n",
       "      <td>1992.0</td>\n",
       "      <td>2.777128</td>\n",
       "    </tr>\n",
       "    <tr>\n",
       "      <th>4</th>\n",
       "      <td>1989- 5</td>\n",
       "      <td>0.0</td>\n",
       "      <td>0.0</td>\n",
       "      <td>0.0</td>\n",
       "      <td>6.9</td>\n",
       "      <td>12.7</td>\n",
       "      <td>15.2</td>\n",
       "      <td>4.6</td>\n",
       "      <td>3.8</td>\n",
       "      <td>10.2</td>\n",
       "      <td>...</td>\n",
       "      <td>0.0</td>\n",
       "      <td>0.0</td>\n",
       "      <td>0.0</td>\n",
       "      <td>0.0</td>\n",
       "      <td>0.0</td>\n",
       "      <td>12.7</td>\n",
       "      <td>2.132258</td>\n",
       "      <td>NaN</td>\n",
       "      <td>1993.0</td>\n",
       "      <td>3.377151</td>\n",
       "    </tr>\n",
       "  </tbody>\n",
       "</table>\n",
       "<p>5 rows × 36 columns</p>\n",
       "</div>"
      ],
      "text/plain": [
       "  year/month     1    2    3    4     5     6    7    8     9  ...   26   27  \\\n",
       "0    1989- 1   0.0  0.0  0.0  0.0   0.0   0.0  0.0  0.0   0.0  ...  0.0  0.0   \n",
       "1    1989- 2   0.0  0.0  0.0  0.0   0.0   0.0  0.0  0.0   0.0  ...  0.0  0.0   \n",
       "2    1989- 3   5.8  0.0  0.0  0.0   0.0   0.0  0.0  0.0   0.0  ...  0.0  0.0   \n",
       "3    1989- 4  27.2  0.0  0.0  0.0   0.0   0.0  0.0  0.0   0.0  ...  0.0  0.0   \n",
       "4    1989- 5   0.0  0.0  0.0  6.9  12.7  15.2  4.6  3.8  10.2  ...  0.0  0.0   \n",
       "\n",
       "    28   29   30    31      Mean  Unnamed: 33    year  AnnualMean  \n",
       "0  0.0  0.0  0.0   0.0  0.606452          NaN  1989.0    1.075538  \n",
       "1  0.0  0.0  0.0   0.0  0.000000          NaN  1990.0    2.551882  \n",
       "2  0.0  0.0  0.0   0.0  1.974194          NaN  1991.0    3.331720  \n",
       "3  0.0  0.0  0.0   0.0  2.083871          NaN  1992.0    2.777128  \n",
       "4  0.0  0.0  0.0  12.7  2.132258          NaN  1993.0    3.377151  \n",
       "\n",
       "[5 rows x 36 columns]"
      ]
     },
     "execution_count": 28,
     "metadata": {},
     "output_type": "execute_result"
    }
   ],
   "source": [
    "d_ham = pd.read_excel(\"Hambegamuwa(89-96).xls\")\n",
    "d_ham.head()"
   ]
  },
  {
   "cell_type": "code",
   "execution_count": null,
   "id": "b50ba0a6",
   "metadata": {},
   "outputs": [],
   "source": []
  },
  {
   "cell_type": "markdown",
   "id": "862e8a67",
   "metadata": {},
   "source": [
    "JAN"
   ]
  },
  {
   "cell_type": "code",
   "execution_count": null,
   "id": "0221ca29",
   "metadata": {},
   "outputs": [],
   "source": []
  },
  {
   "cell_type": "code",
   "execution_count": 3,
   "id": "df3c708b",
   "metadata": {},
   "outputs": [
    {
     "data": {
      "text/plain": [
       "<AxesSubplot:xlabel='year/month'>"
      ]
     },
     "execution_count": 3,
     "metadata": {},
     "output_type": "execute_result"
    },
    {
     "data": {
      "image/png": "[encoded data removed]",
      "text/plain": [
       "<Figure size 432x288 with 1 Axes>"
      ]
     },
     "metadata": {
      "needs_background": "light"
     },
     "output_type": "display_data"
    }
   ],
   "source": [
    "data1 = [d_ham.loc[d_ham[\"year/month\"] == '1989- 1'],\n",
    "         d_ham.loc[d_ham[\"year/month\"] == '1990- 1'],\n",
    "         d_ham.loc[d_ham[\"year/month\"] == '1991- 1'],\n",
    "         d_ham.loc[d_ham[\"year/month\"] == '1992- 1'],\n",
    "         d_ham.loc[d_ham[\"year/month\"] == '1993- 1'],\n",
    "         d_ham.loc[d_ham[\"year/month\"] == '1994- 1'],\n",
    "         d_ham.loc[d_ham[\"year/month\"] == '1995- 1'],\n",
    "         d_ham.loc[d_ham[\"year/month\"] == '1996-1'],\n",
    "         d_ham.loc[d_ham[\"year/month\"] == '1997-1'],\n",
    "         d_ham.loc[d_ham[\"year/month\"] == '1998- 1'],\n",
    "         d_ham.loc[d_ham[\"year/month\"] == '1999- 1'],\n",
    "         d_ham.loc[d_ham[\"year/month\"] == '2000-1'],\n",
    "         d_ham.loc[d_ham[\"year/month\"] == '2001-1'],\n",
    "         d_ham.loc[d_ham[\"year/month\"] == '2002-1'],\n",
    "         d_ham.loc[d_ham[\"year/month\"] == '2003-1'],\n",
    "         d_ham.loc[d_ham[\"year/month\"] == '2004-1'],\n",
    "         d_ham.loc[d_ham[\"year/month\"] == '2005-1'],\n",
    "         d_ham.loc[d_ham[\"year/month\"] == '2006-1'],\n",
    "         d_ham.loc[d_ham[\"year/month\"] == '2007-1'],\n",
    "         d_ham.loc[d_ham[\"year/month\"] == '2008-1'],\n",
    "         d_ham.loc[d_ham[\"year/month\"] == '2009-1'],\n",
    "         d_ham.loc[d_ham[\"year/month\"] == '2010-1'],\n",
    "         d_ham.loc[d_ham[\"year/month\"] == '2011-1'],\n",
    "         d_ham.loc[d_ham[\"year/month\"] == '2012-1'],\n",
    "         d_ham.loc[d_ham[\"year/month\"] == '2013-1'],\n",
    "         d_ham.loc[d_ham[\"year/month\"] == '2014-1'],\n",
    "         d_ham.loc[d_ham[\"year/month\"] == '2015-1'],\n",
    "         d_ham.loc[d_ham[\"year/month\"] == '2016-1'],\n",
    "         d_ham.loc[d_ham[\"year/month\"] == '2017-1'],\n",
    "         d_ham.loc[d_ham[\"year/month\"] == '2018-1'],\n",
    "         d_ham.loc[d_ham[\"year/month\"] == '2019-1'],\n",
    "         d_ham.loc[d_ham[\"year/month\"] == '2020-1']]\n",
    "\n",
    "df_jan = pd.concat(data1, axis=0  )\n",
    "\n",
    "df_jan['year/month'] = pd.to_datetime(df_jan['year/month'])\n",
    "df_jan.set_index('year/month' , inplace=True)\n",
    "analysis1 = df_jan[\"Mean\"].copy()\n",
    "decompose_res_mult = seasonal_decompose(analysis1  )\n",
    "decompose_res_mult.trend.plot()"
   ]
  },
  {
   "cell_type": "code",
   "execution_count": null,
   "id": "cc1730b1",
   "metadata": {},
   "outputs": [],
   "source": []
  },
  {
   "cell_type": "markdown",
   "id": "5573daab",
   "metadata": {},
   "source": [
    "FEB"
   ]
  },
  {
   "cell_type": "code",
   "execution_count": null,
   "id": "d3a72559",
   "metadata": {},
   "outputs": [],
   "source": []
  },
  {
   "cell_type": "code",
   "execution_count": 4,
   "id": "ea0f551a",
   "metadata": {},
   "outputs": [
    {
     "data": {
      "text/plain": [
       "<AxesSubplot:xlabel='year/month'>"
      ]
     },
     "execution_count": 4,
     "metadata": {},
     "output_type": "execute_result"
    },
    {
     "data": {
      "image/png": "[encoded data removed]",
      "text/plain": [
       "<Figure size 432x288 with 1 Axes>"
      ]
     },
     "metadata": {
      "needs_background": "light"
     },
     "output_type": "display_data"
    }
   ],
   "source": [
    "data2 = [d_ham.loc[d_ham[\"year/month\"] == '1989- 2'],\n",
    "         d_ham.loc[d_ham[\"year/month\"] == '1990- 2'],\n",
    "         d_ham.loc[d_ham[\"year/month\"] == '1991- 2'],\n",
    "         d_ham.loc[d_ham[\"year/month\"] == '1992- 2'],\n",
    "         d_ham.loc[d_ham[\"year/month\"] == '1993- 2'],\n",
    "         d_ham.loc[d_ham[\"year/month\"] == '1994- 2'],\n",
    "         d_ham.loc[d_ham[\"year/month\"] == '1995- 2'],\n",
    "         d_ham.loc[d_ham[\"year/month\"] == '1996-2'],\n",
    "         d_ham.loc[d_ham[\"year/month\"] == '1997-2'],\n",
    "         d_ham.loc[d_ham[\"year/month\"] == '1998- 2'],\n",
    "         d_ham.loc[d_ham[\"year/month\"] == '1999- 2'],\n",
    "         d_ham.loc[d_ham[\"year/month\"] == '2000-2'],\n",
    "         d_ham.loc[d_ham[\"year/month\"] == '2001-2'],\n",
    "         d_ham.loc[d_ham[\"year/month\"] == '2002-2'],\n",
    "         d_ham.loc[d_ham[\"year/month\"] == '2003-2'],\n",
    "         d_ham.loc[d_ham[\"year/month\"] == '2004-2'],\n",
    "         d_ham.loc[d_ham[\"year/month\"] == '2005-2'],\n",
    "         d_ham.loc[d_ham[\"year/month\"] == '2006-2'],\n",
    "         d_ham.loc[d_ham[\"year/month\"] == '2007-2'],\n",
    "         d_ham.loc[d_ham[\"year/month\"] == '2008-2'],\n",
    "         d_ham.loc[d_ham[\"year/month\"] == '2009-2'],\n",
    "         d_ham.loc[d_ham[\"year/month\"] == '2010-2'],\n",
    "         d_ham.loc[d_ham[\"year/month\"] == '2011-2'],\n",
    "         d_ham.loc[d_ham[\"year/month\"] == '2012-2'],\n",
    "         d_ham.loc[d_ham[\"year/month\"] == '2013-2'],\n",
    "         d_ham.loc[d_ham[\"year/month\"] == '2014-2'],\n",
    "         d_ham.loc[d_ham[\"year/month\"] == '2015-2'],\n",
    "         d_ham.loc[d_ham[\"year/month\"] == '2016-2'],\n",
    "         d_ham.loc[d_ham[\"year/month\"] == '2017-2'],\n",
    "         d_ham.loc[d_ham[\"year/month\"] == '2018-2'],\n",
    "         d_ham.loc[d_ham[\"year/month\"] == '2019-2'],\n",
    "         d_ham.loc[d_ham[\"year/month\"] == '2020-2']]\n",
    "\n",
    "df_feb = pd.concat(data2, axis=0  )\n",
    "\n",
    "df_feb['year/month'] = pd.to_datetime(df_feb['year/month'])\n",
    "df_feb.set_index('year/month' , inplace=True)\n",
    "analysis2 = df_feb[\"Mean\"].copy()\n",
    "decompose_res_mult = seasonal_decompose(analysis2  )\n",
    "decompose_res_mult.trend.plot()\n"
   ]
  },
  {
   "cell_type": "code",
   "execution_count": null,
   "id": "48ff6d60",
   "metadata": {},
   "outputs": [],
   "source": []
  },
  {
   "cell_type": "markdown",
   "id": "a591d20b",
   "metadata": {},
   "source": [
    "MAR"
   ]
  },
  {
   "cell_type": "code",
   "execution_count": null,
   "id": "9e67efa5",
   "metadata": {},
   "outputs": [],
   "source": []
  },
  {
   "cell_type": "code",
   "execution_count": 5,
   "id": "d20fe966",
   "metadata": {},
   "outputs": [
    {
     "data": {
      "text/plain": [
       "<AxesSubplot:xlabel='year/month'>"
      ]
     },
     "execution_count": 5,
     "metadata": {},
     "output_type": "execute_result"
    },
    {
     "data": {
      "image/png": "[encoded data removed]",
      "text/plain": [
       "<Figure size 432x288 with 1 Axes>"
      ]
     },
     "metadata": {
      "needs_background": "light"
     },
     "output_type": "display_data"
    }
   ],
   "source": [
    "data3 = [d_ham.loc[d_ham[\"year/month\"] == '1989- 3'],\n",
    "         d_ham.loc[d_ham[\"year/month\"] == '1990- 3'],\n",
    "         d_ham.loc[d_ham[\"year/month\"] == '1991- 3'],\n",
    "         d_ham.loc[d_ham[\"year/month\"] == '1992- 3'],\n",
    "         d_ham.loc[d_ham[\"year/month\"] == '1993- 3'],\n",
    "         d_ham.loc[d_ham[\"year/month\"] == '1994- 3'],\n",
    "         d_ham.loc[d_ham[\"year/month\"] == '1995- 3'],\n",
    "         d_ham.loc[d_ham[\"year/month\"] == '1996-3'],\n",
    "         d_ham.loc[d_ham[\"year/month\"] == '1997-3'],\n",
    "         d_ham.loc[d_ham[\"year/month\"] == '1998- 3'],\n",
    "         d_ham.loc[d_ham[\"year/month\"] == '1999- 3'],\n",
    "         d_ham.loc[d_ham[\"year/month\"] == '2000-3'],\n",
    "         d_ham.loc[d_ham[\"year/month\"] == '2001-3'],\n",
    "         d_ham.loc[d_ham[\"year/month\"] == '2002-3'],\n",
    "         d_ham.loc[d_ham[\"year/month\"] == '2003-3'],\n",
    "         d_ham.loc[d_ham[\"year/month\"] == '2004-3'],\n",
    "         d_ham.loc[d_ham[\"year/month\"] == '2005-3'],\n",
    "         d_ham.loc[d_ham[\"year/month\"] == '2006-3'],\n",
    "         d_ham.loc[d_ham[\"year/month\"] == '2007-3'],\n",
    "         d_ham.loc[d_ham[\"year/month\"] == '2008-3'],\n",
    "         d_ham.loc[d_ham[\"year/month\"] == '2009-3'],\n",
    "         d_ham.loc[d_ham[\"year/month\"] == '2010-3'],\n",
    "         d_ham.loc[d_ham[\"year/month\"] == '2011-3'],\n",
    "         d_ham.loc[d_ham[\"year/month\"] == '2012-3'],\n",
    "         d_ham.loc[d_ham[\"year/month\"] == '2013-3'],\n",
    "         d_ham.loc[d_ham[\"year/month\"] == '2014-3'],\n",
    "         d_ham.loc[d_ham[\"year/month\"] == '2015-3'],\n",
    "         d_ham.loc[d_ham[\"year/month\"] == '2016-3'],\n",
    "         d_ham.loc[d_ham[\"year/month\"] == '2017-3'],\n",
    "         d_ham.loc[d_ham[\"year/month\"] == '2018-3'],\n",
    "         d_ham.loc[d_ham[\"year/month\"] == '2019-3'],\n",
    "         d_ham.loc[d_ham[\"year/month\"] == '2020-3']]\n",
    "\n",
    "df_mar = pd.concat(data3, axis=0  )\n",
    "\n",
    "df_mar['year/month'] = pd.to_datetime(df_mar['year/month'])\n",
    "df_mar.set_index('year/month' , inplace=True)\n",
    "analysis3 = df_mar[\"Mean\"].copy()\n",
    "decompose_res_mult = seasonal_decompose(analysis3  )\n",
    "decompose_res_mult.trend.plot()"
   ]
  },
  {
   "cell_type": "code",
   "execution_count": null,
   "id": "292aef4e",
   "metadata": {},
   "outputs": [],
   "source": []
  },
  {
   "cell_type": "markdown",
   "id": "31fc03e2",
   "metadata": {},
   "source": [
    "APR"
   ]
  },
  {
   "cell_type": "code",
   "execution_count": null,
   "id": "39237a1c",
   "metadata": {},
   "outputs": [],
   "source": []
  },
  {
   "cell_type": "code",
   "execution_count": 16,
   "id": "8a88f79f",
   "metadata": {},
   "outputs": [
    {
     "data": {
      "text/plain": [
       "<AxesSubplot:xlabel='year/month'>"
      ]
     },
     "execution_count": 16,
     "metadata": {},
     "output_type": "execute_result"
    },
    {
     "data": {
      "image/png": "[encoded data removed]",
      "text/plain": [
       "<Figure size 432x288 with 1 Axes>"
      ]
     },
     "metadata": {
      "needs_background": "light"
     },
     "output_type": "display_data"
    }
   ],
   "source": [
    "data4 = [d_ham.loc[d_ham[\"year/month\"] == '1989- 4'],\n",
    "         d_ham.loc[d_ham[\"year/month\"] == '1990- 4'],\n",
    "         d_ham.loc[d_ham[\"year/month\"] == '1991- 4'],\n",
    "         d_ham.loc[d_ham[\"year/month\"] == '1992- 4'],\n",
    "         d_ham.loc[d_ham[\"year/month\"] == '1993- 4'],\n",
    "         d_ham.loc[d_ham[\"year/month\"] == '1994- 4'],\n",
    "         d_ham.loc[d_ham[\"year/month\"] == '1995- 4'],\n",
    "         d_ham.loc[d_ham[\"year/month\"] == '1996- 4'],\n",
    "         d_ham.loc[d_ham[\"year/month\"] == '1997-4'],\n",
    "         d_ham.loc[d_ham[\"year/month\"] == '1998- 4'],\n",
    "         d_ham.loc[d_ham[\"year/month\"] == '1999- 4'],\n",
    "         d_ham.loc[d_ham[\"year/month\"] == '2000-4'],\n",
    "         d_ham.loc[d_ham[\"year/month\"] == '2001-4'],\n",
    "         d_ham.loc[d_ham[\"year/month\"] == '2002-4'],\n",
    "         d_ham.loc[d_ham[\"year/month\"] == '2003-4'],\n",
    "         d_ham.loc[d_ham[\"year/month\"] == '2004-4'],\n",
    "         d_ham.loc[d_ham[\"year/month\"] == '2005-4'],\n",
    "         d_ham.loc[d_ham[\"year/month\"] == '2006-4'],\n",
    "         d_ham.loc[d_ham[\"year/month\"] == '2007-4'],\n",
    "         d_ham.loc[d_ham[\"year/month\"] == '2008-4'],\n",
    "         d_ham.loc[d_ham[\"year/month\"] == '2009-4'],\n",
    "         d_ham.loc[d_ham[\"year/month\"] == '2010-4'],\n",
    "         d_ham.loc[d_ham[\"year/month\"] == '2011-4'],\n",
    "         d_ham.loc[d_ham[\"year/month\"] == '2012-4'],\n",
    "         d_ham.loc[d_ham[\"year/month\"] == '2013-4'],\n",
    "         d_ham.loc[d_ham[\"year/month\"] == '2014-4'],\n",
    "         d_ham.loc[d_ham[\"year/month\"] == '2015-4'],\n",
    "         d_ham.loc[d_ham[\"year/month\"] == '2016-4'],\n",
    "         d_ham.loc[d_ham[\"year/month\"] == '2017-4'],\n",
    "         d_ham.loc[d_ham[\"year/month\"] == '2018-4'],\n",
    "         d_ham.loc[d_ham[\"year/month\"] == '2019-4'],\n",
    "         d_ham.loc[d_ham[\"year/month\"] == '2020-4']]\n",
    "\n",
    "df_apr = pd.concat(data4, axis=0  )\n",
    "df_apr.head()\n",
    "\n",
    "df_apr['year/month'] = pd.to_datetime(df_apr['year/month'])\n",
    "df_apr.set_index('year/month' , inplace=True)\n",
    "analysis4 = df_apr[\"Mean\"].copy()\n",
    "decompose_res_mult = seasonal_decompose(analysis4  )\n",
    "decompose_res_mult.trend.plot()"
   ]
  },
  {
   "cell_type": "code",
   "execution_count": null,
   "id": "28c93600",
   "metadata": {},
   "outputs": [],
   "source": []
  },
  {
   "cell_type": "markdown",
   "id": "9ed72211",
   "metadata": {},
   "source": [
    "MAY"
   ]
  },
  {
   "cell_type": "code",
   "execution_count": null,
   "id": "0f838d94",
   "metadata": {},
   "outputs": [],
   "source": []
  },
  {
   "cell_type": "code",
   "execution_count": 25,
   "id": "ad3a40e0",
   "metadata": {},
   "outputs": [
    {
     "data": {
      "text/plain": [
       "<AxesSubplot:xlabel='year/month'>"
      ]
     },
     "execution_count": 25,
     "metadata": {},
     "output_type": "execute_result"
    },
    {
     "data": {
      "image/png": "[encoded data removed]",
      "text/plain": [
       "<Figure size 432x288 with 1 Axes>"
      ]
     },
     "metadata": {
      "needs_background": "light"
     },
     "output_type": "display_data"
    }
   ],
   "source": [
    "data5 = [d_ham.loc[d_ham[\"year/month\"] == '1989- 5'],\n",
    "         d_ham.loc[d_ham[\"year/month\"] == '1990- 5'],\n",
    "         d_ham.loc[d_ham[\"year/month\"] == '1991- 5'],\n",
    "         d_ham.loc[d_ham[\"year/month\"] == '1992- 5'],\n",
    "         d_ham.loc[d_ham[\"year/month\"] == '1993- 5'],\n",
    "         d_ham.loc[d_ham[\"year/month\"] == '1994- 5'],\n",
    "         d_ham.loc[d_ham[\"year/month\"] == '1995- 5'],\n",
    "         d_ham.loc[d_ham[\"year/month\"] == '1996- 5'],\n",
    "         d_ham.loc[d_ham[\"year/month\"] == '1997-5'],\n",
    "         d_ham.loc[d_ham[\"year/month\"] == '1998- 5'],\n",
    "         d_ham.loc[d_ham[\"year/month\"] == '1999- 5'],\n",
    "         d_ham.loc[d_ham[\"year/month\"] == '2000-5'],\n",
    "         d_ham.loc[d_ham[\"year/month\"] == '2001-5'],\n",
    "         d_ham.loc[d_ham[\"year/month\"] == '2002-5'],\n",
    "         d_ham.loc[d_ham[\"year/month\"] == '2003-5'],\n",
    "         d_ham.loc[d_ham[\"year/month\"] == '2004-5'],\n",
    "         d_ham.loc[d_ham[\"year/month\"] == '2005-5'],\n",
    "         d_ham.loc[d_ham[\"year/month\"] == '2006-5'],\n",
    "         d_ham.loc[d_ham[\"year/month\"] == '2007-5'],\n",
    "         d_ham.loc[d_ham[\"year/month\"] == '2008-5'],\n",
    "         d_ham.loc[d_ham[\"year/month\"] == '2009-5'],\n",
    "         d_ham.loc[d_ham[\"year/month\"] == '2010-5'],\n",
    "         d_ham.loc[d_ham[\"year/month\"] == '2011-5'],\n",
    "         d_ham.loc[d_ham[\"year/month\"] == '2012-5'],\n",
    "         d_ham.loc[d_ham[\"year/month\"] == '2013-5'],\n",
    "         d_ham.loc[d_ham[\"year/month\"] == '2014-5'],\n",
    "         d_ham.loc[d_ham[\"year/month\"] == '2015-5'],\n",
    "         d_ham.loc[d_ham[\"year/month\"] == '2016-5'],\n",
    "         d_ham.loc[d_ham[\"year/month\"] == '2017-5'],\n",
    "         d_ham.loc[d_ham[\"year/month\"] == '2018-5'],\n",
    "         d_ham.loc[d_ham[\"year/month\"] == '2019-5'],\n",
    "         d_ham.loc[d_ham[\"year/month\"] == '2020-5']]\n",
    "\n",
    "df_may = pd.concat(data5, axis=0  )\n",
    "df_may.head()\n",
    "\n",
    "df_may['year/month'] = pd.to_datetime(df_may['year/month'])\n",
    "df_may.set_index('year/month' , inplace=True)\n",
    "analysis5 = df_may[\"Mean\"].copy()\n",
    "decompose_res_mult = seasonal_decompose(analysis5  )\n",
    "decompose_res_mult.trend.plot()"
   ]
  },
  {
   "cell_type": "code",
   "execution_count": null,
   "id": "19c85789",
   "metadata": {},
   "outputs": [],
   "source": []
  },
  {
   "cell_type": "markdown",
   "id": "e95b6b83",
   "metadata": {},
   "source": [
    "JUN"
   ]
  },
  {
   "cell_type": "code",
   "execution_count": null,
   "id": "e545ca76",
   "metadata": {},
   "outputs": [],
   "source": []
  },
  {
   "cell_type": "code",
   "execution_count": 24,
   "id": "f2db9bc8",
   "metadata": {},
   "outputs": [
    {
     "data": {
      "text/plain": [
       "<AxesSubplot:xlabel='year/month'>"
      ]
     },
     "execution_count": 24,
     "metadata": {},
     "output_type": "execute_result"
    },
    {
     "data": {
      "image/png": "[encoded data removed]",
      "text/plain": [
       "<Figure size 432x288 with 1 Axes>"
      ]
     },
     "metadata": {
      "needs_background": "light"
     },
     "output_type": "display_data"
    }
   ],
   "source": [
    "data6 = [d_ham.loc[d_ham[\"year/month\"] == '1989- 6'],\n",
    "         d_ham.loc[d_ham[\"year/month\"] == '1990- 6'],\n",
    "         d_ham.loc[d_ham[\"year/month\"] == '1991- 6'],\n",
    "         d_ham.loc[d_ham[\"year/month\"] == '1992- 6'],\n",
    "         d_ham.loc[d_ham[\"year/month\"] == '1993- 6'],\n",
    "         d_ham.loc[d_ham[\"year/month\"] == '1994- 6'],\n",
    "         d_ham.loc[d_ham[\"year/month\"] == '1995- 6'],\n",
    "         d_ham.loc[d_ham[\"year/month\"] == '1996- 6'],\n",
    "         d_ham.loc[d_ham[\"year/month\"] == '1997-6'],\n",
    "         d_ham.loc[d_ham[\"year/month\"] == '1998- 6'],\n",
    "         d_ham.loc[d_ham[\"year/month\"] == '1999- 6'],\n",
    "         d_ham.loc[d_ham[\"year/month\"] == '2000-6'],\n",
    "         d_ham.loc[d_ham[\"year/month\"] == '2001-6'],\n",
    "         d_ham.loc[d_ham[\"year/month\"] == '2002-6'],\n",
    "         d_ham.loc[d_ham[\"year/month\"] == '2003-6'],\n",
    "         d_ham.loc[d_ham[\"year/month\"] == '2004-6'],\n",
    "         d_ham.loc[d_ham[\"year/month\"] == '2005-6'],\n",
    "         d_ham.loc[d_ham[\"year/month\"] == '2006-6'],\n",
    "         d_ham.loc[d_ham[\"year/month\"] == '2007-6'],\n",
    "         d_ham.loc[d_ham[\"year/month\"] == '2008-6'],\n",
    "         d_ham.loc[d_ham[\"year/month\"] == '2009-6'],\n",
    "         d_ham.loc[d_ham[\"year/month\"] == '2010-6'],\n",
    "         d_ham.loc[d_ham[\"year/month\"] == '2011-6'],\n",
    "         d_ham.loc[d_ham[\"year/month\"] == '2012-6'],\n",
    "         d_ham.loc[d_ham[\"year/month\"] == '2013-6'],\n",
    "         d_ham.loc[d_ham[\"year/month\"] == '2014-6'],\n",
    "         d_ham.loc[d_ham[\"year/month\"] == '2015-6'],\n",
    "         d_ham.loc[d_ham[\"year/month\"] == '2016-6'],\n",
    "         d_ham.loc[d_ham[\"year/month\"] == '2017-6'],\n",
    "         d_ham.loc[d_ham[\"year/month\"] == '2018-6'],\n",
    "         d_ham.loc[d_ham[\"year/month\"] == '2019-6'],\n",
    "         d_ham.loc[d_ham[\"year/month\"] == '2020-6']]\n",
    "\n",
    "df_jun = pd.concat(data6, axis=0  )\n",
    "df_jun.head()\n",
    "\n",
    "df_jun['year/month'] = pd.to_datetime(df_jun['year/month'])\n",
    "df_jun.set_index('year/month' , inplace=True)\n",
    "analysis6 = df_jun[\"Mean\"].copy()\n",
    "decompose_res_mult = seasonal_decompose(analysis6  )\n",
    "decompose_res_mult.trend.plot()"
   ]
  },
  {
   "cell_type": "code",
   "execution_count": null,
   "id": "5794a5e0",
   "metadata": {},
   "outputs": [],
   "source": []
  },
  {
   "cell_type": "markdown",
   "id": "d8fa6fba",
   "metadata": {},
   "source": [
    "JUL"
   ]
  },
  {
   "cell_type": "code",
   "execution_count": null,
   "id": "632833e9",
   "metadata": {},
   "outputs": [],
   "source": []
  },
  {
   "cell_type": "code",
   "execution_count": 23,
   "id": "dd56c04f",
   "metadata": {},
   "outputs": [
    {
     "data": {
      "text/plain": [
       "<AxesSubplot:xlabel='year/month'>"
      ]
     },
     "execution_count": 23,
     "metadata": {},
     "output_type": "execute_result"
    },
    {
     "data": {
      "image/png": "[encoded data removed]",
      "text/plain": [
       "<Figure size 432x288 with 1 Axes>"
      ]
     },
     "metadata": {
      "needs_background": "light"
     },
     "output_type": "display_data"
    }
   ],
   "source": [
    "data7 = [d_ham.loc[d_ham[\"year/month\"] == '1989- 7'],\n",
    "         d_ham.loc[d_ham[\"year/month\"] == '1990- 7'],\n",
    "         d_ham.loc[d_ham[\"year/month\"] == '1991- 7'],\n",
    "         d_ham.loc[d_ham[\"year/month\"] == '1992- 7'],\n",
    "         d_ham.loc[d_ham[\"year/month\"] == '1993- 7'],\n",
    "         d_ham.loc[d_ham[\"year/month\"] == '1994- 7'],\n",
    "         d_ham.loc[d_ham[\"year/month\"] == '1995- 7'],\n",
    "         d_ham.loc[d_ham[\"year/month\"] == '1996- 7'],\n",
    "         d_ham.loc[d_ham[\"year/month\"] == '1997-7'],\n",
    "         d_ham.loc[d_ham[\"year/month\"] == '1998- 7'],\n",
    "         d_ham.loc[d_ham[\"year/month\"] == '1999- 7'],\n",
    "         d_ham.loc[d_ham[\"year/month\"] == '2000-7'],\n",
    "         d_ham.loc[d_ham[\"year/month\"] == '2001-7'],\n",
    "         d_ham.loc[d_ham[\"year/month\"] == '2002-7'],\n",
    "         d_ham.loc[d_ham[\"year/month\"] == '2003-7'],\n",
    "         d_ham.loc[d_ham[\"year/month\"] == '2004-7'],\n",
    "         d_ham.loc[d_ham[\"year/month\"] == '2005-7'],\n",
    "         d_ham.loc[d_ham[\"year/month\"] == '2006-7'],\n",
    "         d_ham.loc[d_ham[\"year/month\"] == '2007-7'],\n",
    "         d_ham.loc[d_ham[\"year/month\"] == '2008-7'],\n",
    "         d_ham.loc[d_ham[\"year/month\"] == '2009-7'],\n",
    "         d_ham.loc[d_ham[\"year/month\"] == '2010-7'],\n",
    "         d_ham.loc[d_ham[\"year/month\"] == '2011-7'],\n",
    "         d_ham.loc[d_ham[\"year/month\"] == '2012-7'],\n",
    "         d_ham.loc[d_ham[\"year/month\"] == '2013-7'],\n",
    "         d_ham.loc[d_ham[\"year/month\"] == '2014-7'],\n",
    "         d_ham.loc[d_ham[\"year/month\"] == '2015-7'],\n",
    "         d_ham.loc[d_ham[\"year/month\"] == '2016-7'],\n",
    "         d_ham.loc[d_ham[\"year/month\"] == '2017-7'],\n",
    "         d_ham.loc[d_ham[\"year/month\"] == '2018-7'],\n",
    "         d_ham.loc[d_ham[\"year/month\"] == '2019-7'],\n",
    "         d_ham.loc[d_ham[\"year/month\"] == '2020-7']]\n",
    "\n",
    "df_jul = pd.concat(data7, axis=0  )\n",
    "df_jul.head()\n",
    "\n",
    "df_jul['year/month'] = pd.to_datetime(df_jul['year/month'])\n",
    "df_jul.set_index('year/month' , inplace=True)\n",
    "analysis7 = df_jul[\"Mean\"].copy()\n",
    "decompose_res_mult = seasonal_decompose(analysis7  )\n",
    "decompose_res_mult.trend.plot()"
   ]
  },
  {
   "cell_type": "code",
   "execution_count": null,
   "id": "ed1a44d6",
   "metadata": {},
   "outputs": [],
   "source": []
  },
  {
   "cell_type": "markdown",
   "id": "183ec13b",
   "metadata": {},
   "source": [
    "AUG"
   ]
  },
  {
   "cell_type": "code",
   "execution_count": null,
   "id": "688340bb",
   "metadata": {},
   "outputs": [],
   "source": []
  },
  {
   "cell_type": "code",
   "execution_count": 30,
   "id": "f914daec",
   "metadata": {},
   "outputs": [
    {
     "data": {
      "text/plain": [
       "<AxesSubplot:xlabel='year/month'>"
      ]
     },
     "execution_count": 30,
     "metadata": {},
     "output_type": "execute_result"
    },
    {
     "data": {
      "image/png": "[encoded data removed]",
      "text/plain": [
       "<Figure size 432x288 with 1 Axes>"
      ]
     },
     "metadata": {
      "needs_background": "light"
     },
     "output_type": "display_data"
    }
   ],
   "source": [
    "data8 = [d_ham.loc[d_ham[\"year/month\"] == '1989- 8'],\n",
    "         d_ham.loc[d_ham[\"year/month\"] == '1990- 8'],\n",
    "         d_ham.loc[d_ham[\"year/month\"] == '1991- 8'],\n",
    "         d_ham.loc[d_ham[\"year/month\"] == '1992- 8'],\n",
    "         d_ham.loc[d_ham[\"year/month\"] == '1993- 8'],\n",
    "         d_ham.loc[d_ham[\"year/month\"] == '1994- 8'],\n",
    "         d_ham.loc[d_ham[\"year/month\"] == '1995- 8'],\n",
    "         d_ham.loc[d_ham[\"year/month\"] == '1996- 8'],\n",
    "         d_ham.loc[d_ham[\"year/month\"] == '1997-8'],\n",
    "         d_ham.loc[d_ham[\"year/month\"] == '1998- 8'],\n",
    "         d_ham.loc[d_ham[\"year/month\"] == '1999- 8'],\n",
    "         d_ham.loc[d_ham[\"year/month\"] == '2000-8'],\n",
    "         d_ham.loc[d_ham[\"year/month\"] == '2001-8'],\n",
    "         d_ham.loc[d_ham[\"year/month\"] == '2002-8'],\n",
    "         d_ham.loc[d_ham[\"year/month\"] == '2003-8'],\n",
    "         d_ham.loc[d_ham[\"year/month\"] == '2004-8'],\n",
    "         d_ham.loc[d_ham[\"year/month\"] == '2005-8'],\n",
    "         d_ham.loc[d_ham[\"year/month\"] == '2006-8'],\n",
    "         d_ham.loc[d_ham[\"year/month\"] == '2007-8'],\n",
    "         d_ham.loc[d_ham[\"year/month\"] == '2008-8'],\n",
    "         d_ham.loc[d_ham[\"year/month\"] == '2009-8'],\n",
    "         d_ham.loc[d_ham[\"year/month\"] == '2010-8'],\n",
    "         d_ham.loc[d_ham[\"year/month\"] == '2011-8'],\n",
    "         d_ham.loc[d_ham[\"year/month\"] == '2012-8'],\n",
    "         d_ham.loc[d_ham[\"year/month\"] == '2013-8'],\n",
    "         d_ham.loc[d_ham[\"year/month\"] == '2014-8'],\n",
    "         d_ham.loc[d_ham[\"year/month\"] == '2015-8'],\n",
    "         d_ham.loc[d_ham[\"year/month\"] == '2016-8'],\n",
    "         d_ham.loc[d_ham[\"year/month\"] == '2017-8'],\n",
    "         d_ham.loc[d_ham[\"year/month\"] == '2018-8'],\n",
    "         d_ham.loc[d_ham[\"year/month\"] == '2019-8'],\n",
    "         d_ham.loc[d_ham[\"year/month\"] == '2020-8']]\n",
    "\n",
    "df_aug = pd.concat(data8, axis=0  )\n",
    "df_aug.head()\n",
    "\n",
    "df_aug['year/month'] = pd.to_datetime(df_aug['year/month'])\n",
    "df_aug.set_index('year/month' , inplace=True)\n",
    "analysis8 = df_aug[\"Mean\"].copy()\n",
    "decompose_res_mult = seasonal_decompose(analysis8  )\n",
    "decompose_res_mult.trend.plot()"
   ]
  },
  {
   "cell_type": "code",
   "execution_count": null,
   "id": "ef81259c",
   "metadata": {},
   "outputs": [],
   "source": []
  },
  {
   "cell_type": "markdown",
   "id": "cf1f214f",
   "metadata": {},
   "source": [
    "SEP"
   ]
  },
  {
   "cell_type": "code",
   "execution_count": null,
   "id": "5dfd732f",
   "metadata": {},
   "outputs": [],
   "source": []
  },
  {
   "cell_type": "code",
   "execution_count": 32,
   "id": "55ef7fdc",
   "metadata": {},
   "outputs": [
    {
     "data": {
      "text/plain": [
       "<AxesSubplot:xlabel='year/month'>"
      ]
     },
     "execution_count": 32,
     "metadata": {},
     "output_type": "execute_result"
    },
    {
     "data": {
      "image/png": "[encoded data removed]",
      "text/plain": [
       "<Figure size 432x288 with 1 Axes>"
      ]
     },
     "metadata": {
      "needs_background": "light"
     },
     "output_type": "display_data"
    }
   ],
   "source": [
    "data9 = [d_ham.loc[d_ham[\"year/month\"] == '1989- 9'],\n",
    "         d_ham.loc[d_ham[\"year/month\"] == '1990- 9'],\n",
    "         d_ham.loc[d_ham[\"year/month\"] == '1991- 9'],\n",
    "         d_ham.loc[d_ham[\"year/month\"] == '1992- 9'],\n",
    "         d_ham.loc[d_ham[\"year/month\"] == '1993- 9'],\n",
    "         d_ham.loc[d_ham[\"year/month\"] == '1994- 9'],\n",
    "         d_ham.loc[d_ham[\"year/month\"] == '1995- 9'],\n",
    "         d_ham.loc[d_ham[\"year/month\"] == '1996- 9'],\n",
    "         d_ham.loc[d_ham[\"year/month\"] == '1997-9'],\n",
    "         d_ham.loc[d_ham[\"year/month\"] == '1998- 9'],\n",
    "         d_ham.loc[d_ham[\"year/month\"] == '1999- 9'],\n",
    "         d_ham.loc[d_ham[\"year/month\"] == '2000-9'],\n",
    "         d_ham.loc[d_ham[\"year/month\"] == '2001-9'],\n",
    "         d_ham.loc[d_ham[\"year/month\"] == '2002-9'],\n",
    "         d_ham.loc[d_ham[\"year/month\"] == '2003-9'],\n",
    "         d_ham.loc[d_ham[\"year/month\"] == '2004-9'],\n",
    "         d_ham.loc[d_ham[\"year/month\"] == '2005-9'],\n",
    "         d_ham.loc[d_ham[\"year/month\"] == '2006-9'],\n",
    "         d_ham.loc[d_ham[\"year/month\"] == '2007-9'],\n",
    "         d_ham.loc[d_ham[\"year/month\"] == '2008-9'],\n",
    "         d_ham.loc[d_ham[\"year/month\"] == '2009-9'],\n",
    "         d_ham.loc[d_ham[\"year/month\"] == '2010-9'],\n",
    "         d_ham.loc[d_ham[\"year/month\"] == '2011-9'],\n",
    "         d_ham.loc[d_ham[\"year/month\"] == '2012-9'],\n",
    "         d_ham.loc[d_ham[\"year/month\"] == '2013-9'],\n",
    "         d_ham.loc[d_ham[\"year/month\"] == '2014-9'],\n",
    "         d_ham.loc[d_ham[\"year/month\"] == '2015-9'],\n",
    "         d_ham.loc[d_ham[\"year/month\"] == '2016-9'],\n",
    "         d_ham.loc[d_ham[\"year/month\"] == '2017-9'],\n",
    "         d_ham.loc[d_ham[\"year/month\"] == '2018-9'],\n",
    "         d_ham.loc[d_ham[\"year/month\"] == '2019-9'],\n",
    "         d_ham.loc[d_ham[\"year/month\"] == '2020-9']]\n",
    "\n",
    "df_sep = pd.concat(data9, axis=0  )\n",
    "df_sep.head()\n",
    "\n",
    "df_sep['year/month'] = pd.to_datetime(df_sep['year/month'])\n",
    "df_sep.set_index('year/month' , inplace=True)\n",
    "analysis9 = df_sep[\"Mean\"].copy()\n",
    "decompose_res_mult = seasonal_decompose(analysis9  )\n",
    "decompose_res_mult.trend.plot()"
   ]
  },
  {
   "cell_type": "code",
   "execution_count": null,
   "id": "1dd51094",
   "metadata": {},
   "outputs": [],
   "source": []
  },
  {
   "cell_type": "markdown",
   "id": "24ba374c",
   "metadata": {},
   "source": [
    "OCT"
   ]
  },
  {
   "cell_type": "code",
   "execution_count": null,
   "id": "bf872546",
   "metadata": {},
   "outputs": [],
   "source": []
  },
  {
   "cell_type": "code",
   "execution_count": 35,
   "id": "1fe728e2",
   "metadata": {},
   "outputs": [
    {
     "data": {
      "text/plain": [
       "<AxesSubplot:xlabel='year/month'>"
      ]
     },
     "execution_count": 35,
     "metadata": {},
     "output_type": "execute_result"
    },
    {
     "data": {
      "image/png": "[encoded data removed]",
      "text/plain": [
       "<Figure size 432x288 with 1 Axes>"
      ]
     },
     "metadata": {
      "needs_background": "light"
     },
     "output_type": "display_data"
    }
   ],
   "source": [
    "data10 = [d_ham.loc[d_ham[\"year/month\"] == '1989-10'],\n",
    "         d_ham.loc[d_ham[\"year/month\"] == '1990-10'],\n",
    "         d_ham.loc[d_ham[\"year/month\"] == '1991-10'],\n",
    "         d_ham.loc[d_ham[\"year/month\"] == '1992-10'],\n",
    "         d_ham.loc[d_ham[\"year/month\"] == '1993-10'],\n",
    "         d_ham.loc[d_ham[\"year/month\"] == '1994-10'],\n",
    "         d_ham.loc[d_ham[\"year/month\"] == '1995-10'],\n",
    "         d_ham.loc[d_ham[\"year/month\"] == '1996- 10'],\n",
    "         d_ham.loc[d_ham[\"year/month\"] == '1997-10'],\n",
    "         d_ham.loc[d_ham[\"year/month\"] == '1998- 10'],\n",
    "         d_ham.loc[d_ham[\"year/month\"] == '1999-10'],\n",
    "         d_ham.loc[d_ham[\"year/month\"] == '2000-10'],\n",
    "         d_ham.loc[d_ham[\"year/month\"] == '2001-10'],\n",
    "         d_ham.loc[d_ham[\"year/month\"] == '2002-10'],\n",
    "         d_ham.loc[d_ham[\"year/month\"] == '2003-10'],\n",
    "         d_ham.loc[d_ham[\"year/month\"] == '2004-10'],\n",
    "         d_ham.loc[d_ham[\"year/month\"] == '2005-10'],\n",
    "         d_ham.loc[d_ham[\"year/month\"] == '2006-10'],\n",
    "         d_ham.loc[d_ham[\"year/month\"] == '2007-10'],\n",
    "         d_ham.loc[d_ham[\"year/month\"] == '2008-10'],\n",
    "         d_ham.loc[d_ham[\"year/month\"] == '2009-10'],\n",
    "         d_ham.loc[d_ham[\"year/month\"] == '2010-10'],\n",
    "         d_ham.loc[d_ham[\"year/month\"] == '2011-10'],\n",
    "         d_ham.loc[d_ham[\"year/month\"] == '2012-10'],\n",
    "         d_ham.loc[d_ham[\"year/month\"] == '2013-10'],\n",
    "         d_ham.loc[d_ham[\"year/month\"] == '2014-10'],\n",
    "         d_ham.loc[d_ham[\"year/month\"] == '2015-10'],\n",
    "         d_ham.loc[d_ham[\"year/month\"] == '2016-10'],\n",
    "         d_ham.loc[d_ham[\"year/month\"] == '2017-10'],\n",
    "         d_ham.loc[d_ham[\"year/month\"] == '2018-10'],\n",
    "         d_ham.loc[d_ham[\"year/month\"] == '2019-10'],\n",
    "         d_ham.loc[d_ham[\"year/month\"] == '2020-10']]\n",
    "\n",
    "df_oct = pd.concat(data10, axis=0  )\n",
    "\n",
    "\n",
    "df_oct['year/month'] = pd.to_datetime(df_oct['year/month'])\n",
    "df_oct.set_index('year/month' , inplace=True)\n",
    "analysis10 = df_oct[\"Mean\"].copy()\n",
    "decompose_res_mult = seasonal_decompose(analysis10  )\n",
    "decompose_res_mult.trend.plot()\n"
   ]
  },
  {
   "cell_type": "code",
   "execution_count": null,
   "id": "4b8709e1",
   "metadata": {},
   "outputs": [],
   "source": []
  },
  {
   "cell_type": "markdown",
   "id": "636521ca",
   "metadata": {},
   "source": [
    "NOV"
   ]
  },
  {
   "cell_type": "code",
   "execution_count": null,
   "id": "17ecd5bd",
   "metadata": {},
   "outputs": [],
   "source": []
  },
  {
   "cell_type": "code",
   "execution_count": 37,
   "id": "7c8a3f4a",
   "metadata": {},
   "outputs": [
    {
     "data": {
      "text/plain": [
       "<AxesSubplot:xlabel='year/month'>"
      ]
     },
     "execution_count": 37,
     "metadata": {},
     "output_type": "execute_result"
    },
    {
     "data": {
      "image/png": "[encoded data removed]",
      "text/plain": [
       "<Figure size 432x288 with 1 Axes>"
      ]
     },
     "metadata": {
      "needs_background": "light"
     },
     "output_type": "display_data"
    }
   ],
   "source": [
    "data11 = [d_ham.loc[d_ham[\"year/month\"] == '1989-11'],\n",
    "         d_ham.loc[d_ham[\"year/month\"] == '1990-11'],\n",
    "         d_ham.loc[d_ham[\"year/month\"] == '1991-11'],\n",
    "         d_ham.loc[d_ham[\"year/month\"] == '1992-11'],\n",
    "         d_ham.loc[d_ham[\"year/month\"] == '1993-11'],\n",
    "         d_ham.loc[d_ham[\"year/month\"] == '1994-11'],\n",
    "         d_ham.loc[d_ham[\"year/month\"] == '1995-11'],\n",
    "         d_ham.loc[d_ham[\"year/month\"] == '1996- 11'],\n",
    "         d_ham.loc[d_ham[\"year/month\"] == '1997-11'],\n",
    "         d_ham.loc[d_ham[\"year/month\"] == '1998- 11'],\n",
    "         d_ham.loc[d_ham[\"year/month\"] == '1999-11'],\n",
    "         d_ham.loc[d_ham[\"year/month\"] == '2000-11'],\n",
    "         d_ham.loc[d_ham[\"year/month\"] == '2001-11'],\n",
    "         d_ham.loc[d_ham[\"year/month\"] == '2002-11'],\n",
    "         d_ham.loc[d_ham[\"year/month\"] == '2003-11'],\n",
    "         d_ham.loc[d_ham[\"year/month\"] == '2004-11'],\n",
    "         d_ham.loc[d_ham[\"year/month\"] == '2005-11'],\n",
    "         d_ham.loc[d_ham[\"year/month\"] == '2006-11'],\n",
    "         d_ham.loc[d_ham[\"year/month\"] == '2007-11'],\n",
    "         d_ham.loc[d_ham[\"year/month\"] == '2008-11'],\n",
    "         d_ham.loc[d_ham[\"year/month\"] == '2009-11'],\n",
    "         d_ham.loc[d_ham[\"year/month\"] == '2010-11'],\n",
    "         d_ham.loc[d_ham[\"year/month\"] == '2011-11'],\n",
    "         d_ham.loc[d_ham[\"year/month\"] == '2012-11'],\n",
    "         d_ham.loc[d_ham[\"year/month\"] == '2013-11'],\n",
    "         d_ham.loc[d_ham[\"year/month\"] == '2014-11'],\n",
    "         d_ham.loc[d_ham[\"year/month\"] == '2015-11'],\n",
    "         d_ham.loc[d_ham[\"year/month\"] == '2016-11'],\n",
    "         d_ham.loc[d_ham[\"year/month\"] == '2017-11'],\n",
    "         d_ham.loc[d_ham[\"year/month\"] == '2018-11'],\n",
    "         d_ham.loc[d_ham[\"year/month\"] == '2019-11'],\n",
    "         d_ham.loc[d_ham[\"year/month\"] == '2020-11']]\n",
    "\n",
    "df_nov = pd.concat(data11, axis=0  )\n",
    "\n",
    "\n",
    "df_nov['year/month'] = pd.to_datetime(df_nov['year/month'])\n",
    "df_nov.set_index('year/month' , inplace=True)\n",
    "analysis11 = df_nov[\"Mean\"].copy()\n",
    "decompose_res_mult = seasonal_decompose(analysis11  )\n",
    "decompose_res_mult.trend.plot()"
   ]
  },
  {
   "cell_type": "code",
   "execution_count": null,
   "id": "6c7a69a4",
   "metadata": {},
   "outputs": [],
   "source": []
  },
  {
   "cell_type": "markdown",
   "id": "547e7d4b",
   "metadata": {},
   "source": [
    "DEC"
   ]
  },
  {
   "cell_type": "code",
   "execution_count": null,
   "id": "76694b4e",
   "metadata": {},
   "outputs": [],
   "source": []
  },
  {
   "cell_type": "code",
   "execution_count": 40,
   "id": "48a8b15b",
   "metadata": {},
   "outputs": [
    {
     "data": {
      "text/plain": [
       "<AxesSubplot:xlabel='year/month'>"
      ]
     },
     "execution_count": 40,
     "metadata": {},
     "output_type": "execute_result"
    },
    {
     "data": {
      "image/png": "[encoded data removed]",
      "text/plain": [
       "<Figure size 432x288 with 1 Axes>"
      ]
     },
     "metadata": {
      "needs_background": "light"
     },
     "output_type": "display_data"
    }
   ],
   "source": [
    "data12 = [d_ham.loc[d_ham[\"year/month\"] == '1989-12'],\n",
    "         d_ham.loc[d_ham[\"year/month\"] == '1990-12'],\n",
    "         d_ham.loc[d_ham[\"year/month\"] == '1991-12'],\n",
    "         d_ham.loc[d_ham[\"year/month\"] == '1992-12'],\n",
    "         d_ham.loc[d_ham[\"year/month\"] == '1993-12'],\n",
    "         d_ham.loc[d_ham[\"year/month\"] == '1994-12'],\n",
    "         d_ham.loc[d_ham[\"year/month\"] == '1995-12'],\n",
    "         d_ham.loc[d_ham[\"year/month\"] == '1996- 12'],\n",
    "         d_ham.loc[d_ham[\"year/month\"] == '1997-12'],\n",
    "         d_ham.loc[d_ham[\"year/month\"] == '1998- 12'],\n",
    "         d_ham.loc[d_ham[\"year/month\"] == '1999-12'],\n",
    "         d_ham.loc[d_ham[\"year/month\"] == '2000-12'],\n",
    "         d_ham.loc[d_ham[\"year/month\"] == '2001-12'],\n",
    "         d_ham.loc[d_ham[\"year/month\"] == '2002-12'],\n",
    "         d_ham.loc[d_ham[\"year/month\"] == '2003-12'],\n",
    "         d_ham.loc[d_ham[\"year/month\"] == '2004-12'],\n",
    "         d_ham.loc[d_ham[\"year/month\"] == '2005-12'],\n",
    "         d_ham.loc[d_ham[\"year/month\"] == '2006-12'],\n",
    "         d_ham.loc[d_ham[\"year/month\"] == '2007-12'],\n",
    "         d_ham.loc[d_ham[\"year/month\"] == '2008-12'],\n",
    "         d_ham.loc[d_ham[\"year/month\"] == '2009-12'],\n",
    "         d_ham.loc[d_ham[\"year/month\"] == '2010-12'],\n",
    "         d_ham.loc[d_ham[\"year/month\"] == '2011-12'],\n",
    "         d_ham.loc[d_ham[\"year/month\"] == '2012-12'],\n",
    "         d_ham.loc[d_ham[\"year/month\"] == '2013-12'],\n",
    "         d_ham.loc[d_ham[\"year/month\"] == '2014-12'],\n",
    "         d_ham.loc[d_ham[\"year/month\"] == '2015-12'],\n",
    "         d_ham.loc[d_ham[\"year/month\"] == '2016-12'],\n",
    "         d_ham.loc[d_ham[\"year/month\"] == '2017-12'],\n",
    "         d_ham.loc[d_ham[\"year/month\"] == '2018-12'],\n",
    "         d_ham.loc[d_ham[\"year/month\"] == '2019-12'],\n",
    "         d_ham.loc[d_ham[\"year/month\"] == '2020-12']]\n",
    "\n",
    "df_dec = pd.concat(data12, axis=0  )\n",
    "\n",
    "\n",
    "\n",
    "df_dec['year/month'] = pd.to_datetime(df_dec['year/month'])\n",
    "df_dec.set_index('year/month' , inplace=True)\n",
    "analysis12 = df_dec[\"Mean\"].copy()\n",
    "decompose_res_mult = seasonal_decompose(analysis12  )\n",
    "decompose_res_mult.trend.plot()"
   ]
  },
  {
   "cell_type": "code",
   "execution_count": null,
   "id": "3d7905c6",
   "metadata": {},
   "outputs": [],
   "source": []
  }
 ],
 "metadata": {
  "kernelspec": {
   "display_name": "Python 3",
   "language": "python",
   "name": "python3"
  },
  "language_info": {
   "codemirror_mode": {
    "name": "ipython",
    "version": 3
   },
   "file_extension": ".py",
   "mimetype": "text/x-python",
   "name": "python",
   "nbconvert_exporter": "python",
   "pygments_lexer": "ipython3",
   "version": "3.8.8"
  }
 },
 "nbformat": 4,
 "nbformat_minor": 5
}
