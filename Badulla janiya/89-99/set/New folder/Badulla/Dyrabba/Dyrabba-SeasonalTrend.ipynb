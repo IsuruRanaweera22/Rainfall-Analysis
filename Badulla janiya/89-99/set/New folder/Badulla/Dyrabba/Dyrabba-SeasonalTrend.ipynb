{
 "cells": [
  {
   "cell_type": "code",
   "execution_count": 1,
   "id": "1dc8487d",
   "metadata": {},
   "outputs": [],
   "source": [
    "import pandas as pd\n",
    "import matplotlib.pyplot as plt\n",
    "import numpy as np\n",
    "from statsmodels.tsa.seasonal import seasonal_decompose"
   ]
  },
  {
   "cell_type": "code",
   "execution_count": 3,
   "id": "4020d76e",
   "metadata": {},
   "outputs": [
    {
     "data": {
      "text/html": [
       "<div>\n",
       "<style scoped>\n",
       "    .dataframe tbody tr th:only-of-type {\n",
       "        vertical-align: middle;\n",
       "    }\n",
       "\n",
       "    .dataframe tbody tr th {\n",
       "        vertical-align: top;\n",
       "    }\n",
       "\n",
       "    .dataframe thead th {\n",
       "        text-align: right;\n",
       "    }\n",
       "</style>\n",
       "<table border=\"1\" class=\"dataframe\">\n",
       "  <thead>\n",
       "    <tr style=\"text-align: right;\">\n",
       "      <th></th>\n",
       "      <th>year/month</th>\n",
       "      <th>1</th>\n",
       "      <th>2</th>\n",
       "      <th>3</th>\n",
       "      <th>4</th>\n",
       "      <th>5</th>\n",
       "      <th>6</th>\n",
       "      <th>7</th>\n",
       "      <th>8</th>\n",
       "      <th>9</th>\n",
       "      <th>...</th>\n",
       "      <th>Unnamed: 39</th>\n",
       "      <th>Unnamed: 40</th>\n",
       "      <th>seayear_1</th>\n",
       "      <th>seamean_1</th>\n",
       "      <th>seayear_2</th>\n",
       "      <th>seamean_2</th>\n",
       "      <th>seayear_3</th>\n",
       "      <th>seamean_3</th>\n",
       "      <th>seayear_4</th>\n",
       "      <th>seamean_4</th>\n",
       "    </tr>\n",
       "  </thead>\n",
       "  <tbody>\n",
       "    <tr>\n",
       "      <th>0</th>\n",
       "      <td>1989- 1</td>\n",
       "      <td>9.1</td>\n",
       "      <td>0.0</td>\n",
       "      <td>1.0</td>\n",
       "      <td>7.6</td>\n",
       "      <td>3.8</td>\n",
       "      <td>0.0</td>\n",
       "      <td>0.0</td>\n",
       "      <td>1.3</td>\n",
       "      <td>0.0</td>\n",
       "      <td>...</td>\n",
       "      <td>NaN</td>\n",
       "      <td>NaN</td>\n",
       "      <td>1989.0</td>\n",
       "      <td>2.103226</td>\n",
       "      <td>1989.0</td>\n",
       "      <td>4.100645</td>\n",
       "      <td>1989.0</td>\n",
       "      <td>7.972581</td>\n",
       "      <td>1989.0</td>\n",
       "      <td>4.198925</td>\n",
       "    </tr>\n",
       "    <tr>\n",
       "      <th>1</th>\n",
       "      <td>1989- 2</td>\n",
       "      <td>0.0</td>\n",
       "      <td>0.0</td>\n",
       "      <td>0.0</td>\n",
       "      <td>0.0</td>\n",
       "      <td>0.0</td>\n",
       "      <td>0.0</td>\n",
       "      <td>0.0</td>\n",
       "      <td>0.0</td>\n",
       "      <td>0.0</td>\n",
       "      <td>...</td>\n",
       "      <td>NaN</td>\n",
       "      <td>NaN</td>\n",
       "      <td>1990.0</td>\n",
       "      <td>5.337097</td>\n",
       "      <td>1990.0</td>\n",
       "      <td>2.263871</td>\n",
       "      <td>1990.0</td>\n",
       "      <td>3.725806</td>\n",
       "      <td>1990.0</td>\n",
       "      <td>6.036559</td>\n",
       "    </tr>\n",
       "    <tr>\n",
       "      <th>2</th>\n",
       "      <td>1989- 3</td>\n",
       "      <td>0.0</td>\n",
       "      <td>1.3</td>\n",
       "      <td>0.0</td>\n",
       "      <td>0.0</td>\n",
       "      <td>0.0</td>\n",
       "      <td>0.5</td>\n",
       "      <td>1.3</td>\n",
       "      <td>0.0</td>\n",
       "      <td>2.3</td>\n",
       "      <td>...</td>\n",
       "      <td>NaN</td>\n",
       "      <td>NaN</td>\n",
       "      <td>1991.0</td>\n",
       "      <td>2.885484</td>\n",
       "      <td>1991.0</td>\n",
       "      <td>4.621935</td>\n",
       "      <td>1991.0</td>\n",
       "      <td>10.350000</td>\n",
       "      <td>1991.0</td>\n",
       "      <td>4.237634</td>\n",
       "    </tr>\n",
       "    <tr>\n",
       "      <th>3</th>\n",
       "      <td>1989- 4</td>\n",
       "      <td>0.0</td>\n",
       "      <td>0.0</td>\n",
       "      <td>24.1</td>\n",
       "      <td>0.0</td>\n",
       "      <td>0.0</td>\n",
       "      <td>0.0</td>\n",
       "      <td>0.0</td>\n",
       "      <td>0.0</td>\n",
       "      <td>3.8</td>\n",
       "      <td>...</td>\n",
       "      <td>NaN</td>\n",
       "      <td>NaN</td>\n",
       "      <td>1992.0</td>\n",
       "      <td>1.437097</td>\n",
       "      <td>1992.0</td>\n",
       "      <td>2.059355</td>\n",
       "      <td>1992.0</td>\n",
       "      <td>7.304839</td>\n",
       "      <td>1992.0</td>\n",
       "      <td>1.880645</td>\n",
       "    </tr>\n",
       "    <tr>\n",
       "      <th>4</th>\n",
       "      <td>1989- 5</td>\n",
       "      <td>0.0</td>\n",
       "      <td>10.2</td>\n",
       "      <td>36.6</td>\n",
       "      <td>1.3</td>\n",
       "      <td>1.3</td>\n",
       "      <td>10.2</td>\n",
       "      <td>7.6</td>\n",
       "      <td>16.3</td>\n",
       "      <td>68.6</td>\n",
       "      <td>...</td>\n",
       "      <td>NaN</td>\n",
       "      <td>NaN</td>\n",
       "      <td>1993.0</td>\n",
       "      <td>2.824194</td>\n",
       "      <td>1993.0</td>\n",
       "      <td>3.535484</td>\n",
       "      <td>1993.0</td>\n",
       "      <td>8.385484</td>\n",
       "      <td>1993.0</td>\n",
       "      <td>5.623656</td>\n",
       "    </tr>\n",
       "    <tr>\n",
       "      <th>...</th>\n",
       "      <td>...</td>\n",
       "      <td>...</td>\n",
       "      <td>...</td>\n",
       "      <td>...</td>\n",
       "      <td>...</td>\n",
       "      <td>...</td>\n",
       "      <td>...</td>\n",
       "      <td>...</td>\n",
       "      <td>...</td>\n",
       "      <td>...</td>\n",
       "      <td>...</td>\n",
       "      <td>...</td>\n",
       "      <td>...</td>\n",
       "      <td>...</td>\n",
       "      <td>...</td>\n",
       "      <td>...</td>\n",
       "      <td>...</td>\n",
       "      <td>...</td>\n",
       "      <td>...</td>\n",
       "      <td>...</td>\n",
       "      <td>...</td>\n",
       "    </tr>\n",
       "    <tr>\n",
       "      <th>379</th>\n",
       "      <td>2020-8</td>\n",
       "      <td>0.0</td>\n",
       "      <td>0.0</td>\n",
       "      <td>0.0</td>\n",
       "      <td>0.0</td>\n",
       "      <td>0.0</td>\n",
       "      <td>0.0</td>\n",
       "      <td>0.0</td>\n",
       "      <td>0.0</td>\n",
       "      <td>0.0</td>\n",
       "      <td>...</td>\n",
       "      <td>NaN</td>\n",
       "      <td>NaN</td>\n",
       "      <td>NaN</td>\n",
       "      <td>NaN</td>\n",
       "      <td>NaN</td>\n",
       "      <td>NaN</td>\n",
       "      <td>NaN</td>\n",
       "      <td>NaN</td>\n",
       "      <td>NaN</td>\n",
       "      <td>NaN</td>\n",
       "    </tr>\n",
       "    <tr>\n",
       "      <th>380</th>\n",
       "      <td>2020-9</td>\n",
       "      <td>0.0</td>\n",
       "      <td>0.0</td>\n",
       "      <td>0.0</td>\n",
       "      <td>0.0</td>\n",
       "      <td>1.0</td>\n",
       "      <td>0.0</td>\n",
       "      <td>7.5</td>\n",
       "      <td>0.0</td>\n",
       "      <td>0.0</td>\n",
       "      <td>...</td>\n",
       "      <td>NaN</td>\n",
       "      <td>NaN</td>\n",
       "      <td>NaN</td>\n",
       "      <td>NaN</td>\n",
       "      <td>NaN</td>\n",
       "      <td>NaN</td>\n",
       "      <td>NaN</td>\n",
       "      <td>NaN</td>\n",
       "      <td>NaN</td>\n",
       "      <td>NaN</td>\n",
       "    </tr>\n",
       "    <tr>\n",
       "      <th>381</th>\n",
       "      <td>2020-10</td>\n",
       "      <td>1.6</td>\n",
       "      <td>1.0</td>\n",
       "      <td>0.0</td>\n",
       "      <td>0.0</td>\n",
       "      <td>1.0</td>\n",
       "      <td>1.0</td>\n",
       "      <td>0.0</td>\n",
       "      <td>0.0</td>\n",
       "      <td>0.0</td>\n",
       "      <td>...</td>\n",
       "      <td>NaN</td>\n",
       "      <td>NaN</td>\n",
       "      <td>NaN</td>\n",
       "      <td>NaN</td>\n",
       "      <td>NaN</td>\n",
       "      <td>NaN</td>\n",
       "      <td>NaN</td>\n",
       "      <td>NaN</td>\n",
       "      <td>NaN</td>\n",
       "      <td>NaN</td>\n",
       "    </tr>\n",
       "    <tr>\n",
       "      <th>382</th>\n",
       "      <td>2020-11</td>\n",
       "      <td>28.5</td>\n",
       "      <td>0.0</td>\n",
       "      <td>0.0</td>\n",
       "      <td>0.0</td>\n",
       "      <td>8.7</td>\n",
       "      <td>32.2</td>\n",
       "      <td>0.0</td>\n",
       "      <td>4.4</td>\n",
       "      <td>4.2</td>\n",
       "      <td>...</td>\n",
       "      <td>NaN</td>\n",
       "      <td>NaN</td>\n",
       "      <td>NaN</td>\n",
       "      <td>NaN</td>\n",
       "      <td>NaN</td>\n",
       "      <td>NaN</td>\n",
       "      <td>NaN</td>\n",
       "      <td>NaN</td>\n",
       "      <td>NaN</td>\n",
       "      <td>NaN</td>\n",
       "    </tr>\n",
       "    <tr>\n",
       "      <th>383</th>\n",
       "      <td>2020-12</td>\n",
       "      <td>0.0</td>\n",
       "      <td>0.0</td>\n",
       "      <td>0.0</td>\n",
       "      <td>1.0</td>\n",
       "      <td>1.1</td>\n",
       "      <td>0.0</td>\n",
       "      <td>0.0</td>\n",
       "      <td>11.0</td>\n",
       "      <td>1.5</td>\n",
       "      <td>...</td>\n",
       "      <td>NaN</td>\n",
       "      <td>NaN</td>\n",
       "      <td>NaN</td>\n",
       "      <td>NaN</td>\n",
       "      <td>NaN</td>\n",
       "      <td>NaN</td>\n",
       "      <td>NaN</td>\n",
       "      <td>NaN</td>\n",
       "      <td>NaN</td>\n",
       "      <td>NaN</td>\n",
       "    </tr>\n",
       "  </tbody>\n",
       "</table>\n",
       "<p>384 rows × 49 columns</p>\n",
       "</div>"
      ],
      "text/plain": [
       "    year/month     1     2     3    4    5     6    7     8     9  ...  \\\n",
       "0      1989- 1   9.1   0.0   1.0  7.6  3.8   0.0  0.0   1.3   0.0  ...   \n",
       "1      1989- 2   0.0   0.0   0.0  0.0  0.0   0.0  0.0   0.0   0.0  ...   \n",
       "2      1989- 3   0.0   1.3   0.0  0.0  0.0   0.5  1.3   0.0   2.3  ...   \n",
       "3      1989- 4   0.0   0.0  24.1  0.0  0.0   0.0  0.0   0.0   3.8  ...   \n",
       "4      1989- 5   0.0  10.2  36.6  1.3  1.3  10.2  7.6  16.3  68.6  ...   \n",
       "..         ...   ...   ...   ...  ...  ...   ...  ...   ...   ...  ...   \n",
       "379     2020-8   0.0   0.0   0.0  0.0  0.0   0.0  0.0   0.0   0.0  ...   \n",
       "380     2020-9   0.0   0.0   0.0  0.0  1.0   0.0  7.5   0.0   0.0  ...   \n",
       "381    2020-10   1.6   1.0   0.0  0.0  1.0   1.0  0.0   0.0   0.0  ...   \n",
       "382    2020-11  28.5   0.0   0.0  0.0  8.7  32.2  0.0   4.4   4.2  ...   \n",
       "383    2020-12   0.0   0.0   0.0  1.0  1.1   0.0  0.0  11.0   1.5  ...   \n",
       "\n",
       "     Unnamed: 39  Unnamed: 40  seayear_1  seamean_1  seayear_2  seamean_2  \\\n",
       "0            NaN          NaN     1989.0   2.103226     1989.0   4.100645   \n",
       "1            NaN          NaN     1990.0   5.337097     1990.0   2.263871   \n",
       "2            NaN          NaN     1991.0   2.885484     1991.0   4.621935   \n",
       "3            NaN          NaN     1992.0   1.437097     1992.0   2.059355   \n",
       "4            NaN          NaN     1993.0   2.824194     1993.0   3.535484   \n",
       "..           ...          ...        ...        ...        ...        ...   \n",
       "379          NaN          NaN        NaN        NaN        NaN        NaN   \n",
       "380          NaN          NaN        NaN        NaN        NaN        NaN   \n",
       "381          NaN          NaN        NaN        NaN        NaN        NaN   \n",
       "382          NaN          NaN        NaN        NaN        NaN        NaN   \n",
       "383          NaN          NaN        NaN        NaN        NaN        NaN   \n",
       "\n",
       "     seayear_3  seamean_3  seayear_4  seamean_4  \n",
       "0       1989.0   7.972581     1989.0   4.198925  \n",
       "1       1990.0   3.725806     1990.0   6.036559  \n",
       "2       1991.0  10.350000     1991.0   4.237634  \n",
       "3       1992.0   7.304839     1992.0   1.880645  \n",
       "4       1993.0   8.385484     1993.0   5.623656  \n",
       "..         ...        ...        ...        ...  \n",
       "379        NaN        NaN        NaN        NaN  \n",
       "380        NaN        NaN        NaN        NaN  \n",
       "381        NaN        NaN        NaN        NaN  \n",
       "382        NaN        NaN        NaN        NaN  \n",
       "383        NaN        NaN        NaN        NaN  \n",
       "\n",
       "[384 rows x 49 columns]"
      ]
     },
     "execution_count": 3,
     "metadata": {},
     "output_type": "execute_result"
    }
   ],
   "source": [
    "d_dyra = pd.read_excel(\"Dyrabba(89-21).xls\" )\n",
    "d_dyra"
   ]
  },
  {
   "cell_type": "code",
   "execution_count": null,
   "id": "1f773593",
   "metadata": {},
   "outputs": [],
   "source": []
  },
  {
   "cell_type": "markdown",
   "id": "42475542",
   "metadata": {},
   "source": [
    "1st monsoon"
   ]
  },
  {
   "cell_type": "code",
   "execution_count": null,
   "id": "ddf0aab7",
   "metadata": {},
   "outputs": [],
   "source": []
  },
  {
   "cell_type": "code",
   "execution_count": 4,
   "id": "9affc4ee",
   "metadata": {},
   "outputs": [],
   "source": [
    "a = d_dyra['seayear_1']\n",
    "b = d_dyra['seamean_1']\n",
    "\n",
    "dAnn = pd.concat([a,b] ,axis=1)\n",
    "\n",
    "dAnn['seayear_1'] = pd.to_datetime(dAnn.seayear_1 , format = '%Y')\n",
    "\n",
    "dAnn = dAnn.dropna()\n",
    "dAnn['seayear_1'] = pd.to_datetime(dAnn['seayear_1'])"
   ]
  },
  {
   "cell_type": "code",
   "execution_count": 5,
   "id": "f991c35f",
   "metadata": {},
   "outputs": [
    {
     "data": {
      "text/plain": [
       "<AxesSubplot:xlabel='seayear_1'>"
      ]
     },
     "execution_count": 5,
     "metadata": {},
     "output_type": "execute_result"
    },
    {
     "data": {
      "image/png": "[encoded data removed]",
      "text/plain": [
       "<Figure size 432x288 with 1 Axes>"
      ]
     },
     "metadata": {
      "needs_background": "light"
     },
     "output_type": "display_data"
    }
   ],
   "source": [
    "dAnn.set_index('seayear_1' , inplace=True)\n",
    "analysis1 = dAnn[\"seamean_1\"].copy()\n",
    "decompose_res_mult = seasonal_decompose(analysis1)\n",
    "decompose_res_mult.trend.plot()"
   ]
  },
  {
   "cell_type": "code",
   "execution_count": null,
   "id": "c55cccc7",
   "metadata": {},
   "outputs": [],
   "source": []
  },
  {
   "cell_type": "markdown",
   "id": "b08ad046",
   "metadata": {},
   "source": [
    "2nd monsoon"
   ]
  },
  {
   "cell_type": "code",
   "execution_count": null,
   "id": "2d38acf4",
   "metadata": {},
   "outputs": [],
   "source": []
  },
  {
   "cell_type": "code",
   "execution_count": 6,
   "id": "4fc106a0",
   "metadata": {},
   "outputs": [],
   "source": [
    "c = d_dyra['seayear_2']\n",
    "d = d_dyra['seamean_2']\n",
    "\n",
    "dAnn = pd.concat([c,d] ,axis=1)\n",
    "\n",
    "dAnn['seayear_2'] = pd.to_datetime(dAnn.seayear_2 , format = '%Y')\n",
    "\n",
    "dAnn = dAnn.dropna()\n",
    "dAnn['seayear_2'] = pd.to_datetime(dAnn['seayear_2'])"
   ]
  },
  {
   "cell_type": "code",
   "execution_count": 7,
   "id": "e1fa4184",
   "metadata": {},
   "outputs": [
    {
     "data": {
      "text/plain": [
       "<AxesSubplot:xlabel='seayear_2'>"
      ]
     },
     "execution_count": 7,
     "metadata": {},
     "output_type": "execute_result"
    },
    {
     "data": {
      "image/png": "[encoded data removed]",
      "text/plain": [
       "<Figure size 432x288 with 1 Axes>"
      ]
     },
     "metadata": {
      "needs_background": "light"
     },
     "output_type": "display_data"
    }
   ],
   "source": [
    "dAnn.set_index('seayear_2' , inplace=True)\n",
    "analysis2 = dAnn[\"seamean_2\"].copy()\n",
    "decompose_res_mult = seasonal_decompose(analysis2)\n",
    "decompose_res_mult.trend.plot()"
   ]
  },
  {
   "cell_type": "code",
   "execution_count": null,
   "id": "e0916b06",
   "metadata": {},
   "outputs": [],
   "source": []
  },
  {
   "cell_type": "markdown",
   "id": "8f8cefc4",
   "metadata": {},
   "source": [
    "3rd monsoon"
   ]
  },
  {
   "cell_type": "code",
   "execution_count": null,
   "id": "b1537264",
   "metadata": {},
   "outputs": [],
   "source": []
  },
  {
   "cell_type": "code",
   "execution_count": 8,
   "id": "cdd6bbf1",
   "metadata": {},
   "outputs": [],
   "source": [
    "e = d_dyra['seayear_3']\n",
    "f = d_dyra['seamean_3']\n",
    "\n",
    "dAnn = pd.concat([e,f] ,axis=1)\n",
    "\n",
    "dAnn['seayear_3'] = pd.to_datetime(dAnn.seayear_3 , format = '%Y')\n",
    "\n",
    "dAnn = dAnn.dropna()\n",
    "dAnn['seayear_3'] = pd.to_datetime(dAnn['seayear_3'])"
   ]
  },
  {
   "cell_type": "code",
   "execution_count": 9,
   "id": "7bc56da6",
   "metadata": {},
   "outputs": [
    {
     "data": {
      "text/plain": [
       "<AxesSubplot:xlabel='seayear_3'>"
      ]
     },
     "execution_count": 9,
     "metadata": {},
     "output_type": "execute_result"
    },
    {
     "data": {
      "image/png": "[encoded data removed]",
      "text/plain": [
       "<Figure size 432x288 with 1 Axes>"
      ]
     },
     "metadata": {
      "needs_background": "light"
     },
     "output_type": "display_data"
    }
   ],
   "source": [
    "dAnn.set_index('seayear_3' , inplace=True)\n",
    "analysis3 = dAnn[\"seamean_3\"].copy()\n",
    "decompose_res_mult = seasonal_decompose(analysis3)\n",
    "decompose_res_mult.trend.plot()"
   ]
  },
  {
   "cell_type": "code",
   "execution_count": null,
   "id": "e1adc242",
   "metadata": {},
   "outputs": [],
   "source": []
  },
  {
   "cell_type": "markdown",
   "id": "4e25d9db",
   "metadata": {},
   "source": [
    "4th monsoon"
   ]
  },
  {
   "cell_type": "code",
   "execution_count": null,
   "id": "1284ab60",
   "metadata": {},
   "outputs": [],
   "source": []
  },
  {
   "cell_type": "code",
   "execution_count": 10,
   "id": "62856a69",
   "metadata": {},
   "outputs": [],
   "source": [
    "g = d_dyra['seayear_4']\n",
    "h = d_dyra['seamean_4']\n",
    "\n",
    "dAnn = pd.concat([g,h] ,axis=1)\n",
    "\n",
    "dAnn['seayear_4'] = pd.to_datetime(dAnn.seayear_4 , format = '%Y')\n",
    "\n",
    "dAnn = dAnn.dropna()\n",
    "dAnn['seayear_4'] = pd.to_datetime(dAnn['seayear_4'])"
   ]
  },
  {
   "cell_type": "code",
   "execution_count": 11,
   "id": "0c51c1ea",
   "metadata": {},
   "outputs": [
    {
     "data": {
      "text/plain": [
       "<AxesSubplot:xlabel='seayear_4'>"
      ]
     },
     "execution_count": 11,
     "metadata": {},
     "output_type": "execute_result"
    },
    {
     "data": {
      "image/png": "[encoded data removed]",
      "text/plain": [
       "<Figure size 432x288 with 1 Axes>"
      ]
     },
     "metadata": {
      "needs_background": "light"
     },
     "output_type": "display_data"
    }
   ],
   "source": [
    "dAnn.set_index('seayear_4' , inplace=True)\n",
    "analysis4 = dAnn[\"seamean_4\"].copy()\n",
    "decompose_res_mult = seasonal_decompose(analysis4)\n",
    "decompose_res_mult.trend.plot()"
   ]
  },
  {
   "cell_type": "code",
   "execution_count": null,
   "id": "40544d48",
   "metadata": {},
   "outputs": [],
   "source": []
  }
 ],
 "metadata": {
  "kernelspec": {
   "display_name": "Python 3",
   "language": "python",
   "name": "python3"
  },
  "language_info": {
   "codemirror_mode": {
    "name": "ipython",
    "version": 3
   },
   "file_extension": ".py",
   "mimetype": "text/x-python",
   "name": "python",
   "nbconvert_exporter": "python",
   "pygments_lexer": "ipython3",
   "version": "3.8.8"
  }
 },
 "nbformat": 4,
 "nbformat_minor": 5
}
