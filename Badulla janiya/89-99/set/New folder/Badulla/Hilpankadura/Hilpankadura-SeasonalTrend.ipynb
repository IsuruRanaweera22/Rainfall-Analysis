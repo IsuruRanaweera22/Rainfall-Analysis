{
 "cells": [
  {
   "cell_type": "code",
   "execution_count": 1,
   "id": "a4e3d8f3",
   "metadata": {},
   "outputs": [],
   "source": [
    "import pandas as pd\n",
    "import matplotlib.pyplot as plt\n",
    "import numpy as np\n",
    "from statsmodels.tsa.seasonal import seasonal_decompose"
   ]
  },
  {
   "cell_type": "code",
   "execution_count": 4,
   "id": "7c49cc17",
   "metadata": {},
   "outputs": [
    {
     "data": {
      "text/html": [
       "<div>\n",
       "<style scoped>\n",
       "    .dataframe tbody tr th:only-of-type {\n",
       "        vertical-align: middle;\n",
       "    }\n",
       "\n",
       "    .dataframe tbody tr th {\n",
       "        vertical-align: top;\n",
       "    }\n",
       "\n",
       "    .dataframe thead th {\n",
       "        text-align: right;\n",
       "    }\n",
       "</style>\n",
       "<table border=\"1\" class=\"dataframe\">\n",
       "  <thead>\n",
       "    <tr style=\"text-align: right;\">\n",
       "      <th></th>\n",
       "      <th>year/month</th>\n",
       "      <th>1</th>\n",
       "      <th>2</th>\n",
       "      <th>3</th>\n",
       "      <th>4</th>\n",
       "      <th>5</th>\n",
       "      <th>6</th>\n",
       "      <th>7</th>\n",
       "      <th>8</th>\n",
       "      <th>9</th>\n",
       "      <th>...</th>\n",
       "      <th>Unnamed: 36</th>\n",
       "      <th>Unnamed: 37</th>\n",
       "      <th>Seayear_1</th>\n",
       "      <th>seamean_1</th>\n",
       "      <th>Seayear_2</th>\n",
       "      <th>seamean_2</th>\n",
       "      <th>Seayear_3</th>\n",
       "      <th>seamean_3</th>\n",
       "      <th>Seayear_4</th>\n",
       "      <th>seamean_4</th>\n",
       "    </tr>\n",
       "  </thead>\n",
       "  <tbody>\n",
       "    <tr>\n",
       "      <th>0</th>\n",
       "      <td>1992- 1</td>\n",
       "      <td>1.728571</td>\n",
       "      <td>0.628571</td>\n",
       "      <td>17.628571</td>\n",
       "      <td>6.257143</td>\n",
       "      <td>2.542857</td>\n",
       "      <td>3.200000</td>\n",
       "      <td>1.157143</td>\n",
       "      <td>2.800000</td>\n",
       "      <td>2.057143</td>\n",
       "      <td>...</td>\n",
       "      <td>NaN</td>\n",
       "      <td>NaN</td>\n",
       "      <td>1992.0</td>\n",
       "      <td>2.488825</td>\n",
       "      <td>1992.0</td>\n",
       "      <td>2.561290</td>\n",
       "      <td>1992.0</td>\n",
       "      <td>11.325806</td>\n",
       "      <td>1992.0</td>\n",
       "      <td>2.638710</td>\n",
       "    </tr>\n",
       "    <tr>\n",
       "      <th>1</th>\n",
       "      <td>1992- 2</td>\n",
       "      <td>0.571429</td>\n",
       "      <td>1.614286</td>\n",
       "      <td>11.257143</td>\n",
       "      <td>7.614286</td>\n",
       "      <td>5.700000</td>\n",
       "      <td>1.685714</td>\n",
       "      <td>0.957143</td>\n",
       "      <td>0.585714</td>\n",
       "      <td>0.628571</td>\n",
       "      <td>...</td>\n",
       "      <td>NaN</td>\n",
       "      <td>NaN</td>\n",
       "      <td>1993.0</td>\n",
       "      <td>2.296774</td>\n",
       "      <td>1993.0</td>\n",
       "      <td>3.567742</td>\n",
       "      <td>1993.0</td>\n",
       "      <td>9.824194</td>\n",
       "      <td>1993.0</td>\n",
       "      <td>5.516129</td>\n",
       "    </tr>\n",
       "    <tr>\n",
       "      <th>2</th>\n",
       "      <td>1992- 3</td>\n",
       "      <td>1.714286</td>\n",
       "      <td>0.414286</td>\n",
       "      <td>11.757143</td>\n",
       "      <td>0.514286</td>\n",
       "      <td>0.000000</td>\n",
       "      <td>0.000000</td>\n",
       "      <td>0.000000</td>\n",
       "      <td>3.185714</td>\n",
       "      <td>1.214286</td>\n",
       "      <td>...</td>\n",
       "      <td>NaN</td>\n",
       "      <td>NaN</td>\n",
       "      <td>1994.0</td>\n",
       "      <td>3.258065</td>\n",
       "      <td>1994.0</td>\n",
       "      <td>3.112903</td>\n",
       "      <td>1994.0</td>\n",
       "      <td>9.833871</td>\n",
       "      <td>1994.0</td>\n",
       "      <td>3.535484</td>\n",
       "    </tr>\n",
       "    <tr>\n",
       "      <th>3</th>\n",
       "      <td>1992- 4</td>\n",
       "      <td>0.000000</td>\n",
       "      <td>0</td>\n",
       "      <td>23.600000</td>\n",
       "      <td>0.000000</td>\n",
       "      <td>0.000000</td>\n",
       "      <td>0.000000</td>\n",
       "      <td>0.000000</td>\n",
       "      <td>0.000000</td>\n",
       "      <td>0.000000</td>\n",
       "      <td>...</td>\n",
       "      <td>NaN</td>\n",
       "      <td>NaN</td>\n",
       "      <td>1995.0</td>\n",
       "      <td>5.327419</td>\n",
       "      <td>1995.0</td>\n",
       "      <td>2.234516</td>\n",
       "      <td>1995.0</td>\n",
       "      <td>7.554839</td>\n",
       "      <td>1995.0</td>\n",
       "      <td>3.883871</td>\n",
       "    </tr>\n",
       "    <tr>\n",
       "      <th>4</th>\n",
       "      <td>1992- 5</td>\n",
       "      <td>11.000000</td>\n",
       "      <td>0</td>\n",
       "      <td>0.000000</td>\n",
       "      <td>0.000000</td>\n",
       "      <td>8.400000</td>\n",
       "      <td>5.200000</td>\n",
       "      <td>0.000000</td>\n",
       "      <td>2.200000</td>\n",
       "      <td>1.900000</td>\n",
       "      <td>...</td>\n",
       "      <td>NaN</td>\n",
       "      <td>NaN</td>\n",
       "      <td>1996.0</td>\n",
       "      <td>4.795161</td>\n",
       "      <td>1996.0</td>\n",
       "      <td>2.553548</td>\n",
       "      <td>1996.0</td>\n",
       "      <td>6.141935</td>\n",
       "      <td>1996.0</td>\n",
       "      <td>3.105376</td>\n",
       "    </tr>\n",
       "    <tr>\n",
       "      <th>...</th>\n",
       "      <td>...</td>\n",
       "      <td>...</td>\n",
       "      <td>...</td>\n",
       "      <td>...</td>\n",
       "      <td>...</td>\n",
       "      <td>...</td>\n",
       "      <td>...</td>\n",
       "      <td>...</td>\n",
       "      <td>...</td>\n",
       "      <td>...</td>\n",
       "      <td>...</td>\n",
       "      <td>...</td>\n",
       "      <td>...</td>\n",
       "      <td>...</td>\n",
       "      <td>...</td>\n",
       "      <td>...</td>\n",
       "      <td>...</td>\n",
       "      <td>...</td>\n",
       "      <td>...</td>\n",
       "      <td>...</td>\n",
       "      <td>...</td>\n",
       "    </tr>\n",
       "    <tr>\n",
       "      <th>283</th>\n",
       "      <td>2015-8</td>\n",
       "      <td>22.200001</td>\n",
       "      <td>0</td>\n",
       "      <td>0.000000</td>\n",
       "      <td>0.000000</td>\n",
       "      <td>0.000000</td>\n",
       "      <td>0.000000</td>\n",
       "      <td>0.000000</td>\n",
       "      <td>0.000000</td>\n",
       "      <td>0.000000</td>\n",
       "      <td>...</td>\n",
       "      <td>NaN</td>\n",
       "      <td>NaN</td>\n",
       "      <td>NaN</td>\n",
       "      <td>NaN</td>\n",
       "      <td>NaN</td>\n",
       "      <td>NaN</td>\n",
       "      <td>NaN</td>\n",
       "      <td>NaN</td>\n",
       "      <td>NaN</td>\n",
       "      <td>NaN</td>\n",
       "    </tr>\n",
       "    <tr>\n",
       "      <th>284</th>\n",
       "      <td>2015-9</td>\n",
       "      <td>1.500000</td>\n",
       "      <td>37</td>\n",
       "      <td>12.500000</td>\n",
       "      <td>1.400000</td>\n",
       "      <td>0.000000</td>\n",
       "      <td>0.000000</td>\n",
       "      <td>0.000000</td>\n",
       "      <td>0.000000</td>\n",
       "      <td>0.000000</td>\n",
       "      <td>...</td>\n",
       "      <td>NaN</td>\n",
       "      <td>NaN</td>\n",
       "      <td>NaN</td>\n",
       "      <td>NaN</td>\n",
       "      <td>NaN</td>\n",
       "      <td>NaN</td>\n",
       "      <td>NaN</td>\n",
       "      <td>NaN</td>\n",
       "      <td>NaN</td>\n",
       "      <td>NaN</td>\n",
       "    </tr>\n",
       "    <tr>\n",
       "      <th>285</th>\n",
       "      <td>2015-10</td>\n",
       "      <td>1.800000</td>\n",
       "      <td>24</td>\n",
       "      <td>13.500000</td>\n",
       "      <td>6.100000</td>\n",
       "      <td>5.400000</td>\n",
       "      <td>0.000000</td>\n",
       "      <td>5.200000</td>\n",
       "      <td>18.000000</td>\n",
       "      <td>49.000000</td>\n",
       "      <td>...</td>\n",
       "      <td>NaN</td>\n",
       "      <td>NaN</td>\n",
       "      <td>NaN</td>\n",
       "      <td>NaN</td>\n",
       "      <td>NaN</td>\n",
       "      <td>NaN</td>\n",
       "      <td>NaN</td>\n",
       "      <td>NaN</td>\n",
       "      <td>NaN</td>\n",
       "      <td>NaN</td>\n",
       "    </tr>\n",
       "    <tr>\n",
       "      <th>286</th>\n",
       "      <td>2015-11</td>\n",
       "      <td>0.000000</td>\n",
       "      <td>20</td>\n",
       "      <td>0.000000</td>\n",
       "      <td>0.000000</td>\n",
       "      <td>45.099998</td>\n",
       "      <td>19.500000</td>\n",
       "      <td>13.200000</td>\n",
       "      <td>20.000000</td>\n",
       "      <td>4.300000</td>\n",
       "      <td>...</td>\n",
       "      <td>NaN</td>\n",
       "      <td>NaN</td>\n",
       "      <td>NaN</td>\n",
       "      <td>NaN</td>\n",
       "      <td>NaN</td>\n",
       "      <td>NaN</td>\n",
       "      <td>NaN</td>\n",
       "      <td>NaN</td>\n",
       "      <td>NaN</td>\n",
       "      <td>NaN</td>\n",
       "    </tr>\n",
       "    <tr>\n",
       "      <th>287</th>\n",
       "      <td>2015-12</td>\n",
       "      <td>0.000000</td>\n",
       "      <td>2</td>\n",
       "      <td>0.000000</td>\n",
       "      <td>0.000000</td>\n",
       "      <td>2.000000</td>\n",
       "      <td>4.500000</td>\n",
       "      <td>13.700000</td>\n",
       "      <td>36.000000</td>\n",
       "      <td>0.000000</td>\n",
       "      <td>...</td>\n",
       "      <td>NaN</td>\n",
       "      <td>NaN</td>\n",
       "      <td>NaN</td>\n",
       "      <td>NaN</td>\n",
       "      <td>NaN</td>\n",
       "      <td>NaN</td>\n",
       "      <td>NaN</td>\n",
       "      <td>NaN</td>\n",
       "      <td>NaN</td>\n",
       "      <td>NaN</td>\n",
       "    </tr>\n",
       "  </tbody>\n",
       "</table>\n",
       "<p>288 rows × 46 columns</p>\n",
       "</div>"
      ],
      "text/plain": [
       "    year/month          1         2          3         4          5  \\\n",
       "0      1992- 1   1.728571  0.628571  17.628571  6.257143   2.542857   \n",
       "1      1992- 2   0.571429  1.614286  11.257143  7.614286   5.700000   \n",
       "2      1992- 3   1.714286  0.414286  11.757143  0.514286   0.000000   \n",
       "3      1992- 4   0.000000         0  23.600000  0.000000   0.000000   \n",
       "4      1992- 5  11.000000         0   0.000000  0.000000   8.400000   \n",
       "..         ...        ...       ...        ...       ...        ...   \n",
       "283     2015-8  22.200001         0   0.000000  0.000000   0.000000   \n",
       "284     2015-9   1.500000        37  12.500000  1.400000   0.000000   \n",
       "285    2015-10   1.800000        24  13.500000  6.100000   5.400000   \n",
       "286    2015-11   0.000000        20   0.000000  0.000000  45.099998   \n",
       "287    2015-12   0.000000         2   0.000000  0.000000   2.000000   \n",
       "\n",
       "             6          7          8          9  ...  Unnamed: 36  \\\n",
       "0     3.200000   1.157143   2.800000   2.057143  ...          NaN   \n",
       "1     1.685714   0.957143   0.585714   0.628571  ...          NaN   \n",
       "2     0.000000   0.000000   3.185714   1.214286  ...          NaN   \n",
       "3     0.000000   0.000000   0.000000   0.000000  ...          NaN   \n",
       "4     5.200000   0.000000   2.200000   1.900000  ...          NaN   \n",
       "..         ...        ...        ...        ...  ...          ...   \n",
       "283   0.000000   0.000000   0.000000   0.000000  ...          NaN   \n",
       "284   0.000000   0.000000   0.000000   0.000000  ...          NaN   \n",
       "285   0.000000   5.200000  18.000000  49.000000  ...          NaN   \n",
       "286  19.500000  13.200000  20.000000   4.300000  ...          NaN   \n",
       "287   4.500000  13.700000  36.000000   0.000000  ...          NaN   \n",
       "\n",
       "     Unnamed: 37  Seayear_1  seamean_1  Seayear_2  seamean_2  Seayear_3  \\\n",
       "0            NaN     1992.0   2.488825     1992.0   2.561290     1992.0   \n",
       "1            NaN     1993.0   2.296774     1993.0   3.567742     1993.0   \n",
       "2            NaN     1994.0   3.258065     1994.0   3.112903     1994.0   \n",
       "3            NaN     1995.0   5.327419     1995.0   2.234516     1995.0   \n",
       "4            NaN     1996.0   4.795161     1996.0   2.553548     1996.0   \n",
       "..           ...        ...        ...        ...        ...        ...   \n",
       "283          NaN        NaN        NaN        NaN        NaN        NaN   \n",
       "284          NaN        NaN        NaN        NaN        NaN        NaN   \n",
       "285          NaN        NaN        NaN        NaN        NaN        NaN   \n",
       "286          NaN        NaN        NaN        NaN        NaN        NaN   \n",
       "287          NaN        NaN        NaN        NaN        NaN        NaN   \n",
       "\n",
       "     seamean_3  Seayear_4  seamean_4  \n",
       "0    11.325806     1992.0   2.638710  \n",
       "1     9.824194     1993.0   5.516129  \n",
       "2     9.833871     1994.0   3.535484  \n",
       "3     7.554839     1995.0   3.883871  \n",
       "4     6.141935     1996.0   3.105376  \n",
       "..         ...        ...        ...  \n",
       "283        NaN        NaN        NaN  \n",
       "284        NaN        NaN        NaN  \n",
       "285        NaN        NaN        NaN  \n",
       "286        NaN        NaN        NaN  \n",
       "287        NaN        NaN        NaN  \n",
       "\n",
       "[288 rows x 46 columns]"
      ]
     },
     "execution_count": 4,
     "metadata": {},
     "output_type": "execute_result"
    }
   ],
   "source": [
    "d_hilp = pd.read_excel(\"Hilpankandura(92-2015).xls\" )\n",
    "d_hilp"
   ]
  },
  {
   "cell_type": "code",
   "execution_count": null,
   "id": "73301c5b",
   "metadata": {},
   "outputs": [],
   "source": []
  },
  {
   "cell_type": "markdown",
   "id": "86698354",
   "metadata": {},
   "source": [
    "1st monsoon"
   ]
  },
  {
   "cell_type": "code",
   "execution_count": null,
   "id": "124c96be",
   "metadata": {},
   "outputs": [],
   "source": []
  },
  {
   "cell_type": "code",
   "execution_count": 5,
   "id": "e60fe0c8",
   "metadata": {},
   "outputs": [],
   "source": [
    "a = d_hilp['Seayear_1']\n",
    "b = d_hilp['seamean_1']\n",
    "\n",
    "dAnn = pd.concat([a,b] ,axis=1)\n",
    "\n",
    "dAnn['Seayear_1'] = pd.to_datetime(dAnn.Seayear_1 , format = '%Y')\n",
    "\n",
    "dAnn = dAnn.dropna()\n",
    "dAnn['Seayear_1'] = pd.to_datetime(dAnn['Seayear_1'])"
   ]
  },
  {
   "cell_type": "code",
   "execution_count": 7,
   "id": "3a3aa348",
   "metadata": {},
   "outputs": [
    {
     "data": {
      "text/plain": [
       "<AxesSubplot:xlabel='Seayear_1'>"
      ]
     },
     "execution_count": 7,
     "metadata": {},
     "output_type": "execute_result"
    },
    {
     "data": {
      "image/png": "[encoded data removed]",
      "text/plain": [
       "<Figure size 432x288 with 1 Axes>"
      ]
     },
     "metadata": {
      "needs_background": "light"
     },
     "output_type": "display_data"
    }
   ],
   "source": [
    "dAnn.set_index('Seayear_1' , inplace=True)\n",
    "analysis1 = dAnn[\"seamean_1\"].copy()\n",
    "decompose_res_mult = seasonal_decompose(analysis1)\n",
    "decompose_res_mult.trend.plot()"
   ]
  },
  {
   "cell_type": "code",
   "execution_count": null,
   "id": "b24a57cc",
   "metadata": {},
   "outputs": [],
   "source": []
  },
  {
   "cell_type": "markdown",
   "id": "5993b8c6",
   "metadata": {},
   "source": [
    "2nd monsoon"
   ]
  },
  {
   "cell_type": "code",
   "execution_count": null,
   "id": "2095b734",
   "metadata": {},
   "outputs": [],
   "source": []
  },
  {
   "cell_type": "code",
   "execution_count": 8,
   "id": "620b0e17",
   "metadata": {},
   "outputs": [],
   "source": [
    "c = d_hilp['Seayear_2']\n",
    "d = d_hilp['seamean_2']\n",
    "\n",
    "dAnn = pd.concat([c,d] ,axis=1)\n",
    "\n",
    "dAnn['Seayear_2'] = pd.to_datetime(dAnn.Seayear_2 , format = '%Y')\n",
    "\n",
    "dAnn = dAnn.dropna()\n",
    "dAnn['Seayear_2'] = pd.to_datetime(dAnn['Seayear_2'])"
   ]
  },
  {
   "cell_type": "code",
   "execution_count": 9,
   "id": "3ef5ee20",
   "metadata": {},
   "outputs": [
    {
     "data": {
      "text/plain": [
       "<AxesSubplot:xlabel='Seayear_2'>"
      ]
     },
     "execution_count": 9,
     "metadata": {},
     "output_type": "execute_result"
    },
    {
     "data": {
      "image/png": "[encoded data removed]",
      "text/plain": [
       "<Figure size 432x288 with 1 Axes>"
      ]
     },
     "metadata": {
      "needs_background": "light"
     },
     "output_type": "display_data"
    }
   ],
   "source": [
    "dAnn.set_index('Seayear_2' , inplace=True)\n",
    "analysis2 = dAnn[\"seamean_2\"].copy()\n",
    "decompose_res_mult = seasonal_decompose(analysis2)\n",
    "decompose_res_mult.trend.plot()"
   ]
  },
  {
   "cell_type": "code",
   "execution_count": null,
   "id": "3fbc201a",
   "metadata": {},
   "outputs": [],
   "source": []
  },
  {
   "cell_type": "markdown",
   "id": "120d273a",
   "metadata": {},
   "source": [
    "3rd monsoon"
   ]
  },
  {
   "cell_type": "code",
   "execution_count": null,
   "id": "11ce9130",
   "metadata": {},
   "outputs": [],
   "source": []
  },
  {
   "cell_type": "code",
   "execution_count": 10,
   "id": "47b96fd2",
   "metadata": {},
   "outputs": [],
   "source": [
    "e = d_hilp['Seayear_3']\n",
    "f = d_hilp['seamean_3']\n",
    "\n",
    "dAnn = pd.concat([e,f] ,axis=1)\n",
    "\n",
    "dAnn['Seayear_3'] = pd.to_datetime(dAnn.Seayear_3 , format = '%Y')\n",
    "\n",
    "dAnn = dAnn.dropna()\n",
    "dAnn['Seayear_3'] = pd.to_datetime(dAnn['Seayear_3'])"
   ]
  },
  {
   "cell_type": "code",
   "execution_count": 11,
   "id": "7a1fd82b",
   "metadata": {},
   "outputs": [
    {
     "data": {
      "text/plain": [
       "<AxesSubplot:xlabel='Seayear_3'>"
      ]
     },
     "execution_count": 11,
     "metadata": {},
     "output_type": "execute_result"
    },
    {
     "data": {
      "image/png": "[encoded data removed]",
      "text/plain": [
       "<Figure size 432x288 with 1 Axes>"
      ]
     },
     "metadata": {
      "needs_background": "light"
     },
     "output_type": "display_data"
    }
   ],
   "source": [
    "dAnn.set_index('Seayear_3' , inplace=True)\n",
    "analysis3 = dAnn[\"seamean_3\"].copy()\n",
    "decompose_res_mult = seasonal_decompose(analysis3)\n",
    "decompose_res_mult.trend.plot()"
   ]
  },
  {
   "cell_type": "code",
   "execution_count": null,
   "id": "3b3e30a0",
   "metadata": {},
   "outputs": [],
   "source": []
  },
  {
   "cell_type": "markdown",
   "id": "a9d99a09",
   "metadata": {},
   "source": [
    "4th monsoon"
   ]
  },
  {
   "cell_type": "code",
   "execution_count": null,
   "id": "ce412717",
   "metadata": {},
   "outputs": [],
   "source": []
  },
  {
   "cell_type": "code",
   "execution_count": 12,
   "id": "8e341293",
   "metadata": {},
   "outputs": [],
   "source": [
    "g = d_hilp['Seayear_4']\n",
    "h = d_hilp['seamean_4']\n",
    "\n",
    "dAnn = pd.concat([g,h] ,axis=1)\n",
    "\n",
    "dAnn['Seayear_4'] = pd.to_datetime(dAnn.Seayear_4 , format = '%Y')\n",
    "\n",
    "dAnn = dAnn.dropna()\n",
    "dAnn['Seayear_4'] = pd.to_datetime(dAnn['Seayear_4'])"
   ]
  },
  {
   "cell_type": "code",
   "execution_count": 13,
   "id": "89cdfbde",
   "metadata": {},
   "outputs": [
    {
     "data": {
      "text/plain": [
       "<AxesSubplot:xlabel='Seayear_4'>"
      ]
     },
     "execution_count": 13,
     "metadata": {},
     "output_type": "execute_result"
    },
    {
     "data": {
      "image/png": "[encoded data removed]",
      "text/plain": [
       "<Figure size 432x288 with 1 Axes>"
      ]
     },
     "metadata": {
      "needs_background": "light"
     },
     "output_type": "display_data"
    }
   ],
   "source": [
    "dAnn.set_index('Seayear_4' , inplace=True)\n",
    "analysis4 = dAnn[\"seamean_4\"].copy()\n",
    "decompose_res_mult = seasonal_decompose(analysis4)\n",
    "decompose_res_mult.trend.plot()"
   ]
  },
  {
   "cell_type": "code",
   "execution_count": null,
   "id": "af2074c7",
   "metadata": {},
   "outputs": [],
   "source": []
  }
 ],
 "metadata": {
  "kernelspec": {
   "display_name": "Python 3",
   "language": "python",
   "name": "python3"
  },
  "language_info": {
   "codemirror_mode": {
    "name": "ipython",
    "version": 3
   },
   "file_extension": ".py",
   "mimetype": "text/x-python",
   "name": "python",
   "nbconvert_exporter": "python",
   "pygments_lexer": "ipython3",
   "version": "3.8.8"
  }
 },
 "nbformat": 4,
 "nbformat_minor": 5
}
