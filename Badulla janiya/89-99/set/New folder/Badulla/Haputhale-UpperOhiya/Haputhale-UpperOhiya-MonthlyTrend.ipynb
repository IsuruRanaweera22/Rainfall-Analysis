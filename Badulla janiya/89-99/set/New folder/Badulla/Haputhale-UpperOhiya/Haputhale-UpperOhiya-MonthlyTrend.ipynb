{
 "cells": [
  {
   "cell_type": "code",
   "execution_count": 1,
   "id": "03fde909",
   "metadata": {},
   "outputs": [],
   "source": [
    "import pandas as pd\n",
    "import matplotlib.pyplot as plt\n",
    "import numpy as np\n",
    "from statsmodels.tsa.seasonal import seasonal_decompose"
   ]
  },
  {
   "cell_type": "code",
   "execution_count": 2,
   "id": "b68ae60e",
   "metadata": {},
   "outputs": [
    {
     "data": {
      "text/html": [
       "<div>\n",
       "<style scoped>\n",
       "    .dataframe tbody tr th:only-of-type {\n",
       "        vertical-align: middle;\n",
       "    }\n",
       "\n",
       "    .dataframe tbody tr th {\n",
       "        vertical-align: top;\n",
       "    }\n",
       "\n",
       "    .dataframe thead th {\n",
       "        text-align: right;\n",
       "    }\n",
       "</style>\n",
       "<table border=\"1\" class=\"dataframe\">\n",
       "  <thead>\n",
       "    <tr style=\"text-align: right;\">\n",
       "      <th></th>\n",
       "      <th>year/month</th>\n",
       "      <th>1</th>\n",
       "      <th>2</th>\n",
       "      <th>3</th>\n",
       "      <th>4</th>\n",
       "      <th>5</th>\n",
       "      <th>6</th>\n",
       "      <th>7</th>\n",
       "      <th>8</th>\n",
       "      <th>9</th>\n",
       "      <th>...</th>\n",
       "      <th>26</th>\n",
       "      <th>27</th>\n",
       "      <th>28</th>\n",
       "      <th>29</th>\n",
       "      <th>30</th>\n",
       "      <th>31</th>\n",
       "      <th>Mean</th>\n",
       "      <th>Unnamed: 33</th>\n",
       "      <th>year</th>\n",
       "      <th>AnnualMean</th>\n",
       "    </tr>\n",
       "  </thead>\n",
       "  <tbody>\n",
       "    <tr>\n",
       "      <th>0</th>\n",
       "      <td>1989- 1</td>\n",
       "      <td>6.5</td>\n",
       "      <td>7.9</td>\n",
       "      <td>6.2</td>\n",
       "      <td>10.4</td>\n",
       "      <td>7.6</td>\n",
       "      <td>9.5</td>\n",
       "      <td>21.4</td>\n",
       "      <td>0.0</td>\n",
       "      <td>16.4</td>\n",
       "      <td>...</td>\n",
       "      <td>0.0</td>\n",
       "      <td>0.0</td>\n",
       "      <td>0.0</td>\n",
       "      <td>0.0</td>\n",
       "      <td>0.0</td>\n",
       "      <td>0.0</td>\n",
       "      <td>6.316129</td>\n",
       "      <td>NaN</td>\n",
       "      <td>1989.0</td>\n",
       "      <td>6.772581</td>\n",
       "    </tr>\n",
       "    <tr>\n",
       "      <th>1</th>\n",
       "      <td>1989- 2</td>\n",
       "      <td>0.0</td>\n",
       "      <td>0</td>\n",
       "      <td>0.0</td>\n",
       "      <td>0.0</td>\n",
       "      <td>0.0</td>\n",
       "      <td>0.0</td>\n",
       "      <td>0.0</td>\n",
       "      <td>0.0</td>\n",
       "      <td>0.0</td>\n",
       "      <td>...</td>\n",
       "      <td>29.4</td>\n",
       "      <td>0.0</td>\n",
       "      <td>19.6</td>\n",
       "      <td>0.0</td>\n",
       "      <td>0.0</td>\n",
       "      <td>0.0</td>\n",
       "      <td>1.580645</td>\n",
       "      <td>NaN</td>\n",
       "      <td>1990.0</td>\n",
       "      <td>7.037097</td>\n",
       "    </tr>\n",
       "    <tr>\n",
       "      <th>2</th>\n",
       "      <td>1989- 3</td>\n",
       "      <td>27.9</td>\n",
       "      <td>16.5</td>\n",
       "      <td>0.0</td>\n",
       "      <td>0.0</td>\n",
       "      <td>0.0</td>\n",
       "      <td>0.0</td>\n",
       "      <td>0.0</td>\n",
       "      <td>3.4</td>\n",
       "      <td>4.6</td>\n",
       "      <td>...</td>\n",
       "      <td>0.0</td>\n",
       "      <td>0.0</td>\n",
       "      <td>8.4</td>\n",
       "      <td>6.5</td>\n",
       "      <td>7.4</td>\n",
       "      <td>18.9</td>\n",
       "      <td>3.770968</td>\n",
       "      <td>NaN</td>\n",
       "      <td>1991.0</td>\n",
       "      <td>6.039516</td>\n",
       "    </tr>\n",
       "    <tr>\n",
       "      <th>3</th>\n",
       "      <td>1989- 4</td>\n",
       "      <td>4.3</td>\n",
       "      <td>0</td>\n",
       "      <td>0.0</td>\n",
       "      <td>0.0</td>\n",
       "      <td>0.0</td>\n",
       "      <td>0.0</td>\n",
       "      <td>0.0</td>\n",
       "      <td>13.7</td>\n",
       "      <td>70.9</td>\n",
       "      <td>...</td>\n",
       "      <td>27.4</td>\n",
       "      <td>0.0</td>\n",
       "      <td>0.0</td>\n",
       "      <td>0.0</td>\n",
       "      <td>6.5</td>\n",
       "      <td>0.0</td>\n",
       "      <td>9.661290</td>\n",
       "      <td>NaN</td>\n",
       "      <td>1992.0</td>\n",
       "      <td>3.859812</td>\n",
       "    </tr>\n",
       "    <tr>\n",
       "      <th>4</th>\n",
       "      <td>1989- 5</td>\n",
       "      <td>12.4</td>\n",
       "      <td>23.5</td>\n",
       "      <td>24.9</td>\n",
       "      <td>49.6</td>\n",
       "      <td>37.4</td>\n",
       "      <td>19.3</td>\n",
       "      <td>7.4</td>\n",
       "      <td>23.5</td>\n",
       "      <td>18.4</td>\n",
       "      <td>...</td>\n",
       "      <td>4.5</td>\n",
       "      <td>6.3</td>\n",
       "      <td>0.0</td>\n",
       "      <td>3.7</td>\n",
       "      <td>2.4</td>\n",
       "      <td>10.7</td>\n",
       "      <td>11.322581</td>\n",
       "      <td>NaN</td>\n",
       "      <td>NaN</td>\n",
       "      <td>NaN</td>\n",
       "    </tr>\n",
       "  </tbody>\n",
       "</table>\n",
       "<p>5 rows × 36 columns</p>\n",
       "</div>"
      ],
      "text/plain": [
       "  year/month     1     2     3     4     5     6     7     8     9  ...    26  \\\n",
       "0    1989- 1   6.5   7.9   6.2  10.4   7.6   9.5  21.4   0.0  16.4  ...   0.0   \n",
       "1    1989- 2   0.0     0   0.0   0.0   0.0   0.0   0.0   0.0   0.0  ...  29.4   \n",
       "2    1989- 3  27.9  16.5   0.0   0.0   0.0   0.0   0.0   3.4   4.6  ...   0.0   \n",
       "3    1989- 4   4.3     0   0.0   0.0   0.0   0.0   0.0  13.7  70.9  ...  27.4   \n",
       "4    1989- 5  12.4  23.5  24.9  49.6  37.4  19.3   7.4  23.5  18.4  ...   4.5   \n",
       "\n",
       "    27    28   29   30    31       Mean  Unnamed: 33    year  AnnualMean  \n",
       "0  0.0   0.0  0.0  0.0   0.0   6.316129          NaN  1989.0    6.772581  \n",
       "1  0.0  19.6  0.0  0.0   0.0   1.580645          NaN  1990.0    7.037097  \n",
       "2  0.0   8.4  6.5  7.4  18.9   3.770968          NaN  1991.0    6.039516  \n",
       "3  0.0   0.0  0.0  6.5   0.0   9.661290          NaN  1992.0    3.859812  \n",
       "4  6.3   0.0  3.7  2.4  10.7  11.322581          NaN     NaN         NaN  \n",
       "\n",
       "[5 rows x 36 columns]"
      ]
     },
     "execution_count": 2,
     "metadata": {},
     "output_type": "execute_result"
    }
   ],
   "source": [
    "d_hapU = pd.read_excel(\"Haputale-UpperOhiya(89-92).xls\")\n",
    "d_hapU.head()\n"
   ]
  },
  {
   "cell_type": "code",
   "execution_count": null,
   "id": "dcaa3317",
   "metadata": {},
   "outputs": [],
   "source": []
  },
  {
   "cell_type": "markdown",
   "id": "4632f8c6",
   "metadata": {},
   "source": [
    "JAN"
   ]
  },
  {
   "cell_type": "code",
   "execution_count": null,
   "id": "762bcdb6",
   "metadata": {},
   "outputs": [],
   "source": []
  },
  {
   "cell_type": "code",
   "execution_count": 3,
   "id": "dd40440e",
   "metadata": {},
   "outputs": [
    {
     "data": {
      "text/plain": [
       "<AxesSubplot:xlabel='year/month'>"
      ]
     },
     "execution_count": 3,
     "metadata": {},
     "output_type": "execute_result"
    },
    {
     "data": {
      "image/png": "[encoded data removed]",
      "text/plain": [
       "<Figure size 432x288 with 1 Axes>"
      ]
     },
     "metadata": {
      "needs_background": "light"
     },
     "output_type": "display_data"
    }
   ],
   "source": [
    "data1 = [d_hapU.loc[d_hapU[\"year/month\"] == '1989- 1'],\n",
    "         d_hapU.loc[d_hapU[\"year/month\"] == '1990- 1'],\n",
    "         d_hapU.loc[d_hapU[\"year/month\"] == '1991- 1'],\n",
    "         d_hapU.loc[d_hapU[\"year/month\"] == '1992- 1'],\n",
    "         d_hapU.loc[d_hapU[\"year/month\"] == '1993- 1'],\n",
    "         d_hapU.loc[d_hapU[\"year/month\"] == '1994- 1'],\n",
    "         d_hapU.loc[d_hapU[\"year/month\"] == '1995- 1'],\n",
    "         d_hapU.loc[d_hapU[\"year/month\"] == '1996- 1'],\n",
    "         d_hapU.loc[d_hapU[\"year/month\"] == '1997- 1'],\n",
    "         d_hapU.loc[d_hapU[\"year/month\"] == '1998- 1'],\n",
    "         d_hapU.loc[d_hapU[\"year/month\"] == '1999- 1'],\n",
    "         d_hapU.loc[d_hapU[\"year/month\"] == '2000-1'],\n",
    "         d_hapU.loc[d_hapU[\"year/month\"] == '2001-1'],\n",
    "         d_hapU.loc[d_hapU[\"year/month\"] == '2002-1'],\n",
    "         d_hapU.loc[d_hapU[\"year/month\"] == '2003-1'],\n",
    "         d_hapU.loc[d_hapU[\"year/month\"] == '2004-1'],\n",
    "         d_hapU.loc[d_hapU[\"year/month\"] == '2005-1'],\n",
    "         d_hapU.loc[d_hapU[\"year/month\"] == '2006-1'],\n",
    "         d_hapU.loc[d_hapU[\"year/month\"] == '2007-1'],\n",
    "         d_hapU.loc[d_hapU[\"year/month\"] == '2008-1'],\n",
    "         d_hapU.loc[d_hapU[\"year/month\"] == '2009-1'],\n",
    "         d_hapU.loc[d_hapU[\"year/month\"] == '2010-1'],\n",
    "         d_hapU.loc[d_hapU[\"year/month\"] == '2011-1'],\n",
    "         d_hapU.loc[d_hapU[\"year/month\"] == '2012-1'],\n",
    "         d_hapU.loc[d_hapU[\"year/month\"] == '2013-1'],\n",
    "         d_hapU.loc[d_hapU[\"year/month\"] == '2014-1'],\n",
    "         d_hapU.loc[d_hapU[\"year/month\"] == '2015-1'],\n",
    "         d_hapU.loc[d_hapU[\"year/month\"] == '2016-1'],\n",
    "         d_hapU.loc[d_hapU[\"year/month\"] == '2017-1'],\n",
    "         d_hapU.loc[d_hapU[\"year/month\"] == '2018-1'],\n",
    "         d_hapU.loc[d_hapU[\"year/month\"] == '2019-1'],\n",
    "         d_hapU.loc[d_hapU[\"year/month\"] == '2020-1']]\n",
    "\n",
    "df_jan = pd.concat(data1, axis=0  )\n",
    "\n",
    "df_jan['year/month'] = pd.to_datetime(df_jan['year/month'])\n",
    "df_jan.set_index('year/month' , inplace=True)\n",
    "analysis1 = df_jan[\"Mean\"].copy()\n",
    "decompose_res_mult = seasonal_decompose(analysis1  )\n",
    "decompose_res_mult.trend.plot()"
   ]
  },
  {
   "cell_type": "code",
   "execution_count": null,
   "id": "a9848dc0",
   "metadata": {},
   "outputs": [],
   "source": []
  },
  {
   "cell_type": "markdown",
   "id": "a2d0ffbd",
   "metadata": {},
   "source": [
    "FEB"
   ]
  },
  {
   "cell_type": "code",
   "execution_count": null,
   "id": "cd2fd30f",
   "metadata": {},
   "outputs": [],
   "source": []
  },
  {
   "cell_type": "code",
   "execution_count": 6,
   "id": "270f170e",
   "metadata": {},
   "outputs": [
    {
     "data": {
      "text/plain": [
       "<AxesSubplot:xlabel='year/month'>"
      ]
     },
     "execution_count": 6,
     "metadata": {},
     "output_type": "execute_result"
    },
    {
     "data": {
      "image/png": "[encoded data removed]",
      "text/plain": [
       "<Figure size 432x288 with 1 Axes>"
      ]
     },
     "metadata": {
      "needs_background": "light"
     },
     "output_type": "display_data"
    }
   ],
   "source": [
    "data2 = [d_hapU.loc[d_hapU[\"year/month\"] == '1989- 2'],\n",
    "         d_hapU.loc[d_hapU[\"year/month\"] == '1990- 2'],\n",
    "         d_hapU.loc[d_hapU[\"year/month\"] == '1991- 2'],\n",
    "         d_hapU.loc[d_hapU[\"year/month\"] == '1992- 2'],\n",
    "         d_hapU.loc[d_hapU[\"year/month\"] == '1993- 2'],\n",
    "         d_hapU.loc[d_hapU[\"year/month\"] == '1994- 2'],\n",
    "         d_hapU.loc[d_hapU[\"year/month\"] == '1995- 2'],\n",
    "         d_hapU.loc[d_hapU[\"year/month\"] == '1996- 2'],\n",
    "         d_hapU.loc[d_hapU[\"year/month\"] == '1997- 2'],\n",
    "         d_hapU.loc[d_hapU[\"year/month\"] == '1998- 2'],\n",
    "         d_hapU.loc[d_hapU[\"year/month\"] == '1999- 2'],\n",
    "         d_hapU.loc[d_hapU[\"year/month\"] == '2000-2'],\n",
    "         d_hapU.loc[d_hapU[\"year/month\"] == '2001-2'],\n",
    "         d_hapU.loc[d_hapU[\"year/month\"] == '2002-2'],\n",
    "         d_hapU.loc[d_hapU[\"year/month\"] == '2003-2'],\n",
    "         d_hapU.loc[d_hapU[\"year/month\"] == '2004-2'],\n",
    "         d_hapU.loc[d_hapU[\"year/month\"] == '2005-2'],\n",
    "         d_hapU.loc[d_hapU[\"year/month\"] == '2006-2'],\n",
    "         d_hapU.loc[d_hapU[\"year/month\"] == '2007-2'],\n",
    "         d_hapU.loc[d_hapU[\"year/month\"] == '2008-2'],\n",
    "         d_hapU.loc[d_hapU[\"year/month\"] == '2009-2'],\n",
    "         d_hapU.loc[d_hapU[\"year/month\"] == '2010-2'],\n",
    "         d_hapU.loc[d_hapU[\"year/month\"] == '2011-2'],\n",
    "         d_hapU.loc[d_hapU[\"year/month\"] == '2012-2'],\n",
    "         d_hapU.loc[d_hapU[\"year/month\"] == '2013-2'],\n",
    "         d_hapU.loc[d_hapU[\"year/month\"] == '2014-2'],\n",
    "         d_hapU.loc[d_hapU[\"year/month\"] == '2015-2'],\n",
    "         d_hapU.loc[d_hapU[\"year/month\"] == '2016-2'],\n",
    "         d_hapU.loc[d_hapU[\"year/month\"] == '2017-2'],\n",
    "         d_hapU.loc[d_hapU[\"year/month\"] == '2018-2'],\n",
    "         d_hapU.loc[d_hapU[\"year/month\"] == '2019-2'],\n",
    "         d_hapU.loc[d_hapU[\"year/month\"] == '2020-2']]\n",
    "\n",
    "df_feb = pd.concat(data2, axis=0  )\n",
    "\n",
    "df_feb['year/month'] = pd.to_datetime(df_feb['year/month'])\n",
    "df_feb.set_index('year/month' , inplace=True)\n",
    "analysis2 = df_feb[\"Mean\"].copy()\n",
    "decompose_res_mult = seasonal_decompose(analysis2  )\n",
    "decompose_res_mult.trend.plot()\n"
   ]
  },
  {
   "cell_type": "code",
   "execution_count": null,
   "id": "dcd67221",
   "metadata": {},
   "outputs": [],
   "source": []
  },
  {
   "cell_type": "markdown",
   "id": "d3bfb7c9",
   "metadata": {},
   "source": [
    "MAR"
   ]
  },
  {
   "cell_type": "code",
   "execution_count": null,
   "id": "8f86f1f6",
   "metadata": {},
   "outputs": [],
   "source": []
  },
  {
   "cell_type": "code",
   "execution_count": 7,
   "id": "08362119",
   "metadata": {},
   "outputs": [
    {
     "data": {
      "text/plain": [
       "<AxesSubplot:xlabel='year/month'>"
      ]
     },
     "execution_count": 7,
     "metadata": {},
     "output_type": "execute_result"
    },
    {
     "data": {
      "image/png": "[encoded data removed]",
      "text/plain": [
       "<Figure size 432x288 with 1 Axes>"
      ]
     },
     "metadata": {
      "needs_background": "light"
     },
     "output_type": "display_data"
    }
   ],
   "source": [
    "data3 = [d_hapU.loc[d_hapU[\"year/month\"] == '1989- 3'],\n",
    "         d_hapU.loc[d_hapU[\"year/month\"] == '1990- 3'],\n",
    "         d_hapU.loc[d_hapU[\"year/month\"] == '1991- 3'],\n",
    "         d_hapU.loc[d_hapU[\"year/month\"] == '1992- 3'],\n",
    "         d_hapU.loc[d_hapU[\"year/month\"] == '1993- 3'],\n",
    "         d_hapU.loc[d_hapU[\"year/month\"] == '1994- 3'],\n",
    "         d_hapU.loc[d_hapU[\"year/month\"] == '1995- 3'],\n",
    "         d_hapU.loc[d_hapU[\"year/month\"] == '1996- 3'],\n",
    "         d_hapU.loc[d_hapU[\"year/month\"] == '1997- 3'],\n",
    "         d_hapU.loc[d_hapU[\"year/month\"] == '1998- 3'],\n",
    "         d_hapU.loc[d_hapU[\"year/month\"] == '1999- 3'],\n",
    "         d_hapU.loc[d_hapU[\"year/month\"] == '2000-3'],\n",
    "         d_hapU.loc[d_hapU[\"year/month\"] == '2001-3'],\n",
    "         d_hapU.loc[d_hapU[\"year/month\"] == '2002-3'],\n",
    "         d_hapU.loc[d_hapU[\"year/month\"] == '2003-3'],\n",
    "         d_hapU.loc[d_hapU[\"year/month\"] == '2004-3'],\n",
    "         d_hapU.loc[d_hapU[\"year/month\"] == '2005-3'],\n",
    "         d_hapU.loc[d_hapU[\"year/month\"] == '2006-3'],\n",
    "         d_hapU.loc[d_hapU[\"year/month\"] == '2007-3'],\n",
    "         d_hapU.loc[d_hapU[\"year/month\"] == '2008-3'],\n",
    "         d_hapU.loc[d_hapU[\"year/month\"] == '2009-3'],\n",
    "         d_hapU.loc[d_hapU[\"year/month\"] == '2010-3'],\n",
    "         d_hapU.loc[d_hapU[\"year/month\"] == '2011-3'],\n",
    "         d_hapU.loc[d_hapU[\"year/month\"] == '2012-3'],\n",
    "         d_hapU.loc[d_hapU[\"year/month\"] == '2013-3'],\n",
    "         d_hapU.loc[d_hapU[\"year/month\"] == '2014-3'],\n",
    "         d_hapU.loc[d_hapU[\"year/month\"] == '2015-3'],\n",
    "         d_hapU.loc[d_hapU[\"year/month\"] == '2016-3'],\n",
    "         d_hapU.loc[d_hapU[\"year/month\"] == '2017-3'],\n",
    "         d_hapU.loc[d_hapU[\"year/month\"] == '2018-3'],\n",
    "         d_hapU.loc[d_hapU[\"year/month\"] == '2019-3'],\n",
    "         d_hapU.loc[d_hapU[\"year/month\"] == '2020-3']]\n",
    "\n",
    "df_mar = pd.concat(data3, axis=0  )\n",
    "\n",
    "df_mar['year/month'] = pd.to_datetime(df_mar['year/month'])\n",
    "df_mar.set_index('year/month' , inplace=True)\n",
    "analysis3 = df_mar[\"Mean\"].copy()\n",
    "decompose_res_mult = seasonal_decompose(analysis3  )\n",
    "decompose_res_mult.trend.plot()"
   ]
  },
  {
   "cell_type": "code",
   "execution_count": null,
   "id": "c6c6a89c",
   "metadata": {},
   "outputs": [],
   "source": []
  },
  {
   "cell_type": "markdown",
   "id": "d985f5fc",
   "metadata": {},
   "source": [
    "APR"
   ]
  },
  {
   "cell_type": "code",
   "execution_count": null,
   "id": "498645cf",
   "metadata": {},
   "outputs": [],
   "source": []
  },
  {
   "cell_type": "code",
   "execution_count": 8,
   "id": "d5248108",
   "metadata": {},
   "outputs": [
    {
     "data": {
      "text/plain": [
       "<AxesSubplot:xlabel='year/month'>"
      ]
     },
     "execution_count": 8,
     "metadata": {},
     "output_type": "execute_result"
    },
    {
     "data": {
      "image/png": "[encoded data removed]",
      "text/plain": [
       "<Figure size 432x288 with 1 Axes>"
      ]
     },
     "metadata": {
      "needs_background": "light"
     },
     "output_type": "display_data"
    }
   ],
   "source": [
    "data4 = [d_hapU.loc[d_hapU[\"year/month\"] == '1989- 4'],\n",
    "         d_hapU.loc[d_hapU[\"year/month\"] == '1990- 4'],\n",
    "         d_hapU.loc[d_hapU[\"year/month\"] == '1991- 4'],\n",
    "         d_hapU.loc[d_hapU[\"year/month\"] == '1992- 4'],\n",
    "         d_hapU.loc[d_hapU[\"year/month\"] == '1993- 4'],\n",
    "         d_hapU.loc[d_hapU[\"year/month\"] == '1994- 4'],\n",
    "         d_hapU.loc[d_hapU[\"year/month\"] == '1995- 4'],\n",
    "         d_hapU.loc[d_hapU[\"year/month\"] == '1996- 4'],\n",
    "         d_hapU.loc[d_hapU[\"year/month\"] == '1997- 4'],\n",
    "         d_hapU.loc[d_hapU[\"year/month\"] == '1998- 4'],\n",
    "         d_hapU.loc[d_hapU[\"year/month\"] == '1999- 4'],\n",
    "         d_hapU.loc[d_hapU[\"year/month\"] == '2000-4'],\n",
    "         d_hapU.loc[d_hapU[\"year/month\"] == '2001-4'],\n",
    "         d_hapU.loc[d_hapU[\"year/month\"] == '2002-4'],\n",
    "         d_hapU.loc[d_hapU[\"year/month\"] == '2003-4'],\n",
    "         d_hapU.loc[d_hapU[\"year/month\"] == '2004-4'],\n",
    "         d_hapU.loc[d_hapU[\"year/month\"] == '2005-4'],\n",
    "         d_hapU.loc[d_hapU[\"year/month\"] == '2006-4'],\n",
    "         d_hapU.loc[d_hapU[\"year/month\"] == '2007-4'],\n",
    "         d_hapU.loc[d_hapU[\"year/month\"] == '2008-4'],\n",
    "         d_hapU.loc[d_hapU[\"year/month\"] == '2009-4'],\n",
    "         d_hapU.loc[d_hapU[\"year/month\"] == '2010-4'],\n",
    "         d_hapU.loc[d_hapU[\"year/month\"] == '2011-4'],\n",
    "         d_hapU.loc[d_hapU[\"year/month\"] == '2012-4'],\n",
    "         d_hapU.loc[d_hapU[\"year/month\"] == '2013-4'],\n",
    "         d_hapU.loc[d_hapU[\"year/month\"] == '2014-4'],\n",
    "         d_hapU.loc[d_hapU[\"year/month\"] == '2015-4'],\n",
    "         d_hapU.loc[d_hapU[\"year/month\"] == '2016-4'],\n",
    "         d_hapU.loc[d_hapU[\"year/month\"] == '2017-4'],\n",
    "         d_hapU.loc[d_hapU[\"year/month\"] == '2018-4'],\n",
    "         d_hapU.loc[d_hapU[\"year/month\"] == '2019-4'],\n",
    "         d_hapU.loc[d_hapU[\"year/month\"] == '2020-4']]\n",
    "\n",
    "df_apr = pd.concat(data4, axis=0  )\n",
    "df_apr.head()\n",
    "\n",
    "df_apr['year/month'] = pd.to_datetime(df_apr['year/month'])\n",
    "df_apr.set_index('year/month' , inplace=True)\n",
    "analysis4 = df_apr[\"Mean\"].copy()\n",
    "decompose_res_mult = seasonal_decompose(analysis4  )\n",
    "decompose_res_mult.trend.plot()"
   ]
  },
  {
   "cell_type": "code",
   "execution_count": null,
   "id": "153feb13",
   "metadata": {},
   "outputs": [],
   "source": []
  },
  {
   "cell_type": "markdown",
   "id": "c17f4694",
   "metadata": {},
   "source": [
    "MAY"
   ]
  },
  {
   "cell_type": "code",
   "execution_count": null,
   "id": "8d2e07ab",
   "metadata": {},
   "outputs": [],
   "source": []
  },
  {
   "cell_type": "code",
   "execution_count": 9,
   "id": "b4877269",
   "metadata": {},
   "outputs": [
    {
     "data": {
      "text/plain": [
       "<AxesSubplot:xlabel='year/month'>"
      ]
     },
     "execution_count": 9,
     "metadata": {},
     "output_type": "execute_result"
    },
    {
     "data": {
      "image/png": "[encoded data removed]",
      "text/plain": [
       "<Figure size 432x288 with 1 Axes>"
      ]
     },
     "metadata": {
      "needs_background": "light"
     },
     "output_type": "display_data"
    }
   ],
   "source": [
    "data5 = [d_hapU.loc[d_hapU[\"year/month\"] == '1989- 5'],\n",
    "         d_hapU.loc[d_hapU[\"year/month\"] == '1990- 5'],\n",
    "         d_hapU.loc[d_hapU[\"year/month\"] == '1991- 5'],\n",
    "         d_hapU.loc[d_hapU[\"year/month\"] == '1992- 5'],\n",
    "         d_hapU.loc[d_hapU[\"year/month\"] == '1993- 5'],\n",
    "         d_hapU.loc[d_hapU[\"year/month\"] == '1994- 5'],\n",
    "         d_hapU.loc[d_hapU[\"year/month\"] == '1995- 5'],\n",
    "         d_hapU.loc[d_hapU[\"year/month\"] == '1996- 5'],\n",
    "         d_hapU.loc[d_hapU[\"year/month\"] == '1997- 5'],\n",
    "         d_hapU.loc[d_hapU[\"year/month\"] == '1998- 5'],\n",
    "         d_hapU.loc[d_hapU[\"year/month\"] == '1999- 5'],\n",
    "         d_hapU.loc[d_hapU[\"year/month\"] == '2000-5'],\n",
    "         d_hapU.loc[d_hapU[\"year/month\"] == '2001-5'],\n",
    "         d_hapU.loc[d_hapU[\"year/month\"] == '2002-5'],\n",
    "         d_hapU.loc[d_hapU[\"year/month\"] == '2003-5'],\n",
    "         d_hapU.loc[d_hapU[\"year/month\"] == '2004-5'],\n",
    "         d_hapU.loc[d_hapU[\"year/month\"] == '2005-5'],\n",
    "         d_hapU.loc[d_hapU[\"year/month\"] == '2006-5'],\n",
    "         d_hapU.loc[d_hapU[\"year/month\"] == '2007-5'],\n",
    "         d_hapU.loc[d_hapU[\"year/month\"] == '2008-5'],\n",
    "         d_hapU.loc[d_hapU[\"year/month\"] == '2009-5'],\n",
    "         d_hapU.loc[d_hapU[\"year/month\"] == '2010-5'],\n",
    "         d_hapU.loc[d_hapU[\"year/month\"] == '2011-5'],\n",
    "         d_hapU.loc[d_hapU[\"year/month\"] == '2012-5'],\n",
    "         d_hapU.loc[d_hapU[\"year/month\"] == '2013-5'],\n",
    "         d_hapU.loc[d_hapU[\"year/month\"] == '2014-5'],\n",
    "         d_hapU.loc[d_hapU[\"year/month\"] == '2015-5'],\n",
    "         d_hapU.loc[d_hapU[\"year/month\"] == '2016-5'],\n",
    "         d_hapU.loc[d_hapU[\"year/month\"] == '2017-5'],\n",
    "         d_hapU.loc[d_hapU[\"year/month\"] == '2018-5'],\n",
    "         d_hapU.loc[d_hapU[\"year/month\"] == '2019-5'],\n",
    "         d_hapU.loc[d_hapU[\"year/month\"] == '2020-5']]\n",
    "\n",
    "df_may = pd.concat(data5, axis=0  )\n",
    "df_may.head()\n",
    "\n",
    "df_may['year/month'] = pd.to_datetime(df_may['year/month'])\n",
    "df_may.set_index('year/month' , inplace=True)\n",
    "analysis5 = df_may[\"Mean\"].copy()\n",
    "decompose_res_mult = seasonal_decompose(analysis5  )\n",
    "decompose_res_mult.trend.plot()"
   ]
  },
  {
   "cell_type": "code",
   "execution_count": null,
   "id": "94ee2245",
   "metadata": {},
   "outputs": [],
   "source": []
  },
  {
   "cell_type": "markdown",
   "id": "f04792d9",
   "metadata": {},
   "source": [
    "JUN"
   ]
  },
  {
   "cell_type": "code",
   "execution_count": null,
   "id": "45f52247",
   "metadata": {},
   "outputs": [],
   "source": []
  },
  {
   "cell_type": "code",
   "execution_count": 10,
   "id": "014f91b8",
   "metadata": {},
   "outputs": [
    {
     "data": {
      "text/plain": [
       "<AxesSubplot:xlabel='year/month'>"
      ]
     },
     "execution_count": 10,
     "metadata": {},
     "output_type": "execute_result"
    },
    {
     "data": {
      "image/png": "[encoded data removed]",
      "text/plain": [
       "<Figure size 432x288 with 1 Axes>"
      ]
     },
     "metadata": {
      "needs_background": "light"
     },
     "output_type": "display_data"
    }
   ],
   "source": [
    "data6 = [d_hapU.loc[d_hapU[\"year/month\"] == '1989- 6'],\n",
    "         d_hapU.loc[d_hapU[\"year/month\"] == '1990- 6'],\n",
    "         d_hapU.loc[d_hapU[\"year/month\"] == '1991- 6'],\n",
    "         d_hapU.loc[d_hapU[\"year/month\"] == '1992- 6'],\n",
    "         d_hapU.loc[d_hapU[\"year/month\"] == '1993- 6'],\n",
    "         d_hapU.loc[d_hapU[\"year/month\"] == '1994- 6'],\n",
    "         d_hapU.loc[d_hapU[\"year/month\"] == '1995- 6'],\n",
    "         d_hapU.loc[d_hapU[\"year/month\"] == '1996- 6'],\n",
    "         d_hapU.loc[d_hapU[\"year/month\"] == '1997- 6'],\n",
    "         d_hapU.loc[d_hapU[\"year/month\"] == '1998- 6'],\n",
    "         d_hapU.loc[d_hapU[\"year/month\"] == '1999- 6'],\n",
    "         d_hapU.loc[d_hapU[\"year/month\"] == '2000-6'],\n",
    "         d_hapU.loc[d_hapU[\"year/month\"] == '2001-6'],\n",
    "         d_hapU.loc[d_hapU[\"year/month\"] == '2002-6'],\n",
    "         d_hapU.loc[d_hapU[\"year/month\"] == '2003-6'],\n",
    "         d_hapU.loc[d_hapU[\"year/month\"] == '2004-6'],\n",
    "         d_hapU.loc[d_hapU[\"year/month\"] == '2005-6'],\n",
    "         d_hapU.loc[d_hapU[\"year/month\"] == '2006-6'],\n",
    "         d_hapU.loc[d_hapU[\"year/month\"] == '2007-6'],\n",
    "         d_hapU.loc[d_hapU[\"year/month\"] == '2008-6'],\n",
    "         d_hapU.loc[d_hapU[\"year/month\"] == '2009-6'],\n",
    "         d_hapU.loc[d_hapU[\"year/month\"] == '2010-6'],\n",
    "         d_hapU.loc[d_hapU[\"year/month\"] == '2011-6'],\n",
    "         d_hapU.loc[d_hapU[\"year/month\"] == '2012-6'],\n",
    "         d_hapU.loc[d_hapU[\"year/month\"] == '2013-6'],\n",
    "         d_hapU.loc[d_hapU[\"year/month\"] == '2014-6'],\n",
    "         d_hapU.loc[d_hapU[\"year/month\"] == '2015-6'],\n",
    "         d_hapU.loc[d_hapU[\"year/month\"] == '2016-6'],\n",
    "         d_hapU.loc[d_hapU[\"year/month\"] == '2017-6'],\n",
    "         d_hapU.loc[d_hapU[\"year/month\"] == '2018-6'],\n",
    "         d_hapU.loc[d_hapU[\"year/month\"] == '2019-6'],\n",
    "         d_hapU.loc[d_hapU[\"year/month\"] == '2020-6']]\n",
    "\n",
    "df_jun = pd.concat(data6, axis=0  )\n",
    "df_jun.head()\n",
    "\n",
    "df_jun['year/month'] = pd.to_datetime(df_jun['year/month'])\n",
    "df_jun.set_index('year/month' , inplace=True)\n",
    "analysis6 = df_jun[\"Mean\"].copy()\n",
    "decompose_res_mult = seasonal_decompose(analysis6  )\n",
    "decompose_res_mult.trend.plot()"
   ]
  },
  {
   "cell_type": "code",
   "execution_count": null,
   "id": "f0d050b5",
   "metadata": {},
   "outputs": [],
   "source": []
  },
  {
   "cell_type": "markdown",
   "id": "f44fde87",
   "metadata": {},
   "source": [
    "JUL"
   ]
  },
  {
   "cell_type": "code",
   "execution_count": null,
   "id": "a500317f",
   "metadata": {},
   "outputs": [],
   "source": []
  },
  {
   "cell_type": "code",
   "execution_count": 11,
   "id": "a9f4b1a5",
   "metadata": {},
   "outputs": [
    {
     "data": {
      "text/plain": [
       "<AxesSubplot:xlabel='year/month'>"
      ]
     },
     "execution_count": 11,
     "metadata": {},
     "output_type": "execute_result"
    },
    {
     "data": {
      "image/png": "[encoded data removed]",
      "text/plain": [
       "<Figure size 432x288 with 1 Axes>"
      ]
     },
     "metadata": {
      "needs_background": "light"
     },
     "output_type": "display_data"
    }
   ],
   "source": [
    "data7 = [d_hapU.loc[d_hapU[\"year/month\"] == '1989- 7'],\n",
    "         d_hapU.loc[d_hapU[\"year/month\"] == '1990- 7'],\n",
    "         d_hapU.loc[d_hapU[\"year/month\"] == '1991- 7'],\n",
    "         d_hapU.loc[d_hapU[\"year/month\"] == '1992- 7'],\n",
    "         d_hapU.loc[d_hapU[\"year/month\"] == '1993- 7'],\n",
    "         d_hapU.loc[d_hapU[\"year/month\"] == '1994- 7'],\n",
    "         d_hapU.loc[d_hapU[\"year/month\"] == '1995- 7'],\n",
    "         d_hapU.loc[d_hapU[\"year/month\"] == '1996- 7'],\n",
    "         d_hapU.loc[d_hapU[\"year/month\"] == '1997- 7'],\n",
    "         d_hapU.loc[d_hapU[\"year/month\"] == '1998- 7'],\n",
    "         d_hapU.loc[d_hapU[\"year/month\"] == '1999- 7'],\n",
    "         d_hapU.loc[d_hapU[\"year/month\"] == '2000-7'],\n",
    "         d_hapU.loc[d_hapU[\"year/month\"] == '2001-7'],\n",
    "         d_hapU.loc[d_hapU[\"year/month\"] == '2002-7'],\n",
    "         d_hapU.loc[d_hapU[\"year/month\"] == '2003-7'],\n",
    "         d_hapU.loc[d_hapU[\"year/month\"] == '2004-7'],\n",
    "         d_hapU.loc[d_hapU[\"year/month\"] == '2005-7'],\n",
    "         d_hapU.loc[d_hapU[\"year/month\"] == '2006-7'],\n",
    "         d_hapU.loc[d_hapU[\"year/month\"] == '2007-7'],\n",
    "         d_hapU.loc[d_hapU[\"year/month\"] == '2008-7'],\n",
    "         d_hapU.loc[d_hapU[\"year/month\"] == '2009-7'],\n",
    "         d_hapU.loc[d_hapU[\"year/month\"] == '2010-7'],\n",
    "         d_hapU.loc[d_hapU[\"year/month\"] == '2011-7'],\n",
    "         d_hapU.loc[d_hapU[\"year/month\"] == '2012-7'],\n",
    "         d_hapU.loc[d_hapU[\"year/month\"] == '2013-7'],\n",
    "         d_hapU.loc[d_hapU[\"year/month\"] == '2014-7'],\n",
    "         d_hapU.loc[d_hapU[\"year/month\"] == '2015-7'],\n",
    "         d_hapU.loc[d_hapU[\"year/month\"] == '2016-7'],\n",
    "         d_hapU.loc[d_hapU[\"year/month\"] == '2017-7'],\n",
    "         d_hapU.loc[d_hapU[\"year/month\"] == '2018-7'],\n",
    "         d_hapU.loc[d_hapU[\"year/month\"] == '2019-7'],\n",
    "         d_hapU.loc[d_hapU[\"year/month\"] == '2020-7']]\n",
    "\n",
    "df_jul = pd.concat(data7, axis=0  )\n",
    "df_jul.head()\n",
    "\n",
    "df_jul['year/month'] = pd.to_datetime(df_jul['year/month'])\n",
    "df_jul.set_index('year/month' , inplace=True)\n",
    "analysis7 = df_jul[\"Mean\"].copy()\n",
    "decompose_res_mult = seasonal_decompose(analysis7  )\n",
    "decompose_res_mult.trend.plot()"
   ]
  },
  {
   "cell_type": "code",
   "execution_count": null,
   "id": "7f70643a",
   "metadata": {},
   "outputs": [],
   "source": []
  },
  {
   "cell_type": "markdown",
   "id": "c7126386",
   "metadata": {},
   "source": [
    "AUG"
   ]
  },
  {
   "cell_type": "code",
   "execution_count": null,
   "id": "48b96a5e",
   "metadata": {},
   "outputs": [],
   "source": []
  },
  {
   "cell_type": "code",
   "execution_count": 12,
   "id": "9a1080be",
   "metadata": {},
   "outputs": [
    {
     "data": {
      "text/plain": [
       "<AxesSubplot:xlabel='year/month'>"
      ]
     },
     "execution_count": 12,
     "metadata": {},
     "output_type": "execute_result"
    },
    {
     "data": {
      "image/png": "[encoded data removed]",
      "text/plain": [
       "<Figure size 432x288 with 1 Axes>"
      ]
     },
     "metadata": {
      "needs_background": "light"
     },
     "output_type": "display_data"
    }
   ],
   "source": [
    "data8 = [d_hapU.loc[d_hapU[\"year/month\"] == '1989- 8'],\n",
    "         d_hapU.loc[d_hapU[\"year/month\"] == '1990- 8'],\n",
    "         d_hapU.loc[d_hapU[\"year/month\"] == '1991- 8'],\n",
    "         d_hapU.loc[d_hapU[\"year/month\"] == '1992- 8'],\n",
    "         d_hapU.loc[d_hapU[\"year/month\"] == '1993- 8'],\n",
    "         d_hapU.loc[d_hapU[\"year/month\"] == '1994- 8'],\n",
    "         d_hapU.loc[d_hapU[\"year/month\"] == '1995- 8'],\n",
    "         d_hapU.loc[d_hapU[\"year/month\"] == '1996- 8'],\n",
    "         d_hapU.loc[d_hapU[\"year/month\"] == '1997- 8'],\n",
    "         d_hapU.loc[d_hapU[\"year/month\"] == '1998- 8'],\n",
    "         d_hapU.loc[d_hapU[\"year/month\"] == '1999- 8'],\n",
    "         d_hapU.loc[d_hapU[\"year/month\"] == '2000-8'],\n",
    "         d_hapU.loc[d_hapU[\"year/month\"] == '2001-8'],\n",
    "         d_hapU.loc[d_hapU[\"year/month\"] == '2002-8'],\n",
    "         d_hapU.loc[d_hapU[\"year/month\"] == '2003-8'],\n",
    "         d_hapU.loc[d_hapU[\"year/month\"] == '2004-8'],\n",
    "         d_hapU.loc[d_hapU[\"year/month\"] == '2005-8'],\n",
    "         d_hapU.loc[d_hapU[\"year/month\"] == '2006-8'],\n",
    "         d_hapU.loc[d_hapU[\"year/month\"] == '2007-8'],\n",
    "         d_hapU.loc[d_hapU[\"year/month\"] == '2008-8'],\n",
    "         d_hapU.loc[d_hapU[\"year/month\"] == '2009-8'],\n",
    "         d_hapU.loc[d_hapU[\"year/month\"] == '2010-8'],\n",
    "         d_hapU.loc[d_hapU[\"year/month\"] == '2011-8'],\n",
    "         d_hapU.loc[d_hapU[\"year/month\"] == '2012-8'],\n",
    "         d_hapU.loc[d_hapU[\"year/month\"] == '2013-8'],\n",
    "         d_hapU.loc[d_hapU[\"year/month\"] == '2014-8'],\n",
    "         d_hapU.loc[d_hapU[\"year/month\"] == '2015-8'],\n",
    "         d_hapU.loc[d_hapU[\"year/month\"] == '2016-8'],\n",
    "         d_hapU.loc[d_hapU[\"year/month\"] == '2017-8'],\n",
    "         d_hapU.loc[d_hapU[\"year/month\"] == '2018-8'],\n",
    "         d_hapU.loc[d_hapU[\"year/month\"] == '2019-8'],\n",
    "         d_hapU.loc[d_hapU[\"year/month\"] == '2020-8']]\n",
    "\n",
    "df_aug = pd.concat(data8, axis=0  )\n",
    "df_aug.head()\n",
    "\n",
    "df_aug['year/month'] = pd.to_datetime(df_aug['year/month'])\n",
    "df_aug.set_index('year/month' , inplace=True)\n",
    "analysis8 = df_aug[\"Mean\"].copy()\n",
    "decompose_res_mult = seasonal_decompose(analysis8  )\n",
    "decompose_res_mult.trend.plot()\n"
   ]
  },
  {
   "cell_type": "code",
   "execution_count": null,
   "id": "02f439a0",
   "metadata": {},
   "outputs": [],
   "source": []
  },
  {
   "cell_type": "markdown",
   "id": "59fd950f",
   "metadata": {},
   "source": [
    "SEP"
   ]
  },
  {
   "cell_type": "code",
   "execution_count": null,
   "id": "5c81ebe2",
   "metadata": {},
   "outputs": [],
   "source": []
  },
  {
   "cell_type": "code",
   "execution_count": 13,
   "id": "096ec2ba",
   "metadata": {},
   "outputs": [
    {
     "data": {
      "text/plain": [
       "<AxesSubplot:xlabel='year/month'>"
      ]
     },
     "execution_count": 13,
     "metadata": {},
     "output_type": "execute_result"
    },
    {
     "data": {
      "image/png": "[encoded data removed]",
      "text/plain": [
       "<Figure size 432x288 with 1 Axes>"
      ]
     },
     "metadata": {
      "needs_background": "light"
     },
     "output_type": "display_data"
    }
   ],
   "source": [
    "data9 = [d_hapU.loc[d_hapU[\"year/month\"] == '1989- 9'],\n",
    "         d_hapU.loc[d_hapU[\"year/month\"] == '1990- 9'],\n",
    "         d_hapU.loc[d_hapU[\"year/month\"] == '1991- 9'],\n",
    "         d_hapU.loc[d_hapU[\"year/month\"] == '1992- 9'],\n",
    "         d_hapU.loc[d_hapU[\"year/month\"] == '1993- 9'],\n",
    "         d_hapU.loc[d_hapU[\"year/month\"] == '1994- 9'],\n",
    "         d_hapU.loc[d_hapU[\"year/month\"] == '1995- 9'],\n",
    "         d_hapU.loc[d_hapU[\"year/month\"] == '1996- 9'],\n",
    "         d_hapU.loc[d_hapU[\"year/month\"] == '1997- 9'],\n",
    "         d_hapU.loc[d_hapU[\"year/month\"] == '1998- 9'],\n",
    "         d_hapU.loc[d_hapU[\"year/month\"] == '1999- 9'],\n",
    "         d_hapU.loc[d_hapU[\"year/month\"] == '2000-9'],\n",
    "         d_hapU.loc[d_hapU[\"year/month\"] == '2001-9'],\n",
    "         d_hapU.loc[d_hapU[\"year/month\"] == '2002-9'],\n",
    "         d_hapU.loc[d_hapU[\"year/month\"] == '2003-9'],\n",
    "         d_hapU.loc[d_hapU[\"year/month\"] == '2004-9'],\n",
    "         d_hapU.loc[d_hapU[\"year/month\"] == '2005-9'],\n",
    "         d_hapU.loc[d_hapU[\"year/month\"] == '2006-9'],\n",
    "         d_hapU.loc[d_hapU[\"year/month\"] == '2007-9'],\n",
    "         d_hapU.loc[d_hapU[\"year/month\"] == '2008-9'],\n",
    "         d_hapU.loc[d_hapU[\"year/month\"] == '2009-9'],\n",
    "         d_hapU.loc[d_hapU[\"year/month\"] == '2010-9'],\n",
    "         d_hapU.loc[d_hapU[\"year/month\"] == '2011-9'],\n",
    "         d_hapU.loc[d_hapU[\"year/month\"] == '2012-9'],\n",
    "         d_hapU.loc[d_hapU[\"year/month\"] == '2013-9'],\n",
    "         d_hapU.loc[d_hapU[\"year/month\"] == '2014-9'],\n",
    "         d_hapU.loc[d_hapU[\"year/month\"] == '2015-9'],\n",
    "         d_hapU.loc[d_hapU[\"year/month\"] == '2016-9'],\n",
    "         d_hapU.loc[d_hapU[\"year/month\"] == '2017-9'],\n",
    "         d_hapU.loc[d_hapU[\"year/month\"] == '2018-9'],\n",
    "         d_hapU.loc[d_hapU[\"year/month\"] == '2019-9'],\n",
    "         d_hapU.loc[d_hapU[\"year/month\"] == '2020-9']]\n",
    "\n",
    "df_sep = pd.concat(data9, axis=0  )\n",
    "df_sep.head()\n",
    "\n",
    "df_sep['year/month'] = pd.to_datetime(df_sep['year/month'])\n",
    "df_sep.set_index('year/month' , inplace=True)\n",
    "analysis9 = df_sep[\"Mean\"].copy()\n",
    "decompose_res_mult = seasonal_decompose(analysis9  )\n",
    "decompose_res_mult.trend.plot()"
   ]
  },
  {
   "cell_type": "code",
   "execution_count": null,
   "id": "5ef20b0c",
   "metadata": {},
   "outputs": [],
   "source": []
  },
  {
   "cell_type": "markdown",
   "id": "686a21ae",
   "metadata": {},
   "source": [
    "OCT"
   ]
  },
  {
   "cell_type": "code",
   "execution_count": null,
   "id": "17064fbd",
   "metadata": {},
   "outputs": [],
   "source": []
  },
  {
   "cell_type": "code",
   "execution_count": 14,
   "id": "8b5a2647",
   "metadata": {},
   "outputs": [
    {
     "data": {
      "text/plain": [
       "<AxesSubplot:xlabel='year/month'>"
      ]
     },
     "execution_count": 14,
     "metadata": {},
     "output_type": "execute_result"
    },
    {
     "data": {
      "image/png": "[encoded data removed]",
      "text/plain": [
       "<Figure size 432x288 with 1 Axes>"
      ]
     },
     "metadata": {
      "needs_background": "light"
     },
     "output_type": "display_data"
    }
   ],
   "source": [
    "data10 = [d_hapU.loc[d_hapU[\"year/month\"] == '1989-10'],\n",
    "         d_hapU.loc[d_hapU[\"year/month\"] == '1990-10'],\n",
    "         d_hapU.loc[d_hapU[\"year/month\"] == '1991-10'],\n",
    "         d_hapU.loc[d_hapU[\"year/month\"] == '1992-10'],\n",
    "         d_hapU.loc[d_hapU[\"year/month\"] == '1993-10'],\n",
    "         d_hapU.loc[d_hapU[\"year/month\"] == '1994-10'],\n",
    "         d_hapU.loc[d_hapU[\"year/month\"] == '1995-10'],\n",
    "         d_hapU.loc[d_hapU[\"year/month\"] == '1996-10'],\n",
    "         d_hapU.loc[d_hapU[\"year/month\"] == '1997-10'],\n",
    "         d_hapU.loc[d_hapU[\"year/month\"] == '1998-10'],\n",
    "         d_hapU.loc[d_hapU[\"year/month\"] == '1999-10'],\n",
    "         d_hapU.loc[d_hapU[\"year/month\"] == '2000-10'],\n",
    "         d_hapU.loc[d_hapU[\"year/month\"] == '2001-10'],\n",
    "         d_hapU.loc[d_hapU[\"year/month\"] == '2002-10'],\n",
    "         d_hapU.loc[d_hapU[\"year/month\"] == '2003-10'],\n",
    "         d_hapU.loc[d_hapU[\"year/month\"] == '2004-10'],\n",
    "         d_hapU.loc[d_hapU[\"year/month\"] == '2005-10'],\n",
    "         d_hapU.loc[d_hapU[\"year/month\"] == '2006-10'],\n",
    "         d_hapU.loc[d_hapU[\"year/month\"] == '2007-10'],\n",
    "         d_hapU.loc[d_hapU[\"year/month\"] == '2008-10'],\n",
    "         d_hapU.loc[d_hapU[\"year/month\"] == '2009-10'],\n",
    "         d_hapU.loc[d_hapU[\"year/month\"] == '2010-10'],\n",
    "         d_hapU.loc[d_hapU[\"year/month\"] == '2011-10'],\n",
    "         d_hapU.loc[d_hapU[\"year/month\"] == '2012-10'],\n",
    "         d_hapU.loc[d_hapU[\"year/month\"] == '2013-10'],\n",
    "         d_hapU.loc[d_hapU[\"year/month\"] == '2014-10'],\n",
    "         d_hapU.loc[d_hapU[\"year/month\"] == '2015-10'],\n",
    "         d_hapU.loc[d_hapU[\"year/month\"] == '2016-10'],\n",
    "         d_hapU.loc[d_hapU[\"year/month\"] == '2017-10'],\n",
    "         d_hapU.loc[d_hapU[\"year/month\"] == '2018-10'],\n",
    "         d_hapU.loc[d_hapU[\"year/month\"] == '2019-10'],\n",
    "         d_hapU.loc[d_hapU[\"year/month\"] == '2020-10']]\n",
    "\n",
    "df_oct = pd.concat(data10, axis=0  )\n",
    "\n",
    "\n",
    "df_oct['year/month'] = pd.to_datetime(df_oct['year/month'])\n",
    "df_oct.set_index('year/month' , inplace=True)\n",
    "analysis10 = df_oct[\"Mean\"].copy()\n",
    "decompose_res_mult = seasonal_decompose(analysis10  )\n",
    "decompose_res_mult.trend.plot()\n"
   ]
  },
  {
   "cell_type": "code",
   "execution_count": null,
   "id": "500591d4",
   "metadata": {},
   "outputs": [],
   "source": []
  },
  {
   "cell_type": "markdown",
   "id": "92831b23",
   "metadata": {},
   "source": [
    "NOV"
   ]
  },
  {
   "cell_type": "code",
   "execution_count": null,
   "id": "6cdf8042",
   "metadata": {},
   "outputs": [],
   "source": []
  },
  {
   "cell_type": "code",
   "execution_count": 15,
   "id": "a1f81cf2",
   "metadata": {},
   "outputs": [
    {
     "data": {
      "text/plain": [
       "<AxesSubplot:xlabel='year/month'>"
      ]
     },
     "execution_count": 15,
     "metadata": {},
     "output_type": "execute_result"
    },
    {
     "data": {
      "image/png": "[encoded data removed]",
      "text/plain": [
       "<Figure size 432x288 with 1 Axes>"
      ]
     },
     "metadata": {
      "needs_background": "light"
     },
     "output_type": "display_data"
    }
   ],
   "source": [
    "data11 = [d_hapU.loc[d_hapU[\"year/month\"] == '1989-11'],\n",
    "         d_hapU.loc[d_hapU[\"year/month\"] == '1990-11'],\n",
    "         d_hapU.loc[d_hapU[\"year/month\"] == '1991-11'],\n",
    "         d_hapU.loc[d_hapU[\"year/month\"] == '1992-11'],\n",
    "         d_hapU.loc[d_hapU[\"year/month\"] == '1993-11'],\n",
    "         d_hapU.loc[d_hapU[\"year/month\"] == '1994-11'],\n",
    "         d_hapU.loc[d_hapU[\"year/month\"] == '1995-11'],\n",
    "         d_hapU.loc[d_hapU[\"year/month\"] == '1996-11'],\n",
    "         d_hapU.loc[d_hapU[\"year/month\"] == '1997-11'],\n",
    "         d_hapU.loc[d_hapU[\"year/month\"] == '1998-11'],\n",
    "         d_hapU.loc[d_hapU[\"year/month\"] == '1999-11'],\n",
    "         d_hapU.loc[d_hapU[\"year/month\"] == '2000-11'],\n",
    "         d_hapU.loc[d_hapU[\"year/month\"] == '2001-11'],\n",
    "         d_hapU.loc[d_hapU[\"year/month\"] == '2002-11'],\n",
    "         d_hapU.loc[d_hapU[\"year/month\"] == '2003-11'],\n",
    "         d_hapU.loc[d_hapU[\"year/month\"] == '2004-11'],\n",
    "         d_hapU.loc[d_hapU[\"year/month\"] == '2005-11'],\n",
    "         d_hapU.loc[d_hapU[\"year/month\"] == '2006-11'],\n",
    "         d_hapU.loc[d_hapU[\"year/month\"] == '2007-11'],\n",
    "         d_hapU.loc[d_hapU[\"year/month\"] == '2008-11'],\n",
    "         d_hapU.loc[d_hapU[\"year/month\"] == '2009-11'],\n",
    "         d_hapU.loc[d_hapU[\"year/month\"] == '2010-11'],\n",
    "         d_hapU.loc[d_hapU[\"year/month\"] == '2011-11'],\n",
    "         d_hapU.loc[d_hapU[\"year/month\"] == '2012-11'],\n",
    "         d_hapU.loc[d_hapU[\"year/month\"] == '2013-11'],\n",
    "         d_hapU.loc[d_hapU[\"year/month\"] == '2014-11'],\n",
    "         d_hapU.loc[d_hapU[\"year/month\"] == '2015-11'],\n",
    "         d_hapU.loc[d_hapU[\"year/month\"] == '2016-11'],\n",
    "         d_hapU.loc[d_hapU[\"year/month\"] == '2017-11'],\n",
    "         d_hapU.loc[d_hapU[\"year/month\"] == '2018-11'],\n",
    "         d_hapU.loc[d_hapU[\"year/month\"] == '2019-11'],\n",
    "         d_hapU.loc[d_hapU[\"year/month\"] == '2020-11']]\n",
    "\n",
    "df_nov = pd.concat(data11, axis=0  )\n",
    "\n",
    "\n",
    "df_nov['year/month'] = pd.to_datetime(df_nov['year/month'])\n",
    "df_nov.set_index('year/month' , inplace=True)\n",
    "analysis11 = df_nov[\"Mean\"].copy()\n",
    "decompose_res_mult = seasonal_decompose(analysis11  )\n",
    "decompose_res_mult.trend.plot()"
   ]
  },
  {
   "cell_type": "code",
   "execution_count": null,
   "id": "a2aa499c",
   "metadata": {},
   "outputs": [],
   "source": []
  },
  {
   "cell_type": "markdown",
   "id": "e7db0b47",
   "metadata": {},
   "source": [
    "DEC"
   ]
  },
  {
   "cell_type": "code",
   "execution_count": null,
   "id": "0f2ebc35",
   "metadata": {},
   "outputs": [],
   "source": []
  },
  {
   "cell_type": "code",
   "execution_count": 16,
   "id": "4af25bbb",
   "metadata": {},
   "outputs": [
    {
     "data": {
      "text/plain": [
       "<AxesSubplot:xlabel='year/month'>"
      ]
     },
     "execution_count": 16,
     "metadata": {},
     "output_type": "execute_result"
    },
    {
     "data": {
      "image/png": "[encoded data removed]",
      "text/plain": [
       "<Figure size 432x288 with 1 Axes>"
      ]
     },
     "metadata": {
      "needs_background": "light"
     },
     "output_type": "display_data"
    }
   ],
   "source": [
    "data12 = [d_hapU.loc[d_hapU[\"year/month\"] == '1989-12'],\n",
    "         d_hapU.loc[d_hapU[\"year/month\"] == '1990-12'],\n",
    "         d_hapU.loc[d_hapU[\"year/month\"] == '1991-12'],\n",
    "         d_hapU.loc[d_hapU[\"year/month\"] == '1992-12'],\n",
    "         d_hapU.loc[d_hapU[\"year/month\"] == '1993-12'],\n",
    "         d_hapU.loc[d_hapU[\"year/month\"] == '1994-12'],\n",
    "         d_hapU.loc[d_hapU[\"year/month\"] == '1995-12'],\n",
    "         d_hapU.loc[d_hapU[\"year/month\"] == '1996-12'],\n",
    "         d_hapU.loc[d_hapU[\"year/month\"] == '1997-12'],\n",
    "         d_hapU.loc[d_hapU[\"year/month\"] == '1998-12'],\n",
    "         d_hapU.loc[d_hapU[\"year/month\"] == '1999-12'],\n",
    "         d_hapU.loc[d_hapU[\"year/month\"] == '2000-12'],\n",
    "         d_hapU.loc[d_hapU[\"year/month\"] == '2001-12'],\n",
    "         d_hapU.loc[d_hapU[\"year/month\"] == '2002-12'],\n",
    "         d_hapU.loc[d_hapU[\"year/month\"] == '2003-12'],\n",
    "         d_hapU.loc[d_hapU[\"year/month\"] == '2004-12'],\n",
    "         d_hapU.loc[d_hapU[\"year/month\"] == '2005-12'],\n",
    "         d_hapU.loc[d_hapU[\"year/month\"] == '2006-12'],\n",
    "         d_hapU.loc[d_hapU[\"year/month\"] == '2007-12'],\n",
    "         d_hapU.loc[d_hapU[\"year/month\"] == '2008-12'],\n",
    "         d_hapU.loc[d_hapU[\"year/month\"] == '2009-12'],\n",
    "         d_hapU.loc[d_hapU[\"year/month\"] == '2010-12'],\n",
    "         d_hapU.loc[d_hapU[\"year/month\"] == '2011-12'],\n",
    "         d_hapU.loc[d_hapU[\"year/month\"] == '2012-12'],\n",
    "         d_hapU.loc[d_hapU[\"year/month\"] == '2013-12'],\n",
    "         d_hapU.loc[d_hapU[\"year/month\"] == '2014-12'],\n",
    "         d_hapU.loc[d_hapU[\"year/month\"] == '2015-12'],\n",
    "         d_hapU.loc[d_hapU[\"year/month\"] == '2016-12'],\n",
    "         d_hapU.loc[d_hapU[\"year/month\"] == '2017-12'],\n",
    "         d_hapU.loc[d_hapU[\"year/month\"] == '2018-12'],\n",
    "         d_hapU.loc[d_hapU[\"year/month\"] == '2019-12'],\n",
    "         d_hapU.loc[d_hapU[\"year/month\"] == '2020-12']]\n",
    "\n",
    "df_dec = pd.concat(data12, axis=0  )\n",
    "\n",
    "\n",
    "\n",
    "df_dec['year/month'] = pd.to_datetime(df_dec['year/month'])\n",
    "df_dec.set_index('year/month' , inplace=True)\n",
    "analysis12 = df_dec[\"Mean\"].copy()\n",
    "decompose_res_mult = seasonal_decompose(analysis12  )\n",
    "decompose_res_mult.trend.plot()"
   ]
  },
  {
   "cell_type": "code",
   "execution_count": null,
   "id": "dd8c6f05",
   "metadata": {},
   "outputs": [],
   "source": []
  }
 ],
 "metadata": {
  "kernelspec": {
   "display_name": "Python 3",
   "language": "python",
   "name": "python3"
  },
  "language_info": {
   "codemirror_mode": {
    "name": "ipython",
    "version": 3
   },
   "file_extension": ".py",
   "mimetype": "text/x-python",
   "name": "python",
   "nbconvert_exporter": "python",
   "pygments_lexer": "ipython3",
   "version": "3.8.8"
  }
 },
 "nbformat": 4,
 "nbformat_minor": 5
}
