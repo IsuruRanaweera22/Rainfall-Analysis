{
 "cells": [
  {
   "cell_type": "code",
   "execution_count": 1,
   "id": "03230d64",
   "metadata": {},
   "outputs": [],
   "source": [
    "import pandas as pd\n",
    "import matplotlib.pyplot as plt\n",
    "import numpy as np\n",
    "from statsmodels.tsa.seasonal import seasonal_decompose"
   ]
  },
  {
   "cell_type": "code",
   "execution_count": 2,
   "id": "7f8dd590",
   "metadata": {},
   "outputs": [
    {
     "data": {
      "text/html": [
       "<div>\n",
       "<style scoped>\n",
       "    .dataframe tbody tr th:only-of-type {\n",
       "        vertical-align: middle;\n",
       "    }\n",
       "\n",
       "    .dataframe tbody tr th {\n",
       "        vertical-align: top;\n",
       "    }\n",
       "\n",
       "    .dataframe thead th {\n",
       "        text-align: right;\n",
       "    }\n",
       "</style>\n",
       "<table border=\"1\" class=\"dataframe\">\n",
       "  <thead>\n",
       "    <tr style=\"text-align: right;\">\n",
       "      <th></th>\n",
       "      <th>year/month</th>\n",
       "      <th>1</th>\n",
       "      <th>2</th>\n",
       "      <th>3</th>\n",
       "      <th>4</th>\n",
       "      <th>5</th>\n",
       "      <th>6</th>\n",
       "      <th>7</th>\n",
       "      <th>8</th>\n",
       "      <th>9</th>\n",
       "      <th>...</th>\n",
       "      <th>Unnamed: 39</th>\n",
       "      <th>Unnamed: 40</th>\n",
       "      <th>seayear_1</th>\n",
       "      <th>seamean_1</th>\n",
       "      <th>seayear_2</th>\n",
       "      <th>seamean_2</th>\n",
       "      <th>seayear_3</th>\n",
       "      <th>seamean_3</th>\n",
       "      <th>seayear_4</th>\n",
       "      <th>seamean_4</th>\n",
       "    </tr>\n",
       "  </thead>\n",
       "  <tbody>\n",
       "    <tr>\n",
       "      <th>0</th>\n",
       "      <td>1989- 1</td>\n",
       "      <td>6.400000</td>\n",
       "      <td>5.600000</td>\n",
       "      <td>7.100000</td>\n",
       "      <td>15.200000</td>\n",
       "      <td>9.900000</td>\n",
       "      <td>1.800000</td>\n",
       "      <td>2.800000</td>\n",
       "      <td>15.200000</td>\n",
       "      <td>1.800000</td>\n",
       "      <td>...</td>\n",
       "      <td>NaN</td>\n",
       "      <td>NaN</td>\n",
       "      <td>1989.0</td>\n",
       "      <td>1.832258</td>\n",
       "      <td>1989.0</td>\n",
       "      <td>3.120000</td>\n",
       "      <td>1989.0</td>\n",
       "      <td>11.220968</td>\n",
       "      <td>1989.0</td>\n",
       "      <td>7.935484</td>\n",
       "    </tr>\n",
       "    <tr>\n",
       "      <th>1</th>\n",
       "      <td>1989- 2</td>\n",
       "      <td>1.000000</td>\n",
       "      <td>0.000000</td>\n",
       "      <td>0.000000</td>\n",
       "      <td>0.000000</td>\n",
       "      <td>0.000000</td>\n",
       "      <td>0.000000</td>\n",
       "      <td>0.000000</td>\n",
       "      <td>0.000000</td>\n",
       "      <td>0.000000</td>\n",
       "      <td>...</td>\n",
       "      <td>NaN</td>\n",
       "      <td>NaN</td>\n",
       "      <td>1990.0</td>\n",
       "      <td>5.667742</td>\n",
       "      <td>1990.0</td>\n",
       "      <td>1.840000</td>\n",
       "      <td>1990.0</td>\n",
       "      <td>8.583871</td>\n",
       "      <td>1990.0</td>\n",
       "      <td>10.947312</td>\n",
       "    </tr>\n",
       "    <tr>\n",
       "      <th>2</th>\n",
       "      <td>1989- 3</td>\n",
       "      <td>0.000000</td>\n",
       "      <td>0.000000</td>\n",
       "      <td>0.000000</td>\n",
       "      <td>0.000000</td>\n",
       "      <td>0.000000</td>\n",
       "      <td>1.300000</td>\n",
       "      <td>0.000000</td>\n",
       "      <td>0.000000</td>\n",
       "      <td>21.100000</td>\n",
       "      <td>...</td>\n",
       "      <td>NaN</td>\n",
       "      <td>NaN</td>\n",
       "      <td>1991.0</td>\n",
       "      <td>3.719355</td>\n",
       "      <td>1991.0</td>\n",
       "      <td>2.158065</td>\n",
       "      <td>1991.0</td>\n",
       "      <td>7.850000</td>\n",
       "      <td>1991.0</td>\n",
       "      <td>7.944086</td>\n",
       "    </tr>\n",
       "    <tr>\n",
       "      <th>3</th>\n",
       "      <td>1989- 4</td>\n",
       "      <td>0.000000</td>\n",
       "      <td>0.000000</td>\n",
       "      <td>5.800000</td>\n",
       "      <td>0.000000</td>\n",
       "      <td>0.000000</td>\n",
       "      <td>0.000000</td>\n",
       "      <td>0.000000</td>\n",
       "      <td>1.800000</td>\n",
       "      <td>1.800000</td>\n",
       "      <td>...</td>\n",
       "      <td>NaN</td>\n",
       "      <td>NaN</td>\n",
       "      <td>1992.0</td>\n",
       "      <td>1.540323</td>\n",
       "      <td>1992.0</td>\n",
       "      <td>1.065806</td>\n",
       "      <td>1992.0</td>\n",
       "      <td>11.962903</td>\n",
       "      <td>1992.0</td>\n",
       "      <td>5.913978</td>\n",
       "    </tr>\n",
       "    <tr>\n",
       "      <th>4</th>\n",
       "      <td>1989- 5</td>\n",
       "      <td>2.300000</td>\n",
       "      <td>0.000000</td>\n",
       "      <td>13.000000</td>\n",
       "      <td>0.000000</td>\n",
       "      <td>6.600000</td>\n",
       "      <td>15.800000</td>\n",
       "      <td>7.900000</td>\n",
       "      <td>31.200000</td>\n",
       "      <td>0.000000</td>\n",
       "      <td>...</td>\n",
       "      <td>NaN</td>\n",
       "      <td>NaN</td>\n",
       "      <td>1993.0</td>\n",
       "      <td>2.527650</td>\n",
       "      <td>1993.0</td>\n",
       "      <td>1.740000</td>\n",
       "      <td>1993.0</td>\n",
       "      <td>8.987097</td>\n",
       "      <td>1993.0</td>\n",
       "      <td>8.549462</td>\n",
       "    </tr>\n",
       "    <tr>\n",
       "      <th>...</th>\n",
       "      <td>...</td>\n",
       "      <td>...</td>\n",
       "      <td>...</td>\n",
       "      <td>...</td>\n",
       "      <td>...</td>\n",
       "      <td>...</td>\n",
       "      <td>...</td>\n",
       "      <td>...</td>\n",
       "      <td>...</td>\n",
       "      <td>...</td>\n",
       "      <td>...</td>\n",
       "      <td>...</td>\n",
       "      <td>...</td>\n",
       "      <td>...</td>\n",
       "      <td>...</td>\n",
       "      <td>...</td>\n",
       "      <td>...</td>\n",
       "      <td>...</td>\n",
       "      <td>...</td>\n",
       "      <td>...</td>\n",
       "      <td>...</td>\n",
       "    </tr>\n",
       "    <tr>\n",
       "      <th>271</th>\n",
       "      <td>2011-8</td>\n",
       "      <td>1.363636</td>\n",
       "      <td>0.018182</td>\n",
       "      <td>1.645455</td>\n",
       "      <td>0.909091</td>\n",
       "      <td>0.363636</td>\n",
       "      <td>0.472727</td>\n",
       "      <td>2.427273</td>\n",
       "      <td>3.381818</td>\n",
       "      <td>1.045455</td>\n",
       "      <td>...</td>\n",
       "      <td>NaN</td>\n",
       "      <td>NaN</td>\n",
       "      <td>NaN</td>\n",
       "      <td>NaN</td>\n",
       "      <td>NaN</td>\n",
       "      <td>NaN</td>\n",
       "      <td>NaN</td>\n",
       "      <td>NaN</td>\n",
       "      <td>NaN</td>\n",
       "      <td>NaN</td>\n",
       "    </tr>\n",
       "    <tr>\n",
       "      <th>272</th>\n",
       "      <td>2011-9</td>\n",
       "      <td>0.090909</td>\n",
       "      <td>0.145455</td>\n",
       "      <td>6.636364</td>\n",
       "      <td>0.845455</td>\n",
       "      <td>0.500000</td>\n",
       "      <td>2.427273</td>\n",
       "      <td>5.872727</td>\n",
       "      <td>5.436364</td>\n",
       "      <td>1.327273</td>\n",
       "      <td>...</td>\n",
       "      <td>NaN</td>\n",
       "      <td>NaN</td>\n",
       "      <td>NaN</td>\n",
       "      <td>NaN</td>\n",
       "      <td>NaN</td>\n",
       "      <td>NaN</td>\n",
       "      <td>NaN</td>\n",
       "      <td>NaN</td>\n",
       "      <td>NaN</td>\n",
       "      <td>NaN</td>\n",
       "    </tr>\n",
       "    <tr>\n",
       "      <th>273</th>\n",
       "      <td>2011-10</td>\n",
       "      <td>4.245455</td>\n",
       "      <td>5.363636</td>\n",
       "      <td>0.409091</td>\n",
       "      <td>4.227273</td>\n",
       "      <td>4.909091</td>\n",
       "      <td>1.927273</td>\n",
       "      <td>4.727273</td>\n",
       "      <td>2.409091</td>\n",
       "      <td>0.454545</td>\n",
       "      <td>...</td>\n",
       "      <td>NaN</td>\n",
       "      <td>NaN</td>\n",
       "      <td>NaN</td>\n",
       "      <td>NaN</td>\n",
       "      <td>NaN</td>\n",
       "      <td>NaN</td>\n",
       "      <td>NaN</td>\n",
       "      <td>NaN</td>\n",
       "      <td>NaN</td>\n",
       "      <td>NaN</td>\n",
       "    </tr>\n",
       "    <tr>\n",
       "      <th>274</th>\n",
       "      <td>2011-11</td>\n",
       "      <td>12.227273</td>\n",
       "      <td>19.636364</td>\n",
       "      <td>21.081818</td>\n",
       "      <td>12.890909</td>\n",
       "      <td>9.990909</td>\n",
       "      <td>11.709091</td>\n",
       "      <td>20.445455</td>\n",
       "      <td>10.090909</td>\n",
       "      <td>13.227273</td>\n",
       "      <td>...</td>\n",
       "      <td>NaN</td>\n",
       "      <td>NaN</td>\n",
       "      <td>NaN</td>\n",
       "      <td>NaN</td>\n",
       "      <td>NaN</td>\n",
       "      <td>NaN</td>\n",
       "      <td>NaN</td>\n",
       "      <td>NaN</td>\n",
       "      <td>NaN</td>\n",
       "      <td>NaN</td>\n",
       "    </tr>\n",
       "    <tr>\n",
       "      <th>275</th>\n",
       "      <td>2011-12</td>\n",
       "      <td>1.363636</td>\n",
       "      <td>0.018182</td>\n",
       "      <td>1.645455</td>\n",
       "      <td>0.909091</td>\n",
       "      <td>0.363636</td>\n",
       "      <td>0.472727</td>\n",
       "      <td>2.427273</td>\n",
       "      <td>3.381818</td>\n",
       "      <td>1.045455</td>\n",
       "      <td>...</td>\n",
       "      <td>NaN</td>\n",
       "      <td>NaN</td>\n",
       "      <td>NaN</td>\n",
       "      <td>NaN</td>\n",
       "      <td>NaN</td>\n",
       "      <td>NaN</td>\n",
       "      <td>NaN</td>\n",
       "      <td>NaN</td>\n",
       "      <td>NaN</td>\n",
       "      <td>NaN</td>\n",
       "    </tr>\n",
       "  </tbody>\n",
       "</table>\n",
       "<p>276 rows × 49 columns</p>\n",
       "</div>"
      ],
      "text/plain": [
       "    year/month          1          2          3          4         5  \\\n",
       "0      1989- 1   6.400000   5.600000   7.100000  15.200000  9.900000   \n",
       "1      1989- 2   1.000000   0.000000   0.000000   0.000000  0.000000   \n",
       "2      1989- 3   0.000000   0.000000   0.000000   0.000000  0.000000   \n",
       "3      1989- 4   0.000000   0.000000   5.800000   0.000000  0.000000   \n",
       "4      1989- 5   2.300000   0.000000  13.000000   0.000000  6.600000   \n",
       "..         ...        ...        ...        ...        ...       ...   \n",
       "271     2011-8   1.363636   0.018182   1.645455   0.909091  0.363636   \n",
       "272     2011-9   0.090909   0.145455   6.636364   0.845455  0.500000   \n",
       "273    2011-10   4.245455   5.363636   0.409091   4.227273  4.909091   \n",
       "274    2011-11  12.227273  19.636364  21.081818  12.890909  9.990909   \n",
       "275    2011-12   1.363636   0.018182   1.645455   0.909091  0.363636   \n",
       "\n",
       "             6          7          8          9  ...  Unnamed: 39  \\\n",
       "0     1.800000   2.800000  15.200000   1.800000  ...          NaN   \n",
       "1     0.000000   0.000000   0.000000   0.000000  ...          NaN   \n",
       "2     1.300000   0.000000   0.000000  21.100000  ...          NaN   \n",
       "3     0.000000   0.000000   1.800000   1.800000  ...          NaN   \n",
       "4    15.800000   7.900000  31.200000   0.000000  ...          NaN   \n",
       "..         ...        ...        ...        ...  ...          ...   \n",
       "271   0.472727   2.427273   3.381818   1.045455  ...          NaN   \n",
       "272   2.427273   5.872727   5.436364   1.327273  ...          NaN   \n",
       "273   1.927273   4.727273   2.409091   0.454545  ...          NaN   \n",
       "274  11.709091  20.445455  10.090909  13.227273  ...          NaN   \n",
       "275   0.472727   2.427273   3.381818   1.045455  ...          NaN   \n",
       "\n",
       "     Unnamed: 40  seayear_1  seamean_1  seayear_2  seamean_2  seayear_3  \\\n",
       "0            NaN     1989.0   1.832258     1989.0   3.120000     1989.0   \n",
       "1            NaN     1990.0   5.667742     1990.0   1.840000     1990.0   \n",
       "2            NaN     1991.0   3.719355     1991.0   2.158065     1991.0   \n",
       "3            NaN     1992.0   1.540323     1992.0   1.065806     1992.0   \n",
       "4            NaN     1993.0   2.527650     1993.0   1.740000     1993.0   \n",
       "..           ...        ...        ...        ...        ...        ...   \n",
       "271          NaN        NaN        NaN        NaN        NaN        NaN   \n",
       "272          NaN        NaN        NaN        NaN        NaN        NaN   \n",
       "273          NaN        NaN        NaN        NaN        NaN        NaN   \n",
       "274          NaN        NaN        NaN        NaN        NaN        NaN   \n",
       "275          NaN        NaN        NaN        NaN        NaN        NaN   \n",
       "\n",
       "     seamean_3  seayear_4  seamean_4  \n",
       "0    11.220968     1989.0   7.935484  \n",
       "1     8.583871     1990.0  10.947312  \n",
       "2     7.850000     1991.0   7.944086  \n",
       "3    11.962903     1992.0   5.913978  \n",
       "4     8.987097     1993.0   8.549462  \n",
       "..         ...        ...        ...  \n",
       "271        NaN        NaN        NaN  \n",
       "272        NaN        NaN        NaN  \n",
       "273        NaN        NaN        NaN  \n",
       "274        NaN        NaN        NaN  \n",
       "275        NaN        NaN        NaN  \n",
       "\n",
       "[276 rows x 49 columns]"
      ]
     },
     "execution_count": 2,
     "metadata": {},
     "output_type": "execute_result"
    }
   ],
   "source": [
    "d_gal = pd.read_excel(\"Galinda(89-2011).xls\" )\n",
    "d_gal"
   ]
  },
  {
   "cell_type": "code",
   "execution_count": null,
   "id": "1eae2368",
   "metadata": {},
   "outputs": [],
   "source": []
  },
  {
   "cell_type": "markdown",
   "id": "c4da8b3c",
   "metadata": {},
   "source": [
    "1st monsoon"
   ]
  },
  {
   "cell_type": "code",
   "execution_count": null,
   "id": "33bb5609",
   "metadata": {},
   "outputs": [],
   "source": []
  },
  {
   "cell_type": "code",
   "execution_count": 3,
   "id": "8b64dc2c",
   "metadata": {},
   "outputs": [],
   "source": [
    "a = d_gal['seayear_1']\n",
    "b = d_gal['seamean_1']\n",
    "\n",
    "dAnn = pd.concat([a,b] ,axis=1)\n",
    "\n",
    "dAnn['seayear_1'] = pd.to_datetime(dAnn.seayear_1 , format = '%Y')\n",
    "\n",
    "dAnn = dAnn.dropna()\n",
    "dAnn['seayear_1'] = pd.to_datetime(dAnn['seayear_1'])"
   ]
  },
  {
   "cell_type": "code",
   "execution_count": 4,
   "id": "f0caf8e5",
   "metadata": {},
   "outputs": [
    {
     "data": {
      "text/plain": [
       "<AxesSubplot:xlabel='seayear_1'>"
      ]
     },
     "execution_count": 4,
     "metadata": {},
     "output_type": "execute_result"
    },
    {
     "data": {
      "image/png": "[encoded data removed]",
      "text/plain": [
       "<Figure size 432x288 with 1 Axes>"
      ]
     },
     "metadata": {
      "needs_background": "light"
     },
     "output_type": "display_data"
    }
   ],
   "source": [
    "dAnn.set_index('seayear_1' , inplace=True)\n",
    "analysis1 = dAnn[\"seamean_1\"].copy()\n",
    "decompose_res_mult = seasonal_decompose(analysis1)\n",
    "decompose_res_mult.trend.plot()"
   ]
  },
  {
   "cell_type": "code",
   "execution_count": null,
   "id": "462c1541",
   "metadata": {},
   "outputs": [],
   "source": []
  },
  {
   "cell_type": "markdown",
   "id": "9d09f6a4",
   "metadata": {},
   "source": [
    "2nd monsoon"
   ]
  },
  {
   "cell_type": "code",
   "execution_count": null,
   "id": "35836b37",
   "metadata": {},
   "outputs": [],
   "source": []
  },
  {
   "cell_type": "code",
   "execution_count": 5,
   "id": "9ae83d38",
   "metadata": {},
   "outputs": [],
   "source": [
    "c = d_gal['seayear_2']\n",
    "d = d_gal['seamean_2']\n",
    "\n",
    "dAnn = pd.concat([c,d] ,axis=1)\n",
    "\n",
    "dAnn['seayear_2'] = pd.to_datetime(dAnn.seayear_2 , format = '%Y')\n",
    "\n",
    "dAnn = dAnn.dropna()\n",
    "dAnn['seayear_2'] = pd.to_datetime(dAnn['seayear_2'])"
   ]
  },
  {
   "cell_type": "code",
   "execution_count": 6,
   "id": "b42c194d",
   "metadata": {},
   "outputs": [
    {
     "data": {
      "text/plain": [
       "<AxesSubplot:xlabel='seayear_2'>"
      ]
     },
     "execution_count": 6,
     "metadata": {},
     "output_type": "execute_result"
    },
    {
     "data": {
      "image/png": "[encoded data removed]",
      "text/plain": [
       "<Figure size 432x288 with 1 Axes>"
      ]
     },
     "metadata": {
      "needs_background": "light"
     },
     "output_type": "display_data"
    }
   ],
   "source": [
    "dAnn.set_index('seayear_2' , inplace=True)\n",
    "analysis2 = dAnn[\"seamean_2\"].copy()\n",
    "decompose_res_mult = seasonal_decompose(analysis2)\n",
    "decompose_res_mult.trend.plot()"
   ]
  },
  {
   "cell_type": "code",
   "execution_count": null,
   "id": "46118cbe",
   "metadata": {},
   "outputs": [],
   "source": []
  },
  {
   "cell_type": "markdown",
   "id": "05ac4705",
   "metadata": {},
   "source": [
    "3rd monsoon"
   ]
  },
  {
   "cell_type": "code",
   "execution_count": null,
   "id": "9cb82767",
   "metadata": {},
   "outputs": [],
   "source": []
  },
  {
   "cell_type": "code",
   "execution_count": 7,
   "id": "50ed68ec",
   "metadata": {},
   "outputs": [],
   "source": [
    "e = d_gal['seayear_3']\n",
    "f = d_gal['seamean_3']\n",
    "\n",
    "dAnn = pd.concat([e,f] ,axis=1)\n",
    "\n",
    "dAnn['seayear_3'] = pd.to_datetime(dAnn.seayear_3 , format = '%Y')\n",
    "\n",
    "dAnn = dAnn.dropna()\n",
    "dAnn['seayear_3'] = pd.to_datetime(dAnn['seayear_3'])"
   ]
  },
  {
   "cell_type": "code",
   "execution_count": 8,
   "id": "3ec2f4f1",
   "metadata": {},
   "outputs": [
    {
     "data": {
      "text/plain": [
       "<AxesSubplot:xlabel='seayear_3'>"
      ]
     },
     "execution_count": 8,
     "metadata": {},
     "output_type": "execute_result"
    },
    {
     "data": {
      "image/png": "[encoded data removed]",
      "text/plain": [
       "<Figure size 432x288 with 1 Axes>"
      ]
     },
     "metadata": {
      "needs_background": "light"
     },
     "output_type": "display_data"
    }
   ],
   "source": [
    "dAnn.set_index('seayear_3' , inplace=True)\n",
    "analysis3 = dAnn[\"seamean_3\"].copy()\n",
    "decompose_res_mult = seasonal_decompose(analysis3)\n",
    "decompose_res_mult.trend.plot()"
   ]
  },
  {
   "cell_type": "code",
   "execution_count": null,
   "id": "1706362c",
   "metadata": {},
   "outputs": [],
   "source": []
  },
  {
   "cell_type": "markdown",
   "id": "04858887",
   "metadata": {},
   "source": [
    "4th monsoon"
   ]
  },
  {
   "cell_type": "code",
   "execution_count": null,
   "id": "953668e9",
   "metadata": {},
   "outputs": [],
   "source": []
  },
  {
   "cell_type": "code",
   "execution_count": 9,
   "id": "f7b811c0",
   "metadata": {},
   "outputs": [],
   "source": [
    "g = d_gal['seayear_4']\n",
    "h = d_gal['seamean_4']\n",
    "\n",
    "dAnn = pd.concat([g,h] ,axis=1)\n",
    "\n",
    "dAnn['seayear_4'] = pd.to_datetime(dAnn.seayear_4 , format = '%Y')\n",
    "\n",
    "dAnn = dAnn.dropna()\n",
    "dAnn['seayear_4'] = pd.to_datetime(dAnn['seayear_4'])"
   ]
  },
  {
   "cell_type": "code",
   "execution_count": 10,
   "id": "a1e15f0d",
   "metadata": {},
   "outputs": [
    {
     "data": {
      "text/plain": [
       "<AxesSubplot:xlabel='seayear_4'>"
      ]
     },
     "execution_count": 10,
     "metadata": {},
     "output_type": "execute_result"
    },
    {
     "data": {
      "image/png": "[encoded data removed]",
      "text/plain": [
       "<Figure size 432x288 with 1 Axes>"
      ]
     },
     "metadata": {
      "needs_background": "light"
     },
     "output_type": "display_data"
    }
   ],
   "source": [
    "dAnn.set_index('seayear_4' , inplace=True)\n",
    "analysis4 = dAnn[\"seamean_4\"].copy()\n",
    "decompose_res_mult = seasonal_decompose(analysis4)\n",
    "decompose_res_mult.trend.plot()"
   ]
  },
  {
   "cell_type": "code",
   "execution_count": null,
   "id": "be64c239",
   "metadata": {},
   "outputs": [],
   "source": []
  }
 ],
 "metadata": {
  "kernelspec": {
   "display_name": "Python 3",
   "language": "python",
   "name": "python3"
  },
  "language_info": {
   "codemirror_mode": {
    "name": "ipython",
    "version": 3
   },
   "file_extension": ".py",
   "mimetype": "text/x-python",
   "name": "python",
   "nbconvert_exporter": "python",
   "pygments_lexer": "ipython3",
   "version": "3.8.8"
  }
 },
 "nbformat": 4,
 "nbformat_minor": 5
}
