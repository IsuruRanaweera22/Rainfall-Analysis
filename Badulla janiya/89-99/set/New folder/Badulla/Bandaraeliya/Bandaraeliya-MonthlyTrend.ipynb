{
 "cells": [
  {
   "cell_type": "code",
   "execution_count": 1,
   "id": "10b758f6",
   "metadata": {},
   "outputs": [],
   "source": [
    "import pandas as pd\n",
    "import matplotlib.pyplot as plt\n",
    "import numpy as np"
   ]
  },
  {
   "cell_type": "code",
   "execution_count": 28,
   "id": "ad32ffc2",
   "metadata": {
    "scrolled": true
   },
   "outputs": [
    {
     "data": {
      "text/html": [
       "<div>\n",
       "<style scoped>\n",
       "    .dataframe tbody tr th:only-of-type {\n",
       "        vertical-align: middle;\n",
       "    }\n",
       "\n",
       "    .dataframe tbody tr th {\n",
       "        vertical-align: top;\n",
       "    }\n",
       "\n",
       "    .dataframe thead th {\n",
       "        text-align: right;\n",
       "    }\n",
       "</style>\n",
       "<table border=\"1\" class=\"dataframe\">\n",
       "  <thead>\n",
       "    <tr style=\"text-align: right;\">\n",
       "      <th></th>\n",
       "      <th>year/month</th>\n",
       "      <th>1</th>\n",
       "      <th>2</th>\n",
       "      <th>3</th>\n",
       "      <th>4</th>\n",
       "      <th>5</th>\n",
       "      <th>6</th>\n",
       "      <th>7</th>\n",
       "      <th>8</th>\n",
       "      <th>9</th>\n",
       "      <th>...</th>\n",
       "      <th>26</th>\n",
       "      <th>27</th>\n",
       "      <th>28</th>\n",
       "      <th>29</th>\n",
       "      <th>30</th>\n",
       "      <th>31</th>\n",
       "      <th>Mean</th>\n",
       "      <th>Unnamed: 33</th>\n",
       "      <th>year</th>\n",
       "      <th>AnnualMean</th>\n",
       "    </tr>\n",
       "  </thead>\n",
       "  <tbody>\n",
       "    <tr>\n",
       "      <th>0</th>\n",
       "      <td>1989- 1</td>\n",
       "      <td>0.0</td>\n",
       "      <td>0.0</td>\n",
       "      <td>0.0</td>\n",
       "      <td>10.2</td>\n",
       "      <td>5.1</td>\n",
       "      <td>0.0</td>\n",
       "      <td>0.0</td>\n",
       "      <td>5.1</td>\n",
       "      <td>0.0</td>\n",
       "      <td>...</td>\n",
       "      <td>0.0</td>\n",
       "      <td>0.0</td>\n",
       "      <td>0.0</td>\n",
       "      <td>0.0</td>\n",
       "      <td>0.0</td>\n",
       "      <td>0.0</td>\n",
       "      <td>6.396774</td>\n",
       "      <td>NaN</td>\n",
       "      <td>1989.0</td>\n",
       "      <td>3.124731</td>\n",
       "    </tr>\n",
       "    <tr>\n",
       "      <th>1</th>\n",
       "      <td>1989- 2</td>\n",
       "      <td>0.0</td>\n",
       "      <td>0.0</td>\n",
       "      <td>0.0</td>\n",
       "      <td>0.0</td>\n",
       "      <td>0.0</td>\n",
       "      <td>0.0</td>\n",
       "      <td>0.0</td>\n",
       "      <td>0.0</td>\n",
       "      <td>0.0</td>\n",
       "      <td>...</td>\n",
       "      <td>0.0</td>\n",
       "      <td>0.0</td>\n",
       "      <td>35.6</td>\n",
       "      <td>0.0</td>\n",
       "      <td>0.0</td>\n",
       "      <td>0.0</td>\n",
       "      <td>1.148387</td>\n",
       "      <td>NaN</td>\n",
       "      <td>1990.0</td>\n",
       "      <td>5.494355</td>\n",
       "    </tr>\n",
       "    <tr>\n",
       "      <th>2</th>\n",
       "      <td>1989- 3</td>\n",
       "      <td>0.0</td>\n",
       "      <td>40.6</td>\n",
       "      <td>0.0</td>\n",
       "      <td>0.0</td>\n",
       "      <td>0.0</td>\n",
       "      <td>0.0</td>\n",
       "      <td>0.0</td>\n",
       "      <td>5.1</td>\n",
       "      <td>10.2</td>\n",
       "      <td>...</td>\n",
       "      <td>0.0</td>\n",
       "      <td>0.0</td>\n",
       "      <td>0.0</td>\n",
       "      <td>0.0</td>\n",
       "      <td>0.0</td>\n",
       "      <td>0.0</td>\n",
       "      <td>2.458065</td>\n",
       "      <td>NaN</td>\n",
       "      <td>1991.0</td>\n",
       "      <td>5.321237</td>\n",
       "    </tr>\n",
       "    <tr>\n",
       "      <th>3</th>\n",
       "      <td>1989- 4</td>\n",
       "      <td>0.0</td>\n",
       "      <td>0.0</td>\n",
       "      <td>35.6</td>\n",
       "      <td>0.0</td>\n",
       "      <td>0.0</td>\n",
       "      <td>0.0</td>\n",
       "      <td>0.0</td>\n",
       "      <td>0.0</td>\n",
       "      <td>0.0</td>\n",
       "      <td>...</td>\n",
       "      <td>15.2</td>\n",
       "      <td>0.0</td>\n",
       "      <td>0.0</td>\n",
       "      <td>0.0</td>\n",
       "      <td>0.0</td>\n",
       "      <td>0.0</td>\n",
       "      <td>4.177419</td>\n",
       "      <td>NaN</td>\n",
       "      <td>1992.0</td>\n",
       "      <td>5.124194</td>\n",
       "    </tr>\n",
       "    <tr>\n",
       "      <th>4</th>\n",
       "      <td>1989- 5</td>\n",
       "      <td>0.0</td>\n",
       "      <td>0.0</td>\n",
       "      <td>0.0</td>\n",
       "      <td>30.5</td>\n",
       "      <td>2.5</td>\n",
       "      <td>0.0</td>\n",
       "      <td>0.0</td>\n",
       "      <td>22.9</td>\n",
       "      <td>0.0</td>\n",
       "      <td>...</td>\n",
       "      <td>0.0</td>\n",
       "      <td>0.0</td>\n",
       "      <td>0.0</td>\n",
       "      <td>0.0</td>\n",
       "      <td>0.0</td>\n",
       "      <td>0.0</td>\n",
       "      <td>1.803226</td>\n",
       "      <td>NaN</td>\n",
       "      <td>1993.0</td>\n",
       "      <td>5.197581</td>\n",
       "    </tr>\n",
       "    <tr>\n",
       "      <th>...</th>\n",
       "      <td>...</td>\n",
       "      <td>...</td>\n",
       "      <td>...</td>\n",
       "      <td>...</td>\n",
       "      <td>...</td>\n",
       "      <td>...</td>\n",
       "      <td>...</td>\n",
       "      <td>...</td>\n",
       "      <td>...</td>\n",
       "      <td>...</td>\n",
       "      <td>...</td>\n",
       "      <td>...</td>\n",
       "      <td>...</td>\n",
       "      <td>...</td>\n",
       "      <td>...</td>\n",
       "      <td>...</td>\n",
       "      <td>...</td>\n",
       "      <td>...</td>\n",
       "      <td>...</td>\n",
       "      <td>...</td>\n",
       "      <td>...</td>\n",
       "    </tr>\n",
       "    <tr>\n",
       "      <th>379</th>\n",
       "      <td>2020-8</td>\n",
       "      <td>0.0</td>\n",
       "      <td>0.0</td>\n",
       "      <td>0.0</td>\n",
       "      <td>0.0</td>\n",
       "      <td>0.0</td>\n",
       "      <td>0.0</td>\n",
       "      <td>0.0</td>\n",
       "      <td>0.0</td>\n",
       "      <td>0.0</td>\n",
       "      <td>...</td>\n",
       "      <td>0.0</td>\n",
       "      <td>0.0</td>\n",
       "      <td>0.0</td>\n",
       "      <td>0.0</td>\n",
       "      <td>0.0</td>\n",
       "      <td>0.0</td>\n",
       "      <td>2.400000</td>\n",
       "      <td>NaN</td>\n",
       "      <td>NaN</td>\n",
       "      <td>NaN</td>\n",
       "    </tr>\n",
       "    <tr>\n",
       "      <th>380</th>\n",
       "      <td>2020-9</td>\n",
       "      <td>0.0</td>\n",
       "      <td>0.0</td>\n",
       "      <td>4.6</td>\n",
       "      <td>1.0</td>\n",
       "      <td>3.3</td>\n",
       "      <td>2.3</td>\n",
       "      <td>9.1</td>\n",
       "      <td>0.0</td>\n",
       "      <td>0.0</td>\n",
       "      <td>...</td>\n",
       "      <td>0.0</td>\n",
       "      <td>4.3</td>\n",
       "      <td>8.6</td>\n",
       "      <td>0.0</td>\n",
       "      <td>0.0</td>\n",
       "      <td>0.0</td>\n",
       "      <td>3.083871</td>\n",
       "      <td>NaN</td>\n",
       "      <td>NaN</td>\n",
       "      <td>NaN</td>\n",
       "    </tr>\n",
       "    <tr>\n",
       "      <th>381</th>\n",
       "      <td>2020-10</td>\n",
       "      <td>0.0</td>\n",
       "      <td>0.0</td>\n",
       "      <td>0.0</td>\n",
       "      <td>0.0</td>\n",
       "      <td>0.0</td>\n",
       "      <td>0.0</td>\n",
       "      <td>0.0</td>\n",
       "      <td>0.0</td>\n",
       "      <td>0.0</td>\n",
       "      <td>...</td>\n",
       "      <td>0.0</td>\n",
       "      <td>43.7</td>\n",
       "      <td>34.8</td>\n",
       "      <td>8.1</td>\n",
       "      <td>0.0</td>\n",
       "      <td>4.6</td>\n",
       "      <td>5.054839</td>\n",
       "      <td>NaN</td>\n",
       "      <td>NaN</td>\n",
       "      <td>NaN</td>\n",
       "    </tr>\n",
       "    <tr>\n",
       "      <th>382</th>\n",
       "      <td>2020-11</td>\n",
       "      <td>1.0</td>\n",
       "      <td>0.0</td>\n",
       "      <td>0.0</td>\n",
       "      <td>0.0</td>\n",
       "      <td>2.8</td>\n",
       "      <td>12.2</td>\n",
       "      <td>0.0</td>\n",
       "      <td>4.3</td>\n",
       "      <td>0.0</td>\n",
       "      <td>...</td>\n",
       "      <td>3.6</td>\n",
       "      <td>4.1</td>\n",
       "      <td>7.1</td>\n",
       "      <td>0.5</td>\n",
       "      <td>0.0</td>\n",
       "      <td>0.0</td>\n",
       "      <td>6.477419</td>\n",
       "      <td>NaN</td>\n",
       "      <td>NaN</td>\n",
       "      <td>NaN</td>\n",
       "    </tr>\n",
       "    <tr>\n",
       "      <th>383</th>\n",
       "      <td>2020-12</td>\n",
       "      <td>0.0</td>\n",
       "      <td>0.0</td>\n",
       "      <td>0.0</td>\n",
       "      <td>0.0</td>\n",
       "      <td>0.0</td>\n",
       "      <td>0.0</td>\n",
       "      <td>0.0</td>\n",
       "      <td>0.0</td>\n",
       "      <td>3.8</td>\n",
       "      <td>...</td>\n",
       "      <td>0.0</td>\n",
       "      <td>4.6</td>\n",
       "      <td>0.0</td>\n",
       "      <td>0.0</td>\n",
       "      <td>36.1</td>\n",
       "      <td>41.9</td>\n",
       "      <td>4.380645</td>\n",
       "      <td>NaN</td>\n",
       "      <td>NaN</td>\n",
       "      <td>NaN</td>\n",
       "    </tr>\n",
       "  </tbody>\n",
       "</table>\n",
       "<p>384 rows × 36 columns</p>\n",
       "</div>"
      ],
      "text/plain": [
       "    year/month    1     2     3     4    5     6    7     8     9  ...    26  \\\n",
       "0      1989- 1  0.0   0.0   0.0  10.2  5.1   0.0  0.0   5.1   0.0  ...   0.0   \n",
       "1      1989- 2  0.0   0.0   0.0   0.0  0.0   0.0  0.0   0.0   0.0  ...   0.0   \n",
       "2      1989- 3  0.0  40.6   0.0   0.0  0.0   0.0  0.0   5.1  10.2  ...   0.0   \n",
       "3      1989- 4  0.0   0.0  35.6   0.0  0.0   0.0  0.0   0.0   0.0  ...  15.2   \n",
       "4      1989- 5  0.0   0.0   0.0  30.5  2.5   0.0  0.0  22.9   0.0  ...   0.0   \n",
       "..         ...  ...   ...   ...   ...  ...   ...  ...   ...   ...  ...   ...   \n",
       "379     2020-8  0.0   0.0   0.0   0.0  0.0   0.0  0.0   0.0   0.0  ...   0.0   \n",
       "380     2020-9  0.0   0.0   4.6   1.0  3.3   2.3  9.1   0.0   0.0  ...   0.0   \n",
       "381    2020-10  0.0   0.0   0.0   0.0  0.0   0.0  0.0   0.0   0.0  ...   0.0   \n",
       "382    2020-11  1.0   0.0   0.0   0.0  2.8  12.2  0.0   4.3   0.0  ...   3.6   \n",
       "383    2020-12  0.0   0.0   0.0   0.0  0.0   0.0  0.0   0.0   3.8  ...   0.0   \n",
       "\n",
       "       27    28   29    30    31      Mean  Unnamed: 33    year  AnnualMean  \n",
       "0     0.0   0.0  0.0   0.0   0.0  6.396774          NaN  1989.0    3.124731  \n",
       "1     0.0  35.6  0.0   0.0   0.0  1.148387          NaN  1990.0    5.494355  \n",
       "2     0.0   0.0  0.0   0.0   0.0  2.458065          NaN  1991.0    5.321237  \n",
       "3     0.0   0.0  0.0   0.0   0.0  4.177419          NaN  1992.0    5.124194  \n",
       "4     0.0   0.0  0.0   0.0   0.0  1.803226          NaN  1993.0    5.197581  \n",
       "..    ...   ...  ...   ...   ...       ...          ...     ...         ...  \n",
       "379   0.0   0.0  0.0   0.0   0.0  2.400000          NaN     NaN         NaN  \n",
       "380   4.3   8.6  0.0   0.0   0.0  3.083871          NaN     NaN         NaN  \n",
       "381  43.7  34.8  8.1   0.0   4.6  5.054839          NaN     NaN         NaN  \n",
       "382   4.1   7.1  0.5   0.0   0.0  6.477419          NaN     NaN         NaN  \n",
       "383   4.6   0.0  0.0  36.1  41.9  4.380645          NaN     NaN         NaN  \n",
       "\n",
       "[384 rows x 36 columns]"
      ]
     },
     "execution_count": 28,
     "metadata": {},
     "output_type": "execute_result"
    }
   ],
   "source": [
    "d_ba = pd.read_excel(\"Bandaraeliya(89-21).xls\")\n",
    "d_ba\n"
   ]
  },
  {
   "cell_type": "code",
   "execution_count": null,
   "id": "ffc3f5d5",
   "metadata": {},
   "outputs": [],
   "source": []
  },
  {
   "cell_type": "markdown",
   "id": "e31f1963",
   "metadata": {},
   "source": [
    "JAN"
   ]
  },
  {
   "cell_type": "code",
   "execution_count": null,
   "id": "52455e9e",
   "metadata": {},
   "outputs": [],
   "source": []
  },
  {
   "cell_type": "code",
   "execution_count": 3,
   "id": "e55dc154",
   "metadata": {},
   "outputs": [],
   "source": [
    "data1 = [d_ba.loc[d_ba[\"year/month\"] == '1989- 1'],d_ba.loc[d_ba[\"year/month\"] == '1990- 1'],d_ba.loc[d_ba[\"year/month\"] == '1991- 1'],d_ba.loc[d_ba[\"year/month\"] == '1992- 1'],d_ba.loc[d_ba[\"year/month\"] == '1993- 1'],d_ba.loc[d_ba[\"year/month\"] == '1994- 1'],d_ba.loc[d_ba[\"year/month\"] == '1995- 1'],d_ba.loc[d_ba[\"year/month\"] == '1996- 1'],d_ba.loc[d_ba[\"year/month\"] == '1997- 1'],d_ba.loc[d_ba[\"year/month\"] == '1998- 1'],d_ba.loc[d_ba[\"year/month\"] == '1999- 1'],d_ba.loc[d_ba[\"year/month\"] == '2000-1'],d_ba.loc[d_ba[\"year/month\"] == '2001-1'],d_ba.loc[d_ba[\"year/month\"] == '2002-1'],d_ba.loc[d_ba[\"year/month\"] == '2003-1'],d_ba.loc[d_ba[\"year/month\"] == '2004-1'],d_ba.loc[d_ba[\"year/month\"] == '2005-1'],d_ba.loc[d_ba[\"year/month\"] == '2006-1'],d_ba.loc[d_ba[\"year/month\"] == '2007-1'],d_ba.loc[d_ba[\"year/month\"] == '2008-1'],d_ba.loc[d_ba[\"year/month\"] == '2009-1'],d_ba.loc[d_ba[\"year/month\"] == '2010-1'],d_ba.loc[d_ba[\"year/month\"] == '2011-1'],d_ba.loc[d_ba[\"year/month\"] == '2012-1'],d_ba.loc[d_ba[\"year/month\"] == '2013-1'],d_ba.loc[d_ba[\"year/month\"] == '2014-1'],d_ba.loc[d_ba[\"year/month\"] == '2015-1'],d_ba.loc[d_ba[\"year/month\"] == '2016-1'],d_ba.loc[d_ba[\"year/month\"] == '2017-1'],d_ba.loc[d_ba[\"year/month\"] == '2018-1'],d_ba.loc[d_ba[\"year/month\"] == '2019-1'],d_ba.loc[d_ba[\"year/month\"] == '2020-1']]\n",
    "\n"
   ]
  },
  {
   "cell_type": "code",
   "execution_count": 4,
   "id": "98550a78",
   "metadata": {
    "scrolled": false
   },
   "outputs": [
    {
     "data": {
      "text/html": [
       "<div>\n",
       "<style scoped>\n",
       "    .dataframe tbody tr th:only-of-type {\n",
       "        vertical-align: middle;\n",
       "    }\n",
       "\n",
       "    .dataframe tbody tr th {\n",
       "        vertical-align: top;\n",
       "    }\n",
       "\n",
       "    .dataframe thead th {\n",
       "        text-align: right;\n",
       "    }\n",
       "</style>\n",
       "<table border=\"1\" class=\"dataframe\">\n",
       "  <thead>\n",
       "    <tr style=\"text-align: right;\">\n",
       "      <th></th>\n",
       "      <th>year/month</th>\n",
       "      <th>1</th>\n",
       "      <th>2</th>\n",
       "      <th>3</th>\n",
       "      <th>4</th>\n",
       "      <th>5</th>\n",
       "      <th>6</th>\n",
       "      <th>7</th>\n",
       "      <th>8</th>\n",
       "      <th>9</th>\n",
       "      <th>...</th>\n",
       "      <th>23</th>\n",
       "      <th>24</th>\n",
       "      <th>25</th>\n",
       "      <th>26</th>\n",
       "      <th>27</th>\n",
       "      <th>28</th>\n",
       "      <th>29</th>\n",
       "      <th>30</th>\n",
       "      <th>31</th>\n",
       "      <th>Mean</th>\n",
       "    </tr>\n",
       "  </thead>\n",
       "  <tbody>\n",
       "    <tr>\n",
       "      <th>0</th>\n",
       "      <td>1989- 1</td>\n",
       "      <td>0.0</td>\n",
       "      <td>0.0</td>\n",
       "      <td>0.0</td>\n",
       "      <td>10.2</td>\n",
       "      <td>5.1</td>\n",
       "      <td>0.0</td>\n",
       "      <td>0.0</td>\n",
       "      <td>5.1</td>\n",
       "      <td>0.0</td>\n",
       "      <td>...</td>\n",
       "      <td>0.0</td>\n",
       "      <td>0.0</td>\n",
       "      <td>0.0</td>\n",
       "      <td>0.0</td>\n",
       "      <td>0.0</td>\n",
       "      <td>0.0</td>\n",
       "      <td>0.0</td>\n",
       "      <td>0.0</td>\n",
       "      <td>0.0</td>\n",
       "      <td>6.396774</td>\n",
       "    </tr>\n",
       "    <tr>\n",
       "      <th>12</th>\n",
       "      <td>1990- 1</td>\n",
       "      <td>0.0</td>\n",
       "      <td>0.0</td>\n",
       "      <td>35.3</td>\n",
       "      <td>157.7</td>\n",
       "      <td>53.3</td>\n",
       "      <td>29.2</td>\n",
       "      <td>0.0</td>\n",
       "      <td>0.0</td>\n",
       "      <td>0.0</td>\n",
       "      <td>...</td>\n",
       "      <td>0.0</td>\n",
       "      <td>0.0</td>\n",
       "      <td>0.0</td>\n",
       "      <td>0.0</td>\n",
       "      <td>0.0</td>\n",
       "      <td>0.0</td>\n",
       "      <td>0.0</td>\n",
       "      <td>0.0</td>\n",
       "      <td>0.0</td>\n",
       "      <td>8.887097</td>\n",
       "    </tr>\n",
       "    <tr>\n",
       "      <th>24</th>\n",
       "      <td>1991- 1</td>\n",
       "      <td>25.6</td>\n",
       "      <td>0.0</td>\n",
       "      <td>27.9</td>\n",
       "      <td>0.0</td>\n",
       "      <td>0.0</td>\n",
       "      <td>3.8</td>\n",
       "      <td>6.4</td>\n",
       "      <td>0.0</td>\n",
       "      <td>6.4</td>\n",
       "      <td>...</td>\n",
       "      <td>0.0</td>\n",
       "      <td>0.0</td>\n",
       "      <td>0.0</td>\n",
       "      <td>0.0</td>\n",
       "      <td>0.0</td>\n",
       "      <td>0.0</td>\n",
       "      <td>0.0</td>\n",
       "      <td>0.0</td>\n",
       "      <td>3.6</td>\n",
       "      <td>8.319355</td>\n",
       "    </tr>\n",
       "    <tr>\n",
       "      <th>36</th>\n",
       "      <td>1992- 1</td>\n",
       "      <td>0.0</td>\n",
       "      <td>3.0</td>\n",
       "      <td>0.0</td>\n",
       "      <td>7.0</td>\n",
       "      <td>5.1</td>\n",
       "      <td>3.0</td>\n",
       "      <td>4.2</td>\n",
       "      <td>0.0</td>\n",
       "      <td>3.1</td>\n",
       "      <td>...</td>\n",
       "      <td>0.0</td>\n",
       "      <td>0.0</td>\n",
       "      <td>0.0</td>\n",
       "      <td>0.0</td>\n",
       "      <td>0.0</td>\n",
       "      <td>0.0</td>\n",
       "      <td>0.0</td>\n",
       "      <td>0.0</td>\n",
       "      <td>0.0</td>\n",
       "      <td>1.629032</td>\n",
       "    </tr>\n",
       "    <tr>\n",
       "      <th>48</th>\n",
       "      <td>1993- 1</td>\n",
       "      <td>0.0</td>\n",
       "      <td>0.0</td>\n",
       "      <td>0.0</td>\n",
       "      <td>0.0</td>\n",
       "      <td>0.0</td>\n",
       "      <td>0.0</td>\n",
       "      <td>0.0</td>\n",
       "      <td>0.0</td>\n",
       "      <td>0.0</td>\n",
       "      <td>...</td>\n",
       "      <td>0.0</td>\n",
       "      <td>10.1</td>\n",
       "      <td>20.5</td>\n",
       "      <td>0.0</td>\n",
       "      <td>0.0</td>\n",
       "      <td>0.0</td>\n",
       "      <td>0.0</td>\n",
       "      <td>0.0</td>\n",
       "      <td>0.0</td>\n",
       "      <td>0.987097</td>\n",
       "    </tr>\n",
       "  </tbody>\n",
       "</table>\n",
       "<p>5 rows × 33 columns</p>\n",
       "</div>"
      ],
      "text/plain": [
       "   year/month     1    2     3      4     5     6    7    8    9  ...   23  \\\n",
       "0     1989- 1   0.0  0.0   0.0   10.2   5.1   0.0  0.0  5.1  0.0  ...  0.0   \n",
       "12    1990- 1   0.0  0.0  35.3  157.7  53.3  29.2  0.0  0.0  0.0  ...  0.0   \n",
       "24    1991- 1  25.6  0.0  27.9    0.0   0.0   3.8  6.4  0.0  6.4  ...  0.0   \n",
       "36    1992- 1   0.0  3.0   0.0    7.0   5.1   3.0  4.2  0.0  3.1  ...  0.0   \n",
       "48    1993- 1   0.0  0.0   0.0    0.0   0.0   0.0  0.0  0.0  0.0  ...  0.0   \n",
       "\n",
       "      24    25   26   27   28   29   30   31      Mean  \n",
       "0    0.0   0.0  0.0  0.0  0.0  0.0  0.0  0.0  6.396774  \n",
       "12   0.0   0.0  0.0  0.0  0.0  0.0  0.0  0.0  8.887097  \n",
       "24   0.0   0.0  0.0  0.0  0.0  0.0  0.0  3.6  8.319355  \n",
       "36   0.0   0.0  0.0  0.0  0.0  0.0  0.0  0.0  1.629032  \n",
       "48  10.1  20.5  0.0  0.0  0.0  0.0  0.0  0.0  0.987097  \n",
       "\n",
       "[5 rows x 33 columns]"
      ]
     },
     "execution_count": 4,
     "metadata": {},
     "output_type": "execute_result"
    }
   ],
   "source": [
    "df_jan = pd.concat(data1, axis=0  )\n",
    "df_jan.head()"
   ]
  },
  {
   "cell_type": "code",
   "execution_count": 5,
   "id": "d4d87b88",
   "metadata": {},
   "outputs": [],
   "source": [
    "df_jan['year/month'] = pd.to_datetime(df_jan['year/month'])"
   ]
  },
  {
   "cell_type": "code",
   "execution_count": 6,
   "id": "7ac85fd8",
   "metadata": {},
   "outputs": [],
   "source": [
    "from statsmodels.tsa.seasonal import seasonal_decompose"
   ]
  },
  {
   "cell_type": "code",
   "execution_count": 7,
   "id": "7eed4038",
   "metadata": {},
   "outputs": [],
   "source": [
    "df_jan.set_index('year/month' , inplace=True)"
   ]
  },
  {
   "cell_type": "code",
   "execution_count": 8,
   "id": "18b5c4bb",
   "metadata": {},
   "outputs": [],
   "source": [
    "analysis1 = df_jan[\"Mean\"].copy()"
   ]
  },
  {
   "cell_type": "code",
   "execution_count": 9,
   "id": "ba9f03f3",
   "metadata": {},
   "outputs": [],
   "source": [
    "decompose_res_mult = seasonal_decompose(analysis1  )"
   ]
  },
  {
   "cell_type": "code",
   "execution_count": 10,
   "id": "c81f102b",
   "metadata": {},
   "outputs": [
    {
     "data": {
      "text/plain": [
       "<AxesSubplot:xlabel='year/month'>"
      ]
     },
     "execution_count": 10,
     "metadata": {},
     "output_type": "execute_result"
    },
    {
     "data": {
      "image/png": "[encoded data removed]",
      "text/plain": [
       "<Figure size 432x288 with 1 Axes>"
      ]
     },
     "metadata": {
      "needs_background": "light"
     },
     "output_type": "display_data"
    }
   ],
   "source": [
    "decompose_res_mult.trend.plot()"
   ]
  },
  {
   "cell_type": "code",
   "execution_count": null,
   "id": "2adef2aa",
   "metadata": {},
   "outputs": [],
   "source": []
  },
  {
   "cell_type": "markdown",
   "id": "51e950d7",
   "metadata": {},
   "source": [
    "FEB"
   ]
  },
  {
   "cell_type": "code",
   "execution_count": null,
   "id": "55dbc377",
   "metadata": {},
   "outputs": [],
   "source": []
  },
  {
   "cell_type": "code",
   "execution_count": 11,
   "id": "ec1a13b9",
   "metadata": {},
   "outputs": [],
   "source": [
    "data2 = [d_ba.loc[d_ba[\"year/month\"] == '1989- 2'],\n",
    "         d_ba.loc[d_ba[\"year/month\"] == '1990- 2'],\n",
    "         d_ba.loc[d_ba[\"year/month\"] == '1991- 2'],\n",
    "         d_ba.loc[d_ba[\"year/month\"] == '1992- 2'],\n",
    "         d_ba.loc[d_ba[\"year/month\"] == '1993- 2'],\n",
    "         d_ba.loc[d_ba[\"year/month\"] == '1994- 2'],\n",
    "         d_ba.loc[d_ba[\"year/month\"] == '1995- 2'],\n",
    "         d_ba.loc[d_ba[\"year/month\"] == '1996- 2'],\n",
    "         d_ba.loc[d_ba[\"year/month\"] == '1997- 2'],\n",
    "         d_ba.loc[d_ba[\"year/month\"] == '1998- 2'],\n",
    "         d_ba.loc[d_ba[\"year/month\"] == '1999- 2'],\n",
    "         d_ba.loc[d_ba[\"year/month\"] == '2000-2'],\n",
    "         d_ba.loc[d_ba[\"year/month\"] == '2001-2'],\n",
    "         d_ba.loc[d_ba[\"year/month\"] == '2002-2'],\n",
    "         d_ba.loc[d_ba[\"year/month\"] == '2003-2'],\n",
    "         d_ba.loc[d_ba[\"year/month\"] == '2004-2'],\n",
    "         d_ba.loc[d_ba[\"year/month\"] == '2005-2'],\n",
    "         d_ba.loc[d_ba[\"year/month\"] == '2006-2'],\n",
    "         d_ba.loc[d_ba[\"year/month\"] == '2007-2'],\n",
    "         d_ba.loc[d_ba[\"year/month\"] == '2008-2'],\n",
    "         d_ba.loc[d_ba[\"year/month\"] == '2009-2'],\n",
    "         d_ba.loc[d_ba[\"year/month\"] == '2010-2'],\n",
    "         d_ba.loc[d_ba[\"year/month\"] == '2011-2'],\n",
    "         d_ba.loc[d_ba[\"year/month\"] == '2012-2'],\n",
    "         d_ba.loc[d_ba[\"year/month\"] == '2013-2'],\n",
    "         d_ba.loc[d_ba[\"year/month\"] == '2014-2'],\n",
    "         d_ba.loc[d_ba[\"year/month\"] == '2015-2'],\n",
    "         d_ba.loc[d_ba[\"year/month\"] == '2016-2'],\n",
    "         d_ba.loc[d_ba[\"year/month\"] == '2017-2'],\n",
    "         d_ba.loc[d_ba[\"year/month\"] == '2018-2'],\n",
    "         d_ba.loc[d_ba[\"year/month\"] == '2019-2'],\n",
    "         d_ba.loc[d_ba[\"year/month\"] == '2020-2']]\n"
   ]
  },
  {
   "cell_type": "code",
   "execution_count": 12,
   "id": "9600200e",
   "metadata": {},
   "outputs": [
    {
     "data": {
      "text/html": [
       "<div>\n",
       "<style scoped>\n",
       "    .dataframe tbody tr th:only-of-type {\n",
       "        vertical-align: middle;\n",
       "    }\n",
       "\n",
       "    .dataframe tbody tr th {\n",
       "        vertical-align: top;\n",
       "    }\n",
       "\n",
       "    .dataframe thead th {\n",
       "        text-align: right;\n",
       "    }\n",
       "</style>\n",
       "<table border=\"1\" class=\"dataframe\">\n",
       "  <thead>\n",
       "    <tr style=\"text-align: right;\">\n",
       "      <th></th>\n",
       "      <th>year/month</th>\n",
       "      <th>1</th>\n",
       "      <th>2</th>\n",
       "      <th>3</th>\n",
       "      <th>4</th>\n",
       "      <th>5</th>\n",
       "      <th>6</th>\n",
       "      <th>7</th>\n",
       "      <th>8</th>\n",
       "      <th>9</th>\n",
       "      <th>...</th>\n",
       "      <th>23</th>\n",
       "      <th>24</th>\n",
       "      <th>25</th>\n",
       "      <th>26</th>\n",
       "      <th>27</th>\n",
       "      <th>28</th>\n",
       "      <th>29</th>\n",
       "      <th>30</th>\n",
       "      <th>31</th>\n",
       "      <th>Mean</th>\n",
       "    </tr>\n",
       "  </thead>\n",
       "  <tbody>\n",
       "    <tr>\n",
       "      <th>1</th>\n",
       "      <td>1989- 2</td>\n",
       "      <td>0.0</td>\n",
       "      <td>0.0</td>\n",
       "      <td>0.0</td>\n",
       "      <td>0.0</td>\n",
       "      <td>0.0</td>\n",
       "      <td>0.0</td>\n",
       "      <td>0.0</td>\n",
       "      <td>0.0</td>\n",
       "      <td>0.0</td>\n",
       "      <td>...</td>\n",
       "      <td>0.0</td>\n",
       "      <td>0.0</td>\n",
       "      <td>0.0</td>\n",
       "      <td>0.0</td>\n",
       "      <td>0.0</td>\n",
       "      <td>35.6</td>\n",
       "      <td>0.0</td>\n",
       "      <td>0.0</td>\n",
       "      <td>0.0</td>\n",
       "      <td>1.148387</td>\n",
       "    </tr>\n",
       "    <tr>\n",
       "      <th>13</th>\n",
       "      <td>1990- 2</td>\n",
       "      <td>0.0</td>\n",
       "      <td>0.0</td>\n",
       "      <td>0.0</td>\n",
       "      <td>0.0</td>\n",
       "      <td>0.0</td>\n",
       "      <td>0.0</td>\n",
       "      <td>0.0</td>\n",
       "      <td>0.0</td>\n",
       "      <td>0.0</td>\n",
       "      <td>...</td>\n",
       "      <td>1.3</td>\n",
       "      <td>111.8</td>\n",
       "      <td>38.1</td>\n",
       "      <td>20.3</td>\n",
       "      <td>0.0</td>\n",
       "      <td>0.0</td>\n",
       "      <td>0.0</td>\n",
       "      <td>0.0</td>\n",
       "      <td>0.0</td>\n",
       "      <td>7.038710</td>\n",
       "    </tr>\n",
       "    <tr>\n",
       "      <th>25</th>\n",
       "      <td>1991- 2</td>\n",
       "      <td>2.3</td>\n",
       "      <td>0.0</td>\n",
       "      <td>0.0</td>\n",
       "      <td>0.0</td>\n",
       "      <td>0.0</td>\n",
       "      <td>32.0</td>\n",
       "      <td>21.6</td>\n",
       "      <td>0.0</td>\n",
       "      <td>0.0</td>\n",
       "      <td>...</td>\n",
       "      <td>0.0</td>\n",
       "      <td>0.0</td>\n",
       "      <td>0.0</td>\n",
       "      <td>0.0</td>\n",
       "      <td>0.0</td>\n",
       "      <td>0.0</td>\n",
       "      <td>0.0</td>\n",
       "      <td>0.0</td>\n",
       "      <td>0.0</td>\n",
       "      <td>1.803226</td>\n",
       "    </tr>\n",
       "    <tr>\n",
       "      <th>37</th>\n",
       "      <td>1992- 2</td>\n",
       "      <td>0.0</td>\n",
       "      <td>0.0</td>\n",
       "      <td>0.0</td>\n",
       "      <td>0.0</td>\n",
       "      <td>0.0</td>\n",
       "      <td>0.0</td>\n",
       "      <td>0.0</td>\n",
       "      <td>0.0</td>\n",
       "      <td>0.0</td>\n",
       "      <td>...</td>\n",
       "      <td>0.0</td>\n",
       "      <td>0.0</td>\n",
       "      <td>0.0</td>\n",
       "      <td>0.0</td>\n",
       "      <td>0.0</td>\n",
       "      <td>0.0</td>\n",
       "      <td>0.0</td>\n",
       "      <td>0.0</td>\n",
       "      <td>0.0</td>\n",
       "      <td>0.000000</td>\n",
       "    </tr>\n",
       "    <tr>\n",
       "      <th>49</th>\n",
       "      <td>1993- 2</td>\n",
       "      <td>0.0</td>\n",
       "      <td>0.0</td>\n",
       "      <td>0.0</td>\n",
       "      <td>0.0</td>\n",
       "      <td>3.0</td>\n",
       "      <td>0.0</td>\n",
       "      <td>0.0</td>\n",
       "      <td>0.0</td>\n",
       "      <td>0.0</td>\n",
       "      <td>...</td>\n",
       "      <td>0.0</td>\n",
       "      <td>0.0</td>\n",
       "      <td>0.0</td>\n",
       "      <td>0.0</td>\n",
       "      <td>0.0</td>\n",
       "      <td>17.0</td>\n",
       "      <td>0.0</td>\n",
       "      <td>0.0</td>\n",
       "      <td>0.0</td>\n",
       "      <td>1.387097</td>\n",
       "    </tr>\n",
       "  </tbody>\n",
       "</table>\n",
       "<p>5 rows × 33 columns</p>\n",
       "</div>"
      ],
      "text/plain": [
       "   year/month    1    2    3    4    5     6     7    8    9  ...   23     24  \\\n",
       "1     1989- 2  0.0  0.0  0.0  0.0  0.0   0.0   0.0  0.0  0.0  ...  0.0    0.0   \n",
       "13    1990- 2  0.0  0.0  0.0  0.0  0.0   0.0   0.0  0.0  0.0  ...  1.3  111.8   \n",
       "25    1991- 2  2.3  0.0  0.0  0.0  0.0  32.0  21.6  0.0  0.0  ...  0.0    0.0   \n",
       "37    1992- 2  0.0  0.0  0.0  0.0  0.0   0.0   0.0  0.0  0.0  ...  0.0    0.0   \n",
       "49    1993- 2  0.0  0.0  0.0  0.0  3.0   0.0   0.0  0.0  0.0  ...  0.0    0.0   \n",
       "\n",
       "      25    26   27    28   29   30   31      Mean  \n",
       "1    0.0   0.0  0.0  35.6  0.0  0.0  0.0  1.148387  \n",
       "13  38.1  20.3  0.0   0.0  0.0  0.0  0.0  7.038710  \n",
       "25   0.0   0.0  0.0   0.0  0.0  0.0  0.0  1.803226  \n",
       "37   0.0   0.0  0.0   0.0  0.0  0.0  0.0  0.000000  \n",
       "49   0.0   0.0  0.0  17.0  0.0  0.0  0.0  1.387097  \n",
       "\n",
       "[5 rows x 33 columns]"
      ]
     },
     "execution_count": 12,
     "metadata": {},
     "output_type": "execute_result"
    }
   ],
   "source": [
    "df_feb = pd.concat(data2, axis=0  )\n",
    "df_feb.head()"
   ]
  },
  {
   "cell_type": "code",
   "execution_count": 13,
   "id": "af9859ca",
   "metadata": {},
   "outputs": [
    {
     "data": {
      "text/plain": [
       "<AxesSubplot:xlabel='year/month'>"
      ]
     },
     "execution_count": 13,
     "metadata": {},
     "output_type": "execute_result"
    },
    {
     "data": {
      "image/png": "[encoded data removed]",
      "text/plain": [
       "<Figure size 432x288 with 1 Axes>"
      ]
     },
     "metadata": {
      "needs_background": "light"
     },
     "output_type": "display_data"
    }
   ],
   "source": [
    "df_feb['year/month'] = pd.to_datetime(df_feb['year/month'])\n",
    "df_feb.set_index('year/month' , inplace=True)\n",
    "analysis2 = df_feb[\"Mean\"].copy()\n",
    "decompose_res_mult = seasonal_decompose(analysis2  )\n",
    "decompose_res_mult.trend.plot()"
   ]
  },
  {
   "cell_type": "code",
   "execution_count": null,
   "id": "c82236bf",
   "metadata": {},
   "outputs": [],
   "source": []
  },
  {
   "cell_type": "markdown",
   "id": "b93d4071",
   "metadata": {},
   "source": [
    "MAR"
   ]
  },
  {
   "cell_type": "code",
   "execution_count": null,
   "id": "4ab44cc7",
   "metadata": {},
   "outputs": [],
   "source": []
  },
  {
   "cell_type": "code",
   "execution_count": 14,
   "id": "048bc0fb",
   "metadata": {},
   "outputs": [],
   "source": [
    "data3 = [d_ba.loc[d_ba[\"year/month\"] == '1989- 3'],\n",
    "         d_ba.loc[d_ba[\"year/month\"] == '1990- 3'],\n",
    "         d_ba.loc[d_ba[\"year/month\"] == '1991- 3'],\n",
    "         d_ba.loc[d_ba[\"year/month\"] == '1992- 3'],\n",
    "         d_ba.loc[d_ba[\"year/month\"] == '1993- 3'],\n",
    "         d_ba.loc[d_ba[\"year/month\"] == '1994- 3'],\n",
    "         d_ba.loc[d_ba[\"year/month\"] == '1995- 3'],\n",
    "         d_ba.loc[d_ba[\"year/month\"] == '1996- 3'],\n",
    "         d_ba.loc[d_ba[\"year/month\"] == '1997- 3'],\n",
    "         d_ba.loc[d_ba[\"year/month\"] == '1998- 3'],\n",
    "         d_ba.loc[d_ba[\"year/month\"] == '1999- 3'],\n",
    "         d_ba.loc[d_ba[\"year/month\"] == '2000-3'],\n",
    "         d_ba.loc[d_ba[\"year/month\"] == '2001-3'],\n",
    "         d_ba.loc[d_ba[\"year/month\"] == '2002-3'],\n",
    "         d_ba.loc[d_ba[\"year/month\"] == '2003-3'],\n",
    "         d_ba.loc[d_ba[\"year/month\"] == '2004-3'],\n",
    "         d_ba.loc[d_ba[\"year/month\"] == '2005-3'],\n",
    "         d_ba.loc[d_ba[\"year/month\"] == '2006-3'],\n",
    "         d_ba.loc[d_ba[\"year/month\"] == '2007-3'],\n",
    "         d_ba.loc[d_ba[\"year/month\"] == '2008-3'],\n",
    "         d_ba.loc[d_ba[\"year/month\"] == '2009-3'],\n",
    "         d_ba.loc[d_ba[\"year/month\"] == '2010-3'],\n",
    "         d_ba.loc[d_ba[\"year/month\"] == '2011-3'],\n",
    "         d_ba.loc[d_ba[\"year/month\"] == '2012-3'],\n",
    "         d_ba.loc[d_ba[\"year/month\"] == '2013-3'],\n",
    "         d_ba.loc[d_ba[\"year/month\"] == '2014-3'],\n",
    "         d_ba.loc[d_ba[\"year/month\"] == '2015-3'],\n",
    "         d_ba.loc[d_ba[\"year/month\"] == '2016-3'],\n",
    "         d_ba.loc[d_ba[\"year/month\"] == '2017-3'],\n",
    "         d_ba.loc[d_ba[\"year/month\"] == '2018-3'],\n",
    "         d_ba.loc[d_ba[\"year/month\"] == '2019-3'],\n",
    "         d_ba.loc[d_ba[\"year/month\"] == '2020-3']]\n"
   ]
  },
  {
   "cell_type": "code",
   "execution_count": 15,
   "id": "347a9197",
   "metadata": {},
   "outputs": [
    {
     "data": {
      "text/html": [
       "<div>\n",
       "<style scoped>\n",
       "    .dataframe tbody tr th:only-of-type {\n",
       "        vertical-align: middle;\n",
       "    }\n",
       "\n",
       "    .dataframe tbody tr th {\n",
       "        vertical-align: top;\n",
       "    }\n",
       "\n",
       "    .dataframe thead th {\n",
       "        text-align: right;\n",
       "    }\n",
       "</style>\n",
       "<table border=\"1\" class=\"dataframe\">\n",
       "  <thead>\n",
       "    <tr style=\"text-align: right;\">\n",
       "      <th></th>\n",
       "      <th>year/month</th>\n",
       "      <th>1</th>\n",
       "      <th>2</th>\n",
       "      <th>3</th>\n",
       "      <th>4</th>\n",
       "      <th>5</th>\n",
       "      <th>6</th>\n",
       "      <th>7</th>\n",
       "      <th>8</th>\n",
       "      <th>9</th>\n",
       "      <th>...</th>\n",
       "      <th>23</th>\n",
       "      <th>24</th>\n",
       "      <th>25</th>\n",
       "      <th>26</th>\n",
       "      <th>27</th>\n",
       "      <th>28</th>\n",
       "      <th>29</th>\n",
       "      <th>30</th>\n",
       "      <th>31</th>\n",
       "      <th>Mean</th>\n",
       "    </tr>\n",
       "  </thead>\n",
       "  <tbody>\n",
       "    <tr>\n",
       "      <th>2</th>\n",
       "      <td>1989- 3</td>\n",
       "      <td>0.0</td>\n",
       "      <td>40.6</td>\n",
       "      <td>0.0</td>\n",
       "      <td>0.0</td>\n",
       "      <td>0.0</td>\n",
       "      <td>0.0</td>\n",
       "      <td>0.0</td>\n",
       "      <td>5.1</td>\n",
       "      <td>10.2</td>\n",
       "      <td>...</td>\n",
       "      <td>0.0</td>\n",
       "      <td>0.0</td>\n",
       "      <td>0.0</td>\n",
       "      <td>0.0</td>\n",
       "      <td>0.0</td>\n",
       "      <td>0.0</td>\n",
       "      <td>0.0</td>\n",
       "      <td>0.0</td>\n",
       "      <td>0.0</td>\n",
       "      <td>2.458065</td>\n",
       "    </tr>\n",
       "    <tr>\n",
       "      <th>14</th>\n",
       "      <td>1990- 3</td>\n",
       "      <td>0.0</td>\n",
       "      <td>0.0</td>\n",
       "      <td>0.0</td>\n",
       "      <td>11.4</td>\n",
       "      <td>7.6</td>\n",
       "      <td>27.9</td>\n",
       "      <td>2.8</td>\n",
       "      <td>33.0</td>\n",
       "      <td>7.6</td>\n",
       "      <td>...</td>\n",
       "      <td>50.8</td>\n",
       "      <td>15.2</td>\n",
       "      <td>0.0</td>\n",
       "      <td>14.0</td>\n",
       "      <td>0.0</td>\n",
       "      <td>0.0</td>\n",
       "      <td>5.8</td>\n",
       "      <td>2.3</td>\n",
       "      <td>2.3</td>\n",
       "      <td>11.490323</td>\n",
       "    </tr>\n",
       "    <tr>\n",
       "      <th>26</th>\n",
       "      <td>1991- 3</td>\n",
       "      <td>0.0</td>\n",
       "      <td>0.0</td>\n",
       "      <td>9.1</td>\n",
       "      <td>14.0</td>\n",
       "      <td>11.4</td>\n",
       "      <td>0.0</td>\n",
       "      <td>0.0</td>\n",
       "      <td>0.0</td>\n",
       "      <td>0.0</td>\n",
       "      <td>...</td>\n",
       "      <td>6.4</td>\n",
       "      <td>0.0</td>\n",
       "      <td>14.5</td>\n",
       "      <td>0.0</td>\n",
       "      <td>0.0</td>\n",
       "      <td>4.6</td>\n",
       "      <td>1.8</td>\n",
       "      <td>0.0</td>\n",
       "      <td>0.0</td>\n",
       "      <td>2.280645</td>\n",
       "    </tr>\n",
       "    <tr>\n",
       "      <th>38</th>\n",
       "      <td>1992- 3</td>\n",
       "      <td>0.0</td>\n",
       "      <td>0.0</td>\n",
       "      <td>0.0</td>\n",
       "      <td>0.0</td>\n",
       "      <td>0.0</td>\n",
       "      <td>0.0</td>\n",
       "      <td>0.0</td>\n",
       "      <td>0.0</td>\n",
       "      <td>0.0</td>\n",
       "      <td>...</td>\n",
       "      <td>0.0</td>\n",
       "      <td>0.0</td>\n",
       "      <td>0.0</td>\n",
       "      <td>0.0</td>\n",
       "      <td>0.0</td>\n",
       "      <td>0.0</td>\n",
       "      <td>0.0</td>\n",
       "      <td>0.0</td>\n",
       "      <td>0.0</td>\n",
       "      <td>0.000000</td>\n",
       "    </tr>\n",
       "    <tr>\n",
       "      <th>50</th>\n",
       "      <td>1993- 3</td>\n",
       "      <td>60.0</td>\n",
       "      <td>2.5</td>\n",
       "      <td>0.0</td>\n",
       "      <td>2.0</td>\n",
       "      <td>0.0</td>\n",
       "      <td>0.0</td>\n",
       "      <td>0.0</td>\n",
       "      <td>0.0</td>\n",
       "      <td>0.0</td>\n",
       "      <td>...</td>\n",
       "      <td>65.2</td>\n",
       "      <td>30.1</td>\n",
       "      <td>9.0</td>\n",
       "      <td>22.4</td>\n",
       "      <td>0.4</td>\n",
       "      <td>0.0</td>\n",
       "      <td>0.0</td>\n",
       "      <td>0.0</td>\n",
       "      <td>0.0</td>\n",
       "      <td>6.896774</td>\n",
       "    </tr>\n",
       "  </tbody>\n",
       "</table>\n",
       "<p>5 rows × 33 columns</p>\n",
       "</div>"
      ],
      "text/plain": [
       "   year/month     1     2    3     4     5     6    7     8     9  ...    23  \\\n",
       "2     1989- 3   0.0  40.6  0.0   0.0   0.0   0.0  0.0   5.1  10.2  ...   0.0   \n",
       "14    1990- 3   0.0   0.0  0.0  11.4   7.6  27.9  2.8  33.0   7.6  ...  50.8   \n",
       "26    1991- 3   0.0   0.0  9.1  14.0  11.4   0.0  0.0   0.0   0.0  ...   6.4   \n",
       "38    1992- 3   0.0   0.0  0.0   0.0   0.0   0.0  0.0   0.0   0.0  ...   0.0   \n",
       "50    1993- 3  60.0   2.5  0.0   2.0   0.0   0.0  0.0   0.0   0.0  ...  65.2   \n",
       "\n",
       "      24    25    26   27   28   29   30   31       Mean  \n",
       "2    0.0   0.0   0.0  0.0  0.0  0.0  0.0  0.0   2.458065  \n",
       "14  15.2   0.0  14.0  0.0  0.0  5.8  2.3  2.3  11.490323  \n",
       "26   0.0  14.5   0.0  0.0  4.6  1.8  0.0  0.0   2.280645  \n",
       "38   0.0   0.0   0.0  0.0  0.0  0.0  0.0  0.0   0.000000  \n",
       "50  30.1   9.0  22.4  0.4  0.0  0.0  0.0  0.0   6.896774  \n",
       "\n",
       "[5 rows x 33 columns]"
      ]
     },
     "execution_count": 15,
     "metadata": {},
     "output_type": "execute_result"
    }
   ],
   "source": [
    "df_mar = pd.concat(data3, axis=0  )\n",
    "df_mar.head()"
   ]
  },
  {
   "cell_type": "code",
   "execution_count": 16,
   "id": "653451a2",
   "metadata": {},
   "outputs": [
    {
     "data": {
      "text/plain": [
       "<AxesSubplot:xlabel='year/month'>"
      ]
     },
     "execution_count": 16,
     "metadata": {},
     "output_type": "execute_result"
    },
    {
     "data": {
      "image/png": "[encoded data removed]",
      "text/plain": [
       "<Figure size 432x288 with 1 Axes>"
      ]
     },
     "metadata": {
      "needs_background": "light"
     },
     "output_type": "display_data"
    }
   ],
   "source": [
    "df_mar['year/month'] = pd.to_datetime(df_mar['year/month'])\n",
    "df_mar.set_index('year/month' , inplace=True)\n",
    "analysis3 = df_mar[\"Mean\"].copy()\n",
    "decompose_res_mult = seasonal_decompose(analysis3  )\n",
    "decompose_res_mult.trend.plot()"
   ]
  },
  {
   "cell_type": "code",
   "execution_count": null,
   "id": "9ec7bc76",
   "metadata": {},
   "outputs": [],
   "source": []
  },
  {
   "cell_type": "markdown",
   "id": "46f996e2",
   "metadata": {},
   "source": [
    "APR"
   ]
  },
  {
   "cell_type": "code",
   "execution_count": null,
   "id": "fba4bf79",
   "metadata": {},
   "outputs": [],
   "source": []
  },
  {
   "cell_type": "code",
   "execution_count": 17,
   "id": "e8622f98",
   "metadata": {},
   "outputs": [
    {
     "data": {
      "text/plain": [
       "<AxesSubplot:xlabel='year/month'>"
      ]
     },
     "execution_count": 17,
     "metadata": {},
     "output_type": "execute_result"
    },
    {
     "data": {
      "image/png": "[encoded data removed]",
      "text/plain": [
       "<Figure size 432x288 with 1 Axes>"
      ]
     },
     "metadata": {
      "needs_background": "light"
     },
     "output_type": "display_data"
    }
   ],
   "source": [
    "data4 = [d_ba.loc[d_ba[\"year/month\"] == '1989- 4'],\n",
    "         d_ba.loc[d_ba[\"year/month\"] == '1990- 4'],\n",
    "         d_ba.loc[d_ba[\"year/month\"] == '1991- 4'],\n",
    "         d_ba.loc[d_ba[\"year/month\"] == '1992- 4'],\n",
    "         d_ba.loc[d_ba[\"year/month\"] == '1993- 4'],\n",
    "         d_ba.loc[d_ba[\"year/month\"] == '1994- 4'],\n",
    "         d_ba.loc[d_ba[\"year/month\"] == '1995- 4'],\n",
    "         d_ba.loc[d_ba[\"year/month\"] == '1996- 4'],\n",
    "         d_ba.loc[d_ba[\"year/month\"] == '1997- 4'],\n",
    "         d_ba.loc[d_ba[\"year/month\"] == '1998- 4'],\n",
    "         d_ba.loc[d_ba[\"year/month\"] == '1999- 4'],\n",
    "         d_ba.loc[d_ba[\"year/month\"] == '2000-4'],\n",
    "         d_ba.loc[d_ba[\"year/month\"] == '2001-4'],\n",
    "         d_ba.loc[d_ba[\"year/month\"] == '2002-4'],\n",
    "         d_ba.loc[d_ba[\"year/month\"] == '2003-4'],\n",
    "         d_ba.loc[d_ba[\"year/month\"] == '2004-4'],\n",
    "         d_ba.loc[d_ba[\"year/month\"] == '2005-4'],\n",
    "         d_ba.loc[d_ba[\"year/month\"] == '2006-4'],\n",
    "         d_ba.loc[d_ba[\"year/month\"] == '2007-4'],\n",
    "         d_ba.loc[d_ba[\"year/month\"] == '2008-4'],\n",
    "         d_ba.loc[d_ba[\"year/month\"] == '2009-4'],\n",
    "         d_ba.loc[d_ba[\"year/month\"] == '2010-4'],\n",
    "         d_ba.loc[d_ba[\"year/month\"] == '2011-4'],\n",
    "         d_ba.loc[d_ba[\"year/month\"] == '2012-4'],\n",
    "         d_ba.loc[d_ba[\"year/month\"] == '2013-4'],\n",
    "         d_ba.loc[d_ba[\"year/month\"] == '2014-4'],\n",
    "         d_ba.loc[d_ba[\"year/month\"] == '2015-4'],\n",
    "         d_ba.loc[d_ba[\"year/month\"] == '2016-4'],\n",
    "         d_ba.loc[d_ba[\"year/month\"] == '2017-4'],\n",
    "         d_ba.loc[d_ba[\"year/month\"] == '2018-4'],\n",
    "         d_ba.loc[d_ba[\"year/month\"] == '2019-4'],\n",
    "         d_ba.loc[d_ba[\"year/month\"] == '2020-4']]\n",
    "\n",
    "df_apr = pd.concat(data4, axis=0  )\n",
    "df_apr.head()\n",
    "\n",
    "df_apr['year/month'] = pd.to_datetime(df_apr['year/month'])\n",
    "df_apr.set_index('year/month' , inplace=True)\n",
    "analysis4 = df_apr[\"Mean\"].copy()\n",
    "decompose_res_mult = seasonal_decompose(analysis4  )\n",
    "decompose_res_mult.trend.plot()"
   ]
  },
  {
   "cell_type": "code",
   "execution_count": null,
   "id": "13219a72",
   "metadata": {},
   "outputs": [],
   "source": []
  },
  {
   "cell_type": "markdown",
   "id": "c2e5b59d",
   "metadata": {},
   "source": [
    "MAY"
   ]
  },
  {
   "cell_type": "code",
   "execution_count": null,
   "id": "6597cfd7",
   "metadata": {},
   "outputs": [],
   "source": []
  },
  {
   "cell_type": "code",
   "execution_count": 18,
   "id": "a3f3e940",
   "metadata": {},
   "outputs": [
    {
     "data": {
      "text/plain": [
       "<AxesSubplot:xlabel='year/month'>"
      ]
     },
     "execution_count": 18,
     "metadata": {},
     "output_type": "execute_result"
    },
    {
     "data": {
      "image/png": "[encoded data removed]",
      "text/plain": [
       "<Figure size 432x288 with 1 Axes>"
      ]
     },
     "metadata": {
      "needs_background": "light"
     },
     "output_type": "display_data"
    }
   ],
   "source": [
    "data5 = [d_ba.loc[d_ba[\"year/month\"] == '1989- 5'],\n",
    "         d_ba.loc[d_ba[\"year/month\"] == '1990- 5'],\n",
    "         d_ba.loc[d_ba[\"year/month\"] == '1991- 5'],\n",
    "         d_ba.loc[d_ba[\"year/month\"] == '1992- 5'],\n",
    "         d_ba.loc[d_ba[\"year/month\"] == '1993- 5'],\n",
    "         d_ba.loc[d_ba[\"year/month\"] == '1994- 5'],\n",
    "         d_ba.loc[d_ba[\"year/month\"] == '1995- 5'],\n",
    "         d_ba.loc[d_ba[\"year/month\"] == '1996- 5'],\n",
    "         d_ba.loc[d_ba[\"year/month\"] == '1997- 5'],\n",
    "         d_ba.loc[d_ba[\"year/month\"] == '1998- 5'],\n",
    "         d_ba.loc[d_ba[\"year/month\"] == '1999- 5'],\n",
    "         d_ba.loc[d_ba[\"year/month\"] == '2000-5'],\n",
    "         d_ba.loc[d_ba[\"year/month\"] == '2001-5'],\n",
    "         d_ba.loc[d_ba[\"year/month\"] == '2002-5'],\n",
    "         d_ba.loc[d_ba[\"year/month\"] == '2003-5'],\n",
    "         d_ba.loc[d_ba[\"year/month\"] == '2004-5'],\n",
    "         d_ba.loc[d_ba[\"year/month\"] == '2005-5'],\n",
    "         d_ba.loc[d_ba[\"year/month\"] == '2006-5'],\n",
    "         d_ba.loc[d_ba[\"year/month\"] == '2007-5'],\n",
    "         d_ba.loc[d_ba[\"year/month\"] == '2008-5'],\n",
    "         d_ba.loc[d_ba[\"year/month\"] == '2009-5'],\n",
    "         d_ba.loc[d_ba[\"year/month\"] == '2010-5'],\n",
    "         d_ba.loc[d_ba[\"year/month\"] == '2011-5'],\n",
    "         d_ba.loc[d_ba[\"year/month\"] == '2012-5'],\n",
    "         d_ba.loc[d_ba[\"year/month\"] == '2013-5'],\n",
    "         d_ba.loc[d_ba[\"year/month\"] == '2014-5'],\n",
    "         d_ba.loc[d_ba[\"year/month\"] == '2015-5'],\n",
    "         d_ba.loc[d_ba[\"year/month\"] == '2016-5'],\n",
    "         d_ba.loc[d_ba[\"year/month\"] == '2017-5'],\n",
    "         d_ba.loc[d_ba[\"year/month\"] == '2018-5'],\n",
    "         d_ba.loc[d_ba[\"year/month\"] == '2019-5'],\n",
    "         d_ba.loc[d_ba[\"year/month\"] == '2020-5']]\n",
    "\n",
    "df_may = pd.concat(data5, axis=0  )\n",
    "df_may.head()\n",
    "\n",
    "df_may['year/month'] = pd.to_datetime(df_may['year/month'])\n",
    "df_may.set_index('year/month' , inplace=True)\n",
    "analysis5 = df_may[\"Mean\"].copy()\n",
    "decompose_res_mult = seasonal_decompose(analysis5  )\n",
    "decompose_res_mult.trend.plot()"
   ]
  },
  {
   "cell_type": "code",
   "execution_count": null,
   "id": "2d6ff5e1",
   "metadata": {},
   "outputs": [],
   "source": []
  },
  {
   "cell_type": "markdown",
   "id": "b6381b2d",
   "metadata": {},
   "source": [
    "JUN"
   ]
  },
  {
   "cell_type": "code",
   "execution_count": null,
   "id": "f62c0098",
   "metadata": {},
   "outputs": [],
   "source": []
  },
  {
   "cell_type": "code",
   "execution_count": 19,
   "id": "a8de9171",
   "metadata": {},
   "outputs": [
    {
     "data": {
      "text/plain": [
       "<AxesSubplot:xlabel='year/month'>"
      ]
     },
     "execution_count": 19,
     "metadata": {},
     "output_type": "execute_result"
    },
    {
     "data": {
      "image/png": "[encoded data removed]",
      "text/plain": [
       "<Figure size 432x288 with 1 Axes>"
      ]
     },
     "metadata": {
      "needs_background": "light"
     },
     "output_type": "display_data"
    }
   ],
   "source": [
    "data6 = [d_ba.loc[d_ba[\"year/month\"] == '1989- 6'],\n",
    "         d_ba.loc[d_ba[\"year/month\"] == '1990- 6'],\n",
    "         d_ba.loc[d_ba[\"year/month\"] == '1991- 6'],\n",
    "         d_ba.loc[d_ba[\"year/month\"] == '1992- 6'],\n",
    "         d_ba.loc[d_ba[\"year/month\"] == '1993- 6'],\n",
    "         d_ba.loc[d_ba[\"year/month\"] == '1994- 6'],\n",
    "         d_ba.loc[d_ba[\"year/month\"] == '1995- 6'],\n",
    "         d_ba.loc[d_ba[\"year/month\"] == '1996- 6'],\n",
    "         d_ba.loc[d_ba[\"year/month\"] == '1997- 6'],\n",
    "         d_ba.loc[d_ba[\"year/month\"] == '1998- 6'],\n",
    "         d_ba.loc[d_ba[\"year/month\"] == '1999- 6'],\n",
    "         d_ba.loc[d_ba[\"year/month\"] == '2000-6'],\n",
    "         d_ba.loc[d_ba[\"year/month\"] == '2001-6'],\n",
    "         d_ba.loc[d_ba[\"year/month\"] == '2002-6'],\n",
    "         d_ba.loc[d_ba[\"year/month\"] == '2003-6'],\n",
    "         d_ba.loc[d_ba[\"year/month\"] == '2004-6'],\n",
    "         d_ba.loc[d_ba[\"year/month\"] == '2005-6'],\n",
    "         d_ba.loc[d_ba[\"year/month\"] == '2006-6'],\n",
    "         d_ba.loc[d_ba[\"year/month\"] == '2007-6'],\n",
    "         d_ba.loc[d_ba[\"year/month\"] == '2008-6'],\n",
    "         d_ba.loc[d_ba[\"year/month\"] == '2009-6'],\n",
    "         d_ba.loc[d_ba[\"year/month\"] == '2010-6'],\n",
    "         d_ba.loc[d_ba[\"year/month\"] == '2011-6'],\n",
    "         d_ba.loc[d_ba[\"year/month\"] == '2012-6'],\n",
    "         d_ba.loc[d_ba[\"year/month\"] == '2013-6'],\n",
    "         d_ba.loc[d_ba[\"year/month\"] == '2014-6'],\n",
    "         d_ba.loc[d_ba[\"year/month\"] == '2015-6'],\n",
    "         d_ba.loc[d_ba[\"year/month\"] == '2016-6'],\n",
    "         d_ba.loc[d_ba[\"year/month\"] == '2017-6'],\n",
    "         d_ba.loc[d_ba[\"year/month\"] == '2018-6'],\n",
    "         d_ba.loc[d_ba[\"year/month\"] == '2019-6'],\n",
    "         d_ba.loc[d_ba[\"year/month\"] == '2020-6']]\n",
    "\n",
    "df_jun = pd.concat(data6, axis=0  )\n",
    "df_jun.head()\n",
    "\n",
    "df_jun['year/month'] = pd.to_datetime(df_jun['year/month'])\n",
    "df_jun.set_index('year/month' , inplace=True)\n",
    "analysis6 = df_jun[\"Mean\"].copy()\n",
    "decompose_res_mult = seasonal_decompose(analysis6  )\n",
    "decompose_res_mult.trend.plot()"
   ]
  },
  {
   "cell_type": "code",
   "execution_count": null,
   "id": "678fec3a",
   "metadata": {},
   "outputs": [],
   "source": []
  },
  {
   "cell_type": "markdown",
   "id": "d1642d90",
   "metadata": {},
   "source": [
    "JUL"
   ]
  },
  {
   "cell_type": "code",
   "execution_count": null,
   "id": "0254f868",
   "metadata": {},
   "outputs": [],
   "source": []
  },
  {
   "cell_type": "code",
   "execution_count": 20,
   "id": "0b7366e7",
   "metadata": {},
   "outputs": [
    {
     "data": {
      "text/plain": [
       "<AxesSubplot:xlabel='year/month'>"
      ]
     },
     "execution_count": 20,
     "metadata": {},
     "output_type": "execute_result"
    },
    {
     "data": {
      "image/png": "[encoded data removed]",
      "text/plain": [
       "<Figure size 432x288 with 1 Axes>"
      ]
     },
     "metadata": {
      "needs_background": "light"
     },
     "output_type": "display_data"
    }
   ],
   "source": [
    "data7 = [d_ba.loc[d_ba[\"year/month\"] == '1989- 7'],\n",
    "         d_ba.loc[d_ba[\"year/month\"] == '1990- 7'],\n",
    "         d_ba.loc[d_ba[\"year/month\"] == '1991- 7'],\n",
    "         d_ba.loc[d_ba[\"year/month\"] == '1992- 7'],\n",
    "         d_ba.loc[d_ba[\"year/month\"] == '1993- 7'],\n",
    "         d_ba.loc[d_ba[\"year/month\"] == '1994- 7'],\n",
    "         d_ba.loc[d_ba[\"year/month\"] == '1995- 7'],\n",
    "         d_ba.loc[d_ba[\"year/month\"] == '1996- 7'],\n",
    "         d_ba.loc[d_ba[\"year/month\"] == '1997- 7'],\n",
    "         d_ba.loc[d_ba[\"year/month\"] == '1998- 7'],\n",
    "         d_ba.loc[d_ba[\"year/month\"] == '1999- 7'],\n",
    "         d_ba.loc[d_ba[\"year/month\"] == '2000-7'],\n",
    "         d_ba.loc[d_ba[\"year/month\"] == '2001-7'],\n",
    "         d_ba.loc[d_ba[\"year/month\"] == '2002-7'],\n",
    "         d_ba.loc[d_ba[\"year/month\"] == '2003-7'],\n",
    "         d_ba.loc[d_ba[\"year/month\"] == '2004-7'],\n",
    "         d_ba.loc[d_ba[\"year/month\"] == '2005-7'],\n",
    "         d_ba.loc[d_ba[\"year/month\"] == '2006-7'],\n",
    "         d_ba.loc[d_ba[\"year/month\"] == '2007-7'],\n",
    "         d_ba.loc[d_ba[\"year/month\"] == '2008-7'],\n",
    "         d_ba.loc[d_ba[\"year/month\"] == '2009-7'],\n",
    "         d_ba.loc[d_ba[\"year/month\"] == '2010-7'],\n",
    "         d_ba.loc[d_ba[\"year/month\"] == '2011-7'],\n",
    "         d_ba.loc[d_ba[\"year/month\"] == '2012-7'],\n",
    "         d_ba.loc[d_ba[\"year/month\"] == '2013-7'],\n",
    "         d_ba.loc[d_ba[\"year/month\"] == '2014-7'],\n",
    "         d_ba.loc[d_ba[\"year/month\"] == '2015-7'],\n",
    "         d_ba.loc[d_ba[\"year/month\"] == '2016-7'],\n",
    "         d_ba.loc[d_ba[\"year/month\"] == '2017-7'],\n",
    "         d_ba.loc[d_ba[\"year/month\"] == '2018-7'],\n",
    "         d_ba.loc[d_ba[\"year/month\"] == '2019-7'],\n",
    "         d_ba.loc[d_ba[\"year/month\"] == '2020-7']]\n",
    "\n",
    "df_jul = pd.concat(data7, axis=0  )\n",
    "df_jul.head()\n",
    "\n",
    "df_jul['year/month'] = pd.to_datetime(df_jul['year/month'])\n",
    "df_jul.set_index('year/month' , inplace=True)\n",
    "analysis7 = df_jul[\"Mean\"].copy()\n",
    "decompose_res_mult = seasonal_decompose(analysis7  )\n",
    "decompose_res_mult.trend.plot()"
   ]
  },
  {
   "cell_type": "code",
   "execution_count": null,
   "id": "99836770",
   "metadata": {},
   "outputs": [],
   "source": []
  },
  {
   "cell_type": "markdown",
   "id": "64cad76a",
   "metadata": {},
   "source": [
    "AUG"
   ]
  },
  {
   "cell_type": "code",
   "execution_count": null,
   "id": "ba8f7045",
   "metadata": {},
   "outputs": [],
   "source": []
  },
  {
   "cell_type": "code",
   "execution_count": 21,
   "id": "bfeedd82",
   "metadata": {},
   "outputs": [
    {
     "data": {
      "text/plain": [
       "<AxesSubplot:xlabel='year/month'>"
      ]
     },
     "execution_count": 21,
     "metadata": {},
     "output_type": "execute_result"
    },
    {
     "data": {
      "image/png": "[encoded data removed]",
      "text/plain": [
       "<Figure size 432x288 with 1 Axes>"
      ]
     },
     "metadata": {
      "needs_background": "light"
     },
     "output_type": "display_data"
    }
   ],
   "source": [
    "data8 = [d_ba.loc[d_ba[\"year/month\"] == '1989- 8'],\n",
    "         d_ba.loc[d_ba[\"year/month\"] == '1990- 8'],\n",
    "         d_ba.loc[d_ba[\"year/month\"] == '1991- 8'],\n",
    "         d_ba.loc[d_ba[\"year/month\"] == '1992- 8'],\n",
    "         d_ba.loc[d_ba[\"year/month\"] == '1993- 8'],\n",
    "         d_ba.loc[d_ba[\"year/month\"] == '1994- 8'],\n",
    "         d_ba.loc[d_ba[\"year/month\"] == '1995- 8'],\n",
    "         d_ba.loc[d_ba[\"year/month\"] == '1996- 8'],\n",
    "         d_ba.loc[d_ba[\"year/month\"] == '1997- 8'],\n",
    "         d_ba.loc[d_ba[\"year/month\"] == '1998- 8'],\n",
    "         d_ba.loc[d_ba[\"year/month\"] == '1999- 8'],\n",
    "         d_ba.loc[d_ba[\"year/month\"] == '2000-8'],\n",
    "         d_ba.loc[d_ba[\"year/month\"] == '2001-8'],\n",
    "         d_ba.loc[d_ba[\"year/month\"] == '2002-8'],\n",
    "         d_ba.loc[d_ba[\"year/month\"] == '2003-8'],\n",
    "         d_ba.loc[d_ba[\"year/month\"] == '2004-8'],\n",
    "         d_ba.loc[d_ba[\"year/month\"] == '2005-8'],\n",
    "         d_ba.loc[d_ba[\"year/month\"] == '2006-8'],\n",
    "         d_ba.loc[d_ba[\"year/month\"] == '2007-8'],\n",
    "         d_ba.loc[d_ba[\"year/month\"] == '2008-8'],\n",
    "         d_ba.loc[d_ba[\"year/month\"] == '2009-8'],\n",
    "         d_ba.loc[d_ba[\"year/month\"] == '2010-8'],\n",
    "         d_ba.loc[d_ba[\"year/month\"] == '2011-8'],\n",
    "         d_ba.loc[d_ba[\"year/month\"] == '2012-8'],\n",
    "         d_ba.loc[d_ba[\"year/month\"] == '2013-8'],\n",
    "         d_ba.loc[d_ba[\"year/month\"] == '2014-8'],\n",
    "         d_ba.loc[d_ba[\"year/month\"] == '2015-8'],\n",
    "         d_ba.loc[d_ba[\"year/month\"] == '2016-8'],\n",
    "         d_ba.loc[d_ba[\"year/month\"] == '2017-8'],\n",
    "         d_ba.loc[d_ba[\"year/month\"] == '2018-8'],\n",
    "         d_ba.loc[d_ba[\"year/month\"] == '2019-8'],\n",
    "         d_ba.loc[d_ba[\"year/month\"] == '2020-8']]\n",
    "\n",
    "df_aug = pd.concat(data8, axis=0  )\n",
    "df_aug.head()\n",
    "\n",
    "df_aug['year/month'] = pd.to_datetime(df_aug['year/month'])\n",
    "df_aug.set_index('year/month' , inplace=True)\n",
    "analysis8 = df_aug[\"Mean\"].copy()\n",
    "decompose_res_mult = seasonal_decompose(analysis8  )\n",
    "decompose_res_mult.trend.plot()"
   ]
  },
  {
   "cell_type": "code",
   "execution_count": null,
   "id": "8b81d666",
   "metadata": {},
   "outputs": [],
   "source": []
  },
  {
   "cell_type": "markdown",
   "id": "86236e72",
   "metadata": {},
   "source": [
    "SEP"
   ]
  },
  {
   "cell_type": "code",
   "execution_count": null,
   "id": "d7b75f09",
   "metadata": {},
   "outputs": [],
   "source": []
  },
  {
   "cell_type": "code",
   "execution_count": 22,
   "id": "d32126c2",
   "metadata": {},
   "outputs": [
    {
     "data": {
      "text/plain": [
       "<AxesSubplot:xlabel='year/month'>"
      ]
     },
     "execution_count": 22,
     "metadata": {},
     "output_type": "execute_result"
    },
    {
     "data": {
      "image/png": "[encoded data removed]",
      "text/plain": [
       "<Figure size 432x288 with 1 Axes>"
      ]
     },
     "metadata": {
      "needs_background": "light"
     },
     "output_type": "display_data"
    }
   ],
   "source": [
    "data9 = [d_ba.loc[d_ba[\"year/month\"] == '1989- 9'],\n",
    "         d_ba.loc[d_ba[\"year/month\"] == '1990- 9'],\n",
    "         d_ba.loc[d_ba[\"year/month\"] == '1991- 9'],\n",
    "         d_ba.loc[d_ba[\"year/month\"] == '1992- 9'],\n",
    "         d_ba.loc[d_ba[\"year/month\"] == '1993- 9'],\n",
    "         d_ba.loc[d_ba[\"year/month\"] == '1994- 9'],\n",
    "         d_ba.loc[d_ba[\"year/month\"] == '1995- 9'],\n",
    "         d_ba.loc[d_ba[\"year/month\"] == '1996- 9'],\n",
    "         d_ba.loc[d_ba[\"year/month\"] == '1997- 9'],\n",
    "         d_ba.loc[d_ba[\"year/month\"] == '1998- 9'],\n",
    "         d_ba.loc[d_ba[\"year/month\"] == '1999- 9'],\n",
    "         d_ba.loc[d_ba[\"year/month\"] == '2000-9'],\n",
    "         d_ba.loc[d_ba[\"year/month\"] == '2001-9'],\n",
    "         d_ba.loc[d_ba[\"year/month\"] == '2002-9'],\n",
    "         d_ba.loc[d_ba[\"year/month\"] == '2003-9'],\n",
    "         d_ba.loc[d_ba[\"year/month\"] == '2004-9'],\n",
    "         d_ba.loc[d_ba[\"year/month\"] == '2005-9'],\n",
    "         d_ba.loc[d_ba[\"year/month\"] == '2006-9'],\n",
    "         d_ba.loc[d_ba[\"year/month\"] == '2007-9'],\n",
    "         d_ba.loc[d_ba[\"year/month\"] == '2008-9'],\n",
    "         d_ba.loc[d_ba[\"year/month\"] == '2009-9'],\n",
    "         d_ba.loc[d_ba[\"year/month\"] == '2010-9'],\n",
    "         d_ba.loc[d_ba[\"year/month\"] == '2011-9'],\n",
    "         d_ba.loc[d_ba[\"year/month\"] == '2012-9'],\n",
    "         d_ba.loc[d_ba[\"year/month\"] == '2013-9'],\n",
    "         d_ba.loc[d_ba[\"year/month\"] == '2014-9'],\n",
    "         d_ba.loc[d_ba[\"year/month\"] == '2015-9'],\n",
    "         d_ba.loc[d_ba[\"year/month\"] == '2016-9'],\n",
    "         d_ba.loc[d_ba[\"year/month\"] == '2017-9'],\n",
    "         d_ba.loc[d_ba[\"year/month\"] == '2018-9'],\n",
    "         d_ba.loc[d_ba[\"year/month\"] == '2019-9'],\n",
    "         d_ba.loc[d_ba[\"year/month\"] == '2020-9']]\n",
    "\n",
    "df_sep = pd.concat(data9, axis=0  )\n",
    "df_sep.head()\n",
    "\n",
    "df_sep['year/month'] = pd.to_datetime(df_sep['year/month'])\n",
    "df_sep.set_index('year/month' , inplace=True)\n",
    "analysis9 = df_sep[\"Mean\"].copy()\n",
    "decompose_res_mult = seasonal_decompose(analysis9  )\n",
    "decompose_res_mult.trend.plot()"
   ]
  },
  {
   "cell_type": "code",
   "execution_count": null,
   "id": "8f7b00a1",
   "metadata": {},
   "outputs": [],
   "source": []
  },
  {
   "cell_type": "markdown",
   "id": "5283b0cf",
   "metadata": {},
   "source": [
    "OCT"
   ]
  },
  {
   "cell_type": "code",
   "execution_count": null,
   "id": "a867efd4",
   "metadata": {},
   "outputs": [],
   "source": []
  },
  {
   "cell_type": "code",
   "execution_count": 23,
   "id": "c9cd5690",
   "metadata": {},
   "outputs": [
    {
     "data": {
      "text/plain": [
       "<AxesSubplot:xlabel='year/month'>"
      ]
     },
     "execution_count": 23,
     "metadata": {},
     "output_type": "execute_result"
    },
    {
     "data": {
      "image/png": "[encoded data removed]",
      "text/plain": [
       "<Figure size 432x288 with 1 Axes>"
      ]
     },
     "metadata": {
      "needs_background": "light"
     },
     "output_type": "display_data"
    }
   ],
   "source": [
    "data10 = [d_ba.loc[d_ba[\"year/month\"] == '1989-10'],\n",
    "         d_ba.loc[d_ba[\"year/month\"] == '1990-10'],\n",
    "         d_ba.loc[d_ba[\"year/month\"] == '1991-10'],\n",
    "         d_ba.loc[d_ba[\"year/month\"] == '1992-10'],\n",
    "         d_ba.loc[d_ba[\"year/month\"] == '1993-10'],\n",
    "         d_ba.loc[d_ba[\"year/month\"] == '1994-10'],\n",
    "         d_ba.loc[d_ba[\"year/month\"] == '1995-10'],\n",
    "         d_ba.loc[d_ba[\"year/month\"] == '1996- 10'],\n",
    "         d_ba.loc[d_ba[\"year/month\"] == '1997-10'],\n",
    "         d_ba.loc[d_ba[\"year/month\"] == '1998-10'],\n",
    "         d_ba.loc[d_ba[\"year/month\"] == '1999-10'],\n",
    "         d_ba.loc[d_ba[\"year/month\"] == '2000-10'],\n",
    "         d_ba.loc[d_ba[\"year/month\"] == '2001-10'],\n",
    "         d_ba.loc[d_ba[\"year/month\"] == '2002-10'],\n",
    "         d_ba.loc[d_ba[\"year/month\"] == '2003-10'],\n",
    "         d_ba.loc[d_ba[\"year/month\"] == '2004-10'],\n",
    "         d_ba.loc[d_ba[\"year/month\"] == '2005-10'],\n",
    "         d_ba.loc[d_ba[\"year/month\"] == '2006-10'],\n",
    "         d_ba.loc[d_ba[\"year/month\"] == '2007-10'],\n",
    "         d_ba.loc[d_ba[\"year/month\"] == '2008-10'],\n",
    "         d_ba.loc[d_ba[\"year/month\"] == '2009-10'],\n",
    "         d_ba.loc[d_ba[\"year/month\"] == '2010-10'],\n",
    "         d_ba.loc[d_ba[\"year/month\"] == '2011-10'],\n",
    "         d_ba.loc[d_ba[\"year/month\"] == '2012-10'],\n",
    "         d_ba.loc[d_ba[\"year/month\"] == '2013-10'],\n",
    "         d_ba.loc[d_ba[\"year/month\"] == '2014-10'],\n",
    "         d_ba.loc[d_ba[\"year/month\"] == '2015-10'],\n",
    "         d_ba.loc[d_ba[\"year/month\"] == '2016-10'],\n",
    "         d_ba.loc[d_ba[\"year/month\"] == '2017-10'],\n",
    "         d_ba.loc[d_ba[\"year/month\"] == '2018-10'],\n",
    "         d_ba.loc[d_ba[\"year/month\"] == '2019-10'],\n",
    "         d_ba.loc[d_ba[\"year/month\"] == '2020-10']]\n",
    "\n",
    "df_oct = pd.concat(data10, axis=0  )\n",
    "\n",
    "\n",
    "df_oct['year/month'] = pd.to_datetime(df_oct['year/month'])\n",
    "df_oct.set_index('year/month' , inplace=True)\n",
    "analysis10 = df_oct[\"Mean\"].copy()\n",
    "decompose_res_mult = seasonal_decompose(analysis10  )\n",
    "decompose_res_mult.trend.plot()"
   ]
  },
  {
   "cell_type": "code",
   "execution_count": null,
   "id": "dca069ac",
   "metadata": {},
   "outputs": [],
   "source": []
  },
  {
   "cell_type": "markdown",
   "id": "edb9fa4c",
   "metadata": {},
   "source": [
    "NOV"
   ]
  },
  {
   "cell_type": "code",
   "execution_count": null,
   "id": "e07bc7d9",
   "metadata": {},
   "outputs": [],
   "source": []
  },
  {
   "cell_type": "code",
   "execution_count": 25,
   "id": "64a61029",
   "metadata": {},
   "outputs": [
    {
     "data": {
      "text/plain": [
       "<AxesSubplot:xlabel='year/month'>"
      ]
     },
     "execution_count": 25,
     "metadata": {},
     "output_type": "execute_result"
    },
    {
     "data": {
      "image/png": "[encoded data removed]",
      "text/plain": [
       "<Figure size 432x288 with 1 Axes>"
      ]
     },
     "metadata": {
      "needs_background": "light"
     },
     "output_type": "display_data"
    }
   ],
   "source": [
    "data11 = [d_ba.loc[d_ba[\"year/month\"] == '1989-11'],\n",
    "         d_ba.loc[d_ba[\"year/month\"] == '1990-11'],\n",
    "         d_ba.loc[d_ba[\"year/month\"] == '1991-11'],\n",
    "         d_ba.loc[d_ba[\"year/month\"] == '1992-11'],\n",
    "         d_ba.loc[d_ba[\"year/month\"] == '1993-11'],\n",
    "         d_ba.loc[d_ba[\"year/month\"] == '1994-11'],\n",
    "         d_ba.loc[d_ba[\"year/month\"] == '1995-11'],\n",
    "         d_ba.loc[d_ba[\"year/month\"] == '1996-11'],\n",
    "         d_ba.loc[d_ba[\"year/month\"] == '1997-11'],\n",
    "         d_ba.loc[d_ba[\"year/month\"] == '1998-11'],\n",
    "         d_ba.loc[d_ba[\"year/month\"] == '1999-11'],\n",
    "         d_ba.loc[d_ba[\"year/month\"] == '2000-11'],\n",
    "         d_ba.loc[d_ba[\"year/month\"] == '2001-11'],\n",
    "         d_ba.loc[d_ba[\"year/month\"] == '2002-11'],\n",
    "         d_ba.loc[d_ba[\"year/month\"] == '2003-11'],\n",
    "         d_ba.loc[d_ba[\"year/month\"] == '2004-11'],\n",
    "         d_ba.loc[d_ba[\"year/month\"] == '2005-11'],\n",
    "         d_ba.loc[d_ba[\"year/month\"] == '2006-11'],\n",
    "         d_ba.loc[d_ba[\"year/month\"] == '2007-11'],\n",
    "         d_ba.loc[d_ba[\"year/month\"] == '2008-11'],\n",
    "         d_ba.loc[d_ba[\"year/month\"] == '2009-11'],\n",
    "         d_ba.loc[d_ba[\"year/month\"] == '2010-11'],\n",
    "         d_ba.loc[d_ba[\"year/month\"] == '2011-11'],\n",
    "         d_ba.loc[d_ba[\"year/month\"] == '2012-11'],\n",
    "         d_ba.loc[d_ba[\"year/month\"] == '2013-11'],\n",
    "         d_ba.loc[d_ba[\"year/month\"] == '2014-11'],\n",
    "         d_ba.loc[d_ba[\"year/month\"] == '2015-11'],\n",
    "         d_ba.loc[d_ba[\"year/month\"] == '2016-11'],\n",
    "         d_ba.loc[d_ba[\"year/month\"] == '2017-11'],\n",
    "         d_ba.loc[d_ba[\"year/month\"] == '2018-11'],\n",
    "         d_ba.loc[d_ba[\"year/month\"] == '2019-11'],\n",
    "         d_ba.loc[d_ba[\"year/month\"] == '2020-11']]\n",
    "\n",
    "df_nov = pd.concat(data11, axis=0  )\n",
    "\n",
    "\n",
    "df_nov['year/month'] = pd.to_datetime(df_nov['year/month'])\n",
    "df_nov.set_index('year/month' , inplace=True)\n",
    "analysis11 = df_nov[\"Mean\"].copy()\n",
    "decompose_res_mult = seasonal_decompose(analysis11  )\n",
    "decompose_res_mult.trend.plot()"
   ]
  },
  {
   "cell_type": "code",
   "execution_count": null,
   "id": "f313003d",
   "metadata": {},
   "outputs": [],
   "source": [
    "\n"
   ]
  },
  {
   "cell_type": "markdown",
   "id": "414380f2",
   "metadata": {},
   "source": [
    "DEC"
   ]
  },
  {
   "cell_type": "code",
   "execution_count": null,
   "id": "26871daa",
   "metadata": {},
   "outputs": [],
   "source": []
  },
  {
   "cell_type": "code",
   "execution_count": 26,
   "id": "53f79db2",
   "metadata": {},
   "outputs": [
    {
     "data": {
      "text/plain": [
       "<AxesSubplot:xlabel='year/month'>"
      ]
     },
     "execution_count": 26,
     "metadata": {},
     "output_type": "execute_result"
    },
    {
     "data": {
      "image/png": "[encoded data removed]",
      "text/plain": [
       "<Figure size 432x288 with 1 Axes>"
      ]
     },
     "metadata": {
      "needs_background": "light"
     },
     "output_type": "display_data"
    }
   ],
   "source": [
    "data12 = [d_ba.loc[d_ba[\"year/month\"] == '1989-12'],\n",
    "         d_ba.loc[d_ba[\"year/month\"] == '1990-12'],\n",
    "         d_ba.loc[d_ba[\"year/month\"] == '1991-12'],\n",
    "         d_ba.loc[d_ba[\"year/month\"] == '1992-12'],\n",
    "         d_ba.loc[d_ba[\"year/month\"] == '1993-12'],\n",
    "         d_ba.loc[d_ba[\"year/month\"] == '1994-12'],\n",
    "         d_ba.loc[d_ba[\"year/month\"] == '1995-12'],\n",
    "         d_ba.loc[d_ba[\"year/month\"] == '1996-12'],\n",
    "         d_ba.loc[d_ba[\"year/month\"] == '1997-12'],\n",
    "         d_ba.loc[d_ba[\"year/month\"] == '1998-12'],\n",
    "         d_ba.loc[d_ba[\"year/month\"] == '1999-12'],\n",
    "         d_ba.loc[d_ba[\"year/month\"] == '2000-12'],\n",
    "         d_ba.loc[d_ba[\"year/month\"] == '2001-12'],\n",
    "         d_ba.loc[d_ba[\"year/month\"] == '2002-12'],\n",
    "         d_ba.loc[d_ba[\"year/month\"] == '2003-12'],\n",
    "         d_ba.loc[d_ba[\"year/month\"] == '2004-12'],\n",
    "         d_ba.loc[d_ba[\"year/month\"] == '2005-12'],\n",
    "         d_ba.loc[d_ba[\"year/month\"] == '2006-12'],\n",
    "         d_ba.loc[d_ba[\"year/month\"] == '2007-12'],\n",
    "         d_ba.loc[d_ba[\"year/month\"] == '2008-12'],\n",
    "         d_ba.loc[d_ba[\"year/month\"] == '2009-12'],\n",
    "         d_ba.loc[d_ba[\"year/month\"] == '2010-12'],\n",
    "         d_ba.loc[d_ba[\"year/month\"] == '2011-12'],\n",
    "         d_ba.loc[d_ba[\"year/month\"] == '2012-12'],\n",
    "         d_ba.loc[d_ba[\"year/month\"] == '2013-12'],\n",
    "         d_ba.loc[d_ba[\"year/month\"] == '2014-12'],\n",
    "         d_ba.loc[d_ba[\"year/month\"] == '2015-12'],\n",
    "         d_ba.loc[d_ba[\"year/month\"] == '2016-12'],\n",
    "         d_ba.loc[d_ba[\"year/month\"] == '2017-12'],\n",
    "         d_ba.loc[d_ba[\"year/month\"] == '2018-12'],\n",
    "         d_ba.loc[d_ba[\"year/month\"] == '2019-12'],\n",
    "         d_ba.loc[d_ba[\"year/month\"] == '2020-12']]\n",
    "\n",
    "df_dec = pd.concat(data12, axis=0  )\n",
    "\n",
    "\n",
    "\n",
    "df_dec['year/month'] = pd.to_datetime(df_dec['year/month'])\n",
    "df_dec.set_index('year/month' , inplace=True)\n",
    "analysis12 = df_dec[\"Mean\"].copy()\n",
    "decompose_res_mult = seasonal_decompose(analysis12  )\n",
    "decompose_res_mult.trend.plot()"
   ]
  },
  {
   "cell_type": "code",
   "execution_count": null,
   "id": "2fa46205",
   "metadata": {},
   "outputs": [],
   "source": []
  }
 ],
 "metadata": {
  "kernelspec": {
   "display_name": "Python 3",
   "language": "python",
   "name": "python3"
  },
  "language_info": {
   "codemirror_mode": {
    "name": "ipython",
    "version": 3
   },
   "file_extension": ".py",
   "mimetype": "text/x-python",
   "name": "python",
   "nbconvert_exporter": "python",
   "pygments_lexer": "ipython3",
   "version": "3.8.8"
  }
 },
 "nbformat": 4,
 "nbformat_minor": 5
}
