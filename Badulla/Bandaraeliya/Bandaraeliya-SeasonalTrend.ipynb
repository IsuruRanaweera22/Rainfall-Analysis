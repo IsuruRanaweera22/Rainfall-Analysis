{
 "cells": [
  {
   "cell_type": "code",
   "execution_count": 1,
   "id": "547fc984",
   "metadata": {},
   "outputs": [],
   "source": [
    "import pandas as pd\n",
    "import matplotlib.pyplot as plt\n",
    "import numpy as np\n",
    "from statsmodels.tsa.seasonal import seasonal_decompose"
   ]
  },
  {
   "cell_type": "code",
   "execution_count": 2,
   "id": "9cb2ec63",
   "metadata": {
    "scrolled": true
   },
   "outputs": [
    {
     "data": {
      "text/html": [
       "<div>\n",
       "<style scoped>\n",
       "    .dataframe tbody tr th:only-of-type {\n",
       "        vertical-align: middle;\n",
       "    }\n",
       "\n",
       "    .dataframe tbody tr th {\n",
       "        vertical-align: top;\n",
       "    }\n",
       "\n",
       "    .dataframe thead th {\n",
       "        text-align: right;\n",
       "    }\n",
       "</style>\n",
       "<table border=\"1\" class=\"dataframe\">\n",
       "  <thead>\n",
       "    <tr style=\"text-align: right;\">\n",
       "      <th></th>\n",
       "      <th>year/month</th>\n",
       "      <th>1</th>\n",
       "      <th>2</th>\n",
       "      <th>3</th>\n",
       "      <th>4</th>\n",
       "      <th>5</th>\n",
       "      <th>6</th>\n",
       "      <th>7</th>\n",
       "      <th>8</th>\n",
       "      <th>9</th>\n",
       "      <th>...</th>\n",
       "      <th>Unnamed: 40</th>\n",
       "      <th>Seayear_2</th>\n",
       "      <th>seamean_2</th>\n",
       "      <th>Unnamed: 43</th>\n",
       "      <th>Seayear_3</th>\n",
       "      <th>seamea_3</th>\n",
       "      <th>Unnamed: 46</th>\n",
       "      <th>Unnamed: 47</th>\n",
       "      <th>Seayear_4</th>\n",
       "      <th>seamea_4</th>\n",
       "    </tr>\n",
       "  </thead>\n",
       "  <tbody>\n",
       "    <tr>\n",
       "      <th>0</th>\n",
       "      <td>1989- 1</td>\n",
       "      <td>0.0</td>\n",
       "      <td>0.0</td>\n",
       "      <td>0.0</td>\n",
       "      <td>10.2</td>\n",
       "      <td>5.1</td>\n",
       "      <td>0.0</td>\n",
       "      <td>0.0</td>\n",
       "      <td>5.1</td>\n",
       "      <td>0.0</td>\n",
       "      <td>...</td>\n",
       "      <td>NaN</td>\n",
       "      <td>1989.0</td>\n",
       "      <td>1.443871</td>\n",
       "      <td>NaN</td>\n",
       "      <td>1989.0</td>\n",
       "      <td>6.725806</td>\n",
       "      <td>NaN</td>\n",
       "      <td>NaN</td>\n",
       "      <td>1989.0</td>\n",
       "      <td>6.190323</td>\n",
       "    </tr>\n",
       "    <tr>\n",
       "      <th>1</th>\n",
       "      <td>1989- 2</td>\n",
       "      <td>0.0</td>\n",
       "      <td>0.0</td>\n",
       "      <td>0.0</td>\n",
       "      <td>0.0</td>\n",
       "      <td>0.0</td>\n",
       "      <td>0.0</td>\n",
       "      <td>0.0</td>\n",
       "      <td>0.0</td>\n",
       "      <td>0.0</td>\n",
       "      <td>...</td>\n",
       "      <td>NaN</td>\n",
       "      <td>1990.0</td>\n",
       "      <td>2.618065</td>\n",
       "      <td>NaN</td>\n",
       "      <td>1990.0</td>\n",
       "      <td>7.648387</td>\n",
       "      <td>NaN</td>\n",
       "      <td>NaN</td>\n",
       "      <td>1990.0</td>\n",
       "      <td>5.221505</td>\n",
       "    </tr>\n",
       "    <tr>\n",
       "      <th>2</th>\n",
       "      <td>1989- 3</td>\n",
       "      <td>0.0</td>\n",
       "      <td>40.6</td>\n",
       "      <td>0.0</td>\n",
       "      <td>0.0</td>\n",
       "      <td>0.0</td>\n",
       "      <td>0.0</td>\n",
       "      <td>0.0</td>\n",
       "      <td>5.1</td>\n",
       "      <td>10.2</td>\n",
       "      <td>...</td>\n",
       "      <td>NaN</td>\n",
       "      <td>1991.0</td>\n",
       "      <td>2.264516</td>\n",
       "      <td>NaN</td>\n",
       "      <td>1991.0</td>\n",
       "      <td>12.306452</td>\n",
       "      <td>NaN</td>\n",
       "      <td>NaN</td>\n",
       "      <td>1991.0</td>\n",
       "      <td>5.715054</td>\n",
       "    </tr>\n",
       "    <tr>\n",
       "      <th>3</th>\n",
       "      <td>1989- 4</td>\n",
       "      <td>0.0</td>\n",
       "      <td>0.0</td>\n",
       "      <td>35.6</td>\n",
       "      <td>0.0</td>\n",
       "      <td>0.0</td>\n",
       "      <td>0.0</td>\n",
       "      <td>0.0</td>\n",
       "      <td>0.0</td>\n",
       "      <td>0.0</td>\n",
       "      <td>...</td>\n",
       "      <td>NaN</td>\n",
       "      <td>1992.0</td>\n",
       "      <td>3.309032</td>\n",
       "      <td>NaN</td>\n",
       "      <td>1992.0</td>\n",
       "      <td>13.433871</td>\n",
       "      <td>NaN</td>\n",
       "      <td>NaN</td>\n",
       "      <td>1992.0</td>\n",
       "      <td>3.116129</td>\n",
       "    </tr>\n",
       "    <tr>\n",
       "      <th>4</th>\n",
       "      <td>1989- 5</td>\n",
       "      <td>0.0</td>\n",
       "      <td>0.0</td>\n",
       "      <td>0.0</td>\n",
       "      <td>30.5</td>\n",
       "      <td>2.5</td>\n",
       "      <td>0.0</td>\n",
       "      <td>0.0</td>\n",
       "      <td>22.9</td>\n",
       "      <td>0.0</td>\n",
       "      <td>...</td>\n",
       "      <td>NaN</td>\n",
       "      <td>1993.0</td>\n",
       "      <td>2.632903</td>\n",
       "      <td>NaN</td>\n",
       "      <td>1993.0</td>\n",
       "      <td>13.350000</td>\n",
       "      <td>NaN</td>\n",
       "      <td>NaN</td>\n",
       "      <td>1993.0</td>\n",
       "      <td>6.992473</td>\n",
       "    </tr>\n",
       "  </tbody>\n",
       "</table>\n",
       "<p>5 rows × 50 columns</p>\n",
       "</div>"
      ],
      "text/plain": [
       "  year/month    1     2     3     4    5    6    7     8     9  ...  \\\n",
       "0    1989- 1  0.0   0.0   0.0  10.2  5.1  0.0  0.0   5.1   0.0  ...   \n",
       "1    1989- 2  0.0   0.0   0.0   0.0  0.0  0.0  0.0   0.0   0.0  ...   \n",
       "2    1989- 3  0.0  40.6   0.0   0.0  0.0  0.0  0.0   5.1  10.2  ...   \n",
       "3    1989- 4  0.0   0.0  35.6   0.0  0.0  0.0  0.0   0.0   0.0  ...   \n",
       "4    1989- 5  0.0   0.0   0.0  30.5  2.5  0.0  0.0  22.9   0.0  ...   \n",
       "\n",
       "   Unnamed: 40  Seayear_2  seamean_2  Unnamed: 43  Seayear_3   seamea_3  \\\n",
       "0          NaN     1989.0   1.443871          NaN     1989.0   6.725806   \n",
       "1          NaN     1990.0   2.618065          NaN     1990.0   7.648387   \n",
       "2          NaN     1991.0   2.264516          NaN     1991.0  12.306452   \n",
       "3          NaN     1992.0   3.309032          NaN     1992.0  13.433871   \n",
       "4          NaN     1993.0   2.632903          NaN     1993.0  13.350000   \n",
       "\n",
       "   Unnamed: 46  Unnamed: 47  Seayear_4  seamea_4  \n",
       "0          NaN          NaN     1989.0  6.190323  \n",
       "1          NaN          NaN     1990.0  5.221505  \n",
       "2          NaN          NaN     1991.0  5.715054  \n",
       "3          NaN          NaN     1992.0  3.116129  \n",
       "4          NaN          NaN     1993.0  6.992473  \n",
       "\n",
       "[5 rows x 50 columns]"
      ]
     },
     "execution_count": 2,
     "metadata": {},
     "output_type": "execute_result"
    }
   ],
   "source": [
    "d_ba = pd.read_excel(\"Bandaraeliya(89-21).xls\")\n",
    "d_ba.head()\n",
    "\n"
   ]
  },
  {
   "cell_type": "code",
   "execution_count": null,
   "id": "5d86f625",
   "metadata": {},
   "outputs": [],
   "source": []
  },
  {
   "cell_type": "markdown",
   "id": "270cb5ba",
   "metadata": {},
   "source": [
    "1st monsoon"
   ]
  },
  {
   "cell_type": "code",
   "execution_count": null,
   "id": "b6d01ccc",
   "metadata": {},
   "outputs": [],
   "source": []
  },
  {
   "cell_type": "code",
   "execution_count": 3,
   "id": "88c4e16a",
   "metadata": {},
   "outputs": [],
   "source": [
    "a = d_ba['Seayear_1']\n",
    "b = d_ba['seamean_1']\n",
    "\n",
    "dAnn = pd.concat([a,b] ,axis=1)\n",
    "\n",
    "dAnn['Seayear_1'] = pd.to_datetime(dAnn.Seayear_1 , format = '%Y')\n",
    "\n",
    "dAnn = dAnn.dropna()\n",
    "dAnn['Seayear_1'] = pd.to_datetime(dAnn['Seayear_1'])"
   ]
  },
  {
   "cell_type": "code",
   "execution_count": 4,
   "id": "689e4b75",
   "metadata": {},
   "outputs": [
    {
     "data": {
      "text/plain": [
       "<AxesSubplot:xlabel='Seayear_1'>"
      ]
     },
     "execution_count": 4,
     "metadata": {},
     "output_type": "execute_result"
    },
    {
     "data": {
      "image/png": "[encoded data removed]",
      "text/plain": [
       "<Figure size 432x288 with 1 Axes>"
      ]
     },
     "metadata": {
      "needs_background": "light"
     },
     "output_type": "display_data"
    }
   ],
   "source": [
    "dAnn.set_index('Seayear_1' , inplace=True)\n",
    "analysis1 = dAnn[\"seamean_1\"].copy()\n",
    "decompose_res_mult = seasonal_decompose(analysis1)\n",
    "decompose_res_mult.trend.plot()"
   ]
  },
  {
   "cell_type": "code",
   "execution_count": null,
   "id": "f80f2807",
   "metadata": {},
   "outputs": [],
   "source": []
  },
  {
   "cell_type": "markdown",
   "id": "2581ce63",
   "metadata": {},
   "source": [
    "2nd monsoon"
   ]
  },
  {
   "cell_type": "code",
   "execution_count": null,
   "id": "633bb8fc",
   "metadata": {},
   "outputs": [],
   "source": []
  },
  {
   "cell_type": "code",
   "execution_count": 5,
   "id": "7f2549b2",
   "metadata": {},
   "outputs": [],
   "source": [
    "c = d_ba['Seayear_2']\n",
    "d = d_ba['seamean_2']\n",
    "\n",
    "dAnn = pd.concat([c,d] ,axis=1)\n",
    "\n",
    "dAnn['Seayear_2'] = pd.to_datetime(dAnn.Seayear_2 , format = '%Y')\n",
    "\n",
    "dAnn = dAnn.dropna()\n",
    "dAnn['Seayear_2'] = pd.to_datetime(dAnn['Seayear_2'])"
   ]
  },
  {
   "cell_type": "code",
   "execution_count": 6,
   "id": "bcfed9aa",
   "metadata": {},
   "outputs": [
    {
     "data": {
      "text/plain": [
       "<AxesSubplot:xlabel='Seayear_2'>"
      ]
     },
     "execution_count": 6,
     "metadata": {},
     "output_type": "execute_result"
    },
    {
     "data": {
      "image/png": "[encoded data removed]",
      "text/plain": [
       "<Figure size 432x288 with 1 Axes>"
      ]
     },
     "metadata": {
      "needs_background": "light"
     },
     "output_type": "display_data"
    }
   ],
   "source": [
    "dAnn.set_index('Seayear_2' , inplace=True)\n",
    "analysis2 = dAnn[\"seamean_2\"].copy()\n",
    "decompose_res_mult = seasonal_decompose(analysis2)\n",
    "decompose_res_mult.trend.plot()"
   ]
  },
  {
   "cell_type": "code",
   "execution_count": null,
   "id": "ac2a21da",
   "metadata": {},
   "outputs": [],
   "source": []
  },
  {
   "cell_type": "markdown",
   "id": "433b8091",
   "metadata": {},
   "source": [
    "3rd monsoon"
   ]
  },
  {
   "cell_type": "code",
   "execution_count": null,
   "id": "6d66d7c9",
   "metadata": {},
   "outputs": [],
   "source": []
  },
  {
   "cell_type": "code",
   "execution_count": 7,
   "id": "fddec808",
   "metadata": {},
   "outputs": [],
   "source": [
    "e = d_ba['Seayear_3']\n",
    "f = d_ba['seamea_3']\n",
    "\n",
    "dAnn = pd.concat([e,f] ,axis=1)\n",
    "\n",
    "dAnn['Seayear_3'] = pd.to_datetime(dAnn.Seayear_3 , format = '%Y')\n",
    "\n",
    "dAnn = dAnn.dropna()\n",
    "dAnn['Seayear_3'] = pd.to_datetime(dAnn['Seayear_3'])"
   ]
  },
  {
   "cell_type": "code",
   "execution_count": 8,
   "id": "763a4b1f",
   "metadata": {},
   "outputs": [
    {
     "data": {
      "text/plain": [
       "<AxesSubplot:xlabel='Seayear_3'>"
      ]
     },
     "execution_count": 8,
     "metadata": {},
     "output_type": "execute_result"
    },
    {
     "data": {
      "image/png": "[encoded data removed]",
      "text/plain": [
       "<Figure size 432x288 with 1 Axes>"
      ]
     },
     "metadata": {
      "needs_background": "light"
     },
     "output_type": "display_data"
    }
   ],
   "source": [
    "dAnn.set_index('Seayear_3' , inplace=True)\n",
    "analysis3 = dAnn[\"seamea_3\"].copy()\n",
    "decompose_res_mult = seasonal_decompose(analysis3)\n",
    "decompose_res_mult.trend.plot()"
   ]
  },
  {
   "cell_type": "code",
   "execution_count": null,
   "id": "41d91621",
   "metadata": {},
   "outputs": [],
   "source": []
  },
  {
   "cell_type": "markdown",
   "id": "72b07c3d",
   "metadata": {},
   "source": [
    "4th monsoon"
   ]
  },
  {
   "cell_type": "code",
   "execution_count": null,
   "id": "9ab7b7fd",
   "metadata": {},
   "outputs": [],
   "source": []
  },
  {
   "cell_type": "code",
   "execution_count": 9,
   "id": "232c4d2a",
   "metadata": {},
   "outputs": [],
   "source": [
    "g = d_ba['Seayear_4']\n",
    "h = d_ba['seamea_4']\n",
    "\n",
    "dAnn = pd.concat([g,h] ,axis=1)\n",
    "\n",
    "dAnn['Seayear_4'] = pd.to_datetime(dAnn.Seayear_4 , format = '%Y')\n",
    "\n",
    "dAnn = dAnn.dropna()\n",
    "dAnn['Seayear_4'] = pd.to_datetime(dAnn['Seayear_4'])"
   ]
  },
  {
   "cell_type": "code",
   "execution_count": 10,
   "id": "a35b121a",
   "metadata": {},
   "outputs": [
    {
     "data": {
      "text/plain": [
       "<AxesSubplot:xlabel='Seayear_4'>"
      ]
     },
     "execution_count": 10,
     "metadata": {},
     "output_type": "execute_result"
    },
    {
     "data": {
      "image/png": "[encoded data removed]",
      "text/plain": [
       "<Figure size 432x288 with 1 Axes>"
      ]
     },
     "metadata": {
      "needs_background": "light"
     },
     "output_type": "display_data"
    }
   ],
   "source": [
    "dAnn.set_index('Seayear_4' , inplace=True)\n",
    "analysis4 = dAnn[\"seamea_4\"].copy()\n",
    "decompose_res_mult = seasonal_decompose(analysis4)\n",
    "decompose_res_mult.trend.plot()"
   ]
  },
  {
   "cell_type": "code",
   "execution_count": null,
   "id": "311c9ad7",
   "metadata": {},
   "outputs": [],
   "source": []
  }
 ],
 "metadata": {
  "kernelspec": {
   "display_name": "Python 3",
   "language": "python",
   "name": "python3"
  },
  "language_info": {
   "codemirror_mode": {
    "name": "ipython",
    "version": 3
   },
   "file_extension": ".py",
   "mimetype": "text/x-python",
   "name": "python",
   "nbconvert_exporter": "python",
   "pygments_lexer": "ipython3",
   "version": "3.8.8"
  }
 },
 "nbformat": 4,
 "nbformat_minor": 5
}
