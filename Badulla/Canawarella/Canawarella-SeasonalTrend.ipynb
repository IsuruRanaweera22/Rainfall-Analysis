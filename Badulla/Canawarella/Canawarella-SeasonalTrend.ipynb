{
 "cells": [
  {
   "cell_type": "code",
   "execution_count": 1,
   "id": "b218ce59",
   "metadata": {},
   "outputs": [],
   "source": [
    "import pandas as pd\n",
    "import matplotlib.pyplot as plt\n",
    "import numpy as np\n",
    "from statsmodels.tsa.seasonal import seasonal_decompose"
   ]
  },
  {
   "cell_type": "code",
   "execution_count": 2,
   "id": "8753bf06",
   "metadata": {},
   "outputs": [
    {
     "data": {
      "text/html": [
       "<div>\n",
       "<style scoped>\n",
       "    .dataframe tbody tr th:only-of-type {\n",
       "        vertical-align: middle;\n",
       "    }\n",
       "\n",
       "    .dataframe tbody tr th {\n",
       "        vertical-align: top;\n",
       "    }\n",
       "\n",
       "    .dataframe thead th {\n",
       "        text-align: right;\n",
       "    }\n",
       "</style>\n",
       "<table border=\"1\" class=\"dataframe\">\n",
       "  <thead>\n",
       "    <tr style=\"text-align: right;\">\n",
       "      <th></th>\n",
       "      <th>year/month</th>\n",
       "      <th>1</th>\n",
       "      <th>2</th>\n",
       "      <th>3</th>\n",
       "      <th>4</th>\n",
       "      <th>5</th>\n",
       "      <th>6</th>\n",
       "      <th>7</th>\n",
       "      <th>8</th>\n",
       "      <th>9</th>\n",
       "      <th>...</th>\n",
       "      <th>AnnualMean</th>\n",
       "      <th>Unnamed: 37</th>\n",
       "      <th>seayear_1</th>\n",
       "      <th>seamean_1</th>\n",
       "      <th>seayear_2</th>\n",
       "      <th>seamean_2</th>\n",
       "      <th>seayear_3</th>\n",
       "      <th>seamean_3</th>\n",
       "      <th>seayear_4</th>\n",
       "      <th>seamean_4</th>\n",
       "    </tr>\n",
       "  </thead>\n",
       "  <tbody>\n",
       "    <tr>\n",
       "      <th>0</th>\n",
       "      <td>1989- 1</td>\n",
       "      <td>0.0</td>\n",
       "      <td>0</td>\n",
       "      <td>10.1</td>\n",
       "      <td>19.5</td>\n",
       "      <td>11.0</td>\n",
       "      <td>0.0</td>\n",
       "      <td>0.0</td>\n",
       "      <td>4.5</td>\n",
       "      <td>0.0</td>\n",
       "      <td>...</td>\n",
       "      <td>5.804032</td>\n",
       "      <td>NaN</td>\n",
       "      <td>1989.0</td>\n",
       "      <td>3.808065</td>\n",
       "      <td>1989.0</td>\n",
       "      <td>5.386452</td>\n",
       "      <td>1989.0</td>\n",
       "      <td>12.188710</td>\n",
       "      <td>1989.0</td>\n",
       "      <td>7.613548</td>\n",
       "    </tr>\n",
       "    <tr>\n",
       "      <th>1</th>\n",
       "      <td>1989- 2</td>\n",
       "      <td>0.0</td>\n",
       "      <td>0</td>\n",
       "      <td>0.0</td>\n",
       "      <td>0.0</td>\n",
       "      <td>0.0</td>\n",
       "      <td>0.0</td>\n",
       "      <td>0.0</td>\n",
       "      <td>0.0</td>\n",
       "      <td>0.0</td>\n",
       "      <td>...</td>\n",
       "      <td>6.339791</td>\n",
       "      <td>NaN</td>\n",
       "      <td>1990.0</td>\n",
       "      <td>4.647455</td>\n",
       "      <td>1990.0</td>\n",
       "      <td>2.861290</td>\n",
       "      <td>1990.0</td>\n",
       "      <td>12.240323</td>\n",
       "      <td>1990.0</td>\n",
       "      <td>9.437634</td>\n",
       "    </tr>\n",
       "    <tr>\n",
       "      <th>2</th>\n",
       "      <td>1989- 3</td>\n",
       "      <td>0.0</td>\n",
       "      <td>0</td>\n",
       "      <td>0.0</td>\n",
       "      <td>0.0</td>\n",
       "      <td>0.0</td>\n",
       "      <td>0.0</td>\n",
       "      <td>0.0</td>\n",
       "      <td>1.5</td>\n",
       "      <td>3.8</td>\n",
       "      <td>...</td>\n",
       "      <td>7.600000</td>\n",
       "      <td>NaN</td>\n",
       "      <td>1991.0</td>\n",
       "      <td>6.230645</td>\n",
       "      <td>1991.0</td>\n",
       "      <td>4.487097</td>\n",
       "      <td>1991.0</td>\n",
       "      <td>12.240323</td>\n",
       "      <td>1991.0</td>\n",
       "      <td>5.212903</td>\n",
       "    </tr>\n",
       "    <tr>\n",
       "      <th>3</th>\n",
       "      <td>1989- 4</td>\n",
       "      <td>0.0</td>\n",
       "      <td>0</td>\n",
       "      <td>22.0</td>\n",
       "      <td>0.0</td>\n",
       "      <td>0.0</td>\n",
       "      <td>0.0</td>\n",
       "      <td>0.0</td>\n",
       "      <td>8.0</td>\n",
       "      <td>4.9</td>\n",
       "      <td>...</td>\n",
       "      <td>5.667204</td>\n",
       "      <td>NaN</td>\n",
       "      <td>1992.0</td>\n",
       "      <td>6.388710</td>\n",
       "      <td>1992.0</td>\n",
       "      <td>3.059355</td>\n",
       "      <td>1992.0</td>\n",
       "      <td>14.438710</td>\n",
       "      <td>1992.0</td>\n",
       "      <td>4.444086</td>\n",
       "    </tr>\n",
       "    <tr>\n",
       "      <th>4</th>\n",
       "      <td>1989- 5</td>\n",
       "      <td>0.0</td>\n",
       "      <td>2</td>\n",
       "      <td>11.5</td>\n",
       "      <td>1.0</td>\n",
       "      <td>16.0</td>\n",
       "      <td>31.0</td>\n",
       "      <td>6.0</td>\n",
       "      <td>6.0</td>\n",
       "      <td>0.0</td>\n",
       "      <td>...</td>\n",
       "      <td>5.902115</td>\n",
       "      <td>NaN</td>\n",
       "      <td>1993.0</td>\n",
       "      <td>3.332043</td>\n",
       "      <td>1993.0</td>\n",
       "      <td>3.894839</td>\n",
       "      <td>1993.0</td>\n",
       "      <td>13.774194</td>\n",
       "      <td>1993.0</td>\n",
       "      <td>9.803226</td>\n",
       "    </tr>\n",
       "    <tr>\n",
       "      <th>...</th>\n",
       "      <td>...</td>\n",
       "      <td>...</td>\n",
       "      <td>...</td>\n",
       "      <td>...</td>\n",
       "      <td>...</td>\n",
       "      <td>...</td>\n",
       "      <td>...</td>\n",
       "      <td>...</td>\n",
       "      <td>...</td>\n",
       "      <td>...</td>\n",
       "      <td>...</td>\n",
       "      <td>...</td>\n",
       "      <td>...</td>\n",
       "      <td>...</td>\n",
       "      <td>...</td>\n",
       "      <td>...</td>\n",
       "      <td>...</td>\n",
       "      <td>...</td>\n",
       "      <td>...</td>\n",
       "      <td>...</td>\n",
       "      <td>...</td>\n",
       "    </tr>\n",
       "    <tr>\n",
       "      <th>379</th>\n",
       "      <td>2020-8</td>\n",
       "      <td>0.0</td>\n",
       "      <td>0</td>\n",
       "      <td>0.0</td>\n",
       "      <td>0.0</td>\n",
       "      <td>21.0</td>\n",
       "      <td>0.0</td>\n",
       "      <td>0.0</td>\n",
       "      <td>0.0</td>\n",
       "      <td>0.0</td>\n",
       "      <td>...</td>\n",
       "      <td>NaN</td>\n",
       "      <td>NaN</td>\n",
       "      <td>NaN</td>\n",
       "      <td>NaN</td>\n",
       "      <td>NaN</td>\n",
       "      <td>NaN</td>\n",
       "      <td>NaN</td>\n",
       "      <td>NaN</td>\n",
       "      <td>NaN</td>\n",
       "      <td>NaN</td>\n",
       "    </tr>\n",
       "    <tr>\n",
       "      <th>380</th>\n",
       "      <td>2020-9</td>\n",
       "      <td>0.0</td>\n",
       "      <td>0</td>\n",
       "      <td>13.8</td>\n",
       "      <td>3.0</td>\n",
       "      <td>1.8</td>\n",
       "      <td>0.0</td>\n",
       "      <td>0.0</td>\n",
       "      <td>4.4</td>\n",
       "      <td>0.0</td>\n",
       "      <td>...</td>\n",
       "      <td>NaN</td>\n",
       "      <td>NaN</td>\n",
       "      <td>NaN</td>\n",
       "      <td>NaN</td>\n",
       "      <td>NaN</td>\n",
       "      <td>NaN</td>\n",
       "      <td>NaN</td>\n",
       "      <td>NaN</td>\n",
       "      <td>NaN</td>\n",
       "      <td>NaN</td>\n",
       "    </tr>\n",
       "    <tr>\n",
       "      <th>381</th>\n",
       "      <td>2020-10</td>\n",
       "      <td>0.0</td>\n",
       "      <td>0</td>\n",
       "      <td>0.0</td>\n",
       "      <td>0.0</td>\n",
       "      <td>0.0</td>\n",
       "      <td>0.0</td>\n",
       "      <td>0.0</td>\n",
       "      <td>0.0</td>\n",
       "      <td>0.0</td>\n",
       "      <td>...</td>\n",
       "      <td>NaN</td>\n",
       "      <td>NaN</td>\n",
       "      <td>NaN</td>\n",
       "      <td>NaN</td>\n",
       "      <td>NaN</td>\n",
       "      <td>NaN</td>\n",
       "      <td>NaN</td>\n",
       "      <td>NaN</td>\n",
       "      <td>NaN</td>\n",
       "      <td>NaN</td>\n",
       "    </tr>\n",
       "    <tr>\n",
       "      <th>382</th>\n",
       "      <td>2020-11</td>\n",
       "      <td>0.0</td>\n",
       "      <td>0</td>\n",
       "      <td>0.0</td>\n",
       "      <td>0.0</td>\n",
       "      <td>58.0</td>\n",
       "      <td>11.0</td>\n",
       "      <td>0.0</td>\n",
       "      <td>31.3</td>\n",
       "      <td>0.0</td>\n",
       "      <td>...</td>\n",
       "      <td>NaN</td>\n",
       "      <td>NaN</td>\n",
       "      <td>NaN</td>\n",
       "      <td>NaN</td>\n",
       "      <td>NaN</td>\n",
       "      <td>NaN</td>\n",
       "      <td>NaN</td>\n",
       "      <td>NaN</td>\n",
       "      <td>NaN</td>\n",
       "      <td>NaN</td>\n",
       "    </tr>\n",
       "    <tr>\n",
       "      <th>383</th>\n",
       "      <td>2020-12</td>\n",
       "      <td>0.0</td>\n",
       "      <td>0</td>\n",
       "      <td>0.0</td>\n",
       "      <td>0.0</td>\n",
       "      <td>0.0</td>\n",
       "      <td>0.0</td>\n",
       "      <td>0.0</td>\n",
       "      <td>0.0</td>\n",
       "      <td>2.0</td>\n",
       "      <td>...</td>\n",
       "      <td>NaN</td>\n",
       "      <td>NaN</td>\n",
       "      <td>NaN</td>\n",
       "      <td>NaN</td>\n",
       "      <td>NaN</td>\n",
       "      <td>NaN</td>\n",
       "      <td>NaN</td>\n",
       "      <td>NaN</td>\n",
       "      <td>NaN</td>\n",
       "      <td>NaN</td>\n",
       "    </tr>\n",
       "  </tbody>\n",
       "</table>\n",
       "<p>384 rows × 46 columns</p>\n",
       "</div>"
      ],
      "text/plain": [
       "    year/month    1  2     3     4     5     6    7     8    9  ...  \\\n",
       "0      1989- 1  0.0  0  10.1  19.5  11.0   0.0  0.0   4.5  0.0  ...   \n",
       "1      1989- 2  0.0  0   0.0   0.0   0.0   0.0  0.0   0.0  0.0  ...   \n",
       "2      1989- 3  0.0  0   0.0   0.0   0.0   0.0  0.0   1.5  3.8  ...   \n",
       "3      1989- 4  0.0  0  22.0   0.0   0.0   0.0  0.0   8.0  4.9  ...   \n",
       "4      1989- 5  0.0  2  11.5   1.0  16.0  31.0  6.0   6.0  0.0  ...   \n",
       "..         ...  ... ..   ...   ...   ...   ...  ...   ...  ...  ...   \n",
       "379     2020-8  0.0  0   0.0   0.0  21.0   0.0  0.0   0.0  0.0  ...   \n",
       "380     2020-9  0.0  0  13.8   3.0   1.8   0.0  0.0   4.4  0.0  ...   \n",
       "381    2020-10  0.0  0   0.0   0.0   0.0   0.0  0.0   0.0  0.0  ...   \n",
       "382    2020-11  0.0  0   0.0   0.0  58.0  11.0  0.0  31.3  0.0  ...   \n",
       "383    2020-12  0.0  0   0.0   0.0   0.0   0.0  0.0   0.0  2.0  ...   \n",
       "\n",
       "     AnnualMean  Unnamed: 37  seayear_1  seamean_1  seayear_2  seamean_2  \\\n",
       "0      5.804032          NaN     1989.0   3.808065     1989.0   5.386452   \n",
       "1      6.339791          NaN     1990.0   4.647455     1990.0   2.861290   \n",
       "2      7.600000          NaN     1991.0   6.230645     1991.0   4.487097   \n",
       "3      5.667204          NaN     1992.0   6.388710     1992.0   3.059355   \n",
       "4      5.902115          NaN     1993.0   3.332043     1993.0   3.894839   \n",
       "..          ...          ...        ...        ...        ...        ...   \n",
       "379         NaN          NaN        NaN        NaN        NaN        NaN   \n",
       "380         NaN          NaN        NaN        NaN        NaN        NaN   \n",
       "381         NaN          NaN        NaN        NaN        NaN        NaN   \n",
       "382         NaN          NaN        NaN        NaN        NaN        NaN   \n",
       "383         NaN          NaN        NaN        NaN        NaN        NaN   \n",
       "\n",
       "     seayear_3  seamean_3  seayear_4  seamean_4  \n",
       "0       1989.0  12.188710     1989.0   7.613548  \n",
       "1       1990.0  12.240323     1990.0   9.437634  \n",
       "2       1991.0  12.240323     1991.0   5.212903  \n",
       "3       1992.0  14.438710     1992.0   4.444086  \n",
       "4       1993.0  13.774194     1993.0   9.803226  \n",
       "..         ...        ...        ...        ...  \n",
       "379        NaN        NaN        NaN        NaN  \n",
       "380        NaN        NaN        NaN        NaN  \n",
       "381        NaN        NaN        NaN        NaN  \n",
       "382        NaN        NaN        NaN        NaN  \n",
       "383        NaN        NaN        NaN        NaN  \n",
       "\n",
       "[384 rows x 46 columns]"
      ]
     },
     "execution_count": 2,
     "metadata": {},
     "output_type": "execute_result"
    }
   ],
   "source": [
    "d_can = pd.read_excel(\"Canawarella(89-21).xls\" )\n",
    "d_can"
   ]
  },
  {
   "cell_type": "code",
   "execution_count": null,
   "id": "05e3c8e2",
   "metadata": {},
   "outputs": [],
   "source": []
  },
  {
   "cell_type": "markdown",
   "id": "ffc184fa",
   "metadata": {},
   "source": [
    "1st monsoon"
   ]
  },
  {
   "cell_type": "code",
   "execution_count": null,
   "id": "7d71b395",
   "metadata": {},
   "outputs": [],
   "source": []
  },
  {
   "cell_type": "code",
   "execution_count": 5,
   "id": "5bc2352c",
   "metadata": {},
   "outputs": [],
   "source": [
    "a = d_can['seayear_1']\n",
    "b = d_can['seamean_1']\n",
    "\n",
    "dAnn = pd.concat([a,b] ,axis=1)\n",
    "\n",
    "dAnn['seayear_1'] = pd.to_datetime(dAnn.seayear_1 , format = '%Y')\n",
    "\n",
    "dAnn = dAnn.dropna()\n",
    "dAnn['seayear_1'] = pd.to_datetime(dAnn['seayear_1'])"
   ]
  },
  {
   "cell_type": "code",
   "execution_count": 6,
   "id": "bf32d5d8",
   "metadata": {},
   "outputs": [
    {
     "data": {
      "text/plain": [
       "<AxesSubplot:xlabel='seayear_1'>"
      ]
     },
     "execution_count": 6,
     "metadata": {},
     "output_type": "execute_result"
    },
    {
     "data": {
      "image/png": "[encoded data removed]",
      "text/plain": [
       "<Figure size 432x288 with 1 Axes>"
      ]
     },
     "metadata": {
      "needs_background": "light"
     },
     "output_type": "display_data"
    }
   ],
   "source": [
    "dAnn.set_index('seayear_1' , inplace=True)\n",
    "analysis1 = dAnn[\"seamean_1\"].copy()\n",
    "decompose_res_mult = seasonal_decompose(analysis1)\n",
    "decompose_res_mult.trend.plot()"
   ]
  },
  {
   "cell_type": "code",
   "execution_count": null,
   "id": "040549b1",
   "metadata": {},
   "outputs": [],
   "source": []
  },
  {
   "cell_type": "markdown",
   "id": "5e9ba8b9",
   "metadata": {},
   "source": [
    "2nd monsoon"
   ]
  },
  {
   "cell_type": "code",
   "execution_count": null,
   "id": "53159de0",
   "metadata": {},
   "outputs": [],
   "source": []
  },
  {
   "cell_type": "code",
   "execution_count": 8,
   "id": "d16a08f0",
   "metadata": {},
   "outputs": [],
   "source": [
    "c = d_can['seayear_2']\n",
    "d = d_can['seamean_2']\n",
    "\n",
    "dAnn = pd.concat([c,d] ,axis=1)\n",
    "\n",
    "dAnn['seayear_2'] = pd.to_datetime(dAnn.seayear_2 , format = '%Y')\n",
    "\n",
    "dAnn = dAnn.dropna()\n",
    "dAnn['seayear_2'] = pd.to_datetime(dAnn['seayear_2'])"
   ]
  },
  {
   "cell_type": "code",
   "execution_count": 9,
   "id": "a1b27eee",
   "metadata": {},
   "outputs": [
    {
     "data": {
      "text/plain": [
       "<AxesSubplot:xlabel='seayear_2'>"
      ]
     },
     "execution_count": 9,
     "metadata": {},
     "output_type": "execute_result"
    },
    {
     "data": {
      "image/png": "[encoded data removed]",
      "text/plain": [
       "<Figure size 432x288 with 1 Axes>"
      ]
     },
     "metadata": {
      "needs_background": "light"
     },
     "output_type": "display_data"
    }
   ],
   "source": [
    "dAnn.set_index('seayear_2' , inplace=True)\n",
    "analysis2 = dAnn[\"seamean_2\"].copy()\n",
    "decompose_res_mult = seasonal_decompose(analysis2)\n",
    "decompose_res_mult.trend.plot()"
   ]
  },
  {
   "cell_type": "code",
   "execution_count": null,
   "id": "f6338450",
   "metadata": {},
   "outputs": [],
   "source": []
  },
  {
   "cell_type": "markdown",
   "id": "7e776f4d",
   "metadata": {},
   "source": [
    "3rd monsoon"
   ]
  },
  {
   "cell_type": "code",
   "execution_count": null,
   "id": "5b0cb317",
   "metadata": {},
   "outputs": [],
   "source": []
  },
  {
   "cell_type": "code",
   "execution_count": 10,
   "id": "131e6882",
   "metadata": {},
   "outputs": [],
   "source": [
    "e = d_can['seayear_3']\n",
    "f = d_can['seamean_3']\n",
    "\n",
    "dAnn = pd.concat([e,f] ,axis=1)\n",
    "\n",
    "dAnn['seayear_3'] = pd.to_datetime(dAnn.seayear_3 , format = '%Y')\n",
    "\n",
    "dAnn = dAnn.dropna()\n",
    "dAnn['seayear_3'] = pd.to_datetime(dAnn['seayear_3'])"
   ]
  },
  {
   "cell_type": "code",
   "execution_count": 11,
   "id": "bea0b592",
   "metadata": {},
   "outputs": [
    {
     "data": {
      "text/plain": [
       "<AxesSubplot:xlabel='seayear_3'>"
      ]
     },
     "execution_count": 11,
     "metadata": {},
     "output_type": "execute_result"
    },
    {
     "data": {
      "image/png": "[encoded data removed]",
      "text/plain": [
       "<Figure size 432x288 with 1 Axes>"
      ]
     },
     "metadata": {
      "needs_background": "light"
     },
     "output_type": "display_data"
    }
   ],
   "source": [
    "dAnn.set_index('seayear_3' , inplace=True)\n",
    "analysis3 = dAnn[\"seamean_3\"].copy()\n",
    "decompose_res_mult = seasonal_decompose(analysis3)\n",
    "decompose_res_mult.trend.plot()"
   ]
  },
  {
   "cell_type": "code",
   "execution_count": null,
   "id": "2b9e8687",
   "metadata": {},
   "outputs": [],
   "source": []
  },
  {
   "cell_type": "markdown",
   "id": "0e556188",
   "metadata": {},
   "source": [
    "4th monsoon"
   ]
  },
  {
   "cell_type": "code",
   "execution_count": null,
   "id": "d598f88b",
   "metadata": {},
   "outputs": [],
   "source": []
  },
  {
   "cell_type": "code",
   "execution_count": 16,
   "id": "f5d7fe4d",
   "metadata": {},
   "outputs": [],
   "source": [
    "g = d_can['seayear_4']\n",
    "h = d_can['seamean_4']\n",
    "\n",
    "dAnn = pd.concat([g,h] ,axis=1)\n",
    "\n",
    "dAnn['seayear_4'] = pd.to_datetime(dAnn.seayear_4 , format = '%Y')\n",
    "\n",
    "dAnn = dAnn.dropna()\n",
    "dAnn['seayear_4'] = pd.to_datetime(dAnn['seayear_4'])"
   ]
  },
  {
   "cell_type": "code",
   "execution_count": 18,
   "id": "1455ca44",
   "metadata": {},
   "outputs": [
    {
     "data": {
      "text/plain": [
       "<AxesSubplot:xlabel='seayear_4'>"
      ]
     },
     "execution_count": 18,
     "metadata": {},
     "output_type": "execute_result"
    },
    {
     "data": {
      "image/png": "[encoded data removed]",
      "text/plain": [
       "<Figure size 432x288 with 1 Axes>"
      ]
     },
     "metadata": {
      "needs_background": "light"
     },
     "output_type": "display_data"
    }
   ],
   "source": [
    "dAnn.set_index('seayear_4' , inplace=True)\n",
    "analysis4 = dAnn[\"seamean_4\"].copy()\n",
    "decompose_res_mult = seasonal_decompose(analysis4)\n",
    "decompose_res_mult.trend.plot()"
   ]
  },
  {
   "cell_type": "code",
   "execution_count": null,
   "id": "65af0424",
   "metadata": {},
   "outputs": [],
   "source": []
  }
 ],
 "metadata": {
  "kernelspec": {
   "display_name": "Python 3",
   "language": "python",
   "name": "python3"
  },
  "language_info": {
   "codemirror_mode": {
    "name": "ipython",
    "version": 3
   },
   "file_extension": ".py",
   "mimetype": "text/x-python",
   "name": "python",
   "nbconvert_exporter": "python",
   "pygments_lexer": "ipython3",
   "version": "3.8.8"
  }
 },
 "nbformat": 4,
 "nbformat_minor": 5
}
