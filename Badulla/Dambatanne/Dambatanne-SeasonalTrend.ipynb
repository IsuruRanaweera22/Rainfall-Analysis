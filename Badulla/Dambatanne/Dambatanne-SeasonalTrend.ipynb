{
 "cells": [
  {
   "cell_type": "code",
   "execution_count": 1,
   "id": "db8a160b",
   "metadata": {},
   "outputs": [],
   "source": [
    "import pandas as pd\n",
    "import matplotlib.pyplot as plt\n",
    "import numpy as np\n",
    "from statsmodels.tsa.seasonal import seasonal_decompose"
   ]
  },
  {
   "cell_type": "code",
   "execution_count": 2,
   "id": "d343a9fd",
   "metadata": {},
   "outputs": [
    {
     "data": {
      "text/html": [
       "<div>\n",
       "<style scoped>\n",
       "    .dataframe tbody tr th:only-of-type {\n",
       "        vertical-align: middle;\n",
       "    }\n",
       "\n",
       "    .dataframe tbody tr th {\n",
       "        vertical-align: top;\n",
       "    }\n",
       "\n",
       "    .dataframe thead th {\n",
       "        text-align: right;\n",
       "    }\n",
       "</style>\n",
       "<table border=\"1\" class=\"dataframe\">\n",
       "  <thead>\n",
       "    <tr style=\"text-align: right;\">\n",
       "      <th></th>\n",
       "      <th>year/month</th>\n",
       "      <th>1</th>\n",
       "      <th>2</th>\n",
       "      <th>3</th>\n",
       "      <th>4</th>\n",
       "      <th>5</th>\n",
       "      <th>6</th>\n",
       "      <th>7</th>\n",
       "      <th>8</th>\n",
       "      <th>9</th>\n",
       "      <th>...</th>\n",
       "      <th>AnnualMean</th>\n",
       "      <th>Unnamed: 37</th>\n",
       "      <th>seayear_1</th>\n",
       "      <th>seamean_1</th>\n",
       "      <th>seayear_2</th>\n",
       "      <th>seamean_2</th>\n",
       "      <th>seayear_3</th>\n",
       "      <th>seamean_3</th>\n",
       "      <th>seayear_4</th>\n",
       "      <th>seamean_4</th>\n",
       "    </tr>\n",
       "  </thead>\n",
       "  <tbody>\n",
       "    <tr>\n",
       "      <th>0</th>\n",
       "      <td>1996- 1</td>\n",
       "      <td>4.122222</td>\n",
       "      <td>1.655556</td>\n",
       "      <td>15.577778</td>\n",
       "      <td>8.177778</td>\n",
       "      <td>12.911111</td>\n",
       "      <td>9.688889</td>\n",
       "      <td>5.177778</td>\n",
       "      <td>6.044444</td>\n",
       "      <td>10.488889</td>\n",
       "      <td>...</td>\n",
       "      <td>5.961350</td>\n",
       "      <td>NaN</td>\n",
       "      <td>1996.0</td>\n",
       "      <td>8.885663</td>\n",
       "      <td>1996.0</td>\n",
       "      <td>4.297993</td>\n",
       "      <td>1996.0</td>\n",
       "      <td>8.366129</td>\n",
       "      <td>1996.0</td>\n",
       "      <td>3.454839</td>\n",
       "    </tr>\n",
       "    <tr>\n",
       "      <th>1</th>\n",
       "      <td>1996- 2</td>\n",
       "      <td>15.966667</td>\n",
       "      <td>19.233333</td>\n",
       "      <td>4.900000</td>\n",
       "      <td>8.844444</td>\n",
       "      <td>0.355556</td>\n",
       "      <td>5.011111</td>\n",
       "      <td>5.011111</td>\n",
       "      <td>0.666667</td>\n",
       "      <td>0.777778</td>\n",
       "      <td>...</td>\n",
       "      <td>9.820060</td>\n",
       "      <td>NaN</td>\n",
       "      <td>1997.0</td>\n",
       "      <td>6.437097</td>\n",
       "      <td>1997.0</td>\n",
       "      <td>7.650726</td>\n",
       "      <td>1997.0</td>\n",
       "      <td>27.329032</td>\n",
       "      <td>1997.0</td>\n",
       "      <td>4.479570</td>\n",
       "    </tr>\n",
       "    <tr>\n",
       "      <th>2</th>\n",
       "      <td>1996- 3</td>\n",
       "      <td>0.211111</td>\n",
       "      <td>3.233333</td>\n",
       "      <td>2.144444</td>\n",
       "      <td>0.477778</td>\n",
       "      <td>1.400000</td>\n",
       "      <td>12.011111</td>\n",
       "      <td>21.100000</td>\n",
       "      <td>22.111111</td>\n",
       "      <td>3.577778</td>\n",
       "      <td>...</td>\n",
       "      <td>4.728226</td>\n",
       "      <td>NaN</td>\n",
       "      <td>1998.0</td>\n",
       "      <td>5.430645</td>\n",
       "      <td>1998.0</td>\n",
       "      <td>4.100000</td>\n",
       "      <td>1998.0</td>\n",
       "      <td>5.006452</td>\n",
       "      <td>1998.0</td>\n",
       "      <td>7.710538</td>\n",
       "    </tr>\n",
       "    <tr>\n",
       "      <th>3</th>\n",
       "      <td>1996- 4</td>\n",
       "      <td>10.366667</td>\n",
       "      <td>16.300000</td>\n",
       "      <td>13.711111</td>\n",
       "      <td>12.322222</td>\n",
       "      <td>8.933333</td>\n",
       "      <td>11.622222</td>\n",
       "      <td>12.944444</td>\n",
       "      <td>10.688889</td>\n",
       "      <td>18.222222</td>\n",
       "      <td>...</td>\n",
       "      <td>5.357563</td>\n",
       "      <td>NaN</td>\n",
       "      <td>1999.0</td>\n",
       "      <td>7.446774</td>\n",
       "      <td>1999.0</td>\n",
       "      <td>2.350968</td>\n",
       "      <td>1999.0</td>\n",
       "      <td>10.421505</td>\n",
       "      <td>1999.0</td>\n",
       "      <td>6.864516</td>\n",
       "    </tr>\n",
       "    <tr>\n",
       "      <th>4</th>\n",
       "      <td>1996- 5</td>\n",
       "      <td>32.611111</td>\n",
       "      <td>33.188889</td>\n",
       "      <td>12.355556</td>\n",
       "      <td>14.522222</td>\n",
       "      <td>11.266667</td>\n",
       "      <td>7.377778</td>\n",
       "      <td>2.677778</td>\n",
       "      <td>5.400000</td>\n",
       "      <td>0.055556</td>\n",
       "      <td>...</td>\n",
       "      <td>6.288978</td>\n",
       "      <td>NaN</td>\n",
       "      <td>2000.0</td>\n",
       "      <td>9.345161</td>\n",
       "      <td>2000.0</td>\n",
       "      <td>4.446452</td>\n",
       "      <td>2000.0</td>\n",
       "      <td>6.429032</td>\n",
       "      <td>2000.0</td>\n",
       "      <td>5.569892</td>\n",
       "    </tr>\n",
       "    <tr>\n",
       "      <th>...</th>\n",
       "      <td>...</td>\n",
       "      <td>...</td>\n",
       "      <td>...</td>\n",
       "      <td>...</td>\n",
       "      <td>...</td>\n",
       "      <td>...</td>\n",
       "      <td>...</td>\n",
       "      <td>...</td>\n",
       "      <td>...</td>\n",
       "      <td>...</td>\n",
       "      <td>...</td>\n",
       "      <td>...</td>\n",
       "      <td>...</td>\n",
       "      <td>...</td>\n",
       "      <td>...</td>\n",
       "      <td>...</td>\n",
       "      <td>...</td>\n",
       "      <td>...</td>\n",
       "      <td>...</td>\n",
       "      <td>...</td>\n",
       "      <td>...</td>\n",
       "    </tr>\n",
       "    <tr>\n",
       "      <th>379</th>\n",
       "      <td>NaN</td>\n",
       "      <td>NaN</td>\n",
       "      <td>NaN</td>\n",
       "      <td>NaN</td>\n",
       "      <td>NaN</td>\n",
       "      <td>NaN</td>\n",
       "      <td>NaN</td>\n",
       "      <td>NaN</td>\n",
       "      <td>NaN</td>\n",
       "      <td>NaN</td>\n",
       "      <td>...</td>\n",
       "      <td>NaN</td>\n",
       "      <td>NaN</td>\n",
       "      <td>NaN</td>\n",
       "      <td>NaN</td>\n",
       "      <td>NaN</td>\n",
       "      <td>NaN</td>\n",
       "      <td>NaN</td>\n",
       "      <td>NaN</td>\n",
       "      <td>NaN</td>\n",
       "      <td>NaN</td>\n",
       "    </tr>\n",
       "    <tr>\n",
       "      <th>380</th>\n",
       "      <td>NaN</td>\n",
       "      <td>NaN</td>\n",
       "      <td>NaN</td>\n",
       "      <td>NaN</td>\n",
       "      <td>NaN</td>\n",
       "      <td>NaN</td>\n",
       "      <td>NaN</td>\n",
       "      <td>NaN</td>\n",
       "      <td>NaN</td>\n",
       "      <td>NaN</td>\n",
       "      <td>...</td>\n",
       "      <td>NaN</td>\n",
       "      <td>NaN</td>\n",
       "      <td>NaN</td>\n",
       "      <td>NaN</td>\n",
       "      <td>NaN</td>\n",
       "      <td>NaN</td>\n",
       "      <td>NaN</td>\n",
       "      <td>NaN</td>\n",
       "      <td>NaN</td>\n",
       "      <td>NaN</td>\n",
       "    </tr>\n",
       "    <tr>\n",
       "      <th>381</th>\n",
       "      <td>NaN</td>\n",
       "      <td>NaN</td>\n",
       "      <td>NaN</td>\n",
       "      <td>NaN</td>\n",
       "      <td>NaN</td>\n",
       "      <td>NaN</td>\n",
       "      <td>NaN</td>\n",
       "      <td>NaN</td>\n",
       "      <td>NaN</td>\n",
       "      <td>NaN</td>\n",
       "      <td>...</td>\n",
       "      <td>NaN</td>\n",
       "      <td>NaN</td>\n",
       "      <td>NaN</td>\n",
       "      <td>NaN</td>\n",
       "      <td>NaN</td>\n",
       "      <td>NaN</td>\n",
       "      <td>NaN</td>\n",
       "      <td>NaN</td>\n",
       "      <td>NaN</td>\n",
       "      <td>NaN</td>\n",
       "    </tr>\n",
       "    <tr>\n",
       "      <th>382</th>\n",
       "      <td>NaN</td>\n",
       "      <td>NaN</td>\n",
       "      <td>NaN</td>\n",
       "      <td>NaN</td>\n",
       "      <td>NaN</td>\n",
       "      <td>NaN</td>\n",
       "      <td>NaN</td>\n",
       "      <td>NaN</td>\n",
       "      <td>NaN</td>\n",
       "      <td>NaN</td>\n",
       "      <td>...</td>\n",
       "      <td>NaN</td>\n",
       "      <td>NaN</td>\n",
       "      <td>NaN</td>\n",
       "      <td>NaN</td>\n",
       "      <td>NaN</td>\n",
       "      <td>NaN</td>\n",
       "      <td>NaN</td>\n",
       "      <td>NaN</td>\n",
       "      <td>NaN</td>\n",
       "      <td>NaN</td>\n",
       "    </tr>\n",
       "    <tr>\n",
       "      <th>383</th>\n",
       "      <td>NaN</td>\n",
       "      <td>NaN</td>\n",
       "      <td>NaN</td>\n",
       "      <td>NaN</td>\n",
       "      <td>NaN</td>\n",
       "      <td>NaN</td>\n",
       "      <td>NaN</td>\n",
       "      <td>NaN</td>\n",
       "      <td>NaN</td>\n",
       "      <td>NaN</td>\n",
       "      <td>...</td>\n",
       "      <td>NaN</td>\n",
       "      <td>NaN</td>\n",
       "      <td>NaN</td>\n",
       "      <td>NaN</td>\n",
       "      <td>NaN</td>\n",
       "      <td>NaN</td>\n",
       "      <td>NaN</td>\n",
       "      <td>NaN</td>\n",
       "      <td>NaN</td>\n",
       "      <td>NaN</td>\n",
       "    </tr>\n",
       "  </tbody>\n",
       "</table>\n",
       "<p>384 rows × 46 columns</p>\n",
       "</div>"
      ],
      "text/plain": [
       "    year/month          1          2          3          4          5  \\\n",
       "0      1996- 1   4.122222   1.655556  15.577778   8.177778  12.911111   \n",
       "1      1996- 2  15.966667  19.233333   4.900000   8.844444   0.355556   \n",
       "2      1996- 3   0.211111   3.233333   2.144444   0.477778   1.400000   \n",
       "3      1996- 4  10.366667  16.300000  13.711111  12.322222   8.933333   \n",
       "4      1996- 5  32.611111  33.188889  12.355556  14.522222  11.266667   \n",
       "..         ...        ...        ...        ...        ...        ...   \n",
       "379        NaN        NaN        NaN        NaN        NaN        NaN   \n",
       "380        NaN        NaN        NaN        NaN        NaN        NaN   \n",
       "381        NaN        NaN        NaN        NaN        NaN        NaN   \n",
       "382        NaN        NaN        NaN        NaN        NaN        NaN   \n",
       "383        NaN        NaN        NaN        NaN        NaN        NaN   \n",
       "\n",
       "             6          7          8          9  ...  AnnualMean  Unnamed: 37  \\\n",
       "0     9.688889   5.177778   6.044444  10.488889  ...    5.961350          NaN   \n",
       "1     5.011111   5.011111   0.666667   0.777778  ...    9.820060          NaN   \n",
       "2    12.011111  21.100000  22.111111   3.577778  ...    4.728226          NaN   \n",
       "3    11.622222  12.944444  10.688889  18.222222  ...    5.357563          NaN   \n",
       "4     7.377778   2.677778   5.400000   0.055556  ...    6.288978          NaN   \n",
       "..         ...        ...        ...        ...  ...         ...          ...   \n",
       "379        NaN        NaN        NaN        NaN  ...         NaN          NaN   \n",
       "380        NaN        NaN        NaN        NaN  ...         NaN          NaN   \n",
       "381        NaN        NaN        NaN        NaN  ...         NaN          NaN   \n",
       "382        NaN        NaN        NaN        NaN  ...         NaN          NaN   \n",
       "383        NaN        NaN        NaN        NaN  ...         NaN          NaN   \n",
       "\n",
       "    seayear_1  seamean_1  seayear_2  seamean_2  seayear_3  seamean_3  \\\n",
       "0      1996.0   8.885663     1996.0   4.297993     1996.0   8.366129   \n",
       "1      1997.0   6.437097     1997.0   7.650726     1997.0  27.329032   \n",
       "2      1998.0   5.430645     1998.0   4.100000     1998.0   5.006452   \n",
       "3      1999.0   7.446774     1999.0   2.350968     1999.0  10.421505   \n",
       "4      2000.0   9.345161     2000.0   4.446452     2000.0   6.429032   \n",
       "..        ...        ...        ...        ...        ...        ...   \n",
       "379       NaN        NaN        NaN        NaN        NaN        NaN   \n",
       "380       NaN        NaN        NaN        NaN        NaN        NaN   \n",
       "381       NaN        NaN        NaN        NaN        NaN        NaN   \n",
       "382       NaN        NaN        NaN        NaN        NaN        NaN   \n",
       "383       NaN        NaN        NaN        NaN        NaN        NaN   \n",
       "\n",
       "     seayear_4  seamean_4  \n",
       "0       1996.0   3.454839  \n",
       "1       1997.0   4.479570  \n",
       "2       1998.0   7.710538  \n",
       "3       1999.0   6.864516  \n",
       "4       2000.0   5.569892  \n",
       "..         ...        ...  \n",
       "379        NaN        NaN  \n",
       "380        NaN        NaN  \n",
       "381        NaN        NaN  \n",
       "382        NaN        NaN  \n",
       "383        NaN        NaN  \n",
       "\n",
       "[384 rows x 46 columns]"
      ]
     },
     "execution_count": 2,
     "metadata": {},
     "output_type": "execute_result"
    }
   ],
   "source": [
    "d_dam = pd.read_excel(\"Dambatenne(89-2015).xls\" )\n",
    "d_dam"
   ]
  },
  {
   "cell_type": "code",
   "execution_count": null,
   "id": "c9dfb9de",
   "metadata": {},
   "outputs": [],
   "source": []
  },
  {
   "cell_type": "markdown",
   "id": "24b33866",
   "metadata": {},
   "source": [
    "1st monsoon"
   ]
  },
  {
   "cell_type": "code",
   "execution_count": null,
   "id": "5d123bcb",
   "metadata": {},
   "outputs": [],
   "source": []
  },
  {
   "cell_type": "code",
   "execution_count": 3,
   "id": "e835c687",
   "metadata": {},
   "outputs": [],
   "source": [
    "a = d_dam['seayear_1']\n",
    "b = d_dam['seamean_1']\n",
    "\n",
    "dAnn = pd.concat([a,b] ,axis=1)\n",
    "\n",
    "dAnn['seayear_1'] = pd.to_datetime(dAnn.seayear_1 , format = '%Y')\n",
    "\n",
    "dAnn = dAnn.dropna()\n",
    "dAnn['seayear_1'] = pd.to_datetime(dAnn['seayear_1'])"
   ]
  },
  {
   "cell_type": "code",
   "execution_count": 4,
   "id": "38631d80",
   "metadata": {},
   "outputs": [
    {
     "data": {
      "text/plain": [
       "<AxesSubplot:xlabel='seayear_1'>"
      ]
     },
     "execution_count": 4,
     "metadata": {},
     "output_type": "execute_result"
    },
    {
     "data": {
      "image/png": "[encoded data removed]",
      "text/plain": [
       "<Figure size 432x288 with 1 Axes>"
      ]
     },
     "metadata": {
      "needs_background": "light"
     },
     "output_type": "display_data"
    }
   ],
   "source": [
    "dAnn.set_index('seayear_1' , inplace=True)\n",
    "analysis1 = dAnn[\"seamean_1\"].copy()\n",
    "decompose_res_mult = seasonal_decompose(analysis1)\n",
    "decompose_res_mult.trend.plot()"
   ]
  },
  {
   "cell_type": "code",
   "execution_count": null,
   "id": "4ff655d1",
   "metadata": {},
   "outputs": [],
   "source": []
  },
  {
   "cell_type": "markdown",
   "id": "4a1ba53b",
   "metadata": {},
   "source": [
    "2nd monsoon"
   ]
  },
  {
   "cell_type": "code",
   "execution_count": null,
   "id": "a0c3d679",
   "metadata": {},
   "outputs": [],
   "source": []
  },
  {
   "cell_type": "code",
   "execution_count": 5,
   "id": "576e60fe",
   "metadata": {},
   "outputs": [],
   "source": [
    "c = d_dam['seayear_2']\n",
    "d = d_dam['seamean_2']\n",
    "\n",
    "dAnn = pd.concat([c,d] ,axis=1)\n",
    "\n",
    "dAnn['seayear_2'] = pd.to_datetime(dAnn.seayear_2 , format = '%Y')\n",
    "\n",
    "dAnn = dAnn.dropna()\n",
    "dAnn['seayear_2'] = pd.to_datetime(dAnn['seayear_2'])"
   ]
  },
  {
   "cell_type": "code",
   "execution_count": 6,
   "id": "3a5d8867",
   "metadata": {},
   "outputs": [
    {
     "data": {
      "text/plain": [
       "<AxesSubplot:xlabel='seayear_2'>"
      ]
     },
     "execution_count": 6,
     "metadata": {},
     "output_type": "execute_result"
    },
    {
     "data": {
      "image/png": "[encoded data removed]",
      "text/plain": [
       "<Figure size 432x288 with 1 Axes>"
      ]
     },
     "metadata": {
      "needs_background": "light"
     },
     "output_type": "display_data"
    }
   ],
   "source": [
    "dAnn.set_index('seayear_2' , inplace=True)\n",
    "analysis2 = dAnn[\"seamean_2\"].copy()\n",
    "decompose_res_mult = seasonal_decompose(analysis2)\n",
    "decompose_res_mult.trend.plot()"
   ]
  },
  {
   "cell_type": "code",
   "execution_count": null,
   "id": "809afe1e",
   "metadata": {},
   "outputs": [],
   "source": []
  },
  {
   "cell_type": "markdown",
   "id": "7794cb21",
   "metadata": {},
   "source": [
    "3rd monsoon"
   ]
  },
  {
   "cell_type": "code",
   "execution_count": null,
   "id": "8e8f475d",
   "metadata": {},
   "outputs": [],
   "source": []
  },
  {
   "cell_type": "code",
   "execution_count": 7,
   "id": "5068ad3e",
   "metadata": {},
   "outputs": [],
   "source": [
    "e = d_dam['seayear_3']\n",
    "f = d_dam['seamean_3']\n",
    "\n",
    "dAnn = pd.concat([e,f] ,axis=1)\n",
    "\n",
    "dAnn['seayear_3'] = pd.to_datetime(dAnn.seayear_3 , format = '%Y')\n",
    "\n",
    "dAnn = dAnn.dropna()\n",
    "dAnn['seayear_3'] = pd.to_datetime(dAnn['seayear_3'])"
   ]
  },
  {
   "cell_type": "code",
   "execution_count": 8,
   "id": "1460315a",
   "metadata": {},
   "outputs": [
    {
     "data": {
      "text/plain": [
       "<AxesSubplot:xlabel='seayear_3'>"
      ]
     },
     "execution_count": 8,
     "metadata": {},
     "output_type": "execute_result"
    },
    {
     "data": {
      "image/png": "[encoded data removed]",
      "text/plain": [
       "<Figure size 432x288 with 1 Axes>"
      ]
     },
     "metadata": {
      "needs_background": "light"
     },
     "output_type": "display_data"
    }
   ],
   "source": [
    "dAnn.set_index('seayear_3' , inplace=True)\n",
    "analysis3 = dAnn[\"seamean_3\"].copy()\n",
    "decompose_res_mult = seasonal_decompose(analysis3)\n",
    "decompose_res_mult.trend.plot()"
   ]
  },
  {
   "cell_type": "code",
   "execution_count": null,
   "id": "1eb3e7f8",
   "metadata": {},
   "outputs": [],
   "source": []
  },
  {
   "cell_type": "markdown",
   "id": "2c080a5a",
   "metadata": {},
   "source": [
    "4th monsoon"
   ]
  },
  {
   "cell_type": "code",
   "execution_count": null,
   "id": "884fd5c2",
   "metadata": {},
   "outputs": [],
   "source": []
  },
  {
   "cell_type": "code",
   "execution_count": 9,
   "id": "3957375a",
   "metadata": {},
   "outputs": [],
   "source": [
    "g = d_dam['seayear_4']\n",
    "h = d_dam['seamean_4']\n",
    "\n",
    "dAnn = pd.concat([g,h] ,axis=1)\n",
    "\n",
    "dAnn['seayear_4'] = pd.to_datetime(dAnn.seayear_4 , format = '%Y')\n",
    "\n",
    "dAnn = dAnn.dropna()\n",
    "dAnn['seayear_4'] = pd.to_datetime(dAnn['seayear_4'])"
   ]
  },
  {
   "cell_type": "code",
   "execution_count": 10,
   "id": "7f0575b7",
   "metadata": {
    "scrolled": true
   },
   "outputs": [
    {
     "data": {
      "text/plain": [
       "<AxesSubplot:xlabel='seayear_4'>"
      ]
     },
     "execution_count": 10,
     "metadata": {},
     "output_type": "execute_result"
    },
    {
     "data": {
      "image/png": "[encoded data removed]",
      "text/plain": [
       "<Figure size 432x288 with 1 Axes>"
      ]
     },
     "metadata": {
      "needs_background": "light"
     },
     "output_type": "display_data"
    }
   ],
   "source": [
    "dAnn.set_index('seayear_4' , inplace=True)\n",
    "analysis4 = dAnn[\"seamean_4\"].copy()\n",
    "decompose_res_mult = seasonal_decompose(analysis4)\n",
    "decompose_res_mult.trend.plot()"
   ]
  },
  {
   "cell_type": "code",
   "execution_count": null,
   "id": "5b1a05b4",
   "metadata": {},
   "outputs": [],
   "source": []
  }
 ],
 "metadata": {
  "kernelspec": {
   "display_name": "Python 3",
   "language": "python",
   "name": "python3"
  },
  "language_info": {
   "codemirror_mode": {
    "name": "ipython",
    "version": 3
   },
   "file_extension": ".py",
   "mimetype": "text/x-python",
   "name": "python",
   "nbconvert_exporter": "python",
   "pygments_lexer": "ipython3",
   "version": "3.8.8"
  }
 },
 "nbformat": 4,
 "nbformat_minor": 5
}
