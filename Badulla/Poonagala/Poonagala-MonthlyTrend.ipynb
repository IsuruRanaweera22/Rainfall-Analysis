{
 "cells": [
  {
   "cell_type": "code",
   "execution_count": 1,
   "id": "2fd8920b",
   "metadata": {},
   "outputs": [],
   "source": [
    "import pandas as pd\n",
    "import matplotlib.pyplot as plt\n",
    "import numpy as np\n",
    "from statsmodels.tsa.seasonal import seasonal_decompose\n"
   ]
  },
  {
   "cell_type": "code",
   "execution_count": 2,
   "id": "8204132b",
   "metadata": {},
   "outputs": [
    {
     "data": {
      "text/html": [
       "<div>\n",
       "<style scoped>\n",
       "    .dataframe tbody tr th:only-of-type {\n",
       "        vertical-align: middle;\n",
       "    }\n",
       "\n",
       "    .dataframe tbody tr th {\n",
       "        vertical-align: top;\n",
       "    }\n",
       "\n",
       "    .dataframe thead th {\n",
       "        text-align: right;\n",
       "    }\n",
       "</style>\n",
       "<table border=\"1\" class=\"dataframe\">\n",
       "  <thead>\n",
       "    <tr style=\"text-align: right;\">\n",
       "      <th></th>\n",
       "      <th>year/month</th>\n",
       "      <th>1</th>\n",
       "      <th>2</th>\n",
       "      <th>3</th>\n",
       "      <th>4</th>\n",
       "      <th>5</th>\n",
       "      <th>6</th>\n",
       "      <th>7</th>\n",
       "      <th>8</th>\n",
       "      <th>9</th>\n",
       "      <th>...</th>\n",
       "      <th>26</th>\n",
       "      <th>27</th>\n",
       "      <th>28</th>\n",
       "      <th>29</th>\n",
       "      <th>30</th>\n",
       "      <th>31</th>\n",
       "      <th>Mean</th>\n",
       "      <th>Unnamed: 33</th>\n",
       "      <th>year</th>\n",
       "      <th>AnnualMean</th>\n",
       "    </tr>\n",
       "  </thead>\n",
       "  <tbody>\n",
       "    <tr>\n",
       "      <th>0</th>\n",
       "      <td>1997- 1</td>\n",
       "      <td>0.0</td>\n",
       "      <td>0.0</td>\n",
       "      <td>0.0</td>\n",
       "      <td>0.0</td>\n",
       "      <td>0.0</td>\n",
       "      <td>0.0</td>\n",
       "      <td>0.0</td>\n",
       "      <td>0.0</td>\n",
       "      <td>0.0</td>\n",
       "      <td>...</td>\n",
       "      <td>0.0</td>\n",
       "      <td>0.0</td>\n",
       "      <td>0.0</td>\n",
       "      <td>0.0</td>\n",
       "      <td>15.0</td>\n",
       "      <td>0.0</td>\n",
       "      <td>1.451613</td>\n",
       "      <td>NaN</td>\n",
       "      <td>1997.0</td>\n",
       "      <td>9.426882</td>\n",
       "    </tr>\n",
       "    <tr>\n",
       "      <th>1</th>\n",
       "      <td>1997- 2</td>\n",
       "      <td>12.5</td>\n",
       "      <td>0.0</td>\n",
       "      <td>15.0</td>\n",
       "      <td>0.3</td>\n",
       "      <td>0.0</td>\n",
       "      <td>0.0</td>\n",
       "      <td>0.0</td>\n",
       "      <td>0.0</td>\n",
       "      <td>0.0</td>\n",
       "      <td>...</td>\n",
       "      <td>0.0</td>\n",
       "      <td>0.0</td>\n",
       "      <td>0.0</td>\n",
       "      <td>0.0</td>\n",
       "      <td>0.0</td>\n",
       "      <td>0.0</td>\n",
       "      <td>0.912903</td>\n",
       "      <td>NaN</td>\n",
       "      <td>1998.0</td>\n",
       "      <td>6.319624</td>\n",
       "    </tr>\n",
       "    <tr>\n",
       "      <th>2</th>\n",
       "      <td>1997- 3</td>\n",
       "      <td>10.5</td>\n",
       "      <td>0.0</td>\n",
       "      <td>0.0</td>\n",
       "      <td>0.0</td>\n",
       "      <td>0.0</td>\n",
       "      <td>0.0</td>\n",
       "      <td>0.0</td>\n",
       "      <td>0.0</td>\n",
       "      <td>0.0</td>\n",
       "      <td>...</td>\n",
       "      <td>0.0</td>\n",
       "      <td>0.0</td>\n",
       "      <td>0.0</td>\n",
       "      <td>0.0</td>\n",
       "      <td>0.0</td>\n",
       "      <td>0.0</td>\n",
       "      <td>0.677419</td>\n",
       "      <td>NaN</td>\n",
       "      <td>1999.0</td>\n",
       "      <td>3.647043</td>\n",
       "    </tr>\n",
       "    <tr>\n",
       "      <th>3</th>\n",
       "      <td>1997- 4</td>\n",
       "      <td>5.0</td>\n",
       "      <td>62.6</td>\n",
       "      <td>37.0</td>\n",
       "      <td>58.4</td>\n",
       "      <td>26.4</td>\n",
       "      <td>28.0</td>\n",
       "      <td>14.1</td>\n",
       "      <td>0.0</td>\n",
       "      <td>0.0</td>\n",
       "      <td>...</td>\n",
       "      <td>7.3</td>\n",
       "      <td>5.5</td>\n",
       "      <td>0.0</td>\n",
       "      <td>40.0</td>\n",
       "      <td>45.0</td>\n",
       "      <td>0.0</td>\n",
       "      <td>17.848387</td>\n",
       "      <td>NaN</td>\n",
       "      <td>2000.0</td>\n",
       "      <td>6.329301</td>\n",
       "    </tr>\n",
       "    <tr>\n",
       "      <th>4</th>\n",
       "      <td>1997- 5</td>\n",
       "      <td>0.0</td>\n",
       "      <td>30.0</td>\n",
       "      <td>0.0</td>\n",
       "      <td>35.0</td>\n",
       "      <td>7.0</td>\n",
       "      <td>10.2</td>\n",
       "      <td>10.0</td>\n",
       "      <td>20.1</td>\n",
       "      <td>14.0</td>\n",
       "      <td>...</td>\n",
       "      <td>0.0</td>\n",
       "      <td>0.0</td>\n",
       "      <td>0.0</td>\n",
       "      <td>0.0</td>\n",
       "      <td>0.0</td>\n",
       "      <td>0.0</td>\n",
       "      <td>10.074194</td>\n",
       "      <td>NaN</td>\n",
       "      <td>2001.0</td>\n",
       "      <td>6.026882</td>\n",
       "    </tr>\n",
       "  </tbody>\n",
       "</table>\n",
       "<p>5 rows × 36 columns</p>\n",
       "</div>"
      ],
      "text/plain": [
       "  year/month     1     2     3     4     5     6     7     8     9  ...   26  \\\n",
       "0    1997- 1   0.0   0.0   0.0   0.0   0.0   0.0   0.0   0.0   0.0  ...  0.0   \n",
       "1    1997- 2  12.5   0.0  15.0   0.3   0.0   0.0   0.0   0.0   0.0  ...  0.0   \n",
       "2    1997- 3  10.5   0.0   0.0   0.0   0.0   0.0   0.0   0.0   0.0  ...  0.0   \n",
       "3    1997- 4   5.0  62.6  37.0  58.4  26.4  28.0  14.1   0.0   0.0  ...  7.3   \n",
       "4    1997- 5   0.0  30.0   0.0  35.0   7.0  10.2  10.0  20.1  14.0  ...  0.0   \n",
       "\n",
       "    27   28    29    30   31       Mean  Unnamed: 33    year  AnnualMean  \n",
       "0  0.0  0.0   0.0  15.0  0.0   1.451613          NaN  1997.0    9.426882  \n",
       "1  0.0  0.0   0.0   0.0  0.0   0.912903          NaN  1998.0    6.319624  \n",
       "2  0.0  0.0   0.0   0.0  0.0   0.677419          NaN  1999.0    3.647043  \n",
       "3  5.5  0.0  40.0  45.0  0.0  17.848387          NaN  2000.0    6.329301  \n",
       "4  0.0  0.0   0.0   0.0  0.0  10.074194          NaN  2001.0    6.026882  \n",
       "\n",
       "[5 rows x 36 columns]"
      ]
     },
     "execution_count": 2,
     "metadata": {},
     "output_type": "execute_result"
    }
   ],
   "source": [
    "d_poo = pd.read_excel(\"Poonagala(97-2011).xls\")\n",
    "d_poo.head()"
   ]
  },
  {
   "cell_type": "code",
   "execution_count": null,
   "id": "32b1ea9b",
   "metadata": {},
   "outputs": [],
   "source": []
  },
  {
   "cell_type": "markdown",
   "id": "7fdc02f7",
   "metadata": {},
   "source": [
    "JAN"
   ]
  },
  {
   "cell_type": "code",
   "execution_count": null,
   "id": "69c95c27",
   "metadata": {},
   "outputs": [],
   "source": []
  },
  {
   "cell_type": "code",
   "execution_count": 3,
   "id": "e690b5b9",
   "metadata": {},
   "outputs": [
    {
     "data": {
      "text/plain": [
       "<AxesSubplot:xlabel='year/month'>"
      ]
     },
     "execution_count": 3,
     "metadata": {},
     "output_type": "execute_result"
    },
    {
     "data": {
      "image/png": "[encoded data removed]",
      "text/plain": [
       "<Figure size 432x288 with 1 Axes>"
      ]
     },
     "metadata": {
      "needs_background": "light"
     },
     "output_type": "display_data"
    }
   ],
   "source": [
    "data1 = [d_poo.loc[d_poo[\"year/month\"] == '1989- 1'],\n",
    "         d_poo.loc[d_poo[\"year/month\"] == '1990- 1'],\n",
    "         d_poo.loc[d_poo[\"year/month\"] == '1991- 1'],\n",
    "         d_poo.loc[d_poo[\"year/month\"] == '1992- 1'],\n",
    "         d_poo.loc[d_poo[\"year/month\"] == '1993- 1'],\n",
    "         d_poo.loc[d_poo[\"year/month\"] == '1994- 1'],\n",
    "         d_poo.loc[d_poo[\"year/month\"] == '1995- 1'],\n",
    "         d_poo.loc[d_poo[\"year/month\"] == '1996- 1'],\n",
    "         d_poo.loc[d_poo[\"year/month\"] == '1997- 1'],\n",
    "         d_poo.loc[d_poo[\"year/month\"] == '1998- 1'],\n",
    "         d_poo.loc[d_poo[\"year/month\"] == '1999- 1'],\n",
    "         d_poo.loc[d_poo[\"year/month\"] == '2000-1'],\n",
    "         d_poo.loc[d_poo[\"year/month\"] == '2001-1'],\n",
    "         d_poo.loc[d_poo[\"year/month\"] == '2002-1'],\n",
    "         d_poo.loc[d_poo[\"year/month\"] == '2003-1'],\n",
    "         d_poo.loc[d_poo[\"year/month\"] == '2004-1'],\n",
    "         d_poo.loc[d_poo[\"year/month\"] == '2005-1'],\n",
    "         d_poo.loc[d_poo[\"year/month\"] == '2006-1'],\n",
    "         d_poo.loc[d_poo[\"year/month\"] == '2007-1'],\n",
    "         d_poo.loc[d_poo[\"year/month\"] == '2008-1'],\n",
    "         d_poo.loc[d_poo[\"year/month\"] == '2009-1'],\n",
    "         d_poo.loc[d_poo[\"year/month\"] == '2010-1'],\n",
    "         d_poo.loc[d_poo[\"year/month\"] == '2011-1'],\n",
    "         d_poo.loc[d_poo[\"year/month\"] == '2012-1'],\n",
    "         d_poo.loc[d_poo[\"year/month\"] == '2013-1'],\n",
    "         d_poo.loc[d_poo[\"year/month\"] == '2014-1'],\n",
    "         d_poo.loc[d_poo[\"year/month\"] == '2015-1'],\n",
    "         d_poo.loc[d_poo[\"year/month\"] == '2016-1'],\n",
    "         d_poo.loc[d_poo[\"year/month\"] == '2017-1'],\n",
    "         d_poo.loc[d_poo[\"year/month\"] == '2018-1'],\n",
    "         d_poo.loc[d_poo[\"year/month\"] == '2019-1'],\n",
    "         d_poo.loc[d_poo[\"year/month\"] == '2020-1']]\n",
    "\n",
    "df_jan = pd.concat(data1, axis=0  )\n",
    "\n",
    "df_jan['year/month'] = pd.to_datetime(df_jan['year/month'])\n",
    "df_jan.set_index('year/month' , inplace=True)\n",
    "analysis1 = df_jan[\"Mean\"].copy()\n",
    "decompose_res_mult = seasonal_decompose(analysis1  )\n",
    "decompose_res_mult.trend.plot()"
   ]
  },
  {
   "cell_type": "code",
   "execution_count": null,
   "id": "f605e07d",
   "metadata": {},
   "outputs": [],
   "source": []
  },
  {
   "cell_type": "markdown",
   "id": "784f557f",
   "metadata": {},
   "source": [
    "FEB"
   ]
  },
  {
   "cell_type": "code",
   "execution_count": null,
   "id": "44e8db66",
   "metadata": {},
   "outputs": [],
   "source": []
  },
  {
   "cell_type": "code",
   "execution_count": 4,
   "id": "a40400df",
   "metadata": {},
   "outputs": [
    {
     "data": {
      "text/plain": [
       "<AxesSubplot:xlabel='year/month'>"
      ]
     },
     "execution_count": 4,
     "metadata": {},
     "output_type": "execute_result"
    },
    {
     "data": {
      "image/png": "[encoded data removed]",
      "text/plain": [
       "<Figure size 432x288 with 1 Axes>"
      ]
     },
     "metadata": {
      "needs_background": "light"
     },
     "output_type": "display_data"
    }
   ],
   "source": [
    "data2 = [d_poo.loc[d_poo[\"year/month\"] == '1989- 2'],\n",
    "         d_poo.loc[d_poo[\"year/month\"] == '1990- 2'],\n",
    "         d_poo.loc[d_poo[\"year/month\"] == '1991- 2'],\n",
    "         d_poo.loc[d_poo[\"year/month\"] == '1992- 2'],\n",
    "         d_poo.loc[d_poo[\"year/month\"] == '1993- 2'],\n",
    "         d_poo.loc[d_poo[\"year/month\"] == '1994- 2'],\n",
    "         d_poo.loc[d_poo[\"year/month\"] == '1995- 2'],\n",
    "         d_poo.loc[d_poo[\"year/month\"] == '1996- 2'],\n",
    "         d_poo.loc[d_poo[\"year/month\"] == '1997- 2'],\n",
    "         d_poo.loc[d_poo[\"year/month\"] == '1998- 2'],\n",
    "         d_poo.loc[d_poo[\"year/month\"] == '1999- 2'],\n",
    "         d_poo.loc[d_poo[\"year/month\"] == '2000-2'],\n",
    "         d_poo.loc[d_poo[\"year/month\"] == '2001-2'],\n",
    "         d_poo.loc[d_poo[\"year/month\"] == '2002-2'],\n",
    "         d_poo.loc[d_poo[\"year/month\"] == '2003-2'],\n",
    "         d_poo.loc[d_poo[\"year/month\"] == '2004-2'],\n",
    "         d_poo.loc[d_poo[\"year/month\"] == '2005-2'],\n",
    "         d_poo.loc[d_poo[\"year/month\"] == '2006-2'],\n",
    "         d_poo.loc[d_poo[\"year/month\"] == '2007-2'],\n",
    "         d_poo.loc[d_poo[\"year/month\"] == '2008-2'],\n",
    "         d_poo.loc[d_poo[\"year/month\"] == '2009-2'],\n",
    "         d_poo.loc[d_poo[\"year/month\"] == '2010-2'],\n",
    "         d_poo.loc[d_poo[\"year/month\"] == '2011-2'],\n",
    "         d_poo.loc[d_poo[\"year/month\"] == '2012-2'],\n",
    "         d_poo.loc[d_poo[\"year/month\"] == '2013-2'],\n",
    "         d_poo.loc[d_poo[\"year/month\"] == '2014-2'],\n",
    "         d_poo.loc[d_poo[\"year/month\"] == '2015-2'],\n",
    "         d_poo.loc[d_poo[\"year/month\"] == '2016-2'],\n",
    "         d_poo.loc[d_poo[\"year/month\"] == '2017-2'],\n",
    "         d_poo.loc[d_poo[\"year/month\"] == '2018-2'],\n",
    "         d_poo.loc[d_poo[\"year/month\"] == '2019-2'],\n",
    "         d_poo.loc[d_poo[\"year/month\"] == '2020-2']]\n",
    "\n",
    "df_feb = pd.concat(data2, axis=0  )\n",
    "\n",
    "df_feb['year/month'] = pd.to_datetime(df_feb['year/month'])\n",
    "df_feb.set_index('year/month' , inplace=True)\n",
    "analysis2 = df_feb[\"Mean\"].copy()\n",
    "decompose_res_mult = seasonal_decompose(analysis2  )\n",
    "decompose_res_mult.trend.plot()\n"
   ]
  },
  {
   "cell_type": "code",
   "execution_count": null,
   "id": "9aa72cbb",
   "metadata": {},
   "outputs": [],
   "source": []
  },
  {
   "cell_type": "markdown",
   "id": "05a86ff9",
   "metadata": {},
   "source": [
    "MAR"
   ]
  },
  {
   "cell_type": "code",
   "execution_count": null,
   "id": "49d65f2e",
   "metadata": {},
   "outputs": [],
   "source": []
  },
  {
   "cell_type": "code",
   "execution_count": 5,
   "id": "8304b447",
   "metadata": {},
   "outputs": [
    {
     "data": {
      "text/plain": [
       "<AxesSubplot:xlabel='year/month'>"
      ]
     },
     "execution_count": 5,
     "metadata": {},
     "output_type": "execute_result"
    },
    {
     "data": {
      "image/png": "[encoded data removed]",
      "text/plain": [
       "<Figure size 432x288 with 1 Axes>"
      ]
     },
     "metadata": {
      "needs_background": "light"
     },
     "output_type": "display_data"
    }
   ],
   "source": [
    "data3 = [d_poo.loc[d_poo[\"year/month\"] == '1989- 3'],\n",
    "         d_poo.loc[d_poo[\"year/month\"] == '1990- 3'],\n",
    "         d_poo.loc[d_poo[\"year/month\"] == '1991- 3'],\n",
    "         d_poo.loc[d_poo[\"year/month\"] == '1992- 3'],\n",
    "         d_poo.loc[d_poo[\"year/month\"] == '1993- 3'],\n",
    "         d_poo.loc[d_poo[\"year/month\"] == '1994- 3'],\n",
    "         d_poo.loc[d_poo[\"year/month\"] == '1995- 3'],\n",
    "         d_poo.loc[d_poo[\"year/month\"] == '1996- 3'],\n",
    "         d_poo.loc[d_poo[\"year/month\"] == '1997- 3'],\n",
    "         d_poo.loc[d_poo[\"year/month\"] == '1998- 3'],\n",
    "         d_poo.loc[d_poo[\"year/month\"] == '1999- 3'],\n",
    "         d_poo.loc[d_poo[\"year/month\"] == '2000-3'],\n",
    "         d_poo.loc[d_poo[\"year/month\"] == '2001-3'],\n",
    "         d_poo.loc[d_poo[\"year/month\"] == '2002-3'],\n",
    "         d_poo.loc[d_poo[\"year/month\"] == '2003-3'],\n",
    "         d_poo.loc[d_poo[\"year/month\"] == '2004-3'],\n",
    "         d_poo.loc[d_poo[\"year/month\"] == '2005-3'],\n",
    "         d_poo.loc[d_poo[\"year/month\"] == '2006-3'],\n",
    "         d_poo.loc[d_poo[\"year/month\"] == '2007-3'],\n",
    "         d_poo.loc[d_poo[\"year/month\"] == '2008-3'],\n",
    "         d_poo.loc[d_poo[\"year/month\"] == '2009-3'],\n",
    "         d_poo.loc[d_poo[\"year/month\"] == '2010-3'],\n",
    "         d_poo.loc[d_poo[\"year/month\"] == '2011-3'],\n",
    "         d_poo.loc[d_poo[\"year/month\"] == '2012-3'],\n",
    "         d_poo.loc[d_poo[\"year/month\"] == '2013-3'],\n",
    "         d_poo.loc[d_poo[\"year/month\"] == '2014-3'],\n",
    "         d_poo.loc[d_poo[\"year/month\"] == '2015-3'],\n",
    "         d_poo.loc[d_poo[\"year/month\"] == '2016-3'],\n",
    "         d_poo.loc[d_poo[\"year/month\"] == '2017-3'],\n",
    "         d_poo.loc[d_poo[\"year/month\"] == '2018-3'],\n",
    "         d_poo.loc[d_poo[\"year/month\"] == '2019-3'],\n",
    "         d_poo.loc[d_poo[\"year/month\"] == '2020-3']]\n",
    "\n",
    "df_mar = pd.concat(data3, axis=0  )\n",
    "\n",
    "df_mar['year/month'] = pd.to_datetime(df_mar['year/month'])\n",
    "df_mar.set_index('year/month' , inplace=True)\n",
    "analysis3 = df_mar[\"Mean\"].copy()\n",
    "decompose_res_mult = seasonal_decompose(analysis3  )\n",
    "decompose_res_mult.trend.plot()"
   ]
  },
  {
   "cell_type": "code",
   "execution_count": null,
   "id": "f0a37367",
   "metadata": {},
   "outputs": [],
   "source": []
  },
  {
   "cell_type": "markdown",
   "id": "b9f45be4",
   "metadata": {},
   "source": [
    "APR"
   ]
  },
  {
   "cell_type": "code",
   "execution_count": null,
   "id": "6c23788e",
   "metadata": {},
   "outputs": [],
   "source": []
  },
  {
   "cell_type": "code",
   "execution_count": 6,
   "id": "c716ae7e",
   "metadata": {},
   "outputs": [
    {
     "data": {
      "text/plain": [
       "<AxesSubplot:xlabel='year/month'>"
      ]
     },
     "execution_count": 6,
     "metadata": {},
     "output_type": "execute_result"
    },
    {
     "data": {
      "image/png": "[encoded data removed]",
      "text/plain": [
       "<Figure size 432x288 with 1 Axes>"
      ]
     },
     "metadata": {
      "needs_background": "light"
     },
     "output_type": "display_data"
    }
   ],
   "source": [
    "data4 = [d_poo.loc[d_poo[\"year/month\"] == '1989- 4'],\n",
    "         d_poo.loc[d_poo[\"year/month\"] == '1990- 4'],\n",
    "         d_poo.loc[d_poo[\"year/month\"] == '1991- 4'],\n",
    "         d_poo.loc[d_poo[\"year/month\"] == '1992- 4'],\n",
    "         d_poo.loc[d_poo[\"year/month\"] == '1993- 4'],\n",
    "         d_poo.loc[d_poo[\"year/month\"] == '1994- 4'],\n",
    "         d_poo.loc[d_poo[\"year/month\"] == '1995- 4'],\n",
    "         d_poo.loc[d_poo[\"year/month\"] == '1996- 4'],\n",
    "         d_poo.loc[d_poo[\"year/month\"] == '1997- 4'],\n",
    "         d_poo.loc[d_poo[\"year/month\"] == '1998- 4'],\n",
    "         d_poo.loc[d_poo[\"year/month\"] == '1999- 4'],\n",
    "         d_poo.loc[d_poo[\"year/month\"] == '2000-4'],\n",
    "         d_poo.loc[d_poo[\"year/month\"] == '2001-4'],\n",
    "         d_poo.loc[d_poo[\"year/month\"] == '2002-4'],\n",
    "         d_poo.loc[d_poo[\"year/month\"] == '2003-4'],\n",
    "         d_poo.loc[d_poo[\"year/month\"] == '2004-4'],\n",
    "         d_poo.loc[d_poo[\"year/month\"] == '2005-4'],\n",
    "         d_poo.loc[d_poo[\"year/month\"] == '2006-4'],\n",
    "         d_poo.loc[d_poo[\"year/month\"] == '2007-4'],\n",
    "         d_poo.loc[d_poo[\"year/month\"] == '2008-4'],\n",
    "         d_poo.loc[d_poo[\"year/month\"] == '2009-4'],\n",
    "         d_poo.loc[d_poo[\"year/month\"] == '2010-4'],\n",
    "         d_poo.loc[d_poo[\"year/month\"] == '2011-4'],\n",
    "         d_poo.loc[d_poo[\"year/month\"] == '2012-4'],\n",
    "         d_poo.loc[d_poo[\"year/month\"] == '2013-4'],\n",
    "         d_poo.loc[d_poo[\"year/month\"] == '2014-4'],\n",
    "         d_poo.loc[d_poo[\"year/month\"] == '2015-4'],\n",
    "         d_poo.loc[d_poo[\"year/month\"] == '2016-4'],\n",
    "         d_poo.loc[d_poo[\"year/month\"] == '2017-4'],\n",
    "         d_poo.loc[d_poo[\"year/month\"] == '2018-4'],\n",
    "         d_poo.loc[d_poo[\"year/month\"] == '2019-4'],\n",
    "         d_poo.loc[d_poo[\"year/month\"] == '2020-4']]\n",
    "\n",
    "df_apr = pd.concat(data4, axis=0  )\n",
    "df_apr.head()\n",
    "\n",
    "df_apr['year/month'] = pd.to_datetime(df_apr['year/month'])\n",
    "df_apr.set_index('year/month' , inplace=True)\n",
    "analysis4 = df_apr[\"Mean\"].copy()\n",
    "decompose_res_mult = seasonal_decompose(analysis4  )\n",
    "decompose_res_mult.trend.plot()"
   ]
  },
  {
   "cell_type": "code",
   "execution_count": null,
   "id": "c954796f",
   "metadata": {},
   "outputs": [],
   "source": []
  },
  {
   "cell_type": "markdown",
   "id": "dbe5db18",
   "metadata": {},
   "source": [
    "MAY"
   ]
  },
  {
   "cell_type": "code",
   "execution_count": null,
   "id": "03178fa6",
   "metadata": {},
   "outputs": [],
   "source": []
  },
  {
   "cell_type": "code",
   "execution_count": 7,
   "id": "5965801b",
   "metadata": {},
   "outputs": [
    {
     "data": {
      "text/plain": [
       "<AxesSubplot:xlabel='year/month'>"
      ]
     },
     "execution_count": 7,
     "metadata": {},
     "output_type": "execute_result"
    },
    {
     "data": {
      "image/png": "[encoded data removed]",
      "text/plain": [
       "<Figure size 432x288 with 1 Axes>"
      ]
     },
     "metadata": {
      "needs_background": "light"
     },
     "output_type": "display_data"
    }
   ],
   "source": [
    "data5 = [d_poo.loc[d_poo[\"year/month\"] == '1989- 5'],\n",
    "         d_poo.loc[d_poo[\"year/month\"] == '1990- 5'],\n",
    "         d_poo.loc[d_poo[\"year/month\"] == '1991- 5'],\n",
    "         d_poo.loc[d_poo[\"year/month\"] == '1992- 5'],\n",
    "         d_poo.loc[d_poo[\"year/month\"] == '1993- 5'],\n",
    "         d_poo.loc[d_poo[\"year/month\"] == '1994- 5'],\n",
    "         d_poo.loc[d_poo[\"year/month\"] == '1995- 5'],\n",
    "         d_poo.loc[d_poo[\"year/month\"] == '1996- 5'],\n",
    "         d_poo.loc[d_poo[\"year/month\"] == '1997- 5'],\n",
    "         d_poo.loc[d_poo[\"year/month\"] == '1998- 5'],\n",
    "         d_poo.loc[d_poo[\"year/month\"] == '1999- 5'],\n",
    "         d_poo.loc[d_poo[\"year/month\"] == '2000-5'],\n",
    "         d_poo.loc[d_poo[\"year/month\"] == '2001-5'],\n",
    "         d_poo.loc[d_poo[\"year/month\"] == '2002-5'],\n",
    "         d_poo.loc[d_poo[\"year/month\"] == '2003-5'],\n",
    "         d_poo.loc[d_poo[\"year/month\"] == '2004-5'],\n",
    "         d_poo.loc[d_poo[\"year/month\"] == '2005-5'],\n",
    "         d_poo.loc[d_poo[\"year/month\"] == '2006-5'],\n",
    "         d_poo.loc[d_poo[\"year/month\"] == '2007-5'],\n",
    "         d_poo.loc[d_poo[\"year/month\"] == '2008-5'],\n",
    "         d_poo.loc[d_poo[\"year/month\"] == '2009-5'],\n",
    "         d_poo.loc[d_poo[\"year/month\"] == '2010-5'],\n",
    "         d_poo.loc[d_poo[\"year/month\"] == '2011-5'],\n",
    "         d_poo.loc[d_poo[\"year/month\"] == '2012-5'],\n",
    "         d_poo.loc[d_poo[\"year/month\"] == '2013-5'],\n",
    "         d_poo.loc[d_poo[\"year/month\"] == '2014-5'],\n",
    "         d_poo.loc[d_poo[\"year/month\"] == '2015-5'],\n",
    "         d_poo.loc[d_poo[\"year/month\"] == '2016-5'],\n",
    "         d_poo.loc[d_poo[\"year/month\"] == '2017-5'],\n",
    "         d_poo.loc[d_poo[\"year/month\"] == '2018-5'],\n",
    "         d_poo.loc[d_poo[\"year/month\"] == '2019-5'],\n",
    "         d_poo.loc[d_poo[\"year/month\"] == '2020-5']]\n",
    "\n",
    "df_may = pd.concat(data5, axis=0  )\n",
    "df_may.head()\n",
    "\n",
    "df_may['year/month'] = pd.to_datetime(df_may['year/month'])\n",
    "df_may.set_index('year/month' , inplace=True)\n",
    "analysis5 = df_may[\"Mean\"].copy()\n",
    "decompose_res_mult = seasonal_decompose(analysis5  )\n",
    "decompose_res_mult.trend.plot()"
   ]
  },
  {
   "cell_type": "code",
   "execution_count": null,
   "id": "71b60d4f",
   "metadata": {},
   "outputs": [],
   "source": []
  },
  {
   "cell_type": "markdown",
   "id": "2e3406a1",
   "metadata": {},
   "source": [
    "JUN"
   ]
  },
  {
   "cell_type": "code",
   "execution_count": null,
   "id": "ce3e84d8",
   "metadata": {},
   "outputs": [],
   "source": []
  },
  {
   "cell_type": "code",
   "execution_count": 8,
   "id": "84c27d8d",
   "metadata": {},
   "outputs": [
    {
     "data": {
      "text/plain": [
       "<AxesSubplot:xlabel='year/month'>"
      ]
     },
     "execution_count": 8,
     "metadata": {},
     "output_type": "execute_result"
    },
    {
     "data": {
      "image/png": "[encoded data removed]",
      "text/plain": [
       "<Figure size 432x288 with 1 Axes>"
      ]
     },
     "metadata": {
      "needs_background": "light"
     },
     "output_type": "display_data"
    }
   ],
   "source": [
    "data6 = [d_poo.loc[d_poo[\"year/month\"] == '1989- 6'],\n",
    "         d_poo.loc[d_poo[\"year/month\"] == '1990- 6'],\n",
    "         d_poo.loc[d_poo[\"year/month\"] == '1991- 6'],\n",
    "         d_poo.loc[d_poo[\"year/month\"] == '1992- 6'],\n",
    "         d_poo.loc[d_poo[\"year/month\"] == '1993- 6'],\n",
    "         d_poo.loc[d_poo[\"year/month\"] == '1994- 6'],\n",
    "         d_poo.loc[d_poo[\"year/month\"] == '1995- 6'],\n",
    "         d_poo.loc[d_poo[\"year/month\"] == '1996- 6'],\n",
    "         d_poo.loc[d_poo[\"year/month\"] == '1997- 6'],\n",
    "         d_poo.loc[d_poo[\"year/month\"] == '1998- 6'],\n",
    "         d_poo.loc[d_poo[\"year/month\"] == '1999- 6'],\n",
    "         d_poo.loc[d_poo[\"year/month\"] == '2000-6'],\n",
    "         d_poo.loc[d_poo[\"year/month\"] == '2001-6'],\n",
    "         d_poo.loc[d_poo[\"year/month\"] == '2002-6'],\n",
    "         d_poo.loc[d_poo[\"year/month\"] == '2003-6'],\n",
    "         d_poo.loc[d_poo[\"year/month\"] == '2004-6'],\n",
    "         d_poo.loc[d_poo[\"year/month\"] == '2005-6'],\n",
    "         d_poo.loc[d_poo[\"year/month\"] == '2006-6'],\n",
    "         d_poo.loc[d_poo[\"year/month\"] == '2007-6'],\n",
    "         d_poo.loc[d_poo[\"year/month\"] == '2008-6'],\n",
    "         d_poo.loc[d_poo[\"year/month\"] == '2009-6'],\n",
    "         d_poo.loc[d_poo[\"year/month\"] == '2010-6'],\n",
    "         d_poo.loc[d_poo[\"year/month\"] == '2011-6'],\n",
    "         d_poo.loc[d_poo[\"year/month\"] == '2012-6'],\n",
    "         d_poo.loc[d_poo[\"year/month\"] == '2013-6'],\n",
    "         d_poo.loc[d_poo[\"year/month\"] == '2014-6'],\n",
    "         d_poo.loc[d_poo[\"year/month\"] == '2015-6'],\n",
    "         d_poo.loc[d_poo[\"year/month\"] == '2016-6'],\n",
    "         d_poo.loc[d_poo[\"year/month\"] == '2017-6'],\n",
    "         d_poo.loc[d_poo[\"year/month\"] == '2018-6'],\n",
    "         d_poo.loc[d_poo[\"year/month\"] == '2019-6'],\n",
    "         d_poo.loc[d_poo[\"year/month\"] == '2020-6']]\n",
    "\n",
    "df_jun = pd.concat(data6, axis=0  )\n",
    "df_jun.head()\n",
    "\n",
    "df_jun['year/month'] = pd.to_datetime(df_jun['year/month'])\n",
    "df_jun.set_index('year/month' , inplace=True)\n",
    "analysis6 = df_jun[\"Mean\"].copy()\n",
    "decompose_res_mult = seasonal_decompose(analysis6  )\n",
    "decompose_res_mult.trend.plot()"
   ]
  },
  {
   "cell_type": "code",
   "execution_count": null,
   "id": "c44639a7",
   "metadata": {},
   "outputs": [],
   "source": []
  },
  {
   "cell_type": "markdown",
   "id": "8a84bc40",
   "metadata": {},
   "source": [
    "JUL"
   ]
  },
  {
   "cell_type": "code",
   "execution_count": null,
   "id": "58345c2b",
   "metadata": {},
   "outputs": [],
   "source": []
  },
  {
   "cell_type": "code",
   "execution_count": 9,
   "id": "46e86b37",
   "metadata": {},
   "outputs": [
    {
     "data": {
      "text/plain": [
       "<AxesSubplot:xlabel='year/month'>"
      ]
     },
     "execution_count": 9,
     "metadata": {},
     "output_type": "execute_result"
    },
    {
     "data": {
      "image/png": "[encoded data removed]",
      "text/plain": [
       "<Figure size 432x288 with 1 Axes>"
      ]
     },
     "metadata": {
      "needs_background": "light"
     },
     "output_type": "display_data"
    }
   ],
   "source": [
    "data7 = [d_poo.loc[d_poo[\"year/month\"] == '1989- 7'],\n",
    "         d_poo.loc[d_poo[\"year/month\"] == '1990- 7'],\n",
    "         d_poo.loc[d_poo[\"year/month\"] == '1991- 7'],\n",
    "         d_poo.loc[d_poo[\"year/month\"] == '1992- 7'],\n",
    "         d_poo.loc[d_poo[\"year/month\"] == '1993- 7'],\n",
    "         d_poo.loc[d_poo[\"year/month\"] == '1994- 7'],\n",
    "         d_poo.loc[d_poo[\"year/month\"] == '1995- 7'],\n",
    "         d_poo.loc[d_poo[\"year/month\"] == '1996- 7'],\n",
    "         d_poo.loc[d_poo[\"year/month\"] == '1997- 7'],\n",
    "         d_poo.loc[d_poo[\"year/month\"] == '1998- 7'],\n",
    "         d_poo.loc[d_poo[\"year/month\"] == '1999- 7'],\n",
    "         d_poo.loc[d_poo[\"year/month\"] == '2000-7'],\n",
    "         d_poo.loc[d_poo[\"year/month\"] == '2001-7'],\n",
    "         d_poo.loc[d_poo[\"year/month\"] == '2002-7'],\n",
    "         d_poo.loc[d_poo[\"year/month\"] == '2003-7'],\n",
    "         d_poo.loc[d_poo[\"year/month\"] == '2004-7'],\n",
    "         d_poo.loc[d_poo[\"year/month\"] == '2005-7'],\n",
    "         d_poo.loc[d_poo[\"year/month\"] == '2006-7'],\n",
    "         d_poo.loc[d_poo[\"year/month\"] == '2007-7'],\n",
    "         d_poo.loc[d_poo[\"year/month\"] == '2008-7'],\n",
    "         d_poo.loc[d_poo[\"year/month\"] == '2009-7'],\n",
    "         d_poo.loc[d_poo[\"year/month\"] == '2010-7'],\n",
    "         d_poo.loc[d_poo[\"year/month\"] == '2011-7'],\n",
    "         d_poo.loc[d_poo[\"year/month\"] == '2012-7'],\n",
    "         d_poo.loc[d_poo[\"year/month\"] == '2013-7'],\n",
    "         d_poo.loc[d_poo[\"year/month\"] == '2014-7'],\n",
    "         d_poo.loc[d_poo[\"year/month\"] == '2015-7'],\n",
    "         d_poo.loc[d_poo[\"year/month\"] == '2016-7'],\n",
    "         d_poo.loc[d_poo[\"year/month\"] == '2017-7'],\n",
    "         d_poo.loc[d_poo[\"year/month\"] == '2018-7'],\n",
    "         d_poo.loc[d_poo[\"year/month\"] == '2019-7'],\n",
    "         d_poo.loc[d_poo[\"year/month\"] == '2020-7']]\n",
    "\n",
    "df_jul = pd.concat(data7, axis=0  )\n",
    "df_jul.head()\n",
    "\n",
    "df_jul['year/month'] = pd.to_datetime(df_jul['year/month'])\n",
    "df_jul.set_index('year/month' , inplace=True)\n",
    "analysis7 = df_jul[\"Mean\"].copy()\n",
    "decompose_res_mult = seasonal_decompose(analysis7  )\n",
    "decompose_res_mult.trend.plot()"
   ]
  },
  {
   "cell_type": "code",
   "execution_count": null,
   "id": "efae5d48",
   "metadata": {},
   "outputs": [],
   "source": []
  },
  {
   "cell_type": "markdown",
   "id": "542f6a44",
   "metadata": {},
   "source": [
    "AUG"
   ]
  },
  {
   "cell_type": "code",
   "execution_count": null,
   "id": "f3d8f15f",
   "metadata": {},
   "outputs": [],
   "source": []
  },
  {
   "cell_type": "code",
   "execution_count": 10,
   "id": "2953a425",
   "metadata": {},
   "outputs": [
    {
     "data": {
      "text/plain": [
       "<AxesSubplot:xlabel='year/month'>"
      ]
     },
     "execution_count": 10,
     "metadata": {},
     "output_type": "execute_result"
    },
    {
     "data": {
      "image/png": "[encoded data removed]",
      "text/plain": [
       "<Figure size 432x288 with 1 Axes>"
      ]
     },
     "metadata": {
      "needs_background": "light"
     },
     "output_type": "display_data"
    }
   ],
   "source": [
    "data8 = [d_poo.loc[d_poo[\"year/month\"] == '1989- 8'],\n",
    "         d_poo.loc[d_poo[\"year/month\"] == '1990- 8'],\n",
    "         d_poo.loc[d_poo[\"year/month\"] == '1991- 8'],\n",
    "         d_poo.loc[d_poo[\"year/month\"] == '1992- 8'],\n",
    "         d_poo.loc[d_poo[\"year/month\"] == '1993- 8'],\n",
    "         d_poo.loc[d_poo[\"year/month\"] == '1994- 8'],\n",
    "         d_poo.loc[d_poo[\"year/month\"] == '1995- 8'],\n",
    "         d_poo.loc[d_poo[\"year/month\"] == '1996- 8'],\n",
    "         d_poo.loc[d_poo[\"year/month\"] == '1997- 8'],\n",
    "         d_poo.loc[d_poo[\"year/month\"] == '1998- 8'],\n",
    "         d_poo.loc[d_poo[\"year/month\"] == '1999- 8'],\n",
    "         d_poo.loc[d_poo[\"year/month\"] == '2000-8'],\n",
    "         d_poo.loc[d_poo[\"year/month\"] == '2001-8'],\n",
    "         d_poo.loc[d_poo[\"year/month\"] == '2002-8'],\n",
    "         d_poo.loc[d_poo[\"year/month\"] == '2003-8'],\n",
    "         d_poo.loc[d_poo[\"year/month\"] == '2004-8'],\n",
    "         d_poo.loc[d_poo[\"year/month\"] == '2005-8'],\n",
    "         d_poo.loc[d_poo[\"year/month\"] == '2006-8'],\n",
    "         d_poo.loc[d_poo[\"year/month\"] == '2007-8'],\n",
    "         d_poo.loc[d_poo[\"year/month\"] == '2008-8'],\n",
    "         d_poo.loc[d_poo[\"year/month\"] == '2009-8'],\n",
    "         d_poo.loc[d_poo[\"year/month\"] == '2010-8'],\n",
    "         d_poo.loc[d_poo[\"year/month\"] == '2011-8'],\n",
    "         d_poo.loc[d_poo[\"year/month\"] == '2012-8'],\n",
    "         d_poo.loc[d_poo[\"year/month\"] == '2013-8'],\n",
    "         d_poo.loc[d_poo[\"year/month\"] == '2014-8'],\n",
    "         d_poo.loc[d_poo[\"year/month\"] == '2015-8'],\n",
    "         d_poo.loc[d_poo[\"year/month\"] == '2016-8'],\n",
    "         d_poo.loc[d_poo[\"year/month\"] == '2017-8'],\n",
    "         d_poo.loc[d_poo[\"year/month\"] == '2018-8'],\n",
    "         d_poo.loc[d_poo[\"year/month\"] == '2019-8'],\n",
    "         d_poo.loc[d_poo[\"year/month\"] == '2020-8']]\n",
    "\n",
    "df_aug = pd.concat(data8, axis=0  )\n",
    "df_aug.head()\n",
    "\n",
    "df_aug['year/month'] = pd.to_datetime(df_aug['year/month'])\n",
    "df_aug.set_index('year/month' , inplace=True)\n",
    "analysis8 = df_aug[\"Mean\"].copy()\n",
    "decompose_res_mult = seasonal_decompose(analysis8  )\n",
    "decompose_res_mult.trend.plot()"
   ]
  },
  {
   "cell_type": "code",
   "execution_count": null,
   "id": "f4b474a6",
   "metadata": {},
   "outputs": [],
   "source": []
  },
  {
   "cell_type": "markdown",
   "id": "e26d22bd",
   "metadata": {},
   "source": [
    "SEP"
   ]
  },
  {
   "cell_type": "code",
   "execution_count": null,
   "id": "88f3a303",
   "metadata": {},
   "outputs": [],
   "source": []
  },
  {
   "cell_type": "code",
   "execution_count": 11,
   "id": "acc2825c",
   "metadata": {},
   "outputs": [
    {
     "data": {
      "text/plain": [
       "<AxesSubplot:xlabel='year/month'>"
      ]
     },
     "execution_count": 11,
     "metadata": {},
     "output_type": "execute_result"
    },
    {
     "data": {
      "image/png": "[encoded data removed]",
      "text/plain": [
       "<Figure size 432x288 with 1 Axes>"
      ]
     },
     "metadata": {
      "needs_background": "light"
     },
     "output_type": "display_data"
    }
   ],
   "source": [
    "data9 = [d_poo.loc[d_poo[\"year/month\"] == '1989- 9'],\n",
    "         d_poo.loc[d_poo[\"year/month\"] == '1990- 9'],\n",
    "         d_poo.loc[d_poo[\"year/month\"] == '1991- 9'],\n",
    "         d_poo.loc[d_poo[\"year/month\"] == '1992- 9'],\n",
    "         d_poo.loc[d_poo[\"year/month\"] == '1993- 9'],\n",
    "         d_poo.loc[d_poo[\"year/month\"] == '1994- 9'],\n",
    "         d_poo.loc[d_poo[\"year/month\"] == '1995- 9'],\n",
    "         d_poo.loc[d_poo[\"year/month\"] == '1996- 9'],\n",
    "         d_poo.loc[d_poo[\"year/month\"] == '1997- 9'],\n",
    "         d_poo.loc[d_poo[\"year/month\"] == '1998- 9'],\n",
    "         d_poo.loc[d_poo[\"year/month\"] == '1999- 9'],\n",
    "         d_poo.loc[d_poo[\"year/month\"] == '2000-9'],\n",
    "         d_poo.loc[d_poo[\"year/month\"] == '2001-9'],\n",
    "         d_poo.loc[d_poo[\"year/month\"] == '2002-9'],\n",
    "         d_poo.loc[d_poo[\"year/month\"] == '2003-9'],\n",
    "         d_poo.loc[d_poo[\"year/month\"] == '2004-9'],\n",
    "         d_poo.loc[d_poo[\"year/month\"] == '2005-9'],\n",
    "         d_poo.loc[d_poo[\"year/month\"] == '2006-9'],\n",
    "         d_poo.loc[d_poo[\"year/month\"] == '2007-9'],\n",
    "         d_poo.loc[d_poo[\"year/month\"] == '2008-9'],\n",
    "         d_poo.loc[d_poo[\"year/month\"] == '2009-9'],\n",
    "         d_poo.loc[d_poo[\"year/month\"] == '2010-9'],\n",
    "         d_poo.loc[d_poo[\"year/month\"] == '2011-9'],\n",
    "         d_poo.loc[d_poo[\"year/month\"] == '2012-9'],\n",
    "         d_poo.loc[d_poo[\"year/month\"] == '2013-9'],\n",
    "         d_poo.loc[d_poo[\"year/month\"] == '2014-9'],\n",
    "         d_poo.loc[d_poo[\"year/month\"] == '2015-9'],\n",
    "         d_poo.loc[d_poo[\"year/month\"] == '2016-9'],\n",
    "         d_poo.loc[d_poo[\"year/month\"] == '2017-9'],\n",
    "         d_poo.loc[d_poo[\"year/month\"] == '2018-9'],\n",
    "         d_poo.loc[d_poo[\"year/month\"] == '2019-9'],\n",
    "         d_poo.loc[d_poo[\"year/month\"] == '2020-9']]\n",
    "\n",
    "df_sep = pd.concat(data9, axis=0  )\n",
    "df_sep.head()\n",
    "\n",
    "df_sep['year/month'] = pd.to_datetime(df_sep['year/month'])\n",
    "df_sep.set_index('year/month' , inplace=True)\n",
    "analysis9 = df_sep[\"Mean\"].copy()\n",
    "decompose_res_mult = seasonal_decompose(analysis9  )\n",
    "decompose_res_mult.trend.plot()"
   ]
  },
  {
   "cell_type": "code",
   "execution_count": null,
   "id": "eb1c2d84",
   "metadata": {},
   "outputs": [],
   "source": []
  },
  {
   "cell_type": "markdown",
   "id": "a0e365c0",
   "metadata": {},
   "source": [
    "OCT"
   ]
  },
  {
   "cell_type": "code",
   "execution_count": null,
   "id": "d0dd588e",
   "metadata": {},
   "outputs": [],
   "source": []
  },
  {
   "cell_type": "code",
   "execution_count": 12,
   "id": "0f5c1faf",
   "metadata": {},
   "outputs": [
    {
     "data": {
      "text/plain": [
       "<AxesSubplot:xlabel='year/month'>"
      ]
     },
     "execution_count": 12,
     "metadata": {},
     "output_type": "execute_result"
    },
    {
     "data": {
      "image/png": "[encoded data removed]",
      "text/plain": [
       "<Figure size 432x288 with 1 Axes>"
      ]
     },
     "metadata": {
      "needs_background": "light"
     },
     "output_type": "display_data"
    }
   ],
   "source": [
    "data10 = [d_poo.loc[d_poo[\"year/month\"] == '1989-10'],\n",
    "         d_poo.loc[d_poo[\"year/month\"] == '1990-10'],\n",
    "         d_poo.loc[d_poo[\"year/month\"] == '1991-10'],\n",
    "         d_poo.loc[d_poo[\"year/month\"] == '1992-10'],\n",
    "         d_poo.loc[d_poo[\"year/month\"] == '1993-10'],\n",
    "         d_poo.loc[d_poo[\"year/month\"] == '1994-10'],\n",
    "         d_poo.loc[d_poo[\"year/month\"] == '1995-10'],\n",
    "         d_poo.loc[d_poo[\"year/month\"] == '1996- 10'],\n",
    "         d_poo.loc[d_poo[\"year/month\"] == '1997-10'],\n",
    "         d_poo.loc[d_poo[\"year/month\"] == '1998-10'],\n",
    "         d_poo.loc[d_poo[\"year/month\"] == '1999-10'],\n",
    "         d_poo.loc[d_poo[\"year/month\"] == '2000-10'],\n",
    "         d_poo.loc[d_poo[\"year/month\"] == '2001-10'],\n",
    "         d_poo.loc[d_poo[\"year/month\"] == '2002-10'],\n",
    "         d_poo.loc[d_poo[\"year/month\"] == '2003-10'],\n",
    "         d_poo.loc[d_poo[\"year/month\"] == '2004-10'],\n",
    "         d_poo.loc[d_poo[\"year/month\"] == '2005-10'],\n",
    "         d_poo.loc[d_poo[\"year/month\"] == '2006-10'],\n",
    "         d_poo.loc[d_poo[\"year/month\"] == '2007-10'],\n",
    "         d_poo.loc[d_poo[\"year/month\"] == '2008-10'],\n",
    "         d_poo.loc[d_poo[\"year/month\"] == '2009-10'],\n",
    "         d_poo.loc[d_poo[\"year/month\"] == '2010-10'],\n",
    "         d_poo.loc[d_poo[\"year/month\"] == '2011-10'],\n",
    "         d_poo.loc[d_poo[\"year/month\"] == '2012-10'],\n",
    "         d_poo.loc[d_poo[\"year/month\"] == '2013-10'],\n",
    "         d_poo.loc[d_poo[\"year/month\"] == '2014-10'],\n",
    "         d_poo.loc[d_poo[\"year/month\"] == '2015-10'],\n",
    "         d_poo.loc[d_poo[\"year/month\"] == '2016-10'],\n",
    "         d_poo.loc[d_poo[\"year/month\"] == '2017-10'],\n",
    "         d_poo.loc[d_poo[\"year/month\"] == '2018-10'],\n",
    "         d_poo.loc[d_poo[\"year/month\"] == '2019-10'],\n",
    "         d_poo.loc[d_poo[\"year/month\"] == '2020-10']]\n",
    "\n",
    "df_oct = pd.concat(data10, axis=0  )\n",
    "\n",
    "\n",
    "df_oct['year/month'] = pd.to_datetime(df_oct['year/month'])\n",
    "df_oct.set_index('year/month' , inplace=True)\n",
    "analysis10 = df_oct[\"Mean\"].copy()\n",
    "decompose_res_mult = seasonal_decompose(analysis10  )\n",
    "decompose_res_mult.trend.plot()\n"
   ]
  },
  {
   "cell_type": "code",
   "execution_count": null,
   "id": "73411b9d",
   "metadata": {},
   "outputs": [],
   "source": []
  },
  {
   "cell_type": "markdown",
   "id": "4d6b6b08",
   "metadata": {},
   "source": [
    "NOV"
   ]
  },
  {
   "cell_type": "code",
   "execution_count": null,
   "id": "40027c65",
   "metadata": {},
   "outputs": [],
   "source": []
  },
  {
   "cell_type": "code",
   "execution_count": 13,
   "id": "c25064c9",
   "metadata": {},
   "outputs": [
    {
     "data": {
      "text/plain": [
       "<AxesSubplot:xlabel='year/month'>"
      ]
     },
     "execution_count": 13,
     "metadata": {},
     "output_type": "execute_result"
    },
    {
     "data": {
      "image/png": "[encoded data removed]",
      "text/plain": [
       "<Figure size 432x288 with 1 Axes>"
      ]
     },
     "metadata": {
      "needs_background": "light"
     },
     "output_type": "display_data"
    }
   ],
   "source": [
    "data11 = [d_poo.loc[d_poo[\"year/month\"] == '1989-11'],\n",
    "         d_poo.loc[d_poo[\"year/month\"] == '1990-11'],\n",
    "         d_poo.loc[d_poo[\"year/month\"] == '1991-11'],\n",
    "         d_poo.loc[d_poo[\"year/month\"] == '1992-11'],\n",
    "         d_poo.loc[d_poo[\"year/month\"] == '1993-11'],\n",
    "         d_poo.loc[d_poo[\"year/month\"] == '1994-11'],\n",
    "         d_poo.loc[d_poo[\"year/month\"] == '1995-11'],\n",
    "         d_poo.loc[d_poo[\"year/month\"] == '1996-11'],\n",
    "         d_poo.loc[d_poo[\"year/month\"] == '1997-11'],\n",
    "         d_poo.loc[d_poo[\"year/month\"] == '1998-11'],\n",
    "         d_poo.loc[d_poo[\"year/month\"] == '1999-11'],\n",
    "         d_poo.loc[d_poo[\"year/month\"] == '2000-11'],\n",
    "         d_poo.loc[d_poo[\"year/month\"] == '2001-11'],\n",
    "         d_poo.loc[d_poo[\"year/month\"] == '2002-11'],\n",
    "         d_poo.loc[d_poo[\"year/month\"] == '2003-11'],\n",
    "         d_poo.loc[d_poo[\"year/month\"] == '2004-11'],\n",
    "         d_poo.loc[d_poo[\"year/month\"] == '2005-11'],\n",
    "         d_poo.loc[d_poo[\"year/month\"] == '2006-11'],\n",
    "         d_poo.loc[d_poo[\"year/month\"] == '2007-11'],\n",
    "         d_poo.loc[d_poo[\"year/month\"] == '2008-11'],\n",
    "         d_poo.loc[d_poo[\"year/month\"] == '2009-11'],\n",
    "         d_poo.loc[d_poo[\"year/month\"] == '2010-11'],\n",
    "         d_poo.loc[d_poo[\"year/month\"] == '2011-11'],\n",
    "         d_poo.loc[d_poo[\"year/month\"] == '2012-11'],\n",
    "         d_poo.loc[d_poo[\"year/month\"] == '2013-11'],\n",
    "         d_poo.loc[d_poo[\"year/month\"] == '2014-11'],\n",
    "         d_poo.loc[d_poo[\"year/month\"] == '2015-11'],\n",
    "         d_poo.loc[d_poo[\"year/month\"] == '2016-11'],\n",
    "         d_poo.loc[d_poo[\"year/month\"] == '2017-11'],\n",
    "         d_poo.loc[d_poo[\"year/month\"] == '2018-11'],\n",
    "         d_poo.loc[d_poo[\"year/month\"] == '2019-11'],\n",
    "         d_poo.loc[d_poo[\"year/month\"] == '2020-11']]\n",
    "\n",
    "df_nov = pd.concat(data11, axis=0  )\n",
    "\n",
    "\n",
    "df_nov['year/month'] = pd.to_datetime(df_nov['year/month'])\n",
    "df_nov.set_index('year/month' , inplace=True)\n",
    "analysis11 = df_nov[\"Mean\"].copy()\n",
    "decompose_res_mult = seasonal_decompose(analysis11  )\n",
    "decompose_res_mult.trend.plot()"
   ]
  },
  {
   "cell_type": "code",
   "execution_count": null,
   "id": "3dec8131",
   "metadata": {},
   "outputs": [],
   "source": []
  },
  {
   "cell_type": "markdown",
   "id": "01536350",
   "metadata": {},
   "source": [
    "DEC"
   ]
  },
  {
   "cell_type": "code",
   "execution_count": null,
   "id": "8c02cd27",
   "metadata": {},
   "outputs": [],
   "source": []
  },
  {
   "cell_type": "code",
   "execution_count": 14,
   "id": "533bdb38",
   "metadata": {},
   "outputs": [
    {
     "data": {
      "text/plain": [
       "<AxesSubplot:xlabel='year/month'>"
      ]
     },
     "execution_count": 14,
     "metadata": {},
     "output_type": "execute_result"
    },
    {
     "data": {
      "image/png": "[encoded data removed]",
      "text/plain": [
       "<Figure size 432x288 with 1 Axes>"
      ]
     },
     "metadata": {
      "needs_background": "light"
     },
     "output_type": "display_data"
    }
   ],
   "source": [
    "data12 = [d_poo.loc[d_poo[\"year/month\"] == '1989-12'],\n",
    "         d_poo.loc[d_poo[\"year/month\"] == '1990-12'],\n",
    "         d_poo.loc[d_poo[\"year/month\"] == '1991-12'],\n",
    "         d_poo.loc[d_poo[\"year/month\"] == '1992-12'],\n",
    "         d_poo.loc[d_poo[\"year/month\"] == '1993-12'],\n",
    "         d_poo.loc[d_poo[\"year/month\"] == '1994-12'],\n",
    "         d_poo.loc[d_poo[\"year/month\"] == '1995-12'],\n",
    "         d_poo.loc[d_poo[\"year/month\"] == '1996-12'],\n",
    "         d_poo.loc[d_poo[\"year/month\"] == '1997-12'],\n",
    "         d_poo.loc[d_poo[\"year/month\"] == '1998-12'],\n",
    "         d_poo.loc[d_poo[\"year/month\"] == '1999-12'],\n",
    "         d_poo.loc[d_poo[\"year/month\"] == '2000-12'],\n",
    "         d_poo.loc[d_poo[\"year/month\"] == '2001-12'],\n",
    "         d_poo.loc[d_poo[\"year/month\"] == '2002-12'],\n",
    "         d_poo.loc[d_poo[\"year/month\"] == '2003-12'],\n",
    "         d_poo.loc[d_poo[\"year/month\"] == '2004-12'],\n",
    "         d_poo.loc[d_poo[\"year/month\"] == '2005-12'],\n",
    "         d_poo.loc[d_poo[\"year/month\"] == '2006-12'],\n",
    "         d_poo.loc[d_poo[\"year/month\"] == '2007-12'],\n",
    "         d_poo.loc[d_poo[\"year/month\"] == '2008-12'],\n",
    "         d_poo.loc[d_poo[\"year/month\"] == '2009-12'],\n",
    "         d_poo.loc[d_poo[\"year/month\"] == '2010-12'],\n",
    "         d_poo.loc[d_poo[\"year/month\"] == '2011-12'],\n",
    "         d_poo.loc[d_poo[\"year/month\"] == '2012-12'],\n",
    "         d_poo.loc[d_poo[\"year/month\"] == '2013-12'],\n",
    "         d_poo.loc[d_poo[\"year/month\"] == '2014-12'],\n",
    "         d_poo.loc[d_poo[\"year/month\"] == '2015-12'],\n",
    "         d_poo.loc[d_poo[\"year/month\"] == '2016-12'],\n",
    "         d_poo.loc[d_poo[\"year/month\"] == '2017-12'],\n",
    "         d_poo.loc[d_poo[\"year/month\"] == '2018-12'],\n",
    "         d_poo.loc[d_poo[\"year/month\"] == '2019-12'],\n",
    "         d_poo.loc[d_poo[\"year/month\"] == '2020-12']]\n",
    "\n",
    "df_dec = pd.concat(data12, axis=0  )\n",
    "\n",
    "\n",
    "\n",
    "df_dec['year/month'] = pd.to_datetime(df_dec['year/month'])\n",
    "df_dec.set_index('year/month' , inplace=True)\n",
    "analysis12 = df_dec[\"Mean\"].copy()\n",
    "decompose_res_mult = seasonal_decompose(analysis12  )\n",
    "decompose_res_mult.trend.plot()"
   ]
  },
  {
   "cell_type": "code",
   "execution_count": null,
   "id": "d3975ae9",
   "metadata": {},
   "outputs": [],
   "source": []
  }
 ],
 "metadata": {
  "kernelspec": {
   "display_name": "Python 3",
   "language": "python",
   "name": "python3"
  },
  "language_info": {
   "codemirror_mode": {
    "name": "ipython",
    "version": 3
   },
   "file_extension": ".py",
   "mimetype": "text/x-python",
   "name": "python",
   "nbconvert_exporter": "python",
   "pygments_lexer": "ipython3",
   "version": "3.8.8"
  }
 },
 "nbformat": 4,
 "nbformat_minor": 5
}
