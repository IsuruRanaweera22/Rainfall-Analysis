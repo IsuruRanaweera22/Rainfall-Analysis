{
 "cells": [
  {
   "cell_type": "code",
   "execution_count": 1,
   "id": "d6fa4471",
   "metadata": {},
   "outputs": [],
   "source": [
    "import pandas as pd\n",
    "import matplotlib.pyplot as plt\n",
    "import numpy as np\n",
    "from statsmodels.tsa.seasonal import seasonal_decompose"
   ]
  },
  {
   "cell_type": "code",
   "execution_count": 7,
   "id": "d7ffefdd",
   "metadata": {},
   "outputs": [
    {
     "data": {
      "text/html": [
       "<div>\n",
       "<style scoped>\n",
       "    .dataframe tbody tr th:only-of-type {\n",
       "        vertical-align: middle;\n",
       "    }\n",
       "\n",
       "    .dataframe tbody tr th {\n",
       "        vertical-align: top;\n",
       "    }\n",
       "\n",
       "    .dataframe thead th {\n",
       "        text-align: right;\n",
       "    }\n",
       "</style>\n",
       "<table border=\"1\" class=\"dataframe\">\n",
       "  <thead>\n",
       "    <tr style=\"text-align: right;\">\n",
       "      <th></th>\n",
       "      <th>year/month</th>\n",
       "      <th>Unnamed: 1</th>\n",
       "      <th>Unnamed: 2</th>\n",
       "      <th>1</th>\n",
       "      <th>2</th>\n",
       "      <th>3</th>\n",
       "      <th>4</th>\n",
       "      <th>5</th>\n",
       "      <th>6</th>\n",
       "      <th>7</th>\n",
       "      <th>...</th>\n",
       "      <th>AnnualMean</th>\n",
       "      <th>Unnamed: 41</th>\n",
       "      <th>Seayear_1</th>\n",
       "      <th>seamean_1</th>\n",
       "      <th>Seayear_2</th>\n",
       "      <th>seamean_2</th>\n",
       "      <th>Seayear_3</th>\n",
       "      <th>seamean_3</th>\n",
       "      <th>Seayear_4</th>\n",
       "      <th>seamean_4</th>\n",
       "    </tr>\n",
       "  </thead>\n",
       "  <tbody>\n",
       "    <tr>\n",
       "      <th>0</th>\n",
       "      <td>1989- 1</td>\n",
       "      <td>jan</td>\n",
       "      <td>NaN</td>\n",
       "      <td>12.100000</td>\n",
       "      <td>18.3</td>\n",
       "      <td>26.1</td>\n",
       "      <td>27.000000</td>\n",
       "      <td>11.0</td>\n",
       "      <td>1.500000</td>\n",
       "      <td>14.7</td>\n",
       "      <td>...</td>\n",
       "      <td>4.426882</td>\n",
       "      <td>NaN</td>\n",
       "      <td>1989.0</td>\n",
       "      <td>1.404839</td>\n",
       "      <td>1989.0</td>\n",
       "      <td>1.734839</td>\n",
       "      <td>1989.0</td>\n",
       "      <td>11.395161</td>\n",
       "      <td>1989.0</td>\n",
       "      <td>8.304301</td>\n",
       "    </tr>\n",
       "    <tr>\n",
       "      <th>1</th>\n",
       "      <td>1989- 2</td>\n",
       "      <td>feb</td>\n",
       "      <td>NaN</td>\n",
       "      <td>0.000000</td>\n",
       "      <td>0.0</td>\n",
       "      <td>0.0</td>\n",
       "      <td>0.000000</td>\n",
       "      <td>0.0</td>\n",
       "      <td>0.000000</td>\n",
       "      <td>0.0</td>\n",
       "      <td>...</td>\n",
       "      <td>5.781989</td>\n",
       "      <td>NaN</td>\n",
       "      <td>1990.0</td>\n",
       "      <td>0.443548</td>\n",
       "      <td>1990.0</td>\n",
       "      <td>2.816774</td>\n",
       "      <td>1990.0</td>\n",
       "      <td>6.414516</td>\n",
       "      <td>1990.0</td>\n",
       "      <td>14.394624</td>\n",
       "    </tr>\n",
       "    <tr>\n",
       "      <th>2</th>\n",
       "      <td>1989- 3</td>\n",
       "      <td>mar</td>\n",
       "      <td>NaN</td>\n",
       "      <td>0.000000</td>\n",
       "      <td>0.0</td>\n",
       "      <td>0.0</td>\n",
       "      <td>0.000000</td>\n",
       "      <td>0.0</td>\n",
       "      <td>0.000000</td>\n",
       "      <td>5.0</td>\n",
       "      <td>...</td>\n",
       "      <td>5.108602</td>\n",
       "      <td>NaN</td>\n",
       "      <td>1991.0</td>\n",
       "      <td>1.508065</td>\n",
       "      <td>1991.0</td>\n",
       "      <td>1.169677</td>\n",
       "      <td>1991.0</td>\n",
       "      <td>5.132258</td>\n",
       "      <td>1991.0</td>\n",
       "      <td>8.265591</td>\n",
       "    </tr>\n",
       "    <tr>\n",
       "      <th>3</th>\n",
       "      <td>1989- 4</td>\n",
       "      <td>apr</td>\n",
       "      <td>NaN</td>\n",
       "      <td>0.000000</td>\n",
       "      <td>0.0</td>\n",
       "      <td>0.0</td>\n",
       "      <td>0.000000</td>\n",
       "      <td>0.0</td>\n",
       "      <td>0.000000</td>\n",
       "      <td>0.0</td>\n",
       "      <td>...</td>\n",
       "      <td>2.581165</td>\n",
       "      <td>NaN</td>\n",
       "      <td>1992.0</td>\n",
       "      <td>0.591935</td>\n",
       "      <td>1992.0</td>\n",
       "      <td>0.585763</td>\n",
       "      <td>1992.0</td>\n",
       "      <td>11.998387</td>\n",
       "      <td>1992.0</td>\n",
       "      <td>1.182796</td>\n",
       "    </tr>\n",
       "    <tr>\n",
       "      <th>4</th>\n",
       "      <td>1989- 5</td>\n",
       "      <td>may</td>\n",
       "      <td>NaN</td>\n",
       "      <td>0.000000</td>\n",
       "      <td>0.0</td>\n",
       "      <td>0.0</td>\n",
       "      <td>0.000000</td>\n",
       "      <td>3.2</td>\n",
       "      <td>1.300000</td>\n",
       "      <td>0.0</td>\n",
       "      <td>...</td>\n",
       "      <td>5.108333</td>\n",
       "      <td>NaN</td>\n",
       "      <td>1993.0</td>\n",
       "      <td>1.827419</td>\n",
       "      <td>1993.0</td>\n",
       "      <td>1.034194</td>\n",
       "      <td>1993.0</td>\n",
       "      <td>11.304839</td>\n",
       "      <td>1993.0</td>\n",
       "      <td>13.011828</td>\n",
       "    </tr>\n",
       "    <tr>\n",
       "      <th>...</th>\n",
       "      <td>...</td>\n",
       "      <td>...</td>\n",
       "      <td>...</td>\n",
       "      <td>...</td>\n",
       "      <td>...</td>\n",
       "      <td>...</td>\n",
       "      <td>...</td>\n",
       "      <td>...</td>\n",
       "      <td>...</td>\n",
       "      <td>...</td>\n",
       "      <td>...</td>\n",
       "      <td>...</td>\n",
       "      <td>...</td>\n",
       "      <td>...</td>\n",
       "      <td>...</td>\n",
       "      <td>...</td>\n",
       "      <td>...</td>\n",
       "      <td>...</td>\n",
       "      <td>...</td>\n",
       "      <td>...</td>\n",
       "      <td>...</td>\n",
       "    </tr>\n",
       "    <tr>\n",
       "      <th>319</th>\n",
       "      <td>2015-8</td>\n",
       "      <td>aug</td>\n",
       "      <td>NaN</td>\n",
       "      <td>0.000000</td>\n",
       "      <td>0.0</td>\n",
       "      <td>0.0</td>\n",
       "      <td>0.000000</td>\n",
       "      <td>0.0</td>\n",
       "      <td>0.000000</td>\n",
       "      <td>0.0</td>\n",
       "      <td>...</td>\n",
       "      <td>NaN</td>\n",
       "      <td>NaN</td>\n",
       "      <td>NaN</td>\n",
       "      <td>NaN</td>\n",
       "      <td>NaN</td>\n",
       "      <td>NaN</td>\n",
       "      <td>NaN</td>\n",
       "      <td>NaN</td>\n",
       "      <td>NaN</td>\n",
       "      <td>NaN</td>\n",
       "    </tr>\n",
       "    <tr>\n",
       "      <th>320</th>\n",
       "      <td>2015-9</td>\n",
       "      <td>sep</td>\n",
       "      <td>NaN</td>\n",
       "      <td>75.199997</td>\n",
       "      <td>10.6</td>\n",
       "      <td>2.9</td>\n",
       "      <td>12.700000</td>\n",
       "      <td>0.0</td>\n",
       "      <td>35.400002</td>\n",
       "      <td>0.0</td>\n",
       "      <td>...</td>\n",
       "      <td>NaN</td>\n",
       "      <td>NaN</td>\n",
       "      <td>NaN</td>\n",
       "      <td>NaN</td>\n",
       "      <td>NaN</td>\n",
       "      <td>NaN</td>\n",
       "      <td>NaN</td>\n",
       "      <td>NaN</td>\n",
       "      <td>NaN</td>\n",
       "      <td>NaN</td>\n",
       "    </tr>\n",
       "    <tr>\n",
       "      <th>321</th>\n",
       "      <td>2015-10</td>\n",
       "      <td>oct</td>\n",
       "      <td>NaN</td>\n",
       "      <td>6.800000</td>\n",
       "      <td>6.1</td>\n",
       "      <td>0.0</td>\n",
       "      <td>0.000000</td>\n",
       "      <td>0.0</td>\n",
       "      <td>0.000000</td>\n",
       "      <td>0.0</td>\n",
       "      <td>...</td>\n",
       "      <td>NaN</td>\n",
       "      <td>NaN</td>\n",
       "      <td>NaN</td>\n",
       "      <td>NaN</td>\n",
       "      <td>NaN</td>\n",
       "      <td>NaN</td>\n",
       "      <td>NaN</td>\n",
       "      <td>NaN</td>\n",
       "      <td>NaN</td>\n",
       "      <td>NaN</td>\n",
       "    </tr>\n",
       "    <tr>\n",
       "      <th>322</th>\n",
       "      <td>2015-11</td>\n",
       "      <td>nov</td>\n",
       "      <td>NaN</td>\n",
       "      <td>0.000000</td>\n",
       "      <td>65.5</td>\n",
       "      <td>0.0</td>\n",
       "      <td>0.000000</td>\n",
       "      <td>25.4</td>\n",
       "      <td>0.000000</td>\n",
       "      <td>30.0</td>\n",
       "      <td>...</td>\n",
       "      <td>NaN</td>\n",
       "      <td>NaN</td>\n",
       "      <td>NaN</td>\n",
       "      <td>NaN</td>\n",
       "      <td>NaN</td>\n",
       "      <td>NaN</td>\n",
       "      <td>NaN</td>\n",
       "      <td>NaN</td>\n",
       "      <td>NaN</td>\n",
       "      <td>NaN</td>\n",
       "    </tr>\n",
       "    <tr>\n",
       "      <th>323</th>\n",
       "      <td>2015-12</td>\n",
       "      <td>dec</td>\n",
       "      <td>NaN</td>\n",
       "      <td>2.200000</td>\n",
       "      <td>0.0</td>\n",
       "      <td>0.0</td>\n",
       "      <td>53.799999</td>\n",
       "      <td>15.2</td>\n",
       "      <td>18.000000</td>\n",
       "      <td>13.6</td>\n",
       "      <td>...</td>\n",
       "      <td>NaN</td>\n",
       "      <td>NaN</td>\n",
       "      <td>NaN</td>\n",
       "      <td>NaN</td>\n",
       "      <td>NaN</td>\n",
       "      <td>NaN</td>\n",
       "      <td>NaN</td>\n",
       "      <td>NaN</td>\n",
       "      <td>NaN</td>\n",
       "      <td>NaN</td>\n",
       "    </tr>\n",
       "  </tbody>\n",
       "</table>\n",
       "<p>324 rows × 50 columns</p>\n",
       "</div>"
      ],
      "text/plain": [
       "    year/month Unnamed: 1  Unnamed: 2          1     2     3          4     5  \\\n",
       "0      1989- 1        jan         NaN  12.100000  18.3  26.1  27.000000  11.0   \n",
       "1      1989- 2        feb         NaN   0.000000   0.0   0.0   0.000000   0.0   \n",
       "2      1989- 3        mar         NaN   0.000000   0.0   0.0   0.000000   0.0   \n",
       "3      1989- 4        apr         NaN   0.000000   0.0   0.0   0.000000   0.0   \n",
       "4      1989- 5        may         NaN   0.000000   0.0   0.0   0.000000   3.2   \n",
       "..         ...        ...         ...        ...   ...   ...        ...   ...   \n",
       "319     2015-8        aug         NaN   0.000000   0.0   0.0   0.000000   0.0   \n",
       "320     2015-9        sep         NaN  75.199997  10.6   2.9  12.700000   0.0   \n",
       "321    2015-10        oct         NaN   6.800000   6.1   0.0   0.000000   0.0   \n",
       "322    2015-11        nov         NaN   0.000000  65.5   0.0   0.000000  25.4   \n",
       "323    2015-12        dec         NaN   2.200000   0.0   0.0  53.799999  15.2   \n",
       "\n",
       "             6     7  ...  AnnualMean Unnamed: 41  Seayear_1  seamean_1  \\\n",
       "0     1.500000  14.7  ...    4.426882         NaN     1989.0   1.404839   \n",
       "1     0.000000   0.0  ...    5.781989         NaN     1990.0   0.443548   \n",
       "2     0.000000   5.0  ...    5.108602         NaN     1991.0   1.508065   \n",
       "3     0.000000   0.0  ...    2.581165         NaN     1992.0   0.591935   \n",
       "4     1.300000   0.0  ...    5.108333         NaN     1993.0   1.827419   \n",
       "..         ...   ...  ...         ...         ...        ...        ...   \n",
       "319   0.000000   0.0  ...         NaN         NaN        NaN        NaN   \n",
       "320  35.400002   0.0  ...         NaN         NaN        NaN        NaN   \n",
       "321   0.000000   0.0  ...         NaN         NaN        NaN        NaN   \n",
       "322   0.000000  30.0  ...         NaN         NaN        NaN        NaN   \n",
       "323  18.000000  13.6  ...         NaN         NaN        NaN        NaN   \n",
       "\n",
       "     Seayear_2  seamean_2  Seayear_3  seamean_3  Seayear_4  seamean_4  \n",
       "0       1989.0   1.734839     1989.0  11.395161     1989.0   8.304301  \n",
       "1       1990.0   2.816774     1990.0   6.414516     1990.0  14.394624  \n",
       "2       1991.0   1.169677     1991.0   5.132258     1991.0   8.265591  \n",
       "3       1992.0   0.585763     1992.0  11.998387     1992.0   1.182796  \n",
       "4       1993.0   1.034194     1993.0  11.304839     1993.0  13.011828  \n",
       "..         ...        ...        ...        ...        ...        ...  \n",
       "319        NaN        NaN        NaN        NaN        NaN        NaN  \n",
       "320        NaN        NaN        NaN        NaN        NaN        NaN  \n",
       "321        NaN        NaN        NaN        NaN        NaN        NaN  \n",
       "322        NaN        NaN        NaN        NaN        NaN        NaN  \n",
       "323        NaN        NaN        NaN        NaN        NaN        NaN  \n",
       "\n",
       "[324 rows x 50 columns]"
      ]
     },
     "execution_count": 7,
     "metadata": {},
     "output_type": "execute_result"
    }
   ],
   "source": [
    "d_al = pd.read_excel(\"Aluthnuwara(89-21).xls\" )\n",
    "d_al"
   ]
  },
  {
   "cell_type": "code",
   "execution_count": null,
   "id": "a9f0297f",
   "metadata": {},
   "outputs": [],
   "source": []
  },
  {
   "cell_type": "markdown",
   "id": "cb808309",
   "metadata": {},
   "source": [
    "1st monsoon"
   ]
  },
  {
   "cell_type": "code",
   "execution_count": null,
   "id": "4c8f558f",
   "metadata": {},
   "outputs": [],
   "source": []
  },
  {
   "cell_type": "code",
   "execution_count": 9,
   "id": "2b69051b",
   "metadata": {},
   "outputs": [],
   "source": [
    "a = d_al['Seayear_1']\n",
    "b = d_al['seamean_1']\n",
    "\n",
    "dAnn = pd.concat([a,b] ,axis=1)\n",
    "\n",
    "dAnn['Seayear_1'] = pd.to_datetime(dAnn.Seayear_1 , format = '%Y')\n",
    "\n",
    "dAnn = dAnn.dropna()\n",
    "dAnn['Seayear_1'] = pd.to_datetime(dAnn['Seayear_1'])"
   ]
  },
  {
   "cell_type": "code",
   "execution_count": 10,
   "id": "e2fae324",
   "metadata": {},
   "outputs": [
    {
     "data": {
      "text/plain": [
       "<AxesSubplot:xlabel='Seayear_1'>"
      ]
     },
     "execution_count": 10,
     "metadata": {},
     "output_type": "execute_result"
    },
    {
     "data": {
      "image/png": "[encoded data removed]",
      "text/plain": [
       "<Figure size 432x288 with 1 Axes>"
      ]
     },
     "metadata": {
      "needs_background": "light"
     },
     "output_type": "display_data"
    }
   ],
   "source": [
    "dAnn.set_index('Seayear_1' , inplace=True)\n",
    "analysis1 = dAnn[\"seamean_1\"].copy()\n",
    "decompose_res_mult = seasonal_decompose(analysis1)\n",
    "decompose_res_mult.trend.plot()"
   ]
  },
  {
   "cell_type": "code",
   "execution_count": null,
   "id": "4655f344",
   "metadata": {},
   "outputs": [],
   "source": []
  },
  {
   "cell_type": "markdown",
   "id": "4d4e2d3f",
   "metadata": {},
   "source": [
    "2nd monsoon"
   ]
  },
  {
   "cell_type": "code",
   "execution_count": null,
   "id": "18ed56d4",
   "metadata": {},
   "outputs": [],
   "source": []
  },
  {
   "cell_type": "code",
   "execution_count": 11,
   "id": "86e2f440",
   "metadata": {},
   "outputs": [],
   "source": [
    "c = d_al['Seayear_2']\n",
    "d = d_al['seamean_2']\n",
    "\n",
    "dAnn = pd.concat([c,d] ,axis=1)\n",
    "\n",
    "dAnn['Seayear_2'] = pd.to_datetime(dAnn.Seayear_2 , format = '%Y')\n",
    "\n",
    "dAnn = dAnn.dropna()\n",
    "dAnn['Seayear_2'] = pd.to_datetime(dAnn['Seayear_2'])"
   ]
  },
  {
   "cell_type": "code",
   "execution_count": 12,
   "id": "8931a083",
   "metadata": {},
   "outputs": [
    {
     "data": {
      "text/plain": [
       "<AxesSubplot:xlabel='Seayear_2'>"
      ]
     },
     "execution_count": 12,
     "metadata": {},
     "output_type": "execute_result"
    },
    {
     "data": {
      "image/png": "[encoded data removed]",
      "text/plain": [
       "<Figure size 432x288 with 1 Axes>"
      ]
     },
     "metadata": {
      "needs_background": "light"
     },
     "output_type": "display_data"
    }
   ],
   "source": [
    "dAnn.set_index('Seayear_2' , inplace=True)\n",
    "analysis2 = dAnn[\"seamean_2\"].copy()\n",
    "decompose_res_mult = seasonal_decompose(analysis2)\n",
    "decompose_res_mult.trend.plot()"
   ]
  },
  {
   "cell_type": "code",
   "execution_count": null,
   "id": "af79be6d",
   "metadata": {},
   "outputs": [],
   "source": []
  },
  {
   "cell_type": "markdown",
   "id": "d5d533ef",
   "metadata": {},
   "source": [
    "3rd monsoon"
   ]
  },
  {
   "cell_type": "code",
   "execution_count": null,
   "id": "c1e76489",
   "metadata": {},
   "outputs": [],
   "source": []
  },
  {
   "cell_type": "code",
   "execution_count": 14,
   "id": "5f27a386",
   "metadata": {},
   "outputs": [],
   "source": [
    "e = d_al['Seayear_3']\n",
    "f = d_al['seamean_3']\n",
    "\n",
    "dAnn = pd.concat([e,f] ,axis=1)\n",
    "\n",
    "dAnn['Seayear_3'] = pd.to_datetime(dAnn.Seayear_3 , format = '%Y')\n",
    "\n",
    "dAnn = dAnn.dropna()\n",
    "dAnn['Seayear_3'] = pd.to_datetime(dAnn['Seayear_3'])"
   ]
  },
  {
   "cell_type": "code",
   "execution_count": 15,
   "id": "98c33c57",
   "metadata": {},
   "outputs": [
    {
     "data": {
      "text/plain": [
       "<AxesSubplot:xlabel='Seayear_3'>"
      ]
     },
     "execution_count": 15,
     "metadata": {},
     "output_type": "execute_result"
    },
    {
     "data": {
      "image/png": "[encoded data removed]",
      "text/plain": [
       "<Figure size 432x288 with 1 Axes>"
      ]
     },
     "metadata": {
      "needs_background": "light"
     },
     "output_type": "display_data"
    }
   ],
   "source": [
    "dAnn.set_index('Seayear_3' , inplace=True)\n",
    "analysis3 = dAnn[\"seamean_3\"].copy()\n",
    "decompose_res_mult = seasonal_decompose(analysis3)\n",
    "decompose_res_mult.trend.plot()"
   ]
  },
  {
   "cell_type": "code",
   "execution_count": null,
   "id": "93307692",
   "metadata": {},
   "outputs": [],
   "source": []
  },
  {
   "cell_type": "markdown",
   "id": "a4c1d9ff",
   "metadata": {},
   "source": [
    "4th monsoon"
   ]
  },
  {
   "cell_type": "code",
   "execution_count": null,
   "id": "2c2c98d8",
   "metadata": {},
   "outputs": [],
   "source": []
  },
  {
   "cell_type": "code",
   "execution_count": 19,
   "id": "6e4474ad",
   "metadata": {},
   "outputs": [],
   "source": [
    "g = d_al['Seayear_4']\n",
    "h = d_al['seamean_4']\n",
    "\n",
    "dAnn = pd.concat([g,h] ,axis=1)\n",
    "\n",
    "dAnn['Seayear_4'] = pd.to_datetime(dAnn.Seayear_4 , format = '%Y')\n",
    "\n",
    "dAnn = dAnn.dropna()\n",
    "dAnn['Seayear_4'] = pd.to_datetime(dAnn['Seayear_4'])"
   ]
  },
  {
   "cell_type": "code",
   "execution_count": 20,
   "id": "6bf247a4",
   "metadata": {},
   "outputs": [
    {
     "data": {
      "text/plain": [
       "<AxesSubplot:xlabel='Seayear_4'>"
      ]
     },
     "execution_count": 20,
     "metadata": {},
     "output_type": "execute_result"
    },
    {
     "data": {
      "image/png": "[encoded data removed]",
      "text/plain": [
       "<Figure size 432x288 with 1 Axes>"
      ]
     },
     "metadata": {
      "needs_background": "light"
     },
     "output_type": "display_data"
    }
   ],
   "source": [
    "dAnn.set_index('Seayear_4' , inplace=True)\n",
    "analysis4 = dAnn[\"seamean_4\"].copy()\n",
    "decompose_res_mult = seasonal_decompose(analysis4)\n",
    "decompose_res_mult.trend.plot()"
   ]
  },
  {
   "cell_type": "code",
   "execution_count": null,
   "id": "5d25801a",
   "metadata": {},
   "outputs": [],
   "source": []
  }
 ],
 "metadata": {
  "kernelspec": {
   "display_name": "Python 3",
   "language": "python",
   "name": "python3"
  },
  "language_info": {
   "codemirror_mode": {
    "name": "ipython",
    "version": 3
   },
   "file_extension": ".py",
   "mimetype": "text/x-python",
   "name": "python",
   "nbconvert_exporter": "python",
   "pygments_lexer": "ipython3",
   "version": "3.8.8"
  }
 },
 "nbformat": 4,
 "nbformat_minor": 5
}
