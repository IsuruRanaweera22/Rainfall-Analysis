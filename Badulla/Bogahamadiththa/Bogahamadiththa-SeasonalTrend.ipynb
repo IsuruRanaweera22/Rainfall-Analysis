{
 "cells": [
  {
   "cell_type": "code",
   "execution_count": 1,
   "id": "92164cb1",
   "metadata": {},
   "outputs": [],
   "source": [
    "import pandas as pd\n",
    "import matplotlib.pyplot as plt\n",
    "import numpy as np\n",
    "from statsmodels.tsa.seasonal import seasonal_decompose"
   ]
  },
  {
   "cell_type": "code",
   "execution_count": 2,
   "id": "a65363bd",
   "metadata": {},
   "outputs": [
    {
     "data": {
      "text/html": [
       "<div>\n",
       "<style scoped>\n",
       "    .dataframe tbody tr th:only-of-type {\n",
       "        vertical-align: middle;\n",
       "    }\n",
       "\n",
       "    .dataframe tbody tr th {\n",
       "        vertical-align: top;\n",
       "    }\n",
       "\n",
       "    .dataframe thead th {\n",
       "        text-align: right;\n",
       "    }\n",
       "</style>\n",
       "<table border=\"1\" class=\"dataframe\">\n",
       "  <thead>\n",
       "    <tr style=\"text-align: right;\">\n",
       "      <th></th>\n",
       "      <th>year/month</th>\n",
       "      <th>1</th>\n",
       "      <th>2</th>\n",
       "      <th>3</th>\n",
       "      <th>4</th>\n",
       "      <th>5</th>\n",
       "      <th>6</th>\n",
       "      <th>7</th>\n",
       "      <th>8</th>\n",
       "      <th>9</th>\n",
       "      <th>...</th>\n",
       "      <th>AnnualMean</th>\n",
       "      <th>Unnamed: 37</th>\n",
       "      <th>Seayear_1</th>\n",
       "      <th>seamean_1</th>\n",
       "      <th>Seayear_2</th>\n",
       "      <th>seamean_2</th>\n",
       "      <th>Seayear_3</th>\n",
       "      <th>seamean_3</th>\n",
       "      <th>Seayear_4</th>\n",
       "      <th>seamean_4</th>\n",
       "    </tr>\n",
       "  </thead>\n",
       "  <tbody>\n",
       "    <tr>\n",
       "      <th>0</th>\n",
       "      <td>1991- 1</td>\n",
       "      <td>2.733333</td>\n",
       "      <td>7.044444</td>\n",
       "      <td>16.388889</td>\n",
       "      <td>6.622222</td>\n",
       "      <td>11.411111</td>\n",
       "      <td>2.422222</td>\n",
       "      <td>4.466667</td>\n",
       "      <td>5.466667</td>\n",
       "      <td>3.744444</td>\n",
       "      <td>...</td>\n",
       "      <td>4.068608</td>\n",
       "      <td>NaN</td>\n",
       "      <td>1991.0</td>\n",
       "      <td>4.185305</td>\n",
       "      <td>1991.0</td>\n",
       "      <td>3.158065</td>\n",
       "      <td>1991.0</td>\n",
       "      <td>4.696774</td>\n",
       "      <td>1991.0</td>\n",
       "      <td>3.739785</td>\n",
       "    </tr>\n",
       "    <tr>\n",
       "      <th>1</th>\n",
       "      <td>1991- 2</td>\n",
       "      <td>2.577778</td>\n",
       "      <td>5.244444</td>\n",
       "      <td>3.600000</td>\n",
       "      <td>8.433333</td>\n",
       "      <td>2.611111</td>\n",
       "      <td>1.922222</td>\n",
       "      <td>4.077778</td>\n",
       "      <td>0.644444</td>\n",
       "      <td>2.711111</td>\n",
       "      <td>...</td>\n",
       "      <td>3.694892</td>\n",
       "      <td>NaN</td>\n",
       "      <td>1992.0</td>\n",
       "      <td>1.209677</td>\n",
       "      <td>1992.0</td>\n",
       "      <td>1.953548</td>\n",
       "      <td>1992.0</td>\n",
       "      <td>11.588710</td>\n",
       "      <td>1992.0</td>\n",
       "      <td>3.229032</td>\n",
       "    </tr>\n",
       "    <tr>\n",
       "      <th>2</th>\n",
       "      <td>1991- 3</td>\n",
       "      <td>1.733333</td>\n",
       "      <td>0.000000</td>\n",
       "      <td>2.777778</td>\n",
       "      <td>0.933333</td>\n",
       "      <td>0.577778</td>\n",
       "      <td>1.077778</td>\n",
       "      <td>0.355556</td>\n",
       "      <td>3.233333</td>\n",
       "      <td>2.466667</td>\n",
       "      <td>...</td>\n",
       "      <td>4.547312</td>\n",
       "      <td>NaN</td>\n",
       "      <td>1993.0</td>\n",
       "      <td>3.246774</td>\n",
       "      <td>1993.0</td>\n",
       "      <td>3.871613</td>\n",
       "      <td>1993.0</td>\n",
       "      <td>7.672581</td>\n",
       "      <td>1993.0</td>\n",
       "      <td>7.420430</td>\n",
       "    </tr>\n",
       "    <tr>\n",
       "      <th>3</th>\n",
       "      <td>1991- 4</td>\n",
       "      <td>66.200000</td>\n",
       "      <td>10.100000</td>\n",
       "      <td>0.000000</td>\n",
       "      <td>18.900000</td>\n",
       "      <td>23.000000</td>\n",
       "      <td>1.500000</td>\n",
       "      <td>30.000000</td>\n",
       "      <td>0.000000</td>\n",
       "      <td>8.400000</td>\n",
       "      <td>...</td>\n",
       "      <td>4.758065</td>\n",
       "      <td>NaN</td>\n",
       "      <td>1994.0</td>\n",
       "      <td>3.353226</td>\n",
       "      <td>1994.0</td>\n",
       "      <td>1.796774</td>\n",
       "      <td>1994.0</td>\n",
       "      <td>10.750000</td>\n",
       "      <td>1994.0</td>\n",
       "      <td>4.923656</td>\n",
       "    </tr>\n",
       "    <tr>\n",
       "      <th>4</th>\n",
       "      <td>1991- 5</td>\n",
       "      <td>0.000000</td>\n",
       "      <td>0.000000</td>\n",
       "      <td>0.000000</td>\n",
       "      <td>5.000000</td>\n",
       "      <td>16.000000</td>\n",
       "      <td>1.000000</td>\n",
       "      <td>0.000000</td>\n",
       "      <td>0.000000</td>\n",
       "      <td>0.000000</td>\n",
       "      <td>...</td>\n",
       "      <td>4.108477</td>\n",
       "      <td>NaN</td>\n",
       "      <td>1995.0</td>\n",
       "      <td>6.744409</td>\n",
       "      <td>1995.0</td>\n",
       "      <td>2.996129</td>\n",
       "      <td>1995.0</td>\n",
       "      <td>4.541935</td>\n",
       "      <td>1995.0</td>\n",
       "      <td>5.169892</td>\n",
       "    </tr>\n",
       "    <tr>\n",
       "      <th>...</th>\n",
       "      <td>...</td>\n",
       "      <td>...</td>\n",
       "      <td>...</td>\n",
       "      <td>...</td>\n",
       "      <td>...</td>\n",
       "      <td>...</td>\n",
       "      <td>...</td>\n",
       "      <td>...</td>\n",
       "      <td>...</td>\n",
       "      <td>...</td>\n",
       "      <td>...</td>\n",
       "      <td>...</td>\n",
       "      <td>...</td>\n",
       "      <td>...</td>\n",
       "      <td>...</td>\n",
       "      <td>...</td>\n",
       "      <td>...</td>\n",
       "      <td>...</td>\n",
       "      <td>...</td>\n",
       "      <td>...</td>\n",
       "      <td>...</td>\n",
       "    </tr>\n",
       "    <tr>\n",
       "      <th>379</th>\n",
       "      <td>NaN</td>\n",
       "      <td>NaN</td>\n",
       "      <td>NaN</td>\n",
       "      <td>NaN</td>\n",
       "      <td>NaN</td>\n",
       "      <td>NaN</td>\n",
       "      <td>NaN</td>\n",
       "      <td>NaN</td>\n",
       "      <td>NaN</td>\n",
       "      <td>NaN</td>\n",
       "      <td>...</td>\n",
       "      <td>NaN</td>\n",
       "      <td>NaN</td>\n",
       "      <td>NaN</td>\n",
       "      <td>NaN</td>\n",
       "      <td>NaN</td>\n",
       "      <td>NaN</td>\n",
       "      <td>NaN</td>\n",
       "      <td>NaN</td>\n",
       "      <td>NaN</td>\n",
       "      <td>NaN</td>\n",
       "    </tr>\n",
       "    <tr>\n",
       "      <th>380</th>\n",
       "      <td>NaN</td>\n",
       "      <td>NaN</td>\n",
       "      <td>NaN</td>\n",
       "      <td>NaN</td>\n",
       "      <td>NaN</td>\n",
       "      <td>NaN</td>\n",
       "      <td>NaN</td>\n",
       "      <td>NaN</td>\n",
       "      <td>NaN</td>\n",
       "      <td>NaN</td>\n",
       "      <td>...</td>\n",
       "      <td>NaN</td>\n",
       "      <td>NaN</td>\n",
       "      <td>NaN</td>\n",
       "      <td>NaN</td>\n",
       "      <td>NaN</td>\n",
       "      <td>NaN</td>\n",
       "      <td>NaN</td>\n",
       "      <td>NaN</td>\n",
       "      <td>NaN</td>\n",
       "      <td>NaN</td>\n",
       "    </tr>\n",
       "    <tr>\n",
       "      <th>381</th>\n",
       "      <td>NaN</td>\n",
       "      <td>NaN</td>\n",
       "      <td>NaN</td>\n",
       "      <td>NaN</td>\n",
       "      <td>NaN</td>\n",
       "      <td>NaN</td>\n",
       "      <td>NaN</td>\n",
       "      <td>NaN</td>\n",
       "      <td>NaN</td>\n",
       "      <td>NaN</td>\n",
       "      <td>...</td>\n",
       "      <td>NaN</td>\n",
       "      <td>NaN</td>\n",
       "      <td>NaN</td>\n",
       "      <td>NaN</td>\n",
       "      <td>NaN</td>\n",
       "      <td>NaN</td>\n",
       "      <td>NaN</td>\n",
       "      <td>NaN</td>\n",
       "      <td>NaN</td>\n",
       "      <td>NaN</td>\n",
       "    </tr>\n",
       "    <tr>\n",
       "      <th>382</th>\n",
       "      <td>NaN</td>\n",
       "      <td>NaN</td>\n",
       "      <td>NaN</td>\n",
       "      <td>NaN</td>\n",
       "      <td>NaN</td>\n",
       "      <td>NaN</td>\n",
       "      <td>NaN</td>\n",
       "      <td>NaN</td>\n",
       "      <td>NaN</td>\n",
       "      <td>NaN</td>\n",
       "      <td>...</td>\n",
       "      <td>NaN</td>\n",
       "      <td>NaN</td>\n",
       "      <td>NaN</td>\n",
       "      <td>NaN</td>\n",
       "      <td>NaN</td>\n",
       "      <td>NaN</td>\n",
       "      <td>NaN</td>\n",
       "      <td>NaN</td>\n",
       "      <td>NaN</td>\n",
       "      <td>NaN</td>\n",
       "    </tr>\n",
       "    <tr>\n",
       "      <th>383</th>\n",
       "      <td>NaN</td>\n",
       "      <td>NaN</td>\n",
       "      <td>NaN</td>\n",
       "      <td>NaN</td>\n",
       "      <td>NaN</td>\n",
       "      <td>NaN</td>\n",
       "      <td>NaN</td>\n",
       "      <td>NaN</td>\n",
       "      <td>NaN</td>\n",
       "      <td>NaN</td>\n",
       "      <td>...</td>\n",
       "      <td>NaN</td>\n",
       "      <td>NaN</td>\n",
       "      <td>NaN</td>\n",
       "      <td>NaN</td>\n",
       "      <td>NaN</td>\n",
       "      <td>NaN</td>\n",
       "      <td>NaN</td>\n",
       "      <td>NaN</td>\n",
       "      <td>NaN</td>\n",
       "      <td>NaN</td>\n",
       "    </tr>\n",
       "  </tbody>\n",
       "</table>\n",
       "<p>384 rows × 46 columns</p>\n",
       "</div>"
      ],
      "text/plain": [
       "    year/month          1          2          3          4          5  \\\n",
       "0      1991- 1   2.733333   7.044444  16.388889   6.622222  11.411111   \n",
       "1      1991- 2   2.577778   5.244444   3.600000   8.433333   2.611111   \n",
       "2      1991- 3   1.733333   0.000000   2.777778   0.933333   0.577778   \n",
       "3      1991- 4  66.200000  10.100000   0.000000  18.900000  23.000000   \n",
       "4      1991- 5   0.000000   0.000000   0.000000   5.000000  16.000000   \n",
       "..         ...        ...        ...        ...        ...        ...   \n",
       "379        NaN        NaN        NaN        NaN        NaN        NaN   \n",
       "380        NaN        NaN        NaN        NaN        NaN        NaN   \n",
       "381        NaN        NaN        NaN        NaN        NaN        NaN   \n",
       "382        NaN        NaN        NaN        NaN        NaN        NaN   \n",
       "383        NaN        NaN        NaN        NaN        NaN        NaN   \n",
       "\n",
       "            6          7         8         9  ...  AnnualMean  Unnamed: 37  \\\n",
       "0    2.422222   4.466667  5.466667  3.744444  ...    4.068608          NaN   \n",
       "1    1.922222   4.077778  0.644444  2.711111  ...    3.694892          NaN   \n",
       "2    1.077778   0.355556  3.233333  2.466667  ...    4.547312          NaN   \n",
       "3    1.500000  30.000000  0.000000  8.400000  ...    4.758065          NaN   \n",
       "4    1.000000   0.000000  0.000000  0.000000  ...    4.108477          NaN   \n",
       "..        ...        ...       ...       ...  ...         ...          ...   \n",
       "379       NaN        NaN       NaN       NaN  ...         NaN          NaN   \n",
       "380       NaN        NaN       NaN       NaN  ...         NaN          NaN   \n",
       "381       NaN        NaN       NaN       NaN  ...         NaN          NaN   \n",
       "382       NaN        NaN       NaN       NaN  ...         NaN          NaN   \n",
       "383       NaN        NaN       NaN       NaN  ...         NaN          NaN   \n",
       "\n",
       "     Seayear_1 seamean_1  Seayear_2  seamean_2  Seayear_3  seamean_3  \\\n",
       "0       1991.0  4.185305     1991.0   3.158065     1991.0   4.696774   \n",
       "1       1992.0  1.209677     1992.0   1.953548     1992.0  11.588710   \n",
       "2       1993.0  3.246774     1993.0   3.871613     1993.0   7.672581   \n",
       "3       1994.0  3.353226     1994.0   1.796774     1994.0  10.750000   \n",
       "4       1995.0  6.744409     1995.0   2.996129     1995.0   4.541935   \n",
       "..         ...       ...        ...        ...        ...        ...   \n",
       "379        NaN       NaN        NaN        NaN        NaN        NaN   \n",
       "380        NaN       NaN        NaN        NaN        NaN        NaN   \n",
       "381        NaN       NaN        NaN        NaN        NaN        NaN   \n",
       "382        NaN       NaN        NaN        NaN        NaN        NaN   \n",
       "383        NaN       NaN        NaN        NaN        NaN        NaN   \n",
       "\n",
       "     Seayear_4  seamean_4  \n",
       "0       1991.0   3.739785  \n",
       "1       1992.0   3.229032  \n",
       "2       1993.0   7.420430  \n",
       "3       1994.0   4.923656  \n",
       "4       1995.0   5.169892  \n",
       "..         ...        ...  \n",
       "379        NaN        NaN  \n",
       "380        NaN        NaN  \n",
       "381        NaN        NaN  \n",
       "382        NaN        NaN  \n",
       "383        NaN        NaN  \n",
       "\n",
       "[384 rows x 46 columns]"
      ]
     },
     "execution_count": 2,
     "metadata": {},
     "output_type": "execute_result"
    }
   ],
   "source": [
    "d_bog = pd.read_excel(\"Bogahamaditta(89-2015).xls\" )\n",
    "d_bog\n"
   ]
  },
  {
   "cell_type": "code",
   "execution_count": null,
   "id": "18462801",
   "metadata": {},
   "outputs": [],
   "source": []
  },
  {
   "cell_type": "markdown",
   "id": "dcd4582e",
   "metadata": {},
   "source": [
    "1st monsoon"
   ]
  },
  {
   "cell_type": "code",
   "execution_count": null,
   "id": "b80edbde",
   "metadata": {},
   "outputs": [],
   "source": []
  },
  {
   "cell_type": "code",
   "execution_count": 3,
   "id": "a0331781",
   "metadata": {},
   "outputs": [],
   "source": [
    "a = d_bog['Seayear_1']\n",
    "b = d_bog['seamean_1']\n",
    "\n",
    "dAnn = pd.concat([a,b] ,axis=1)\n",
    "\n",
    "dAnn['Seayear_1'] = pd.to_datetime(dAnn.Seayear_1 , format = '%Y')\n",
    "\n",
    "dAnn = dAnn.dropna()\n",
    "dAnn['Seayear_1'] = pd.to_datetime(dAnn['Seayear_1'])"
   ]
  },
  {
   "cell_type": "code",
   "execution_count": 4,
   "id": "59ef15f4",
   "metadata": {},
   "outputs": [
    {
     "data": {
      "text/plain": [
       "<AxesSubplot:xlabel='Seayear_1'>"
      ]
     },
     "execution_count": 4,
     "metadata": {},
     "output_type": "execute_result"
    },
    {
     "data": {
      "image/png": "[encoded data removed]",
      "text/plain": [
       "<Figure size 432x288 with 1 Axes>"
      ]
     },
     "metadata": {
      "needs_background": "light"
     },
     "output_type": "display_data"
    }
   ],
   "source": [
    "dAnn.set_index('Seayear_1' , inplace=True)\n",
    "analysis1 = dAnn[\"seamean_1\"].copy()\n",
    "decompose_res_mult = seasonal_decompose(analysis1)\n",
    "decompose_res_mult.trend.plot()"
   ]
  },
  {
   "cell_type": "code",
   "execution_count": null,
   "id": "d8b0206f",
   "metadata": {},
   "outputs": [],
   "source": []
  },
  {
   "cell_type": "markdown",
   "id": "649f9f9e",
   "metadata": {},
   "source": [
    "2nd monsoon"
   ]
  },
  {
   "cell_type": "code",
   "execution_count": null,
   "id": "6fcbaa74",
   "metadata": {},
   "outputs": [],
   "source": []
  },
  {
   "cell_type": "code",
   "execution_count": 5,
   "id": "8c34ce2c",
   "metadata": {},
   "outputs": [],
   "source": [
    "c = d_bog['Seayear_2']\n",
    "d = d_bog['seamean_2']\n",
    "\n",
    "dAnn = pd.concat([c,d] ,axis=1)\n",
    "\n",
    "dAnn['Seayear_2'] = pd.to_datetime(dAnn.Seayear_2 , format = '%Y')\n",
    "\n",
    "dAnn = dAnn.dropna()\n",
    "dAnn['Seayear_2'] = pd.to_datetime(dAnn['Seayear_2'])"
   ]
  },
  {
   "cell_type": "code",
   "execution_count": 6,
   "id": "9b37cf19",
   "metadata": {},
   "outputs": [
    {
     "data": {
      "text/plain": [
       "<AxesSubplot:xlabel='Seayear_2'>"
      ]
     },
     "execution_count": 6,
     "metadata": {},
     "output_type": "execute_result"
    },
    {
     "data": {
      "image/png": "[encoded data removed]",
      "text/plain": [
       "<Figure size 432x288 with 1 Axes>"
      ]
     },
     "metadata": {
      "needs_background": "light"
     },
     "output_type": "display_data"
    }
   ],
   "source": [
    "dAnn.set_index('Seayear_2' , inplace=True)\n",
    "analysis2 = dAnn[\"seamean_2\"].copy()\n",
    "decompose_res_mult = seasonal_decompose(analysis2)\n",
    "decompose_res_mult.trend.plot()"
   ]
  },
  {
   "cell_type": "code",
   "execution_count": null,
   "id": "162c9dc3",
   "metadata": {},
   "outputs": [],
   "source": []
  },
  {
   "cell_type": "markdown",
   "id": "7857d4b5",
   "metadata": {},
   "source": [
    "3rd monsoon"
   ]
  },
  {
   "cell_type": "code",
   "execution_count": null,
   "id": "4c6a6994",
   "metadata": {},
   "outputs": [],
   "source": []
  },
  {
   "cell_type": "code",
   "execution_count": 7,
   "id": "40663c10",
   "metadata": {},
   "outputs": [],
   "source": [
    "e = d_bog['Seayear_3']\n",
    "f = d_bog['seamean_3']\n",
    "\n",
    "dAnn = pd.concat([e,f] ,axis=1)\n",
    "\n",
    "dAnn['Seayear_3'] = pd.to_datetime(dAnn.Seayear_3 , format = '%Y')\n",
    "\n",
    "dAnn = dAnn.dropna()\n",
    "dAnn['Seayear_3'] = pd.to_datetime(dAnn['Seayear_3'])"
   ]
  },
  {
   "cell_type": "code",
   "execution_count": 8,
   "id": "725ce3c9",
   "metadata": {},
   "outputs": [
    {
     "data": {
      "text/plain": [
       "<AxesSubplot:xlabel='Seayear_3'>"
      ]
     },
     "execution_count": 8,
     "metadata": {},
     "output_type": "execute_result"
    },
    {
     "data": {
      "image/png": "[encoded data removed]",
      "text/plain": [
       "<Figure size 432x288 with 1 Axes>"
      ]
     },
     "metadata": {
      "needs_background": "light"
     },
     "output_type": "display_data"
    }
   ],
   "source": [
    "dAnn.set_index('Seayear_3' , inplace=True)\n",
    "analysis3 = dAnn[\"seamean_3\"].copy()\n",
    "decompose_res_mult = seasonal_decompose(analysis3)\n",
    "decompose_res_mult.trend.plot()"
   ]
  },
  {
   "cell_type": "code",
   "execution_count": null,
   "id": "586ecc9f",
   "metadata": {},
   "outputs": [],
   "source": []
  },
  {
   "cell_type": "markdown",
   "id": "53a1f4d4",
   "metadata": {},
   "source": [
    "4th monsoon"
   ]
  },
  {
   "cell_type": "code",
   "execution_count": null,
   "id": "3afb86ed",
   "metadata": {},
   "outputs": [],
   "source": []
  },
  {
   "cell_type": "code",
   "execution_count": 9,
   "id": "fe137588",
   "metadata": {},
   "outputs": [],
   "source": [
    "g = d_bog['Seayear_4']\n",
    "h = d_bog['seamean_4']\n",
    "\n",
    "dAnn = pd.concat([g,h] ,axis=1)\n",
    "\n",
    "dAnn['Seayear_4'] = pd.to_datetime(dAnn.Seayear_4 , format = '%Y')\n",
    "\n",
    "dAnn = dAnn.dropna()\n",
    "dAnn['Seayear_4'] = pd.to_datetime(dAnn['Seayear_4'])"
   ]
  },
  {
   "cell_type": "code",
   "execution_count": 10,
   "id": "12b2d67a",
   "metadata": {},
   "outputs": [
    {
     "data": {
      "text/plain": [
       "<AxesSubplot:xlabel='Seayear_4'>"
      ]
     },
     "execution_count": 10,
     "metadata": {},
     "output_type": "execute_result"
    },
    {
     "data": {
      "image/png": "[encoded data removed]",
      "text/plain": [
       "<Figure size 432x288 with 1 Axes>"
      ]
     },
     "metadata": {
      "needs_background": "light"
     },
     "output_type": "display_data"
    }
   ],
   "source": [
    "dAnn.set_index('Seayear_4' , inplace=True)\n",
    "analysis4 = dAnn[\"seamean_4\"].copy()\n",
    "decompose_res_mult = seasonal_decompose(analysis4)\n",
    "decompose_res_mult.trend.plot()"
   ]
  },
  {
   "cell_type": "code",
   "execution_count": null,
   "id": "5f508325",
   "metadata": {},
   "outputs": [],
   "source": []
  }
 ],
 "metadata": {
  "kernelspec": {
   "display_name": "Python 3",
   "language": "python",
   "name": "python3"
  },
  "language_info": {
   "codemirror_mode": {
    "name": "ipython",
    "version": 3
   },
   "file_extension": ".py",
   "mimetype": "text/x-python",
   "name": "python",
   "nbconvert_exporter": "python",
   "pygments_lexer": "ipython3",
   "version": "3.8.8"
  }
 },
 "nbformat": 4,
 "nbformat_minor": 5
}
