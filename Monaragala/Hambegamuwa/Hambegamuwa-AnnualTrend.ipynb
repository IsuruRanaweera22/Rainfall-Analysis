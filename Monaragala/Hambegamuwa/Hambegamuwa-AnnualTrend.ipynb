{
 "cells": [
  {
   "cell_type": "code",
   "execution_count": 1,
   "id": "1195f218",
   "metadata": {},
   "outputs": [],
   "source": [
    "import pandas as pd\n",
    "import matplotlib.pyplot as plt\n",
    "import numpy as np\n",
    "from statsmodels.tsa.seasonal import seasonal_decompose\n"
   ]
  },
  {
   "cell_type": "code",
   "execution_count": 2,
   "id": "9963b2c8",
   "metadata": {},
   "outputs": [],
   "source": [
    "d_ham = pd.read_excel(\"Hambegamuwa(89-96).xls\")"
   ]
  },
  {
   "cell_type": "code",
   "execution_count": 3,
   "id": "1721d65f",
   "metadata": {},
   "outputs": [],
   "source": [
    "a = d_ham['year']\n",
    "b = d_ham['AnnualMean']\n",
    "\n",
    "dAnn = pd.concat([a,b] ,axis=1)\n",
    "\n",
    "dAnn['year'] = pd.to_datetime(dAnn.year, format = '%Y')\n",
    "\n",
    "dAnn = dAnn.dropna()\n",
    "dAnn['year'] = pd.to_datetime(dAnn['year'])"
   ]
  },
  {
   "cell_type": "code",
   "execution_count": 4,
   "id": "9eb33e4f",
   "metadata": {},
   "outputs": [
    {
     "data": {
      "text/plain": [
       "<AxesSubplot:xlabel='year'>"
      ]
     },
     "execution_count": 4,
     "metadata": {},
     "output_type": "execute_result"
    },
    {
     "data": {
      "image/png": "[encoded data removed]",
      "text/plain": [
       "<Figure size 432x288 with 1 Axes>"
      ]
     },
     "metadata": {
      "needs_background": "light"
     },
     "output_type": "display_data"
    }
   ],
   "source": [
    "dAnn.set_index('year' , inplace=True)\n",
    "analysis = dAnn[\"AnnualMean\"].copy()\n",
    "decompose_res_mult = seasonal_decompose(analysis)\n",
    "decompose_res_mult.trend.plot()"
   ]
  },
  {
   "cell_type": "code",
   "execution_count": null,
   "id": "ac4f872e",
   "metadata": {},
   "outputs": [],
   "source": []
  }
 ],
 "metadata": {
  "kernelspec": {
   "display_name": "Python 3",
   "language": "python",
   "name": "python3"
  },
  "language_info": {
   "codemirror_mode": {
    "name": "ipython",
    "version": 3
   },
   "file_extension": ".py",
   "mimetype": "text/x-python",
   "name": "python",
   "nbconvert_exporter": "python",
   "pygments_lexer": "ipython3",
   "version": "3.8.8"
  }
 },
 "nbformat": 4,
 "nbformat_minor": 5
}
