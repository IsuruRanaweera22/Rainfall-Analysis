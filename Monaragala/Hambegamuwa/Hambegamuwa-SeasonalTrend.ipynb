{
 "cells": [
  {
   "cell_type": "code",
   "execution_count": 1,
   "metadata": {},
   "outputs": [],
   "source": [
    "import pandas as pd\n",
    "import matplotlib as plt\n",
    "from statsmodels.tsa.seasonal import seasonal_decompose\n"
   ]
  },
  {
   "cell_type": "code",
   "execution_count": 2,
   "metadata": {
    "scrolled": true
   },
   "outputs": [
    {
     "data": {
      "text/html": [
       "<div>\n",
       "<style scoped>\n",
       "    .dataframe tbody tr th:only-of-type {\n",
       "        vertical-align: middle;\n",
       "    }\n",
       "\n",
       "    .dataframe tbody tr th {\n",
       "        vertical-align: top;\n",
       "    }\n",
       "\n",
       "    .dataframe thead th {\n",
       "        text-align: right;\n",
       "    }\n",
       "</style>\n",
       "<table border=\"1\" class=\"dataframe\">\n",
       "  <thead>\n",
       "    <tr style=\"text-align: right;\">\n",
       "      <th></th>\n",
       "      <th>year/month</th>\n",
       "      <th>1</th>\n",
       "      <th>2</th>\n",
       "      <th>3</th>\n",
       "      <th>4</th>\n",
       "      <th>5</th>\n",
       "      <th>6</th>\n",
       "      <th>7</th>\n",
       "      <th>8</th>\n",
       "      <th>9</th>\n",
       "      <th>...</th>\n",
       "      <th>Unnamed: 39</th>\n",
       "      <th>Unnamed: 40</th>\n",
       "      <th>seayear_1</th>\n",
       "      <th>seamean_1</th>\n",
       "      <th>seayear_2</th>\n",
       "      <th>seamean_2</th>\n",
       "      <th>seayear_3</th>\n",
       "      <th>seamean_3</th>\n",
       "      <th>seayear_4</th>\n",
       "      <th>seamean_4</th>\n",
       "    </tr>\n",
       "  </thead>\n",
       "  <tbody>\n",
       "    <tr>\n",
       "      <th>0</th>\n",
       "      <td>1989- 1</td>\n",
       "      <td>0.0</td>\n",
       "      <td>0.0</td>\n",
       "      <td>0.0</td>\n",
       "      <td>0.0</td>\n",
       "      <td>0.0</td>\n",
       "      <td>0.0</td>\n",
       "      <td>0.0</td>\n",
       "      <td>0.0</td>\n",
       "      <td>0.0</td>\n",
       "      <td>...</td>\n",
       "      <td>1989.0</td>\n",
       "      <td>2.029032</td>\n",
       "      <td>1989.0</td>\n",
       "      <td>2.029032</td>\n",
       "      <td>1989.0</td>\n",
       "      <td>1.232258</td>\n",
       "      <td>1989.0</td>\n",
       "      <td>0.888710</td>\n",
       "      <td>1989.0</td>\n",
       "      <td>0.960215</td>\n",
       "    </tr>\n",
       "    <tr>\n",
       "      <th>1</th>\n",
       "      <td>1989- 2</td>\n",
       "      <td>0.0</td>\n",
       "      <td>0.0</td>\n",
       "      <td>0.0</td>\n",
       "      <td>0.0</td>\n",
       "      <td>0.0</td>\n",
       "      <td>0.0</td>\n",
       "      <td>0.0</td>\n",
       "      <td>0.0</td>\n",
       "      <td>0.0</td>\n",
       "      <td>...</td>\n",
       "      <td>1990.0</td>\n",
       "      <td>5.291935</td>\n",
       "      <td>1990.0</td>\n",
       "      <td>5.291935</td>\n",
       "      <td>1990.0</td>\n",
       "      <td>1.005806</td>\n",
       "      <td>1990.0</td>\n",
       "      <td>6.140323</td>\n",
       "      <td>1990.0</td>\n",
       "      <td>2.973118</td>\n",
       "    </tr>\n",
       "    <tr>\n",
       "      <th>2</th>\n",
       "      <td>1989- 3</td>\n",
       "      <td>5.8</td>\n",
       "      <td>0.0</td>\n",
       "      <td>0.0</td>\n",
       "      <td>0.0</td>\n",
       "      <td>0.0</td>\n",
       "      <td>0.0</td>\n",
       "      <td>0.0</td>\n",
       "      <td>0.0</td>\n",
       "      <td>0.0</td>\n",
       "      <td>...</td>\n",
       "      <td>1991.0</td>\n",
       "      <td>4.667742</td>\n",
       "      <td>1991.0</td>\n",
       "      <td>4.667742</td>\n",
       "      <td>1991.0</td>\n",
       "      <td>1.436129</td>\n",
       "      <td>1991.0</td>\n",
       "      <td>6.006452</td>\n",
       "      <td>1991.0</td>\n",
       "      <td>0.995699</td>\n",
       "    </tr>\n",
       "    <tr>\n",
       "      <th>3</th>\n",
       "      <td>1989- 4</td>\n",
       "      <td>27.2</td>\n",
       "      <td>0.0</td>\n",
       "      <td>0.0</td>\n",
       "      <td>0.0</td>\n",
       "      <td>0.0</td>\n",
       "      <td>0.0</td>\n",
       "      <td>0.0</td>\n",
       "      <td>0.0</td>\n",
       "      <td>0.0</td>\n",
       "      <td>...</td>\n",
       "      <td>1992.0</td>\n",
       "      <td>2.367608</td>\n",
       "      <td>1992.0</td>\n",
       "      <td>2.367608</td>\n",
       "      <td>1992.0</td>\n",
       "      <td>1.538065</td>\n",
       "      <td>1992.0</td>\n",
       "      <td>8.988710</td>\n",
       "      <td>1992.0</td>\n",
       "      <td>1.375269</td>\n",
       "    </tr>\n",
       "    <tr>\n",
       "      <th>4</th>\n",
       "      <td>1989- 5</td>\n",
       "      <td>0.0</td>\n",
       "      <td>0.0</td>\n",
       "      <td>0.0</td>\n",
       "      <td>6.9</td>\n",
       "      <td>12.7</td>\n",
       "      <td>15.2</td>\n",
       "      <td>4.6</td>\n",
       "      <td>3.8</td>\n",
       "      <td>10.2</td>\n",
       "      <td>...</td>\n",
       "      <td>1993.0</td>\n",
       "      <td>4.479032</td>\n",
       "      <td>1993.0</td>\n",
       "      <td>4.479032</td>\n",
       "      <td>1993.0</td>\n",
       "      <td>0.528387</td>\n",
       "      <td>1993.0</td>\n",
       "      <td>8.029032</td>\n",
       "      <td>1993.0</td>\n",
       "      <td>6.926882</td>\n",
       "    </tr>\n",
       "    <tr>\n",
       "      <th>...</th>\n",
       "      <td>...</td>\n",
       "      <td>...</td>\n",
       "      <td>...</td>\n",
       "      <td>...</td>\n",
       "      <td>...</td>\n",
       "      <td>...</td>\n",
       "      <td>...</td>\n",
       "      <td>...</td>\n",
       "      <td>...</td>\n",
       "      <td>...</td>\n",
       "      <td>...</td>\n",
       "      <td>...</td>\n",
       "      <td>...</td>\n",
       "      <td>...</td>\n",
       "      <td>...</td>\n",
       "      <td>...</td>\n",
       "      <td>...</td>\n",
       "      <td>...</td>\n",
       "      <td>...</td>\n",
       "      <td>...</td>\n",
       "      <td>...</td>\n",
       "    </tr>\n",
       "    <tr>\n",
       "      <th>379</th>\n",
       "      <td>NaN</td>\n",
       "      <td>NaN</td>\n",
       "      <td>NaN</td>\n",
       "      <td>NaN</td>\n",
       "      <td>NaN</td>\n",
       "      <td>NaN</td>\n",
       "      <td>NaN</td>\n",
       "      <td>NaN</td>\n",
       "      <td>NaN</td>\n",
       "      <td>NaN</td>\n",
       "      <td>...</td>\n",
       "      <td>NaN</td>\n",
       "      <td>NaN</td>\n",
       "      <td>NaN</td>\n",
       "      <td>NaN</td>\n",
       "      <td>NaN</td>\n",
       "      <td>NaN</td>\n",
       "      <td>NaN</td>\n",
       "      <td>NaN</td>\n",
       "      <td>NaN</td>\n",
       "      <td>NaN</td>\n",
       "    </tr>\n",
       "    <tr>\n",
       "      <th>380</th>\n",
       "      <td>NaN</td>\n",
       "      <td>NaN</td>\n",
       "      <td>NaN</td>\n",
       "      <td>NaN</td>\n",
       "      <td>NaN</td>\n",
       "      <td>NaN</td>\n",
       "      <td>NaN</td>\n",
       "      <td>NaN</td>\n",
       "      <td>NaN</td>\n",
       "      <td>NaN</td>\n",
       "      <td>...</td>\n",
       "      <td>NaN</td>\n",
       "      <td>NaN</td>\n",
       "      <td>NaN</td>\n",
       "      <td>NaN</td>\n",
       "      <td>NaN</td>\n",
       "      <td>NaN</td>\n",
       "      <td>NaN</td>\n",
       "      <td>NaN</td>\n",
       "      <td>NaN</td>\n",
       "      <td>NaN</td>\n",
       "    </tr>\n",
       "    <tr>\n",
       "      <th>381</th>\n",
       "      <td>NaN</td>\n",
       "      <td>NaN</td>\n",
       "      <td>NaN</td>\n",
       "      <td>NaN</td>\n",
       "      <td>NaN</td>\n",
       "      <td>NaN</td>\n",
       "      <td>NaN</td>\n",
       "      <td>NaN</td>\n",
       "      <td>NaN</td>\n",
       "      <td>NaN</td>\n",
       "      <td>...</td>\n",
       "      <td>NaN</td>\n",
       "      <td>NaN</td>\n",
       "      <td>NaN</td>\n",
       "      <td>NaN</td>\n",
       "      <td>NaN</td>\n",
       "      <td>NaN</td>\n",
       "      <td>NaN</td>\n",
       "      <td>NaN</td>\n",
       "      <td>NaN</td>\n",
       "      <td>NaN</td>\n",
       "    </tr>\n",
       "    <tr>\n",
       "      <th>382</th>\n",
       "      <td>NaN</td>\n",
       "      <td>NaN</td>\n",
       "      <td>NaN</td>\n",
       "      <td>NaN</td>\n",
       "      <td>NaN</td>\n",
       "      <td>NaN</td>\n",
       "      <td>NaN</td>\n",
       "      <td>NaN</td>\n",
       "      <td>NaN</td>\n",
       "      <td>NaN</td>\n",
       "      <td>...</td>\n",
       "      <td>NaN</td>\n",
       "      <td>NaN</td>\n",
       "      <td>NaN</td>\n",
       "      <td>NaN</td>\n",
       "      <td>NaN</td>\n",
       "      <td>NaN</td>\n",
       "      <td>NaN</td>\n",
       "      <td>NaN</td>\n",
       "      <td>NaN</td>\n",
       "      <td>NaN</td>\n",
       "    </tr>\n",
       "    <tr>\n",
       "      <th>383</th>\n",
       "      <td>NaN</td>\n",
       "      <td>NaN</td>\n",
       "      <td>NaN</td>\n",
       "      <td>NaN</td>\n",
       "      <td>NaN</td>\n",
       "      <td>NaN</td>\n",
       "      <td>NaN</td>\n",
       "      <td>NaN</td>\n",
       "      <td>NaN</td>\n",
       "      <td>NaN</td>\n",
       "      <td>...</td>\n",
       "      <td>NaN</td>\n",
       "      <td>NaN</td>\n",
       "      <td>NaN</td>\n",
       "      <td>NaN</td>\n",
       "      <td>NaN</td>\n",
       "      <td>NaN</td>\n",
       "      <td>NaN</td>\n",
       "      <td>NaN</td>\n",
       "      <td>NaN</td>\n",
       "      <td>NaN</td>\n",
       "    </tr>\n",
       "  </tbody>\n",
       "</table>\n",
       "<p>384 rows × 49 columns</p>\n",
       "</div>"
      ],
      "text/plain": [
       "    year/month     1    2    3    4     5     6    7    8     9  ...  \\\n",
       "0      1989- 1   0.0  0.0  0.0  0.0   0.0   0.0  0.0  0.0   0.0  ...   \n",
       "1      1989- 2   0.0  0.0  0.0  0.0   0.0   0.0  0.0  0.0   0.0  ...   \n",
       "2      1989- 3   5.8  0.0  0.0  0.0   0.0   0.0  0.0  0.0   0.0  ...   \n",
       "3      1989- 4  27.2  0.0  0.0  0.0   0.0   0.0  0.0  0.0   0.0  ...   \n",
       "4      1989- 5   0.0  0.0  0.0  6.9  12.7  15.2  4.6  3.8  10.2  ...   \n",
       "..         ...   ...  ...  ...  ...   ...   ...  ...  ...   ...  ...   \n",
       "379        NaN   NaN  NaN  NaN  NaN   NaN   NaN  NaN  NaN   NaN  ...   \n",
       "380        NaN   NaN  NaN  NaN  NaN   NaN   NaN  NaN  NaN   NaN  ...   \n",
       "381        NaN   NaN  NaN  NaN  NaN   NaN   NaN  NaN  NaN   NaN  ...   \n",
       "382        NaN   NaN  NaN  NaN  NaN   NaN   NaN  NaN  NaN   NaN  ...   \n",
       "383        NaN   NaN  NaN  NaN  NaN   NaN   NaN  NaN  NaN   NaN  ...   \n",
       "\n",
       "     Unnamed: 39  Unnamed: 40  seayear_1  seamean_1  seayear_2  seamean_2  \\\n",
       "0         1989.0     2.029032     1989.0   2.029032     1989.0   1.232258   \n",
       "1         1990.0     5.291935     1990.0   5.291935     1990.0   1.005806   \n",
       "2         1991.0     4.667742     1991.0   4.667742     1991.0   1.436129   \n",
       "3         1992.0     2.367608     1992.0   2.367608     1992.0   1.538065   \n",
       "4         1993.0     4.479032     1993.0   4.479032     1993.0   0.528387   \n",
       "..           ...          ...        ...        ...        ...        ...   \n",
       "379          NaN          NaN        NaN        NaN        NaN        NaN   \n",
       "380          NaN          NaN        NaN        NaN        NaN        NaN   \n",
       "381          NaN          NaN        NaN        NaN        NaN        NaN   \n",
       "382          NaN          NaN        NaN        NaN        NaN        NaN   \n",
       "383          NaN          NaN        NaN        NaN        NaN        NaN   \n",
       "\n",
       "     seayear_3  seamean_3  seayear_4  seamean_4  \n",
       "0       1989.0   0.888710     1989.0   0.960215  \n",
       "1       1990.0   6.140323     1990.0   2.973118  \n",
       "2       1991.0   6.006452     1991.0   0.995699  \n",
       "3       1992.0   8.988710     1992.0   1.375269  \n",
       "4       1993.0   8.029032     1993.0   6.926882  \n",
       "..         ...        ...        ...        ...  \n",
       "379        NaN        NaN        NaN        NaN  \n",
       "380        NaN        NaN        NaN        NaN  \n",
       "381        NaN        NaN        NaN        NaN  \n",
       "382        NaN        NaN        NaN        NaN  \n",
       "383        NaN        NaN        NaN        NaN  \n",
       "\n",
       "[384 rows x 49 columns]"
      ]
     },
     "execution_count": 2,
     "metadata": {},
     "output_type": "execute_result"
    }
   ],
   "source": [
    "d_hambegamuwa=pd.read_excel('Hambegamuwa(89-96).xls')\n",
    "d_hambegamuwa"
   ]
  },
  {
   "cell_type": "code",
   "execution_count": null,
   "metadata": {},
   "outputs": [],
   "source": []
  },
  {
   "cell_type": "markdown",
   "metadata": {},
   "source": [
    "1st monsoon"
   ]
  },
  {
   "cell_type": "code",
   "execution_count": null,
   "metadata": {},
   "outputs": [],
   "source": []
  },
  {
   "cell_type": "code",
   "execution_count": 6,
   "metadata": {},
   "outputs": [],
   "source": [
    "a=d_hambegamuwa[\"seayear_1\"]\n",
    "b=d_hambegamuwa[\"seamean_1\"]\n",
    "dsea= pd.concat([a,b] ,axis=1)\n",
    "dsea=dsea.dropna()\n",
    "dsea[\"seayear_1\"] = pd.to_datetime(dsea.seayear_1, format= '%Y' )"
   ]
  },
  {
   "cell_type": "code",
   "execution_count": 7,
   "metadata": {
    "scrolled": true
   },
   "outputs": [
    {
     "data": {
      "text/plain": [
       "<AxesSubplot:xlabel='seayear_1'>"
      ]
     },
     "execution_count": 7,
     "metadata": {},
     "output_type": "execute_result"
    },
    {
     "data": {
      "image/png": "[encoded data removed]",
      "text/plain": [
       "<Figure size 432x288 with 1 Axes>"
      ]
     },
     "metadata": {
      "needs_background": "light"
     },
     "output_type": "display_data"
    }
   ],
   "source": [
    "dsea.set_index(\"seayear_1\" , inplace=True)\n",
    "analysis1 = dsea[\"seamean_1\"].copy()\n",
    "decompose_res_mult = seasonal_decompose(analysis1)\n",
    "decompose_res_mult.trend.plot()"
   ]
  },
  {
   "cell_type": "code",
   "execution_count": null,
   "metadata": {},
   "outputs": [],
   "source": []
  },
  {
   "cell_type": "markdown",
   "metadata": {},
   "source": [
    "2nd monsoon"
   ]
  },
  {
   "cell_type": "code",
   "execution_count": null,
   "metadata": {},
   "outputs": [],
   "source": []
  },
  {
   "cell_type": "code",
   "execution_count": 8,
   "metadata": {},
   "outputs": [],
   "source": [
    "c=d_hambegamuwa[\"seayear_2\"]\n",
    "d=d_hambegamuwa[\"seamean_2\"]\n",
    "dsea= pd.concat([c,d] ,axis=1)\n",
    "dsea=dsea.dropna()\n",
    "dsea[\"seayear_2\"] = pd.to_datetime(dsea.seayear_2, format= '%Y' )"
   ]
  },
  {
   "cell_type": "code",
   "execution_count": 9,
   "metadata": {
    "scrolled": true
   },
   "outputs": [
    {
     "data": {
      "text/plain": [
       "<AxesSubplot:xlabel='seayear_2'>"
      ]
     },
     "execution_count": 9,
     "metadata": {},
     "output_type": "execute_result"
    },
    {
     "data": {
      "image/png": "[encoded data removed]",
      "text/plain": [
       "<Figure size 432x288 with 1 Axes>"
      ]
     },
     "metadata": {
      "needs_background": "light"
     },
     "output_type": "display_data"
    }
   ],
   "source": [
    "dsea.set_index(\"seayear_2\" , inplace=True)\n",
    "analysis2 = dsea[\"seamean_2\"].copy()\n",
    "decompose_res_mult = seasonal_decompose(analysis2)\n",
    "decompose_res_mult.trend.plot()"
   ]
  },
  {
   "cell_type": "code",
   "execution_count": null,
   "metadata": {},
   "outputs": [],
   "source": []
  },
  {
   "cell_type": "markdown",
   "metadata": {},
   "source": [
    "3rd monsoon"
   ]
  },
  {
   "cell_type": "code",
   "execution_count": null,
   "metadata": {},
   "outputs": [],
   "source": []
  },
  {
   "cell_type": "code",
   "execution_count": 10,
   "metadata": {},
   "outputs": [],
   "source": [
    "e= d_hambegamuwa[\"seayear_3\"]\n",
    "f= d_hambegamuwa[\"seamean_3\"]\n",
    "dsea = pd.concat([e,f] , axis=1 )\n",
    "dsea=dsea.dropna()\n",
    "dsea[\"seayear_3\"] = pd.to_datetime(dsea.seayear_3, format= '%Y' )"
   ]
  },
  {
   "cell_type": "code",
   "execution_count": 10,
   "metadata": {},
   "outputs": [
    {
     "data": {
      "text/plain": [
       "<matplotlib.axes._subplots.AxesSubplot at 0x14092463970>"
      ]
     },
     "execution_count": 10,
     "metadata": {},
     "output_type": "execute_result"
    },
    {
     "data": {
      "image/png": "[encoded data removed]",
      "text/plain": [
       "<Figure size 432x288 with 1 Axes>"
      ]
     },
     "metadata": {
      "needs_background": "light"
     },
     "output_type": "display_data"
    }
   ],
   "source": [
    "dsea.set_index(\"seayear_3\" , inplace=True)\n",
    "analysis3 = dsea[\"seamean_3\"].copy()\n",
    "decompose_res_mult = seasonal_decompose(analysis3)\n",
    "decompose_res_mult.trend.plot()"
   ]
  },
  {
   "cell_type": "code",
   "execution_count": null,
   "metadata": {},
   "outputs": [],
   "source": []
  },
  {
   "cell_type": "markdown",
   "metadata": {},
   "source": [
    "4th monsoon"
   ]
  },
  {
   "cell_type": "code",
   "execution_count": null,
   "metadata": {},
   "outputs": [],
   "source": []
  },
  {
   "cell_type": "code",
   "execution_count": 11,
   "metadata": {},
   "outputs": [],
   "source": [
    "g= d_hambegamuwa[\"seayear_4\"]\n",
    "h= d_hambegamuwa[\"seamean_4\"]\n",
    "dsea = pd.concat([g,h] , axis=1 )\n",
    "dsea=dsea.dropna()\n",
    "dsea[\"seayear_4\"] = pd.to_datetime(dsea.seayear_4, format= '%Y' )"
   ]
  },
  {
   "cell_type": "code",
   "execution_count": 12,
   "metadata": {},
   "outputs": [
    {
     "data": {
      "text/plain": [
       "<AxesSubplot:xlabel='seayear_4'>"
      ]
     },
     "execution_count": 12,
     "metadata": {},
     "output_type": "execute_result"
    },
    {
     "data": {
      "image/png": "[encoded data removed]",
      "text/plain": [
       "<Figure size 432x288 with 1 Axes>"
      ]
     },
     "metadata": {
      "needs_background": "light"
     },
     "output_type": "display_data"
    }
   ],
   "source": [
    "dsea.set_index(\"seayear_4\" , inplace=True)\n",
    "analysis4 = dsea[\"seamean_4\"].copy()\n",
    "decompose_res_mult = seasonal_decompose(analysis4)\n",
    "decompose_res_mult.trend.plot()"
   ]
  },
  {
   "cell_type": "code",
   "execution_count": null,
   "metadata": {},
   "outputs": [],
   "source": []
  }
 ],
 "metadata": {
  "kernelspec": {
   "display_name": "Python 3",
   "language": "python",
   "name": "python3"
  },
  "language_info": {
   "codemirror_mode": {
    "name": "ipython",
    "version": 3
   },
   "file_extension": ".py",
   "mimetype": "text/x-python",
   "name": "python",
   "nbconvert_exporter": "python",
   "pygments_lexer": "ipython3",
   "version": "3.8.8"
  }
 },
 "nbformat": 4,
 "nbformat_minor": 4
}
