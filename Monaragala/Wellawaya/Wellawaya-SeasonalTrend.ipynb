{
 "cells": [
  {
   "cell_type": "code",
   "execution_count": 1,
   "metadata": {},
   "outputs": [],
   "source": [
    "import pandas as pd\n",
    "import matplotlib as plt\n",
    "from statsmodels.tsa.seasonal import seasonal_decompose\n"
   ]
  },
  {
   "cell_type": "code",
   "execution_count": 2,
   "metadata": {
    "scrolled": true
   },
   "outputs": [
    {
     "data": {
      "text/html": [
       "<div>\n",
       "<style scoped>\n",
       "    .dataframe tbody tr th:only-of-type {\n",
       "        vertical-align: middle;\n",
       "    }\n",
       "\n",
       "    .dataframe tbody tr th {\n",
       "        vertical-align: top;\n",
       "    }\n",
       "\n",
       "    .dataframe thead th {\n",
       "        text-align: right;\n",
       "    }\n",
       "</style>\n",
       "<table border=\"1\" class=\"dataframe\">\n",
       "  <thead>\n",
       "    <tr style=\"text-align: right;\">\n",
       "      <th></th>\n",
       "      <th>year/month</th>\n",
       "      <th>1</th>\n",
       "      <th>2</th>\n",
       "      <th>3</th>\n",
       "      <th>4</th>\n",
       "      <th>5</th>\n",
       "      <th>6</th>\n",
       "      <th>7</th>\n",
       "      <th>8</th>\n",
       "      <th>9</th>\n",
       "      <th>...</th>\n",
       "      <th>Unnamed: 39</th>\n",
       "      <th>Unnamed: 40</th>\n",
       "      <th>seayear_1</th>\n",
       "      <th>seamean_1</th>\n",
       "      <th>seayear_2</th>\n",
       "      <th>seamean_2</th>\n",
       "      <th>seayear_3</th>\n",
       "      <th>seamean_3</th>\n",
       "      <th>seayear_4</th>\n",
       "      <th>seamean_4</th>\n",
       "    </tr>\n",
       "  </thead>\n",
       "  <tbody>\n",
       "    <tr>\n",
       "      <th>0</th>\n",
       "      <td>1989- 1</td>\n",
       "      <td>0.0</td>\n",
       "      <td>0</td>\n",
       "      <td>0.0</td>\n",
       "      <td>0.0</td>\n",
       "      <td>0.0</td>\n",
       "      <td>0.0</td>\n",
       "      <td>0.0</td>\n",
       "      <td>0.0</td>\n",
       "      <td>0.0</td>\n",
       "      <td>...</td>\n",
       "      <td>1989.0</td>\n",
       "      <td>2.412903</td>\n",
       "      <td>1989.0</td>\n",
       "      <td>2.412903</td>\n",
       "      <td>1989.0</td>\n",
       "      <td>2.363871</td>\n",
       "      <td>1989.0</td>\n",
       "      <td>11.909677</td>\n",
       "      <td>1989.0</td>\n",
       "      <td>3.941935</td>\n",
       "    </tr>\n",
       "    <tr>\n",
       "      <th>1</th>\n",
       "      <td>1989- 2</td>\n",
       "      <td>0.0</td>\n",
       "      <td>0</td>\n",
       "      <td>0.0</td>\n",
       "      <td>0.0</td>\n",
       "      <td>0.0</td>\n",
       "      <td>0.0</td>\n",
       "      <td>0.0</td>\n",
       "      <td>0.0</td>\n",
       "      <td>0.0</td>\n",
       "      <td>...</td>\n",
       "      <td>1990.0</td>\n",
       "      <td>8.966129</td>\n",
       "      <td>1990.0</td>\n",
       "      <td>8.966129</td>\n",
       "      <td>1990.0</td>\n",
       "      <td>2.772903</td>\n",
       "      <td>1990.0</td>\n",
       "      <td>10.095161</td>\n",
       "      <td>1990.0</td>\n",
       "      <td>3.654839</td>\n",
       "    </tr>\n",
       "    <tr>\n",
       "      <th>2</th>\n",
       "      <td>1989- 3</td>\n",
       "      <td>0.0</td>\n",
       "      <td>0</td>\n",
       "      <td>0.0</td>\n",
       "      <td>29.2</td>\n",
       "      <td>0.0</td>\n",
       "      <td>0.0</td>\n",
       "      <td>0.0</td>\n",
       "      <td>5.3</td>\n",
       "      <td>0.0</td>\n",
       "      <td>...</td>\n",
       "      <td>1991.0</td>\n",
       "      <td>5.574194</td>\n",
       "      <td>1991.0</td>\n",
       "      <td>5.574194</td>\n",
       "      <td>1991.0</td>\n",
       "      <td>3.308968</td>\n",
       "      <td>1991.0</td>\n",
       "      <td>6.750000</td>\n",
       "      <td>1991.0</td>\n",
       "      <td>3.659140</td>\n",
       "    </tr>\n",
       "    <tr>\n",
       "      <th>3</th>\n",
       "      <td>1989- 4</td>\n",
       "      <td>0.0</td>\n",
       "      <td>0</td>\n",
       "      <td>0.0</td>\n",
       "      <td>41.9</td>\n",
       "      <td>0.0</td>\n",
       "      <td>0.0</td>\n",
       "      <td>0.0</td>\n",
       "      <td>0.0</td>\n",
       "      <td>0.0</td>\n",
       "      <td>...</td>\n",
       "      <td>1992.0</td>\n",
       "      <td>3.727688</td>\n",
       "      <td>1992.0</td>\n",
       "      <td>3.727688</td>\n",
       "      <td>1992.0</td>\n",
       "      <td>2.721290</td>\n",
       "      <td>1992.0</td>\n",
       "      <td>12.150000</td>\n",
       "      <td>1992.0</td>\n",
       "      <td>2.430108</td>\n",
       "    </tr>\n",
       "    <tr>\n",
       "      <th>4</th>\n",
       "      <td>1989- 5</td>\n",
       "      <td>6.3</td>\n",
       "      <td>15.2</td>\n",
       "      <td>0.0</td>\n",
       "      <td>0.0</td>\n",
       "      <td>20.3</td>\n",
       "      <td>0.0</td>\n",
       "      <td>0.0</td>\n",
       "      <td>0.0</td>\n",
       "      <td>28.4</td>\n",
       "      <td>...</td>\n",
       "      <td>1993.0</td>\n",
       "      <td>6.124194</td>\n",
       "      <td>1993.0</td>\n",
       "      <td>6.124194</td>\n",
       "      <td>1993.0</td>\n",
       "      <td>1.511613</td>\n",
       "      <td>1993.0</td>\n",
       "      <td>9.838710</td>\n",
       "      <td>1993.0</td>\n",
       "      <td>5.710753</td>\n",
       "    </tr>\n",
       "    <tr>\n",
       "      <th>...</th>\n",
       "      <td>...</td>\n",
       "      <td>...</td>\n",
       "      <td>...</td>\n",
       "      <td>...</td>\n",
       "      <td>...</td>\n",
       "      <td>...</td>\n",
       "      <td>...</td>\n",
       "      <td>...</td>\n",
       "      <td>...</td>\n",
       "      <td>...</td>\n",
       "      <td>...</td>\n",
       "      <td>...</td>\n",
       "      <td>...</td>\n",
       "      <td>...</td>\n",
       "      <td>...</td>\n",
       "      <td>...</td>\n",
       "      <td>...</td>\n",
       "      <td>...</td>\n",
       "      <td>...</td>\n",
       "      <td>...</td>\n",
       "      <td>...</td>\n",
       "    </tr>\n",
       "    <tr>\n",
       "      <th>379</th>\n",
       "      <td>2020-8</td>\n",
       "      <td>0.0</td>\n",
       "      <td>0</td>\n",
       "      <td>0.0</td>\n",
       "      <td>0.0</td>\n",
       "      <td>0.0</td>\n",
       "      <td>0.0</td>\n",
       "      <td>35.1</td>\n",
       "      <td>0.0</td>\n",
       "      <td>0.0</td>\n",
       "      <td>...</td>\n",
       "      <td>NaN</td>\n",
       "      <td>NaN</td>\n",
       "      <td>NaN</td>\n",
       "      <td>NaN</td>\n",
       "      <td>NaN</td>\n",
       "      <td>NaN</td>\n",
       "      <td>NaN</td>\n",
       "      <td>NaN</td>\n",
       "      <td>NaN</td>\n",
       "      <td>NaN</td>\n",
       "    </tr>\n",
       "    <tr>\n",
       "      <th>380</th>\n",
       "      <td>2020-9</td>\n",
       "      <td>0.0</td>\n",
       "      <td>0</td>\n",
       "      <td>0.0</td>\n",
       "      <td>0.0</td>\n",
       "      <td>0.0</td>\n",
       "      <td>0.0</td>\n",
       "      <td>3.3</td>\n",
       "      <td>0.0</td>\n",
       "      <td>0.0</td>\n",
       "      <td>...</td>\n",
       "      <td>NaN</td>\n",
       "      <td>NaN</td>\n",
       "      <td>NaN</td>\n",
       "      <td>NaN</td>\n",
       "      <td>NaN</td>\n",
       "      <td>NaN</td>\n",
       "      <td>NaN</td>\n",
       "      <td>NaN</td>\n",
       "      <td>NaN</td>\n",
       "      <td>NaN</td>\n",
       "    </tr>\n",
       "    <tr>\n",
       "      <th>381</th>\n",
       "      <td>2020-10</td>\n",
       "      <td>0.0</td>\n",
       "      <td>0</td>\n",
       "      <td>0.0</td>\n",
       "      <td>7.6</td>\n",
       "      <td>0.0</td>\n",
       "      <td>0.0</td>\n",
       "      <td>0.0</td>\n",
       "      <td>0.0</td>\n",
       "      <td>0.0</td>\n",
       "      <td>...</td>\n",
       "      <td>NaN</td>\n",
       "      <td>NaN</td>\n",
       "      <td>NaN</td>\n",
       "      <td>NaN</td>\n",
       "      <td>NaN</td>\n",
       "      <td>NaN</td>\n",
       "      <td>NaN</td>\n",
       "      <td>NaN</td>\n",
       "      <td>NaN</td>\n",
       "      <td>NaN</td>\n",
       "    </tr>\n",
       "    <tr>\n",
       "      <th>382</th>\n",
       "      <td>2020-11</td>\n",
       "      <td>9.9</td>\n",
       "      <td>61.5</td>\n",
       "      <td>8.1</td>\n",
       "      <td>6.6</td>\n",
       "      <td>3.6</td>\n",
       "      <td>42.9</td>\n",
       "      <td>15.0</td>\n",
       "      <td>3.3</td>\n",
       "      <td>5.1</td>\n",
       "      <td>...</td>\n",
       "      <td>NaN</td>\n",
       "      <td>NaN</td>\n",
       "      <td>NaN</td>\n",
       "      <td>NaN</td>\n",
       "      <td>NaN</td>\n",
       "      <td>NaN</td>\n",
       "      <td>NaN</td>\n",
       "      <td>NaN</td>\n",
       "      <td>NaN</td>\n",
       "      <td>NaN</td>\n",
       "    </tr>\n",
       "    <tr>\n",
       "      <th>383</th>\n",
       "      <td>2020-12</td>\n",
       "      <td>0.0</td>\n",
       "      <td>0</td>\n",
       "      <td>0.0</td>\n",
       "      <td>0.0</td>\n",
       "      <td>0.0</td>\n",
       "      <td>0.0</td>\n",
       "      <td>20.3</td>\n",
       "      <td>47.5</td>\n",
       "      <td>8.9</td>\n",
       "      <td>...</td>\n",
       "      <td>NaN</td>\n",
       "      <td>NaN</td>\n",
       "      <td>NaN</td>\n",
       "      <td>NaN</td>\n",
       "      <td>NaN</td>\n",
       "      <td>NaN</td>\n",
       "      <td>NaN</td>\n",
       "      <td>NaN</td>\n",
       "      <td>NaN</td>\n",
       "      <td>NaN</td>\n",
       "    </tr>\n",
       "  </tbody>\n",
       "</table>\n",
       "<p>384 rows × 49 columns</p>\n",
       "</div>"
      ],
      "text/plain": [
       "    year/month    1     2    3     4     5     6     7     8     9  ...  \\\n",
       "0      1989- 1  0.0     0  0.0   0.0   0.0   0.0   0.0   0.0   0.0  ...   \n",
       "1      1989- 2  0.0     0  0.0   0.0   0.0   0.0   0.0   0.0   0.0  ...   \n",
       "2      1989- 3  0.0     0  0.0  29.2   0.0   0.0   0.0   5.3   0.0  ...   \n",
       "3      1989- 4  0.0     0  0.0  41.9   0.0   0.0   0.0   0.0   0.0  ...   \n",
       "4      1989- 5  6.3  15.2  0.0   0.0  20.3   0.0   0.0   0.0  28.4  ...   \n",
       "..         ...  ...   ...  ...   ...   ...   ...   ...   ...   ...  ...   \n",
       "379     2020-8  0.0     0  0.0   0.0   0.0   0.0  35.1   0.0   0.0  ...   \n",
       "380     2020-9  0.0     0  0.0   0.0   0.0   0.0   3.3   0.0   0.0  ...   \n",
       "381    2020-10  0.0     0  0.0   7.6   0.0   0.0   0.0   0.0   0.0  ...   \n",
       "382    2020-11  9.9  61.5  8.1   6.6   3.6  42.9  15.0   3.3   5.1  ...   \n",
       "383    2020-12  0.0     0  0.0   0.0   0.0   0.0  20.3  47.5   8.9  ...   \n",
       "\n",
       "     Unnamed: 39  Unnamed: 40  seayear_1  seamean_1  seayear_2  seamean_2  \\\n",
       "0         1989.0     2.412903     1989.0   2.412903     1989.0   2.363871   \n",
       "1         1990.0     8.966129     1990.0   8.966129     1990.0   2.772903   \n",
       "2         1991.0     5.574194     1991.0   5.574194     1991.0   3.308968   \n",
       "3         1992.0     3.727688     1992.0   3.727688     1992.0   2.721290   \n",
       "4         1993.0     6.124194     1993.0   6.124194     1993.0   1.511613   \n",
       "..           ...          ...        ...        ...        ...        ...   \n",
       "379          NaN          NaN        NaN        NaN        NaN        NaN   \n",
       "380          NaN          NaN        NaN        NaN        NaN        NaN   \n",
       "381          NaN          NaN        NaN        NaN        NaN        NaN   \n",
       "382          NaN          NaN        NaN        NaN        NaN        NaN   \n",
       "383          NaN          NaN        NaN        NaN        NaN        NaN   \n",
       "\n",
       "     seayear_3  seamean_3  seayear_4  seamean_4  \n",
       "0       1989.0  11.909677     1989.0   3.941935  \n",
       "1       1990.0  10.095161     1990.0   3.654839  \n",
       "2       1991.0   6.750000     1991.0   3.659140  \n",
       "3       1992.0  12.150000     1992.0   2.430108  \n",
       "4       1993.0   9.838710     1993.0   5.710753  \n",
       "..         ...        ...        ...        ...  \n",
       "379        NaN        NaN        NaN        NaN  \n",
       "380        NaN        NaN        NaN        NaN  \n",
       "381        NaN        NaN        NaN        NaN  \n",
       "382        NaN        NaN        NaN        NaN  \n",
       "383        NaN        NaN        NaN        NaN  \n",
       "\n",
       "[384 rows x 49 columns]"
      ]
     },
     "execution_count": 2,
     "metadata": {},
     "output_type": "execute_result"
    }
   ],
   "source": [
    "d_well=pd.read_excel('Wellawaya(89-21).xls')\n",
    "d_well"
   ]
  },
  {
   "cell_type": "code",
   "execution_count": null,
   "metadata": {},
   "outputs": [],
   "source": []
  },
  {
   "cell_type": "markdown",
   "metadata": {},
   "source": [
    "1st monsoon"
   ]
  },
  {
   "cell_type": "code",
   "execution_count": null,
   "metadata": {},
   "outputs": [],
   "source": []
  },
  {
   "cell_type": "code",
   "execution_count": 3,
   "metadata": {},
   "outputs": [],
   "source": [
    "a=d_well[\"seayear_1\"]\n",
    "b=d_well[\"seamean_1\"]\n",
    "dsea= pd.concat([a,b] ,axis=1)\n",
    "dsea=dsea.dropna()\n",
    "dsea[\"seayear_1\"] = pd.to_datetime(dsea.seayear_1, format= '%Y' )"
   ]
  },
  {
   "cell_type": "code",
   "execution_count": 4,
   "metadata": {
    "scrolled": true
   },
   "outputs": [
    {
     "data": {
      "text/plain": [
       "<AxesSubplot:xlabel='seayear_1'>"
      ]
     },
     "execution_count": 4,
     "metadata": {},
     "output_type": "execute_result"
    },
    {
     "data": {
      "image/png": "[encoded data removed]",
      "text/plain": [
       "<Figure size 432x288 with 1 Axes>"
      ]
     },
     "metadata": {
      "needs_background": "light"
     },
     "output_type": "display_data"
    }
   ],
   "source": [
    "dsea.set_index(\"seayear_1\" , inplace=True)\n",
    "analysis1 = dsea[\"seamean_1\"].copy()\n",
    "decompose_res_mult = seasonal_decompose(analysis1)\n",
    "decompose_res_mult.trend.plot()\n"
   ]
  },
  {
   "cell_type": "code",
   "execution_count": null,
   "metadata": {},
   "outputs": [],
   "source": []
  },
  {
   "cell_type": "markdown",
   "metadata": {},
   "source": [
    "2nd monsoon"
   ]
  },
  {
   "cell_type": "code",
   "execution_count": null,
   "metadata": {},
   "outputs": [],
   "source": []
  },
  {
   "cell_type": "code",
   "execution_count": 5,
   "metadata": {},
   "outputs": [],
   "source": [
    "c=d_well[\"seayear_2\"]\n",
    "d=d_well[\"seamean_2\"]\n",
    "dsea= pd.concat([c,d] ,axis=1)\n",
    "dsea=dsea.dropna()\n",
    "dsea[\"seayear_2\"] = pd.to_datetime(dsea.seayear_2, format= '%Y' )"
   ]
  },
  {
   "cell_type": "code",
   "execution_count": 6,
   "metadata": {
    "scrolled": true
   },
   "outputs": [
    {
     "data": {
      "text/plain": [
       "<AxesSubplot:xlabel='seayear_2'>"
      ]
     },
     "execution_count": 6,
     "metadata": {},
     "output_type": "execute_result"
    },
    {
     "data": {
      "image/png": "[encoded data removed]",
      "text/plain": [
       "<Figure size 432x288 with 1 Axes>"
      ]
     },
     "metadata": {
      "needs_background": "light"
     },
     "output_type": "display_data"
    }
   ],
   "source": [
    "dsea.set_index(\"seayear_2\" , inplace=True)\n",
    "analysis2 = dsea[\"seamean_2\"].copy()\n",
    "decompose_res_mult = seasonal_decompose(analysis2)\n",
    "decompose_res_mult.trend.plot()"
   ]
  },
  {
   "cell_type": "code",
   "execution_count": null,
   "metadata": {},
   "outputs": [],
   "source": []
  },
  {
   "cell_type": "markdown",
   "metadata": {},
   "source": [
    "3rd monsoon"
   ]
  },
  {
   "cell_type": "code",
   "execution_count": null,
   "metadata": {},
   "outputs": [],
   "source": []
  },
  {
   "cell_type": "code",
   "execution_count": 7,
   "metadata": {},
   "outputs": [],
   "source": [
    "e= d_well[\"seayear_3\"]\n",
    "f= d_well[\"seamean_3\"]\n",
    "dsea = pd.concat([e,f] , axis=1 )\n",
    "dsea=dsea.dropna()\n",
    "dsea[\"seayear_3\"] = pd.to_datetime(dsea.seayear_3, format= '%Y' )"
   ]
  },
  {
   "cell_type": "code",
   "execution_count": 8,
   "metadata": {
    "scrolled": true
   },
   "outputs": [
    {
     "data": {
      "text/plain": [
       "<AxesSubplot:xlabel='seayear_3'>"
      ]
     },
     "execution_count": 8,
     "metadata": {},
     "output_type": "execute_result"
    },
    {
     "data": {
      "image/png": "[encoded data removed]",
      "text/plain": [
       "<Figure size 432x288 with 1 Axes>"
      ]
     },
     "metadata": {
      "needs_background": "light"
     },
     "output_type": "display_data"
    }
   ],
   "source": [
    "dsea.set_index(\"seayear_3\" , inplace=True)\n",
    "analysis3 = dsea[\"seamean_3\"].copy()\n",
    "decompose_res_mult = seasonal_decompose(analysis3)\n",
    "decompose_res_mult.trend.plot()"
   ]
  },
  {
   "cell_type": "code",
   "execution_count": null,
   "metadata": {},
   "outputs": [],
   "source": []
  },
  {
   "cell_type": "markdown",
   "metadata": {},
   "source": [
    "4th monsoon"
   ]
  },
  {
   "cell_type": "code",
   "execution_count": null,
   "metadata": {},
   "outputs": [],
   "source": []
  },
  {
   "cell_type": "code",
   "execution_count": 9,
   "metadata": {},
   "outputs": [],
   "source": [
    "g= d_well[\"seayear_4\"]\n",
    "h= d_well[\"seamean_4\"]\n",
    "dsea = pd.concat([g,h] , axis=1 )\n",
    "dsea=dsea.dropna()\n",
    "dsea[\"seayear_4\"] = pd.to_datetime(dsea.seayear_4, format= '%Y' )"
   ]
  },
  {
   "cell_type": "code",
   "execution_count": 10,
   "metadata": {},
   "outputs": [
    {
     "data": {
      "text/plain": [
       "<AxesSubplot:xlabel='seayear_4'>"
      ]
     },
     "execution_count": 10,
     "metadata": {},
     "output_type": "execute_result"
    },
    {
     "data": {
      "image/png": "[encoded data removed]",
      "text/plain": [
       "<Figure size 432x288 with 1 Axes>"
      ]
     },
     "metadata": {
      "needs_background": "light"
     },
     "output_type": "display_data"
    }
   ],
   "source": [
    "dsea.set_index(\"seayear_4\" , inplace=True)\n",
    "analysis4 = dsea[\"seamean_4\"].copy()\n",
    "decompose_res_mult = seasonal_decompose(analysis4)\n",
    "decompose_res_mult.trend.plot()"
   ]
  },
  {
   "cell_type": "code",
   "execution_count": null,
   "metadata": {},
   "outputs": [],
   "source": []
  }
 ],
 "metadata": {
  "kernelspec": {
   "display_name": "Python 3",
   "language": "python",
   "name": "python3"
  },
  "language_info": {
   "codemirror_mode": {
    "name": "ipython",
    "version": 3
   },
   "file_extension": ".py",
   "mimetype": "text/x-python",
   "name": "python",
   "nbconvert_exporter": "python",
   "pygments_lexer": "ipython3",
   "version": "3.8.8"
  }
 },
 "nbformat": 4,
 "nbformat_minor": 4
}
