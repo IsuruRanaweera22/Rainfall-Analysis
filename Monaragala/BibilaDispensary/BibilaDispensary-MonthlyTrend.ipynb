{
 "cells": [
  {
   "cell_type": "code",
   "execution_count": 1,
   "id": "31c56801",
   "metadata": {},
   "outputs": [],
   "source": [
    "import pandas as pd\n",
    "import matplotlib.pyplot as plt\n",
    "import numpy as np\n",
    "from statsmodels.tsa.seasonal import seasonal_decompose\n"
   ]
  },
  {
   "cell_type": "code",
   "execution_count": 3,
   "id": "8101cfc7",
   "metadata": {},
   "outputs": [
    {
     "data": {
      "text/html": [
       "<div>\n",
       "<style scoped>\n",
       "    .dataframe tbody tr th:only-of-type {\n",
       "        vertical-align: middle;\n",
       "    }\n",
       "\n",
       "    .dataframe tbody tr th {\n",
       "        vertical-align: top;\n",
       "    }\n",
       "\n",
       "    .dataframe thead th {\n",
       "        text-align: right;\n",
       "    }\n",
       "</style>\n",
       "<table border=\"1\" class=\"dataframe\">\n",
       "  <thead>\n",
       "    <tr style=\"text-align: right;\">\n",
       "      <th></th>\n",
       "      <th>year/month</th>\n",
       "      <th>1</th>\n",
       "      <th>2</th>\n",
       "      <th>3</th>\n",
       "      <th>4</th>\n",
       "      <th>5</th>\n",
       "      <th>6</th>\n",
       "      <th>7</th>\n",
       "      <th>8</th>\n",
       "      <th>9</th>\n",
       "      <th>...</th>\n",
       "      <th>26</th>\n",
       "      <th>27</th>\n",
       "      <th>28</th>\n",
       "      <th>29</th>\n",
       "      <th>30</th>\n",
       "      <th>31</th>\n",
       "      <th>Mean</th>\n",
       "      <th>Unnamed: 33</th>\n",
       "      <th>year</th>\n",
       "      <th>AnnualMean</th>\n",
       "    </tr>\n",
       "  </thead>\n",
       "  <tbody>\n",
       "    <tr>\n",
       "      <th>0</th>\n",
       "      <td>1989- 1</td>\n",
       "      <td>72.0</td>\n",
       "      <td>26.0</td>\n",
       "      <td>13.0</td>\n",
       "      <td>14.0</td>\n",
       "      <td>5.0</td>\n",
       "      <td>10.0</td>\n",
       "      <td>10.0</td>\n",
       "      <td>10.0</td>\n",
       "      <td>0.0</td>\n",
       "      <td>...</td>\n",
       "      <td>0.0</td>\n",
       "      <td>0.0</td>\n",
       "      <td>0.0</td>\n",
       "      <td>0.0</td>\n",
       "      <td>0.0</td>\n",
       "      <td>0.0</td>\n",
       "      <td>10.870968</td>\n",
       "      <td>NaN</td>\n",
       "      <td>1989.0</td>\n",
       "      <td>4.809946</td>\n",
       "    </tr>\n",
       "    <tr>\n",
       "      <th>1</th>\n",
       "      <td>1989- 2</td>\n",
       "      <td>0.0</td>\n",
       "      <td>0.0</td>\n",
       "      <td>0.0</td>\n",
       "      <td>0.0</td>\n",
       "      <td>0.0</td>\n",
       "      <td>0.0</td>\n",
       "      <td>0.0</td>\n",
       "      <td>0.0</td>\n",
       "      <td>0.0</td>\n",
       "      <td>...</td>\n",
       "      <td>0.0</td>\n",
       "      <td>0.0</td>\n",
       "      <td>0.0</td>\n",
       "      <td>0.0</td>\n",
       "      <td>0.0</td>\n",
       "      <td>0.0</td>\n",
       "      <td>0.122581</td>\n",
       "      <td>NaN</td>\n",
       "      <td>1990.0</td>\n",
       "      <td>5.423387</td>\n",
       "    </tr>\n",
       "    <tr>\n",
       "      <th>2</th>\n",
       "      <td>1989- 3</td>\n",
       "      <td>0.0</td>\n",
       "      <td>0.0</td>\n",
       "      <td>0.0</td>\n",
       "      <td>0.0</td>\n",
       "      <td>0.0</td>\n",
       "      <td>0.0</td>\n",
       "      <td>0.0</td>\n",
       "      <td>0.0</td>\n",
       "      <td>11.3</td>\n",
       "      <td>...</td>\n",
       "      <td>0.0</td>\n",
       "      <td>0.0</td>\n",
       "      <td>0.0</td>\n",
       "      <td>0.0</td>\n",
       "      <td>0.0</td>\n",
       "      <td>0.0</td>\n",
       "      <td>1.300000</td>\n",
       "      <td>NaN</td>\n",
       "      <td>1991.0</td>\n",
       "      <td>3.731452</td>\n",
       "    </tr>\n",
       "    <tr>\n",
       "      <th>3</th>\n",
       "      <td>1989- 4</td>\n",
       "      <td>0.0</td>\n",
       "      <td>0.0</td>\n",
       "      <td>28.0</td>\n",
       "      <td>0.0</td>\n",
       "      <td>0.0</td>\n",
       "      <td>0.0</td>\n",
       "      <td>0.0</td>\n",
       "      <td>0.0</td>\n",
       "      <td>30.0</td>\n",
       "      <td>...</td>\n",
       "      <td>13.0</td>\n",
       "      <td>0.0</td>\n",
       "      <td>0.0</td>\n",
       "      <td>0.0</td>\n",
       "      <td>0.0</td>\n",
       "      <td>0.0</td>\n",
       "      <td>4.709677</td>\n",
       "      <td>NaN</td>\n",
       "      <td>1992.0</td>\n",
       "      <td>4.729839</td>\n",
       "    </tr>\n",
       "    <tr>\n",
       "      <th>4</th>\n",
       "      <td>1989- 5</td>\n",
       "      <td>0.0</td>\n",
       "      <td>0.0</td>\n",
       "      <td>5.0</td>\n",
       "      <td>10.0</td>\n",
       "      <td>15.0</td>\n",
       "      <td>32.0</td>\n",
       "      <td>0.0</td>\n",
       "      <td>4.0</td>\n",
       "      <td>0.0</td>\n",
       "      <td>...</td>\n",
       "      <td>0.0</td>\n",
       "      <td>0.0</td>\n",
       "      <td>0.0</td>\n",
       "      <td>0.0</td>\n",
       "      <td>0.0</td>\n",
       "      <td>0.0</td>\n",
       "      <td>2.258065</td>\n",
       "      <td>NaN</td>\n",
       "      <td>1993.0</td>\n",
       "      <td>5.197581</td>\n",
       "    </tr>\n",
       "  </tbody>\n",
       "</table>\n",
       "<p>5 rows × 36 columns</p>\n",
       "</div>"
      ],
      "text/plain": [
       "  year/month     1     2     3     4     5     6     7     8     9  ...    26  \\\n",
       "0    1989- 1  72.0  26.0  13.0  14.0   5.0  10.0  10.0  10.0   0.0  ...   0.0   \n",
       "1    1989- 2   0.0   0.0   0.0   0.0   0.0   0.0   0.0   0.0   0.0  ...   0.0   \n",
       "2    1989- 3   0.0   0.0   0.0   0.0   0.0   0.0   0.0   0.0  11.3  ...   0.0   \n",
       "3    1989- 4   0.0   0.0  28.0   0.0   0.0   0.0   0.0   0.0  30.0  ...  13.0   \n",
       "4    1989- 5   0.0   0.0   5.0  10.0  15.0  32.0   0.0   4.0   0.0  ...   0.0   \n",
       "\n",
       "    27   28   29   30   31       Mean  Unnamed: 33    year  AnnualMean  \n",
       "0  0.0  0.0  0.0  0.0  0.0  10.870968          NaN  1989.0    4.809946  \n",
       "1  0.0  0.0  0.0  0.0  0.0   0.122581          NaN  1990.0    5.423387  \n",
       "2  0.0  0.0  0.0  0.0  0.0   1.300000          NaN  1991.0    3.731452  \n",
       "3  0.0  0.0  0.0  0.0  0.0   4.709677          NaN  1992.0    4.729839  \n",
       "4  0.0  0.0  0.0  0.0  0.0   2.258065          NaN  1993.0    5.197581  \n",
       "\n",
       "[5 rows x 36 columns]"
      ]
     },
     "execution_count": 3,
     "metadata": {},
     "output_type": "execute_result"
    }
   ],
   "source": [
    "d_bi = pd.read_excel(\"BibilaDispensary(89-2002).xls\")\n",
    "d_bi.head()"
   ]
  },
  {
   "cell_type": "code",
   "execution_count": null,
   "id": "b2448444",
   "metadata": {},
   "outputs": [],
   "source": []
  },
  {
   "cell_type": "markdown",
   "id": "2fa4f178",
   "metadata": {},
   "source": [
    "JAN"
   ]
  },
  {
   "cell_type": "code",
   "execution_count": null,
   "id": "7be43cd2",
   "metadata": {},
   "outputs": [],
   "source": []
  },
  {
   "cell_type": "code",
   "execution_count": 6,
   "id": "3de23bbe",
   "metadata": {},
   "outputs": [
    {
     "data": {
      "text/plain": [
       "<AxesSubplot:xlabel='year/month'>"
      ]
     },
     "execution_count": 6,
     "metadata": {},
     "output_type": "execute_result"
    },
    {
     "data": {
      "image/png": "[encoded data removed]",
      "text/plain": [
       "<Figure size 432x288 with 1 Axes>"
      ]
     },
     "metadata": {
      "needs_background": "light"
     },
     "output_type": "display_data"
    }
   ],
   "source": [
    "data1 = [d_bi.loc[d_bi[\"year/month\"] == '1989- 1'],\n",
    "         d_bi.loc[d_bi[\"year/month\"] == '1990- 1'],\n",
    "         d_bi.loc[d_bi[\"year/month\"] == '1991- 1'],\n",
    "         d_bi.loc[d_bi[\"year/month\"] == '1992- 1'],\n",
    "         d_bi.loc[d_bi[\"year/month\"] == '1993- 1'],\n",
    "         d_bi.loc[d_bi[\"year/month\"] == '1994- 1'],\n",
    "         d_bi.loc[d_bi[\"year/month\"] == '1995- 1'],\n",
    "         d_bi.loc[d_bi[\"year/month\"] == '1996-1'],\n",
    "         d_bi.loc[d_bi[\"year/month\"] == '1997-1'],\n",
    "         d_bi.loc[d_bi[\"year/month\"] == '1998- 1'],\n",
    "         d_bi.loc[d_bi[\"year/month\"] == '1999- 1'],\n",
    "         d_bi.loc[d_bi[\"year/month\"] == '2000-1'],\n",
    "         d_bi.loc[d_bi[\"year/month\"] == '2001-1'],\n",
    "         d_bi.loc[d_bi[\"year/month\"] == '2002-1'],\n",
    "         d_bi.loc[d_bi[\"year/month\"] == '2003-1'],\n",
    "         d_bi.loc[d_bi[\"year/month\"] == '2004-1'],\n",
    "         d_bi.loc[d_bi[\"year/month\"] == '2005-1'],\n",
    "         d_bi.loc[d_bi[\"year/month\"] == '2006-1'],\n",
    "         d_bi.loc[d_bi[\"year/month\"] == '2007-1'],\n",
    "         d_bi.loc[d_bi[\"year/month\"] == '2008-1'],\n",
    "         d_bi.loc[d_bi[\"year/month\"] == '2009-1'],\n",
    "         d_bi.loc[d_bi[\"year/month\"] == '2010-1'],\n",
    "         d_bi.loc[d_bi[\"year/month\"] == '2011-1'],\n",
    "         d_bi.loc[d_bi[\"year/month\"] == '2012-1'],\n",
    "         d_bi.loc[d_bi[\"year/month\"] == '2013-1'],\n",
    "         d_bi.loc[d_bi[\"year/month\"] == '2014-1'],\n",
    "         d_bi.loc[d_bi[\"year/month\"] == '2015-1'],\n",
    "         d_bi.loc[d_bi[\"year/month\"] == '2016-1'],\n",
    "         d_bi.loc[d_bi[\"year/month\"] == '2017-1'],\n",
    "         d_bi.loc[d_bi[\"year/month\"] == '2018-1'],\n",
    "         d_bi.loc[d_bi[\"year/month\"] == '2019-1'],\n",
    "         d_bi.loc[d_bi[\"year/month\"] == '2020-1']]\n",
    "\n",
    "df_jan = pd.concat(data1, axis=0  )\n",
    "\n",
    "df_jan['year/month'] = pd.to_datetime(df_jan['year/month'])\n",
    "df_jan.set_index('year/month' , inplace=True)\n",
    "analysis1 = df_jan[\"Mean\"].copy()\n",
    "decompose_res_mult = seasonal_decompose(analysis1  )\n",
    "decompose_res_mult.trend.plot()"
   ]
  },
  {
   "cell_type": "code",
   "execution_count": null,
   "id": "e221c5d6",
   "metadata": {},
   "outputs": [],
   "source": []
  },
  {
   "cell_type": "markdown",
   "id": "ff531e7f",
   "metadata": {},
   "source": [
    "FEB"
   ]
  },
  {
   "cell_type": "code",
   "execution_count": null,
   "id": "03f6d55a",
   "metadata": {},
   "outputs": [],
   "source": []
  },
  {
   "cell_type": "code",
   "execution_count": 9,
   "id": "356ec95a",
   "metadata": {},
   "outputs": [
    {
     "data": {
      "text/plain": [
       "<AxesSubplot:xlabel='year/month'>"
      ]
     },
     "execution_count": 9,
     "metadata": {},
     "output_type": "execute_result"
    },
    {
     "data": {
      "image/png": "[encoded data removed]",
      "text/plain": [
       "<Figure size 432x288 with 1 Axes>"
      ]
     },
     "metadata": {
      "needs_background": "light"
     },
     "output_type": "display_data"
    }
   ],
   "source": [
    "data2 = [d_bi.loc[d_bi[\"year/month\"] == '1989- 2'],\n",
    "         d_bi.loc[d_bi[\"year/month\"] == '1990- 2'],\n",
    "         d_bi.loc[d_bi[\"year/month\"] == '1991- 2'],\n",
    "         d_bi.loc[d_bi[\"year/month\"] == '1992- 2'],\n",
    "         d_bi.loc[d_bi[\"year/month\"] == '1993- 2'],\n",
    "         d_bi.loc[d_bi[\"year/month\"] == '1994- 2'],\n",
    "         d_bi.loc[d_bi[\"year/month\"] == '1995- 2'],\n",
    "         d_bi.loc[d_bi[\"year/month\"] == '1996-2'],\n",
    "         d_bi.loc[d_bi[\"year/month\"] == '1997-2'],\n",
    "         d_bi.loc[d_bi[\"year/month\"] == '1998- 2'],\n",
    "         d_bi.loc[d_bi[\"year/month\"] == '1999- 2'],\n",
    "         d_bi.loc[d_bi[\"year/month\"] == '2000-2'],\n",
    "         d_bi.loc[d_bi[\"year/month\"] == '2001-2'],\n",
    "         d_bi.loc[d_bi[\"year/month\"] == '2002-2'],\n",
    "         d_bi.loc[d_bi[\"year/month\"] == '2003-2'],\n",
    "         d_bi.loc[d_bi[\"year/month\"] == '2004-2'],\n",
    "         d_bi.loc[d_bi[\"year/month\"] == '2005-2'],\n",
    "         d_bi.loc[d_bi[\"year/month\"] == '2006-2'],\n",
    "         d_bi.loc[d_bi[\"year/month\"] == '2007-2'],\n",
    "         d_bi.loc[d_bi[\"year/month\"] == '2008-2'],\n",
    "         d_bi.loc[d_bi[\"year/month\"] == '2009-2'],\n",
    "         d_bi.loc[d_bi[\"year/month\"] == '2010-2'],\n",
    "         d_bi.loc[d_bi[\"year/month\"] == '2011-2'],\n",
    "         d_bi.loc[d_bi[\"year/month\"] == '2012-2'],\n",
    "         d_bi.loc[d_bi[\"year/month\"] == '2013-2'],\n",
    "         d_bi.loc[d_bi[\"year/month\"] == '2014-2'],\n",
    "         d_bi.loc[d_bi[\"year/month\"] == '2015-2'],\n",
    "         d_bi.loc[d_bi[\"year/month\"] == '2016-2'],\n",
    "         d_bi.loc[d_bi[\"year/month\"] == '2017-2'],\n",
    "         d_bi.loc[d_bi[\"year/month\"] == '2018-2'],\n",
    "         d_bi.loc[d_bi[\"year/month\"] == '2019-2'],\n",
    "         d_bi.loc[d_bi[\"year/month\"] == '2020-2']]\n",
    "\n",
    "df_feb = pd.concat(data2, axis=0  )\n",
    "\n",
    "df_feb['year/month'] = pd.to_datetime(df_feb['year/month'])\n",
    "df_feb.set_index('year/month' , inplace=True)\n",
    "analysis2 = df_feb[\"Mean\"].copy()\n",
    "decompose_res_mult = seasonal_decompose(analysis2  )\n",
    "decompose_res_mult.trend.plot()\n"
   ]
  },
  {
   "cell_type": "code",
   "execution_count": null,
   "id": "aa610811",
   "metadata": {},
   "outputs": [],
   "source": []
  },
  {
   "cell_type": "markdown",
   "id": "9ea3340f",
   "metadata": {},
   "source": [
    "MAR"
   ]
  },
  {
   "cell_type": "code",
   "execution_count": null,
   "id": "52523010",
   "metadata": {},
   "outputs": [],
   "source": []
  },
  {
   "cell_type": "code",
   "execution_count": 10,
   "id": "644a66ff",
   "metadata": {},
   "outputs": [
    {
     "data": {
      "text/plain": [
       "<AxesSubplot:xlabel='year/month'>"
      ]
     },
     "execution_count": 10,
     "metadata": {},
     "output_type": "execute_result"
    },
    {
     "data": {
      "image/png": "[encoded data removed]",
      "text/plain": [
       "<Figure size 432x288 with 1 Axes>"
      ]
     },
     "metadata": {
      "needs_background": "light"
     },
     "output_type": "display_data"
    }
   ],
   "source": [
    "data3 = [d_bi.loc[d_bi[\"year/month\"] == '1989- 3'],\n",
    "         d_bi.loc[d_bi[\"year/month\"] == '1990- 3'],\n",
    "         d_bi.loc[d_bi[\"year/month\"] == '1991- 3'],\n",
    "         d_bi.loc[d_bi[\"year/month\"] == '1992- 3'],\n",
    "         d_bi.loc[d_bi[\"year/month\"] == '1993- 3'],\n",
    "         d_bi.loc[d_bi[\"year/month\"] == '1994- 3'],\n",
    "         d_bi.loc[d_bi[\"year/month\"] == '1995- 3'],\n",
    "         d_bi.loc[d_bi[\"year/month\"] == '1996-3'],\n",
    "         d_bi.loc[d_bi[\"year/month\"] == '1997-3'],\n",
    "         d_bi.loc[d_bi[\"year/month\"] == '1998- 3'],\n",
    "         d_bi.loc[d_bi[\"year/month\"] == '1999- 3'],\n",
    "         d_bi.loc[d_bi[\"year/month\"] == '2000-3'],\n",
    "         d_bi.loc[d_bi[\"year/month\"] == '2001-3'],\n",
    "         d_bi.loc[d_bi[\"year/month\"] == '2002-3'],\n",
    "         d_bi.loc[d_bi[\"year/month\"] == '2003-3'],\n",
    "         d_bi.loc[d_bi[\"year/month\"] == '2004-3'],\n",
    "         d_bi.loc[d_bi[\"year/month\"] == '2005-3'],\n",
    "         d_bi.loc[d_bi[\"year/month\"] == '2006-3'],\n",
    "         d_bi.loc[d_bi[\"year/month\"] == '2007-3'],\n",
    "         d_bi.loc[d_bi[\"year/month\"] == '2008-3'],\n",
    "         d_bi.loc[d_bi[\"year/month\"] == '2009-3'],\n",
    "         d_bi.loc[d_bi[\"year/month\"] == '2010-3'],\n",
    "         d_bi.loc[d_bi[\"year/month\"] == '2011-3'],\n",
    "         d_bi.loc[d_bi[\"year/month\"] == '2012-3'],\n",
    "         d_bi.loc[d_bi[\"year/month\"] == '2013-3'],\n",
    "         d_bi.loc[d_bi[\"year/month\"] == '2014-3'],\n",
    "         d_bi.loc[d_bi[\"year/month\"] == '2015-3'],\n",
    "         d_bi.loc[d_bi[\"year/month\"] == '2016-3'],\n",
    "         d_bi.loc[d_bi[\"year/month\"] == '2017-3'],\n",
    "         d_bi.loc[d_bi[\"year/month\"] == '2018-3'],\n",
    "         d_bi.loc[d_bi[\"year/month\"] == '2019-3'],\n",
    "         d_bi.loc[d_bi[\"year/month\"] == '2020-3']]\n",
    "\n",
    "df_mar = pd.concat(data3, axis=0  )\n",
    "\n",
    "df_mar['year/month'] = pd.to_datetime(df_mar['year/month'])\n",
    "df_mar.set_index('year/month' , inplace=True)\n",
    "analysis3 = df_mar[\"Mean\"].copy()\n",
    "decompose_res_mult = seasonal_decompose(analysis3  )\n",
    "decompose_res_mult.trend.plot()"
   ]
  },
  {
   "cell_type": "code",
   "execution_count": null,
   "id": "af76b172",
   "metadata": {},
   "outputs": [],
   "source": []
  },
  {
   "cell_type": "markdown",
   "id": "3a9b9b32",
   "metadata": {},
   "source": [
    "APR"
   ]
  },
  {
   "cell_type": "code",
   "execution_count": null,
   "id": "6fe1c753",
   "metadata": {},
   "outputs": [],
   "source": []
  },
  {
   "cell_type": "code",
   "execution_count": 11,
   "id": "7531f085",
   "metadata": {
    "scrolled": true
   },
   "outputs": [
    {
     "data": {
      "text/plain": [
       "<AxesSubplot:xlabel='year/month'>"
      ]
     },
     "execution_count": 11,
     "metadata": {},
     "output_type": "execute_result"
    },
    {
     "data": {
      "image/png": "[encoded data removed]",
      "text/plain": [
       "<Figure size 432x288 with 1 Axes>"
      ]
     },
     "metadata": {
      "needs_background": "light"
     },
     "output_type": "display_data"
    }
   ],
   "source": [
    "data4 = [d_bi.loc[d_bi[\"year/month\"] == '1989- 4'],\n",
    "         d_bi.loc[d_bi[\"year/month\"] == '1990- 4'],\n",
    "         d_bi.loc[d_bi[\"year/month\"] == '1991- 4'],\n",
    "         d_bi.loc[d_bi[\"year/month\"] == '1992- 4'],\n",
    "         d_bi.loc[d_bi[\"year/month\"] == '1993- 4'],\n",
    "         d_bi.loc[d_bi[\"year/month\"] == '1994- 4'],\n",
    "         d_bi.loc[d_bi[\"year/month\"] == '1995- 4'],\n",
    "         d_bi.loc[d_bi[\"year/month\"] == '1996-4'],\n",
    "         d_bi.loc[d_bi[\"year/month\"] == '1997-4'],\n",
    "         d_bi.loc[d_bi[\"year/month\"] == '1998- 4'],\n",
    "         d_bi.loc[d_bi[\"year/month\"] == '1999- 4'],\n",
    "         d_bi.loc[d_bi[\"year/month\"] == '2000-4'],\n",
    "         d_bi.loc[d_bi[\"year/month\"] == '2001-4'],\n",
    "         d_bi.loc[d_bi[\"year/month\"] == '2002-4'],\n",
    "         d_bi.loc[d_bi[\"year/month\"] == '2003-4'],\n",
    "         d_bi.loc[d_bi[\"year/month\"] == '2004-4'],\n",
    "         d_bi.loc[d_bi[\"year/month\"] == '2005-4'],\n",
    "         d_bi.loc[d_bi[\"year/month\"] == '2006-4'],\n",
    "         d_bi.loc[d_bi[\"year/month\"] == '2007-4'],\n",
    "         d_bi.loc[d_bi[\"year/month\"] == '2008-4'],\n",
    "         d_bi.loc[d_bi[\"year/month\"] == '2009-4'],\n",
    "         d_bi.loc[d_bi[\"year/month\"] == '2010-4'],\n",
    "         d_bi.loc[d_bi[\"year/month\"] == '2011-4'],\n",
    "         d_bi.loc[d_bi[\"year/month\"] == '2012-4'],\n",
    "         d_bi.loc[d_bi[\"year/month\"] == '2013-4'],\n",
    "         d_bi.loc[d_bi[\"year/month\"] == '2014-4'],\n",
    "         d_bi.loc[d_bi[\"year/month\"] == '2015-4'],\n",
    "         d_bi.loc[d_bi[\"year/month\"] == '2016-4'],\n",
    "         d_bi.loc[d_bi[\"year/month\"] == '2017-4'],\n",
    "         d_bi.loc[d_bi[\"year/month\"] == '2018-4'],\n",
    "         d_bi.loc[d_bi[\"year/month\"] == '2019-4'],\n",
    "         d_bi.loc[d_bi[\"year/month\"] == '2020-4']]\n",
    "\n",
    "df_apr = pd.concat(data4, axis=0  )\n",
    "df_apr.head()\n",
    "\n",
    "df_apr['year/month'] = pd.to_datetime(df_apr['year/month'])\n",
    "df_apr.set_index('year/month' , inplace=True)\n",
    "analysis4 = df_apr[\"Mean\"].copy()\n",
    "decompose_res_mult = seasonal_decompose(analysis4  )\n",
    "decompose_res_mult.trend.plot()"
   ]
  },
  {
   "cell_type": "code",
   "execution_count": null,
   "id": "7040b615",
   "metadata": {},
   "outputs": [],
   "source": []
  },
  {
   "cell_type": "markdown",
   "id": "f5cf7d30",
   "metadata": {},
   "source": [
    "MAY"
   ]
  },
  {
   "cell_type": "code",
   "execution_count": null,
   "id": "61aefa78",
   "metadata": {},
   "outputs": [],
   "source": []
  },
  {
   "cell_type": "code",
   "execution_count": 12,
   "id": "a40d7eba",
   "metadata": {},
   "outputs": [
    {
     "data": {
      "text/plain": [
       "<AxesSubplot:xlabel='year/month'>"
      ]
     },
     "execution_count": 12,
     "metadata": {},
     "output_type": "execute_result"
    },
    {
     "data": {
      "image/png": "[encoded data removed]",
      "text/plain": [
       "<Figure size 432x288 with 1 Axes>"
      ]
     },
     "metadata": {
      "needs_background": "light"
     },
     "output_type": "display_data"
    }
   ],
   "source": [
    "data5 = [d_bi.loc[d_bi[\"year/month\"] == '1989- 5'],\n",
    "         d_bi.loc[d_bi[\"year/month\"] == '1990- 5'],\n",
    "         d_bi.loc[d_bi[\"year/month\"] == '1991- 5'],\n",
    "         d_bi.loc[d_bi[\"year/month\"] == '1992- 5'],\n",
    "         d_bi.loc[d_bi[\"year/month\"] == '1993- 5'],\n",
    "         d_bi.loc[d_bi[\"year/month\"] == '1994- 5'],\n",
    "         d_bi.loc[d_bi[\"year/month\"] == '1995- 5'],\n",
    "         d_bi.loc[d_bi[\"year/month\"] == '1996-5'],\n",
    "         d_bi.loc[d_bi[\"year/month\"] == '1997-5'],\n",
    "         d_bi.loc[d_bi[\"year/month\"] == '1998- 5'],\n",
    "         d_bi.loc[d_bi[\"year/month\"] == '1999- 5'],\n",
    "         d_bi.loc[d_bi[\"year/month\"] == '2000-5'],\n",
    "         d_bi.loc[d_bi[\"year/month\"] == '2001-5'],\n",
    "         d_bi.loc[d_bi[\"year/month\"] == '2002-5'],\n",
    "         d_bi.loc[d_bi[\"year/month\"] == '2003-5'],\n",
    "         d_bi.loc[d_bi[\"year/month\"] == '2004-5'],\n",
    "         d_bi.loc[d_bi[\"year/month\"] == '2005-5'],\n",
    "         d_bi.loc[d_bi[\"year/month\"] == '2006-5'],\n",
    "         d_bi.loc[d_bi[\"year/month\"] == '2007-5'],\n",
    "         d_bi.loc[d_bi[\"year/month\"] == '2008-5'],\n",
    "         d_bi.loc[d_bi[\"year/month\"] == '2009-5'],\n",
    "         d_bi.loc[d_bi[\"year/month\"] == '2010-5'],\n",
    "         d_bi.loc[d_bi[\"year/month\"] == '2011-5'],\n",
    "         d_bi.loc[d_bi[\"year/month\"] == '2012-5'],\n",
    "         d_bi.loc[d_bi[\"year/month\"] == '2013-5'],\n",
    "         d_bi.loc[d_bi[\"year/month\"] == '2014-5'],\n",
    "         d_bi.loc[d_bi[\"year/month\"] == '2015-5'],\n",
    "         d_bi.loc[d_bi[\"year/month\"] == '2016-5'],\n",
    "         d_bi.loc[d_bi[\"year/month\"] == '2017-5'],\n",
    "         d_bi.loc[d_bi[\"year/month\"] == '2018-5'],\n",
    "         d_bi.loc[d_bi[\"year/month\"] == '2019-5'],\n",
    "         d_bi.loc[d_bi[\"year/month\"] == '2020-5']]\n",
    "\n",
    "df_may = pd.concat(data5, axis=0  )\n",
    "df_may.head()\n",
    "\n",
    "df_may['year/month'] = pd.to_datetime(df_may['year/month'])\n",
    "df_may.set_index('year/month' , inplace=True)\n",
    "analysis5 = df_may[\"Mean\"].copy()\n",
    "decompose_res_mult = seasonal_decompose(analysis5  )\n",
    "decompose_res_mult.trend.plot()"
   ]
  },
  {
   "cell_type": "code",
   "execution_count": null,
   "id": "b71ed6f4",
   "metadata": {},
   "outputs": [],
   "source": []
  },
  {
   "cell_type": "markdown",
   "id": "9f1d3251",
   "metadata": {},
   "source": [
    "JUN"
   ]
  },
  {
   "cell_type": "code",
   "execution_count": null,
   "id": "a57054d7",
   "metadata": {},
   "outputs": [],
   "source": []
  },
  {
   "cell_type": "code",
   "execution_count": 13,
   "id": "d07ac3e9",
   "metadata": {},
   "outputs": [
    {
     "data": {
      "text/plain": [
       "<AxesSubplot:xlabel='year/month'>"
      ]
     },
     "execution_count": 13,
     "metadata": {},
     "output_type": "execute_result"
    },
    {
     "data": {
      "image/png": "[encoded data removed]",
      "text/plain": [
       "<Figure size 432x288 with 1 Axes>"
      ]
     },
     "metadata": {
      "needs_background": "light"
     },
     "output_type": "display_data"
    }
   ],
   "source": [
    "data6 = [d_bi.loc[d_bi[\"year/month\"] == '1989- 6'],\n",
    "         d_bi.loc[d_bi[\"year/month\"] == '1990- 6'],\n",
    "         d_bi.loc[d_bi[\"year/month\"] == '1991- 6'],\n",
    "         d_bi.loc[d_bi[\"year/month\"] == '1992- 6'],\n",
    "         d_bi.loc[d_bi[\"year/month\"] == '1993- 6'],\n",
    "         d_bi.loc[d_bi[\"year/month\"] == '1994- 6'],\n",
    "         d_bi.loc[d_bi[\"year/month\"] == '1995- 6'],\n",
    "         d_bi.loc[d_bi[\"year/month\"] == '1996-6'],\n",
    "         d_bi.loc[d_bi[\"year/month\"] == '1997-6'],\n",
    "         d_bi.loc[d_bi[\"year/month\"] == '1998- 6'],\n",
    "         d_bi.loc[d_bi[\"year/month\"] == '1999- 6'],\n",
    "         d_bi.loc[d_bi[\"year/month\"] == '2000-6'],\n",
    "         d_bi.loc[d_bi[\"year/month\"] == '2001-6'],\n",
    "         d_bi.loc[d_bi[\"year/month\"] == '2002-6'],\n",
    "         d_bi.loc[d_bi[\"year/month\"] == '2003-6'],\n",
    "         d_bi.loc[d_bi[\"year/month\"] == '2004-6'],\n",
    "         d_bi.loc[d_bi[\"year/month\"] == '2005-6'],\n",
    "         d_bi.loc[d_bi[\"year/month\"] == '2006-6'],\n",
    "         d_bi.loc[d_bi[\"year/month\"] == '2007-6'],\n",
    "         d_bi.loc[d_bi[\"year/month\"] == '2008-6'],\n",
    "         d_bi.loc[d_bi[\"year/month\"] == '2009-6'],\n",
    "         d_bi.loc[d_bi[\"year/month\"] == '2010-6'],\n",
    "         d_bi.loc[d_bi[\"year/month\"] == '2011-6'],\n",
    "         d_bi.loc[d_bi[\"year/month\"] == '2012-6'],\n",
    "         d_bi.loc[d_bi[\"year/month\"] == '2013-6'],\n",
    "         d_bi.loc[d_bi[\"year/month\"] == '2014-6'],\n",
    "         d_bi.loc[d_bi[\"year/month\"] == '2015-6'],\n",
    "         d_bi.loc[d_bi[\"year/month\"] == '2016-6'],\n",
    "         d_bi.loc[d_bi[\"year/month\"] == '2017-6'],\n",
    "         d_bi.loc[d_bi[\"year/month\"] == '2018-6'],\n",
    "         d_bi.loc[d_bi[\"year/month\"] == '2019-6'],\n",
    "         d_bi.loc[d_bi[\"year/month\"] == '2020-6']]\n",
    "\n",
    "df_jun = pd.concat(data6, axis=0  )\n",
    "df_jun.head()\n",
    "\n",
    "df_jun['year/month'] = pd.to_datetime(df_jun['year/month'])\n",
    "df_jun.set_index('year/month' , inplace=True)\n",
    "analysis6 = df_jun[\"Mean\"].copy()\n",
    "decompose_res_mult = seasonal_decompose(analysis6  )\n",
    "decompose_res_mult.trend.plot()"
   ]
  },
  {
   "cell_type": "code",
   "execution_count": null,
   "id": "4f6bb0eb",
   "metadata": {},
   "outputs": [],
   "source": []
  },
  {
   "cell_type": "markdown",
   "id": "cceea0e4",
   "metadata": {},
   "source": [
    "JUL"
   ]
  },
  {
   "cell_type": "code",
   "execution_count": null,
   "id": "3ee28dde",
   "metadata": {},
   "outputs": [],
   "source": []
  },
  {
   "cell_type": "code",
   "execution_count": 14,
   "id": "bb7abc00",
   "metadata": {},
   "outputs": [
    {
     "data": {
      "text/plain": [
       "<AxesSubplot:xlabel='year/month'>"
      ]
     },
     "execution_count": 14,
     "metadata": {},
     "output_type": "execute_result"
    },
    {
     "data": {
      "image/png": "[encoded data removed]",
      "text/plain": [
       "<Figure size 432x288 with 1 Axes>"
      ]
     },
     "metadata": {
      "needs_background": "light"
     },
     "output_type": "display_data"
    }
   ],
   "source": [
    "data7 = [d_bi.loc[d_bi[\"year/month\"] == '1989- 7'],\n",
    "         d_bi.loc[d_bi[\"year/month\"] == '1990- 7'],\n",
    "         d_bi.loc[d_bi[\"year/month\"] == '1991- 7'],\n",
    "         d_bi.loc[d_bi[\"year/month\"] == '1992- 7'],\n",
    "         d_bi.loc[d_bi[\"year/month\"] == '1993- 7'],\n",
    "         d_bi.loc[d_bi[\"year/month\"] == '1994- 7'],\n",
    "         d_bi.loc[d_bi[\"year/month\"] == '1995- 7'],\n",
    "         d_bi.loc[d_bi[\"year/month\"] == '1996-7'],\n",
    "         d_bi.loc[d_bi[\"year/month\"] == '1997-7'],\n",
    "         d_bi.loc[d_bi[\"year/month\"] == '1998- 7'],\n",
    "         d_bi.loc[d_bi[\"year/month\"] == '1999- 7'],\n",
    "         d_bi.loc[d_bi[\"year/month\"] == '2000-7'],\n",
    "         d_bi.loc[d_bi[\"year/month\"] == '2001-7'],\n",
    "         d_bi.loc[d_bi[\"year/month\"] == '2002-7'],\n",
    "         d_bi.loc[d_bi[\"year/month\"] == '2003-7'],\n",
    "         d_bi.loc[d_bi[\"year/month\"] == '2004-7'],\n",
    "         d_bi.loc[d_bi[\"year/month\"] == '2005-7'],\n",
    "         d_bi.loc[d_bi[\"year/month\"] == '2006-7'],\n",
    "         d_bi.loc[d_bi[\"year/month\"] == '2007-7'],\n",
    "         d_bi.loc[d_bi[\"year/month\"] == '2008-7'],\n",
    "         d_bi.loc[d_bi[\"year/month\"] == '2009-7'],\n",
    "         d_bi.loc[d_bi[\"year/month\"] == '2010-7'],\n",
    "         d_bi.loc[d_bi[\"year/month\"] == '2011-7'],\n",
    "         d_bi.loc[d_bi[\"year/month\"] == '2012-7'],\n",
    "         d_bi.loc[d_bi[\"year/month\"] == '2013-7'],\n",
    "         d_bi.loc[d_bi[\"year/month\"] == '2014-7'],\n",
    "         d_bi.loc[d_bi[\"year/month\"] == '2015-7'],\n",
    "         d_bi.loc[d_bi[\"year/month\"] == '2016-7'],\n",
    "         d_bi.loc[d_bi[\"year/month\"] == '2017-7'],\n",
    "         d_bi.loc[d_bi[\"year/month\"] == '2018-7'],\n",
    "         d_bi.loc[d_bi[\"year/month\"] == '2019-7'],\n",
    "         d_bi.loc[d_bi[\"year/month\"] == '2020-7']]\n",
    "\n",
    "df_jul = pd.concat(data7, axis=0  )\n",
    "df_jul.head()\n",
    "\n",
    "df_jul['year/month'] = pd.to_datetime(df_jul['year/month'])\n",
    "df_jul.set_index('year/month' , inplace=True)\n",
    "analysis7 = df_jul[\"Mean\"].copy()\n",
    "decompose_res_mult = seasonal_decompose(analysis7  )\n",
    "decompose_res_mult.trend.plot()"
   ]
  },
  {
   "cell_type": "code",
   "execution_count": null,
   "id": "c8f7c8b1",
   "metadata": {},
   "outputs": [],
   "source": []
  },
  {
   "cell_type": "markdown",
   "id": "0b6d4528",
   "metadata": {},
   "source": [
    "AUG"
   ]
  },
  {
   "cell_type": "code",
   "execution_count": null,
   "id": "c3276c72",
   "metadata": {},
   "outputs": [],
   "source": []
  },
  {
   "cell_type": "code",
   "execution_count": 15,
   "id": "9d3efdd5",
   "metadata": {},
   "outputs": [
    {
     "data": {
      "text/plain": [
       "<AxesSubplot:xlabel='year/month'>"
      ]
     },
     "execution_count": 15,
     "metadata": {},
     "output_type": "execute_result"
    },
    {
     "data": {
      "image/png": "[encoded data removed]",
      "text/plain": [
       "<Figure size 432x288 with 1 Axes>"
      ]
     },
     "metadata": {
      "needs_background": "light"
     },
     "output_type": "display_data"
    }
   ],
   "source": [
    "data8 = [d_bi.loc[d_bi[\"year/month\"] == '1989- 8'],\n",
    "         d_bi.loc[d_bi[\"year/month\"] == '1990- 8'],\n",
    "         d_bi.loc[d_bi[\"year/month\"] == '1991- 8'],\n",
    "         d_bi.loc[d_bi[\"year/month\"] == '1992- 8'],\n",
    "         d_bi.loc[d_bi[\"year/month\"] == '1993- 8'],\n",
    "         d_bi.loc[d_bi[\"year/month\"] == '1994- 8'],\n",
    "         d_bi.loc[d_bi[\"year/month\"] == '1995- 8'],\n",
    "         d_bi.loc[d_bi[\"year/month\"] == '1996-8'],\n",
    "         d_bi.loc[d_bi[\"year/month\"] == '1997-8'],\n",
    "         d_bi.loc[d_bi[\"year/month\"] == '1998- 8'],\n",
    "         d_bi.loc[d_bi[\"year/month\"] == '1999- 8'],\n",
    "         d_bi.loc[d_bi[\"year/month\"] == '2000-8'],\n",
    "         d_bi.loc[d_bi[\"year/month\"] == '2001-8'],\n",
    "         d_bi.loc[d_bi[\"year/month\"] == '2002-8'],\n",
    "         d_bi.loc[d_bi[\"year/month\"] == '2003-8'],\n",
    "         d_bi.loc[d_bi[\"year/month\"] == '2004-8'],\n",
    "         d_bi.loc[d_bi[\"year/month\"] == '2005-8'],\n",
    "         d_bi.loc[d_bi[\"year/month\"] == '2006-8'],\n",
    "         d_bi.loc[d_bi[\"year/month\"] == '2007-8'],\n",
    "         d_bi.loc[d_bi[\"year/month\"] == '2008-8'],\n",
    "         d_bi.loc[d_bi[\"year/month\"] == '2009-8'],\n",
    "         d_bi.loc[d_bi[\"year/month\"] == '2010-8'],\n",
    "         d_bi.loc[d_bi[\"year/month\"] == '2011-8'],\n",
    "         d_bi.loc[d_bi[\"year/month\"] == '2012-8'],\n",
    "         d_bi.loc[d_bi[\"year/month\"] == '2013-8'],\n",
    "         d_bi.loc[d_bi[\"year/month\"] == '2014-8'],\n",
    "         d_bi.loc[d_bi[\"year/month\"] == '2015-8'],\n",
    "         d_bi.loc[d_bi[\"year/month\"] == '2016-8'],\n",
    "         d_bi.loc[d_bi[\"year/month\"] == '2017-8'],\n",
    "         d_bi.loc[d_bi[\"year/month\"] == '2018-8'],\n",
    "         d_bi.loc[d_bi[\"year/month\"] == '2019-8'],\n",
    "         d_bi.loc[d_bi[\"year/month\"] == '2020-8']]\n",
    "\n",
    "df_aug = pd.concat(data8, axis=0  )\n",
    "df_aug.head()\n",
    "\n",
    "df_aug['year/month'] = pd.to_datetime(df_aug['year/month'])\n",
    "df_aug.set_index('year/month' , inplace=True)\n",
    "analysis8 = df_aug[\"Mean\"].copy()\n",
    "decompose_res_mult = seasonal_decompose(analysis8  )\n",
    "decompose_res_mult.trend.plot()"
   ]
  },
  {
   "cell_type": "code",
   "execution_count": null,
   "id": "d40195e8",
   "metadata": {},
   "outputs": [],
   "source": []
  },
  {
   "cell_type": "markdown",
   "id": "1e647f58",
   "metadata": {},
   "source": [
    "SEP"
   ]
  },
  {
   "cell_type": "code",
   "execution_count": null,
   "id": "919b646c",
   "metadata": {},
   "outputs": [],
   "source": []
  },
  {
   "cell_type": "code",
   "execution_count": 16,
   "id": "1e7d9bb2",
   "metadata": {},
   "outputs": [
    {
     "data": {
      "text/plain": [
       "<AxesSubplot:xlabel='year/month'>"
      ]
     },
     "execution_count": 16,
     "metadata": {},
     "output_type": "execute_result"
    },
    {
     "data": {
      "image/png": "[encoded data removed]",
      "text/plain": [
       "<Figure size 432x288 with 1 Axes>"
      ]
     },
     "metadata": {
      "needs_background": "light"
     },
     "output_type": "display_data"
    }
   ],
   "source": [
    "data9 = [d_bi.loc[d_bi[\"year/month\"] == '1989- 9'],\n",
    "         d_bi.loc[d_bi[\"year/month\"] == '1990- 9'],\n",
    "         d_bi.loc[d_bi[\"year/month\"] == '1991- 9'],\n",
    "         d_bi.loc[d_bi[\"year/month\"] == '1992- 9'],\n",
    "         d_bi.loc[d_bi[\"year/month\"] == '1993- 9'],\n",
    "         d_bi.loc[d_bi[\"year/month\"] == '1994- 9'],\n",
    "         d_bi.loc[d_bi[\"year/month\"] == '1995- 9'],\n",
    "         d_bi.loc[d_bi[\"year/month\"] == '1996-9'],\n",
    "         d_bi.loc[d_bi[\"year/month\"] == '1997-9'],\n",
    "         d_bi.loc[d_bi[\"year/month\"] == '1998- 9'],\n",
    "         d_bi.loc[d_bi[\"year/month\"] == '1999- 9'],\n",
    "         d_bi.loc[d_bi[\"year/month\"] == '2000-9'],\n",
    "         d_bi.loc[d_bi[\"year/month\"] == '2001-9'],\n",
    "         d_bi.loc[d_bi[\"year/month\"] == '2002-9'],\n",
    "         d_bi.loc[d_bi[\"year/month\"] == '2003-9'],\n",
    "         d_bi.loc[d_bi[\"year/month\"] == '2004-9'],\n",
    "         d_bi.loc[d_bi[\"year/month\"] == '2005-9'],\n",
    "         d_bi.loc[d_bi[\"year/month\"] == '2006-9'],\n",
    "         d_bi.loc[d_bi[\"year/month\"] == '2007-9'],\n",
    "         d_bi.loc[d_bi[\"year/month\"] == '2008-9'],\n",
    "         d_bi.loc[d_bi[\"year/month\"] == '2009-9'],\n",
    "         d_bi.loc[d_bi[\"year/month\"] == '2010-9'],\n",
    "         d_bi.loc[d_bi[\"year/month\"] == '2011-9'],\n",
    "         d_bi.loc[d_bi[\"year/month\"] == '2012-9'],\n",
    "         d_bi.loc[d_bi[\"year/month\"] == '2013-9'],\n",
    "         d_bi.loc[d_bi[\"year/month\"] == '2014-9'],\n",
    "         d_bi.loc[d_bi[\"year/month\"] == '2015-9'],\n",
    "         d_bi.loc[d_bi[\"year/month\"] == '2016-9'],\n",
    "         d_bi.loc[d_bi[\"year/month\"] == '2017-9'],\n",
    "         d_bi.loc[d_bi[\"year/month\"] == '2018-9'],\n",
    "         d_bi.loc[d_bi[\"year/month\"] == '2019-9'],\n",
    "         d_bi.loc[d_bi[\"year/month\"] == '2020-9']]\n",
    "\n",
    "df_sep = pd.concat(data9, axis=0  )\n",
    "df_sep.head()\n",
    "\n",
    "df_sep['year/month'] = pd.to_datetime(df_sep['year/month'])\n",
    "df_sep.set_index('year/month' , inplace=True)\n",
    "analysis9 = df_sep[\"Mean\"].copy()\n",
    "decompose_res_mult = seasonal_decompose(analysis9  )\n",
    "decompose_res_mult.trend.plot()"
   ]
  },
  {
   "cell_type": "code",
   "execution_count": null,
   "id": "bbac2a55",
   "metadata": {},
   "outputs": [],
   "source": []
  },
  {
   "cell_type": "markdown",
   "id": "d7a4a015",
   "metadata": {},
   "source": [
    "OCT"
   ]
  },
  {
   "cell_type": "code",
   "execution_count": null,
   "id": "0806e5fb",
   "metadata": {},
   "outputs": [],
   "source": []
  },
  {
   "cell_type": "code",
   "execution_count": 19,
   "id": "fc5e932e",
   "metadata": {},
   "outputs": [
    {
     "data": {
      "text/plain": [
       "<AxesSubplot:xlabel='year/month'>"
      ]
     },
     "execution_count": 19,
     "metadata": {},
     "output_type": "execute_result"
    },
    {
     "data": {
      "image/png": "[encoded data removed]",
      "text/plain": [
       "<Figure size 432x288 with 1 Axes>"
      ]
     },
     "metadata": {
      "needs_background": "light"
     },
     "output_type": "display_data"
    }
   ],
   "source": [
    "data10 = [d_bi.loc[d_bi[\"year/month\"] == '1989-10'],\n",
    "         d_bi.loc[d_bi[\"year/month\"] == '1990- 10'],\n",
    "         d_bi.loc[d_bi[\"year/month\"] == '1991-10'],\n",
    "         d_bi.loc[d_bi[\"year/month\"] == '1992-10'],\n",
    "         d_bi.loc[d_bi[\"year/month\"] == '1993-10'],\n",
    "         d_bi.loc[d_bi[\"year/month\"] == '1994-10'],\n",
    "         d_bi.loc[d_bi[\"year/month\"] == '1995-10'],\n",
    "         d_bi.loc[d_bi[\"year/month\"] == '1996-10'],\n",
    "         d_bi.loc[d_bi[\"year/month\"] == '1997-10'],\n",
    "         d_bi.loc[d_bi[\"year/month\"] == '1998- 10'],\n",
    "         d_bi.loc[d_bi[\"year/month\"] == '1999-10'],\n",
    "         d_bi.loc[d_bi[\"year/month\"] == '2000-10'],\n",
    "         d_bi.loc[d_bi[\"year/month\"] == '2001-10'],\n",
    "         d_bi.loc[d_bi[\"year/month\"] == '2002-10'],\n",
    "         d_bi.loc[d_bi[\"year/month\"] == '2003-10'],\n",
    "         d_bi.loc[d_bi[\"year/month\"] == '2004-10'],\n",
    "         d_bi.loc[d_bi[\"year/month\"] == '2005-10'],\n",
    "         d_bi.loc[d_bi[\"year/month\"] == '2006-10'],\n",
    "         d_bi.loc[d_bi[\"year/month\"] == '2007-10'],\n",
    "         d_bi.loc[d_bi[\"year/month\"] == '2008-10'],\n",
    "         d_bi.loc[d_bi[\"year/month\"] == '2009-10'],\n",
    "         d_bi.loc[d_bi[\"year/month\"] == '2010-10'],\n",
    "         d_bi.loc[d_bi[\"year/month\"] == '2011-10'],\n",
    "         d_bi.loc[d_bi[\"year/month\"] == '2012-10'],\n",
    "         d_bi.loc[d_bi[\"year/month\"] == '2013-10'],\n",
    "         d_bi.loc[d_bi[\"year/month\"] == '2014-10'],\n",
    "         d_bi.loc[d_bi[\"year/month\"] == '2015-10'],\n",
    "         d_bi.loc[d_bi[\"year/month\"] == '2016-10'],\n",
    "         d_bi.loc[d_bi[\"year/month\"] == '2017-10'],\n",
    "         d_bi.loc[d_bi[\"year/month\"] == '2018-10'],\n",
    "         d_bi.loc[d_bi[\"year/month\"] == '2019-10'],\n",
    "         d_bi.loc[d_bi[\"year/month\"] == '2020-10']]\n",
    "\n",
    "df_oct = pd.concat(data10, axis=0  )\n",
    "\n",
    "\n",
    "df_oct['year/month'] = pd.to_datetime(df_oct['year/month'])\n",
    "df_oct.set_index('year/month' , inplace=True)\n",
    "analysis10 = df_oct[\"Mean\"].copy()\n",
    "decompose_res_mult = seasonal_decompose(analysis10  )\n",
    "decompose_res_mult.trend.plot()\n"
   ]
  },
  {
   "cell_type": "code",
   "execution_count": null,
   "id": "51947b8c",
   "metadata": {},
   "outputs": [],
   "source": []
  },
  {
   "cell_type": "markdown",
   "id": "c2133f11",
   "metadata": {},
   "source": [
    "NOV"
   ]
  },
  {
   "cell_type": "code",
   "execution_count": null,
   "id": "2da1124b",
   "metadata": {},
   "outputs": [],
   "source": []
  },
  {
   "cell_type": "code",
   "execution_count": 22,
   "id": "6f46e7d5",
   "metadata": {},
   "outputs": [
    {
     "data": {
      "text/plain": [
       "<AxesSubplot:xlabel='year/month'>"
      ]
     },
     "execution_count": 22,
     "metadata": {},
     "output_type": "execute_result"
    },
    {
     "data": {
      "image/png": "[encoded data removed]",
      "text/plain": [
       "<Figure size 432x288 with 1 Axes>"
      ]
     },
     "metadata": {
      "needs_background": "light"
     },
     "output_type": "display_data"
    }
   ],
   "source": [
    "data11 = [d_bi.loc[d_bi[\"year/month\"] == '1989-11'],\n",
    "         d_bi.loc[d_bi[\"year/month\"] == '1990- 11'],\n",
    "         d_bi.loc[d_bi[\"year/month\"] == '1991-11'],\n",
    "         d_bi.loc[d_bi[\"year/month\"] == '1992-11'],\n",
    "         d_bi.loc[d_bi[\"year/month\"] == '1993-11'],\n",
    "         d_bi.loc[d_bi[\"year/month\"] == '1994-11'],\n",
    "         d_bi.loc[d_bi[\"year/month\"] == '1995-11'],\n",
    "         d_bi.loc[d_bi[\"year/month\"] == '1996-11'],\n",
    "         d_bi.loc[d_bi[\"year/month\"] == '1997-11'],\n",
    "         d_bi.loc[d_bi[\"year/month\"] == '1998- 11'],\n",
    "         d_bi.loc[d_bi[\"year/month\"] == '1999-11'],\n",
    "         d_bi.loc[d_bi[\"year/month\"] == '2000-11'],\n",
    "         d_bi.loc[d_bi[\"year/month\"] == '2001-11'],\n",
    "         d_bi.loc[d_bi[\"year/month\"] == '2002-11'],\n",
    "         d_bi.loc[d_bi[\"year/month\"] == '2003-11'],\n",
    "         d_bi.loc[d_bi[\"year/month\"] == '2004-11'],\n",
    "         d_bi.loc[d_bi[\"year/month\"] == '2005-11'],\n",
    "         d_bi.loc[d_bi[\"year/month\"] == '2006-11'],\n",
    "         d_bi.loc[d_bi[\"year/month\"] == '2007-11'],\n",
    "         d_bi.loc[d_bi[\"year/month\"] == '2008-11'],\n",
    "         d_bi.loc[d_bi[\"year/month\"] == '2009-11'],\n",
    "         d_bi.loc[d_bi[\"year/month\"] == '2010-11'],\n",
    "         d_bi.loc[d_bi[\"year/month\"] == '2011-11'],\n",
    "         d_bi.loc[d_bi[\"year/month\"] == '2012-11'],\n",
    "         d_bi.loc[d_bi[\"year/month\"] == '2013-11'],\n",
    "         d_bi.loc[d_bi[\"year/month\"] == '2014-11'],\n",
    "         d_bi.loc[d_bi[\"year/month\"] == '2015-11'],\n",
    "         d_bi.loc[d_bi[\"year/month\"] == '2016-11'],\n",
    "         d_bi.loc[d_bi[\"year/month\"] == '2017-11'],\n",
    "         d_bi.loc[d_bi[\"year/month\"] == '2018-11'],\n",
    "         d_bi.loc[d_bi[\"year/month\"] == '2019-11'],\n",
    "         d_bi.loc[d_bi[\"year/month\"] == '2020-11']]\n",
    "\n",
    "df_nov = pd.concat(data11, axis=0  )\n",
    "\n",
    "\n",
    "df_nov['year/month'] = pd.to_datetime(df_nov['year/month'])\n",
    "df_nov.set_index('year/month' , inplace=True)\n",
    "analysis11 = df_nov[\"Mean\"].copy()\n",
    "decompose_res_mult = seasonal_decompose(analysis11  )\n",
    "decompose_res_mult.trend.plot()"
   ]
  },
  {
   "cell_type": "code",
   "execution_count": null,
   "id": "f5c64a59",
   "metadata": {},
   "outputs": [],
   "source": []
  },
  {
   "cell_type": "markdown",
   "id": "fda5c99b",
   "metadata": {},
   "source": [
    "DEC"
   ]
  },
  {
   "cell_type": "code",
   "execution_count": null,
   "id": "534d3306",
   "metadata": {},
   "outputs": [],
   "source": []
  },
  {
   "cell_type": "code",
   "execution_count": 23,
   "id": "fe0fcc7b",
   "metadata": {},
   "outputs": [
    {
     "data": {
      "text/plain": [
       "<AxesSubplot:xlabel='year/month'>"
      ]
     },
     "execution_count": 23,
     "metadata": {},
     "output_type": "execute_result"
    },
    {
     "data": {
      "image/png": "[encoded data removed]",
      "text/plain": [
       "<Figure size 432x288 with 1 Axes>"
      ]
     },
     "metadata": {
      "needs_background": "light"
     },
     "output_type": "display_data"
    }
   ],
   "source": [
    "data12 = [d_bi.loc[d_bi[\"year/month\"] == '1989-12'],\n",
    "         d_bi.loc[d_bi[\"year/month\"] == '1990- 12'],\n",
    "         d_bi.loc[d_bi[\"year/month\"] == '1991-12'],\n",
    "         d_bi.loc[d_bi[\"year/month\"] == '1992-12'],\n",
    "         d_bi.loc[d_bi[\"year/month\"] == '1993-12'],\n",
    "         d_bi.loc[d_bi[\"year/month\"] == '1994-12'],\n",
    "         d_bi.loc[d_bi[\"year/month\"] == '1995-12'],\n",
    "         d_bi.loc[d_bi[\"year/month\"] == '1996-12'],\n",
    "         d_bi.loc[d_bi[\"year/month\"] == '1997-12'],\n",
    "         d_bi.loc[d_bi[\"year/month\"] == '1998- 12'],\n",
    "         d_bi.loc[d_bi[\"year/month\"] == '1999-12'],\n",
    "         d_bi.loc[d_bi[\"year/month\"] == '2000-12'],\n",
    "         d_bi.loc[d_bi[\"year/month\"] == '2001-12'],\n",
    "         d_bi.loc[d_bi[\"year/month\"] == '2002-12'],\n",
    "         d_bi.loc[d_bi[\"year/month\"] == '2003-12'],\n",
    "         d_bi.loc[d_bi[\"year/month\"] == '2004-12'],\n",
    "         d_bi.loc[d_bi[\"year/month\"] == '2005-12'],\n",
    "         d_bi.loc[d_bi[\"year/month\"] == '2006-12'],\n",
    "         d_bi.loc[d_bi[\"year/month\"] == '2007-12'],\n",
    "         d_bi.loc[d_bi[\"year/month\"] == '2008-12'],\n",
    "         d_bi.loc[d_bi[\"year/month\"] == '2009-12'],\n",
    "         d_bi.loc[d_bi[\"year/month\"] == '2010-12'],\n",
    "         d_bi.loc[d_bi[\"year/month\"] == '2011-12'],\n",
    "         d_bi.loc[d_bi[\"year/month\"] == '2012-12'],\n",
    "         d_bi.loc[d_bi[\"year/month\"] == '2013-12'],\n",
    "         d_bi.loc[d_bi[\"year/month\"] == '2014-12'],\n",
    "         d_bi.loc[d_bi[\"year/month\"] == '2015-12'],\n",
    "         d_bi.loc[d_bi[\"year/month\"] == '2016-12'],\n",
    "         d_bi.loc[d_bi[\"year/month\"] == '2017-12'],\n",
    "         d_bi.loc[d_bi[\"year/month\"] == '2018-12'],\n",
    "         d_bi.loc[d_bi[\"year/month\"] == '2019-12'],\n",
    "         d_bi.loc[d_bi[\"year/month\"] == '2020-12']]\n",
    "\n",
    "df_dec = pd.concat(data12, axis=0  )\n",
    "\n",
    "\n",
    "\n",
    "df_dec['year/month'] = pd.to_datetime(df_dec['year/month'])\n",
    "df_dec.set_index('year/month' , inplace=True)\n",
    "analysis12 = df_dec[\"Mean\"].copy()\n",
    "decompose_res_mult = seasonal_decompose(analysis12  )\n",
    "decompose_res_mult.trend.plot()"
   ]
  },
  {
   "cell_type": "code",
   "execution_count": null,
   "id": "e8e97082",
   "metadata": {},
   "outputs": [],
   "source": []
  }
 ],
 "metadata": {
  "kernelspec": {
   "display_name": "Python 3",
   "language": "python",
   "name": "python3"
  },
  "language_info": {
   "codemirror_mode": {
    "name": "ipython",
    "version": 3
   },
   "file_extension": ".py",
   "mimetype": "text/x-python",
   "name": "python",
   "nbconvert_exporter": "python",
   "pygments_lexer": "ipython3",
   "version": "3.8.8"
  }
 },
 "nbformat": 4,
 "nbformat_minor": 5
}
